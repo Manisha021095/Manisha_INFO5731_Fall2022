{
  "cells": [
    {
      "cell_type": "markdown",
      "metadata": {
        "id": "view-in-github",
        "colab_type": "text"
      },
      "source": [
        "<a href=\"https://colab.research.google.com/github/Manisha021095/Manisha_INFO5731_Fall2022/blob/main/In_class_exercise_05_11172022.ipynb\" target=\"_parent\"><img src=\"https://colab.research.google.com/assets/colab-badge.svg\" alt=\"Open In Colab\"/></a>"
      ]
    },
    {
      "cell_type": "markdown",
      "metadata": {
        "id": "a6FbBp980sx8"
      },
      "source": [
        "# **The fifth in-class-exercise (40 points in total, 11/17/2022)**"
      ]
    },
    {
      "cell_type": "markdown",
      "metadata": {
        "id": "6t4EkV500syB"
      },
      "source": [
        "(20 points) The purpose of the question is to practice different machine learning algorithms for text classification as well as the performance evaluation. In addition, you are requried to conduct *10 fold cross validation (https://scikit-learn.org/stable/modules/cross_validation.html)* in the training. \n",
        "\n",
        "The dataset can be download from canvas. The dataset contains two files train data and test data for sentiment analysis in IMDB review, it has two categories: 1 represents positive and 0 represents negative. You need to split the training data into training and validate data (80% for training and 20% for validation, https://towardsdatascience.com/train-test-split-and-cross-validation-in-python-80b61beca4b6) and perform 10 fold cross validation while training the classifier. The final trained model was final evaluated on the test data. \n",
        "\n",
        "Algorithms:\n",
        "\n",
        "(1) MultinominalNB\n",
        "\n",
        "(2) SVM \n",
        "\n",
        "(3) KNN \n",
        "\n",
        "(4) Decision tree\n",
        "\n",
        "(5) Random Forest\n",
        "\n",
        "(6) XGBoost\n",
        "\n",
        "Evaluation measurement:\n",
        "\n",
        "(1) Accuracy\n",
        "\n",
        "(2) Recall\n",
        "\n",
        "(3) Precison \n",
        "\n",
        "(4) F-1 score"
      ]
    },
    {
      "cell_type": "code",
      "execution_count": null,
      "metadata": {
        "colab": {
          "base_uri": "https://localhost:8080/",
          "height": 261
        },
        "id": "DU0Uvd230syD",
        "outputId": "154528b2-2556-474c-a74a-47c2d0ce9f93"
      },
      "outputs": [
        {
          "output_type": "stream",
          "name": "stderr",
          "text": [
            "/usr/local/lib/python3.7/dist-packages/pandas/util/_decorators.py:311: ParserWarning: Falling back to the 'python' engine because the 'c' engine does not support regex separators (separators > 1 char and different from '\\s+' are interpreted as regex); you can avoid this warning by specifying engine='python'.\n",
            "  return func(*args, **kwargs)\n"
          ]
        },
        {
          "output_type": "execute_result",
          "data": {
            "text/plain": [
              "                                             reviews sentiment\n",
              "0  a stirring , funny and finally transporting re...         1\n",
              "1  apparently reassembled from the cutting-room f...         0\n",
              "2  they presume their audience wo n't sit still f...         0\n",
              "3  this is a visually stunning rumination on love...         1\n",
              "4  jonathan parker 's bartleby should have been t...         1"
            ],
            "text/html": [
              "\n",
              "  <div id=\"df-1ab8d32c-0a07-48a1-9543-e722b966760d\">\n",
              "    <div class=\"colab-df-container\">\n",
              "      <div>\n",
              "<style scoped>\n",
              "    .dataframe tbody tr th:only-of-type {\n",
              "        vertical-align: middle;\n",
              "    }\n",
              "\n",
              "    .dataframe tbody tr th {\n",
              "        vertical-align: top;\n",
              "    }\n",
              "\n",
              "    .dataframe thead th {\n",
              "        text-align: right;\n",
              "    }\n",
              "</style>\n",
              "<table border=\"1\" class=\"dataframe\">\n",
              "  <thead>\n",
              "    <tr style=\"text-align: right;\">\n",
              "      <th></th>\n",
              "      <th>reviews</th>\n",
              "      <th>sentiment</th>\n",
              "    </tr>\n",
              "  </thead>\n",
              "  <tbody>\n",
              "    <tr>\n",
              "      <th>0</th>\n",
              "      <td>a stirring , funny and finally transporting re...</td>\n",
              "      <td>1</td>\n",
              "    </tr>\n",
              "    <tr>\n",
              "      <th>1</th>\n",
              "      <td>apparently reassembled from the cutting-room f...</td>\n",
              "      <td>0</td>\n",
              "    </tr>\n",
              "    <tr>\n",
              "      <th>2</th>\n",
              "      <td>they presume their audience wo n't sit still f...</td>\n",
              "      <td>0</td>\n",
              "    </tr>\n",
              "    <tr>\n",
              "      <th>3</th>\n",
              "      <td>this is a visually stunning rumination on love...</td>\n",
              "      <td>1</td>\n",
              "    </tr>\n",
              "    <tr>\n",
              "      <th>4</th>\n",
              "      <td>jonathan parker 's bartleby should have been t...</td>\n",
              "      <td>1</td>\n",
              "    </tr>\n",
              "  </tbody>\n",
              "</table>\n",
              "</div>\n",
              "      <button class=\"colab-df-convert\" onclick=\"convertToInteractive('df-1ab8d32c-0a07-48a1-9543-e722b966760d')\"\n",
              "              title=\"Convert this dataframe to an interactive table.\"\n",
              "              style=\"display:none;\">\n",
              "        \n",
              "  <svg xmlns=\"http://www.w3.org/2000/svg\" height=\"24px\"viewBox=\"0 0 24 24\"\n",
              "       width=\"24px\">\n",
              "    <path d=\"M0 0h24v24H0V0z\" fill=\"none\"/>\n",
              "    <path d=\"M18.56 5.44l.94 2.06.94-2.06 2.06-.94-2.06-.94-.94-2.06-.94 2.06-2.06.94zm-11 1L8.5 8.5l.94-2.06 2.06-.94-2.06-.94L8.5 2.5l-.94 2.06-2.06.94zm10 10l.94 2.06.94-2.06 2.06-.94-2.06-.94-.94-2.06-.94 2.06-2.06.94z\"/><path d=\"M17.41 7.96l-1.37-1.37c-.4-.4-.92-.59-1.43-.59-.52 0-1.04.2-1.43.59L10.3 9.45l-7.72 7.72c-.78.78-.78 2.05 0 2.83L4 21.41c.39.39.9.59 1.41.59.51 0 1.02-.2 1.41-.59l7.78-7.78 2.81-2.81c.8-.78.8-2.07 0-2.86zM5.41 20L4 18.59l7.72-7.72 1.47 1.35L5.41 20z\"/>\n",
              "  </svg>\n",
              "      </button>\n",
              "      \n",
              "  <style>\n",
              "    .colab-df-container {\n",
              "      display:flex;\n",
              "      flex-wrap:wrap;\n",
              "      gap: 12px;\n",
              "    }\n",
              "\n",
              "    .colab-df-convert {\n",
              "      background-color: #E8F0FE;\n",
              "      border: none;\n",
              "      border-radius: 50%;\n",
              "      cursor: pointer;\n",
              "      display: none;\n",
              "      fill: #1967D2;\n",
              "      height: 32px;\n",
              "      padding: 0 0 0 0;\n",
              "      width: 32px;\n",
              "    }\n",
              "\n",
              "    .colab-df-convert:hover {\n",
              "      background-color: #E2EBFA;\n",
              "      box-shadow: 0px 1px 2px rgba(60, 64, 67, 0.3), 0px 1px 3px 1px rgba(60, 64, 67, 0.15);\n",
              "      fill: #174EA6;\n",
              "    }\n",
              "\n",
              "    [theme=dark] .colab-df-convert {\n",
              "      background-color: #3B4455;\n",
              "      fill: #D2E3FC;\n",
              "    }\n",
              "\n",
              "    [theme=dark] .colab-df-convert:hover {\n",
              "      background-color: #434B5C;\n",
              "      box-shadow: 0px 1px 3px 1px rgba(0, 0, 0, 0.15);\n",
              "      filter: drop-shadow(0px 1px 2px rgba(0, 0, 0, 0.3));\n",
              "      fill: #FFFFFF;\n",
              "    }\n",
              "  </style>\n",
              "\n",
              "      <script>\n",
              "        const buttonEl =\n",
              "          document.querySelector('#df-1ab8d32c-0a07-48a1-9543-e722b966760d button.colab-df-convert');\n",
              "        buttonEl.style.display =\n",
              "          google.colab.kernel.accessAllowed ? 'block' : 'none';\n",
              "\n",
              "        async function convertToInteractive(key) {\n",
              "          const element = document.querySelector('#df-1ab8d32c-0a07-48a1-9543-e722b966760d');\n",
              "          const dataTable =\n",
              "            await google.colab.kernel.invokeFunction('convertToInteractive',\n",
              "                                                     [key], {});\n",
              "          if (!dataTable) return;\n",
              "\n",
              "          const docLinkHtml = 'Like what you see? Visit the ' +\n",
              "            '<a target=\"_blank\" href=https://colab.research.google.com/notebooks/data_table.ipynb>data table notebook</a>'\n",
              "            + ' to learn more about interactive tables.';\n",
              "          element.innerHTML = '';\n",
              "          dataTable['output_type'] = 'display_data';\n",
              "          await google.colab.output.renderOutput(dataTable, element);\n",
              "          const docLink = document.createElement('div');\n",
              "          docLink.innerHTML = docLinkHtml;\n",
              "          element.appendChild(docLink);\n",
              "        }\n",
              "      </script>\n",
              "    </div>\n",
              "  </div>\n",
              "  "
            ]
          },
          "metadata": {},
          "execution_count": 5
        }
      ],
      "source": [
        "# Write your code here\n",
        "\n",
        "# Saving the train data in a dataframe\n",
        "\n",
        "import pandas as pd\n",
        "train_data = pd.read_csv('/content/drive/MyDrive/exercise05_datacollection/exercise09_datacollection/stsa-train.txt',sep = 'delimiter=',header= None,names=['reviews'])\n",
        "train_data[['sentiment','reviews']] = train_data['reviews'].str.split(\" \", 1, expand=True)\n",
        "train_data.head()\n"
      ]
    },
    {
      "cell_type": "code",
      "source": [
        "# Saving the test data in a dataframe\n",
        "\n",
        "test_data = pd.read_csv('/content/drive/MyDrive/exercise05_datacollection/exercise09_datacollection/stsa-test.txt',sep = 'delimiter=',header= None,names=['reviews'])\n",
        "test_data[['sentiment','reviews']] = test_data['reviews'].str.split(\" \", 1, expand=True)\n",
        "test_data.head()"
      ],
      "metadata": {
        "colab": {
          "base_uri": "https://localhost:8080/",
          "height": 261
        },
        "id": "6Q_3963d_qwE",
        "outputId": "f62065b4-c4fb-4ae4-fdf0-79a5d87577f1"
      },
      "execution_count": null,
      "outputs": [
        {
          "output_type": "stream",
          "name": "stderr",
          "text": [
            "/usr/local/lib/python3.7/dist-packages/pandas/util/_decorators.py:311: ParserWarning: Falling back to the 'python' engine because the 'c' engine does not support regex separators (separators > 1 char and different from '\\s+' are interpreted as regex); you can avoid this warning by specifying engine='python'.\n",
            "  return func(*args, **kwargs)\n"
          ]
        },
        {
          "output_type": "execute_result",
          "data": {
            "text/plain": [
              "                                             reviews sentiment\n",
              "0     no movement , no yuks , not much of anything .         0\n",
              "1  a gob of drivel so sickly sweet , even the eag...         0\n",
              "2  gangs of new york is an unapologetic mess , wh...         0\n",
              "3  we never really feel involved with the story ,...         0\n",
              "4            this is one of polanski 's best films .         1"
            ],
            "text/html": [
              "\n",
              "  <div id=\"df-422abe0a-ca90-4054-973e-eb354b56f424\">\n",
              "    <div class=\"colab-df-container\">\n",
              "      <div>\n",
              "<style scoped>\n",
              "    .dataframe tbody tr th:only-of-type {\n",
              "        vertical-align: middle;\n",
              "    }\n",
              "\n",
              "    .dataframe tbody tr th {\n",
              "        vertical-align: top;\n",
              "    }\n",
              "\n",
              "    .dataframe thead th {\n",
              "        text-align: right;\n",
              "    }\n",
              "</style>\n",
              "<table border=\"1\" class=\"dataframe\">\n",
              "  <thead>\n",
              "    <tr style=\"text-align: right;\">\n",
              "      <th></th>\n",
              "      <th>reviews</th>\n",
              "      <th>sentiment</th>\n",
              "    </tr>\n",
              "  </thead>\n",
              "  <tbody>\n",
              "    <tr>\n",
              "      <th>0</th>\n",
              "      <td>no movement , no yuks , not much of anything .</td>\n",
              "      <td>0</td>\n",
              "    </tr>\n",
              "    <tr>\n",
              "      <th>1</th>\n",
              "      <td>a gob of drivel so sickly sweet , even the eag...</td>\n",
              "      <td>0</td>\n",
              "    </tr>\n",
              "    <tr>\n",
              "      <th>2</th>\n",
              "      <td>gangs of new york is an unapologetic mess , wh...</td>\n",
              "      <td>0</td>\n",
              "    </tr>\n",
              "    <tr>\n",
              "      <th>3</th>\n",
              "      <td>we never really feel involved with the story ,...</td>\n",
              "      <td>0</td>\n",
              "    </tr>\n",
              "    <tr>\n",
              "      <th>4</th>\n",
              "      <td>this is one of polanski 's best films .</td>\n",
              "      <td>1</td>\n",
              "    </tr>\n",
              "  </tbody>\n",
              "</table>\n",
              "</div>\n",
              "      <button class=\"colab-df-convert\" onclick=\"convertToInteractive('df-422abe0a-ca90-4054-973e-eb354b56f424')\"\n",
              "              title=\"Convert this dataframe to an interactive table.\"\n",
              "              style=\"display:none;\">\n",
              "        \n",
              "  <svg xmlns=\"http://www.w3.org/2000/svg\" height=\"24px\"viewBox=\"0 0 24 24\"\n",
              "       width=\"24px\">\n",
              "    <path d=\"M0 0h24v24H0V0z\" fill=\"none\"/>\n",
              "    <path d=\"M18.56 5.44l.94 2.06.94-2.06 2.06-.94-2.06-.94-.94-2.06-.94 2.06-2.06.94zm-11 1L8.5 8.5l.94-2.06 2.06-.94-2.06-.94L8.5 2.5l-.94 2.06-2.06.94zm10 10l.94 2.06.94-2.06 2.06-.94-2.06-.94-.94-2.06-.94 2.06-2.06.94z\"/><path d=\"M17.41 7.96l-1.37-1.37c-.4-.4-.92-.59-1.43-.59-.52 0-1.04.2-1.43.59L10.3 9.45l-7.72 7.72c-.78.78-.78 2.05 0 2.83L4 21.41c.39.39.9.59 1.41.59.51 0 1.02-.2 1.41-.59l7.78-7.78 2.81-2.81c.8-.78.8-2.07 0-2.86zM5.41 20L4 18.59l7.72-7.72 1.47 1.35L5.41 20z\"/>\n",
              "  </svg>\n",
              "      </button>\n",
              "      \n",
              "  <style>\n",
              "    .colab-df-container {\n",
              "      display:flex;\n",
              "      flex-wrap:wrap;\n",
              "      gap: 12px;\n",
              "    }\n",
              "\n",
              "    .colab-df-convert {\n",
              "      background-color: #E8F0FE;\n",
              "      border: none;\n",
              "      border-radius: 50%;\n",
              "      cursor: pointer;\n",
              "      display: none;\n",
              "      fill: #1967D2;\n",
              "      height: 32px;\n",
              "      padding: 0 0 0 0;\n",
              "      width: 32px;\n",
              "    }\n",
              "\n",
              "    .colab-df-convert:hover {\n",
              "      background-color: #E2EBFA;\n",
              "      box-shadow: 0px 1px 2px rgba(60, 64, 67, 0.3), 0px 1px 3px 1px rgba(60, 64, 67, 0.15);\n",
              "      fill: #174EA6;\n",
              "    }\n",
              "\n",
              "    [theme=dark] .colab-df-convert {\n",
              "      background-color: #3B4455;\n",
              "      fill: #D2E3FC;\n",
              "    }\n",
              "\n",
              "    [theme=dark] .colab-df-convert:hover {\n",
              "      background-color: #434B5C;\n",
              "      box-shadow: 0px 1px 3px 1px rgba(0, 0, 0, 0.15);\n",
              "      filter: drop-shadow(0px 1px 2px rgba(0, 0, 0, 0.3));\n",
              "      fill: #FFFFFF;\n",
              "    }\n",
              "  </style>\n",
              "\n",
              "      <script>\n",
              "        const buttonEl =\n",
              "          document.querySelector('#df-422abe0a-ca90-4054-973e-eb354b56f424 button.colab-df-convert');\n",
              "        buttonEl.style.display =\n",
              "          google.colab.kernel.accessAllowed ? 'block' : 'none';\n",
              "\n",
              "        async function convertToInteractive(key) {\n",
              "          const element = document.querySelector('#df-422abe0a-ca90-4054-973e-eb354b56f424');\n",
              "          const dataTable =\n",
              "            await google.colab.kernel.invokeFunction('convertToInteractive',\n",
              "                                                     [key], {});\n",
              "          if (!dataTable) return;\n",
              "\n",
              "          const docLinkHtml = 'Like what you see? Visit the ' +\n",
              "            '<a target=\"_blank\" href=https://colab.research.google.com/notebooks/data_table.ipynb>data table notebook</a>'\n",
              "            + ' to learn more about interactive tables.';\n",
              "          element.innerHTML = '';\n",
              "          dataTable['output_type'] = 'display_data';\n",
              "          await google.colab.output.renderOutput(dataTable, element);\n",
              "          const docLink = document.createElement('div');\n",
              "          docLink.innerHTML = docLinkHtml;\n",
              "          element.appendChild(docLink);\n",
              "        }\n",
              "      </script>\n",
              "    </div>\n",
              "  </div>\n",
              "  "
            ]
          },
          "metadata": {},
          "execution_count": 6
        }
      ]
    },
    {
      "cell_type": "code",
      "source": [
        "# Importing libraries for data cleaning\n",
        "\n",
        "import nltk\n",
        "import re\n",
        "import string\n",
        "nltk.download('stopwords')\n",
        "nltk.download('wordnet')\n",
        "nltk.download('omw-1.4')\n",
        "stopword=nltk.corpus.stopwords.words('english')\n",
        "from nltk.stem import WordNetLemmatizer\n",
        "wl= WordNetLemmatizer()\n",
        "\n",
        "def clean(review):\n",
        "    review =\"\".join([word.lower() for word in review if word not in string.punctuation])\n",
        "    review = re.sub(\"^\\d+\\s|\\s\\d+\\s|\\s\\d+$\", \" \", review)\n",
        "    tokens = re.split('\\W+',review)\n",
        "    review = [wl.lemmatize(word) for word in tokens if word not in stopword]\n",
        "    return review"
      ],
      "metadata": {
        "colab": {
          "base_uri": "https://localhost:8080/"
        },
        "id": "W7V6rsWu_q1V",
        "outputId": "0fc7558a-ac76-415b-fe05-5d39b63a0d88"
      },
      "execution_count": 2,
      "outputs": [
        {
          "output_type": "stream",
          "name": "stderr",
          "text": [
            "[nltk_data] Downloading package stopwords to /root/nltk_data...\n",
            "[nltk_data]   Unzipping corpora/stopwords.zip.\n",
            "[nltk_data] Downloading package wordnet to /root/nltk_data...\n",
            "[nltk_data] Downloading package omw-1.4 to /root/nltk_data...\n"
          ]
        }
      ]
    },
    {
      "cell_type": "code",
      "source": [
        "from sklearn.feature_extraction.text import TfidfVectorizer\n",
        "# Finding the frequency of the individual words in the reviews using tf-idf vectorizer\n",
        "tfidf_vect = TfidfVectorizer(analyzer = clean)\n",
        "X_tfidf = tfidf_vect.fit_transform(train_data['reviews'])\n",
        "\n",
        "print(X_tfidf.shape)\n",
        "\n",
        "\n",
        "# Saving both the train and test words in a different data frame \n",
        "X_tfidf_df=pd.DataFrame(X_tfidf.toarray())\n",
        "X_tfidf_df.columns=tfidf_vect.get_feature_names()\n",
        "X_test_tfidf = tfidf_vect.transform(test_data['reviews'])\n",
        "print(X_test_tfidf.shape)"
      ],
      "metadata": {
        "colab": {
          "base_uri": "https://localhost:8080/"
        },
        "id": "VQXB3ZXC_q4t",
        "outputId": "5002ca36-8c4e-47cc-e9fe-54945eb9d396"
      },
      "execution_count": null,
      "outputs": [
        {
          "output_type": "stream",
          "name": "stdout",
          "text": [
            "(6920, 13343)\n",
            "(1821, 13343)\n"
          ]
        },
        {
          "output_type": "stream",
          "name": "stderr",
          "text": [
            "/usr/local/lib/python3.7/dist-packages/sklearn/utils/deprecation.py:87: FutureWarning: Function get_feature_names is deprecated; get_feature_names is deprecated in 1.0 and will be removed in 1.2. Please use get_feature_names_out instead.\n",
            "  warnings.warn(msg, category=FutureWarning)\n"
          ]
        }
      ]
    },
    {
      "cell_type": "markdown",
      "source": [
        "Algortihms :- \n",
        "1) MultinominalNB"
      ],
      "metadata": {
        "id": "DDK7u7djCwSn"
      }
    },
    {
      "cell_type": "code",
      "source": [
        "import pandas as pd\n",
        "from sklearn import datasets, linear_model\n",
        "from sklearn.model_selection import train_test_split\n",
        "from matplotlib import pyplot as plt\n",
        "from sklearn.metrics import accuracy_score\n",
        "from sklearn.metrics import classification_report\n",
        "from sklearn.naive_bayes import MultinomialNB\n",
        "\n",
        "mnb = MultinomialNB()\n",
        "\n",
        "# Sampling the training set\n",
        "x_train, x_test, y_train, y_test = train_test_split(X_tfidf_df, train_data['sentiment'].values,\n",
        "                                                test_size=0.2, random_state=42)\n",
        "# Model fit using .fit()\n",
        "model_mnb = mnb.fit(x_train,y_train)\n",
        "y_pred_mnb = model_mnb.predict(x_test)\n",
        "print('Accuracy %s' % accuracy_score(y_pred_mnb,y_test))\n",
        "print(classification_report(y_test,y_pred_mnb))"
      ],
      "metadata": {
        "colab": {
          "base_uri": "https://localhost:8080/"
        },
        "id": "zsz1RbJABohx",
        "outputId": "e6624d2f-efb6-45c1-ca66-df5d69db215e"
      },
      "execution_count": null,
      "outputs": [
        {
          "output_type": "stream",
          "name": "stdout",
          "text": [
            "Accuracy 0.7955202312138728\n",
            "              precision    recall  f1-score   support\n",
            "\n",
            "           0       0.85      0.70      0.77       671\n",
            "           1       0.76      0.88      0.82       713\n",
            "\n",
            "    accuracy                           0.80      1384\n",
            "   macro avg       0.80      0.79      0.79      1384\n",
            "weighted avg       0.80      0.80      0.79      1384\n",
            "\n"
          ]
        }
      ]
    },
    {
      "cell_type": "code",
      "source": [
        "# Calculating the cross-validation scores for MultinominalNB:\n",
        "\n",
        "from sklearn.model_selection import cross_val_score\n",
        "scores = cross_val_score(mnb, x_test, y_test, cv=10)\n",
        "print(\"MultinominalNB score: \",scores.mean())"
      ],
      "metadata": {
        "colab": {
          "base_uri": "https://localhost:8080/"
        },
        "id": "mlOGBgV9BpML",
        "outputId": "c86c4cc8-0fd9-486f-cd14-9fa1e95d370a"
      },
      "execution_count": null,
      "outputs": [
        {
          "output_type": "stream",
          "name": "stdout",
          "text": [
            "MultinominalNB score:  0.7247054530288813\n"
          ]
        }
      ]
    },
    {
      "cell_type": "markdown",
      "source": [
        "2) SVM"
      ],
      "metadata": {
        "id": "E0RId8E-C7bR"
      }
    },
    {
      "cell_type": "code",
      "source": [
        "from sklearn.svm import LinearSVC\n",
        "from sklearn.tree import DecisionTreeClassifier\n",
        "from sklearn.ensemble import RandomForestClassifier\n",
        "from sklearn.model_selection import train_test_split, cross_validate, StratifiedKFold\n",
        "from xgboost import XGBClassifier\n",
        "\n",
        "svm = LinearSVC()\n",
        "model_svm = svm.fit(x_train,y_train)\n",
        "y_pred_svm = model_svm.predict(x_test)\n",
        "print('Accuracy %s' % accuracy_score(y_pred_svm,y_test))\n",
        "print(classification_report(y_test,y_pred_svm))"
      ],
      "metadata": {
        "colab": {
          "base_uri": "https://localhost:8080/"
        },
        "id": "yaUgFb5yBpO2",
        "outputId": "6d1e657a-5c98-4ad0-e3de-37916af4bf64"
      },
      "execution_count": null,
      "outputs": [
        {
          "output_type": "stream",
          "name": "stdout",
          "text": [
            "Accuracy 0.791907514450867\n",
            "              precision    recall  f1-score   support\n",
            "\n",
            "           0       0.81      0.75      0.78       671\n",
            "           1       0.78      0.83      0.80       713\n",
            "\n",
            "    accuracy                           0.79      1384\n",
            "   macro avg       0.79      0.79      0.79      1384\n",
            "weighted avg       0.79      0.79      0.79      1384\n",
            "\n"
          ]
        }
      ]
    },
    {
      "cell_type": "code",
      "source": [
        "# Calculating the cross-validation scores for SVM:\n",
        "\n",
        "from sklearn.model_selection import cross_val_score\n",
        "scores = cross_val_score(svm, x_test, y_test, cv=10)\n",
        "print(\"SVM score:\",scores.mean())"
      ],
      "metadata": {
        "colab": {
          "base_uri": "https://localhost:8080/"
        },
        "id": "neiJnnUWBpRm",
        "outputId": "90990da2-ff09-40a0-dabd-cc3be76bbc72"
      },
      "execution_count": null,
      "outputs": [
        {
          "output_type": "stream",
          "name": "stdout",
          "text": [
            "SVM score: 0.7348034615785632\n"
          ]
        }
      ]
    },
    {
      "cell_type": "markdown",
      "source": [
        "3) KNN"
      ],
      "metadata": {
        "id": "BBLhfwGbDBce"
      }
    },
    {
      "cell_type": "code",
      "source": [
        "from sklearn.neighbors import KNeighborsClassifier\n",
        "\n",
        "knn = KNeighborsClassifier(n_neighbors=5,n_jobs=-1)\n",
        "model_knn = knn.fit(x_train,y_train)\n",
        "y_pred_knn = model_knn.predict(x_test)\n",
        "print('Accuracy %s' % accuracy_score(y_pred_knn,y_test))\n",
        "print(classification_report(y_test,y_pred_knn))\n"
      ],
      "metadata": {
        "colab": {
          "base_uri": "https://localhost:8080/"
        },
        "id": "OOsrTB5dBpT8",
        "outputId": "13d53a7f-3bed-4a94-93d9-01219072e828"
      },
      "execution_count": null,
      "outputs": [
        {
          "output_type": "stream",
          "name": "stdout",
          "text": [
            "Accuracy 0.740606936416185\n",
            "              precision    recall  f1-score   support\n",
            "\n",
            "           0       0.75      0.71      0.73       671\n",
            "           1       0.74      0.77      0.75       713\n",
            "\n",
            "    accuracy                           0.74      1384\n",
            "   macro avg       0.74      0.74      0.74      1384\n",
            "weighted avg       0.74      0.74      0.74      1384\n",
            "\n"
          ]
        }
      ]
    },
    {
      "cell_type": "code",
      "source": [
        "# Calculating cross-value score for KNN:\n",
        "\n",
        "from sklearn.model_selection import cross_val_score\n",
        "\n",
        "scores = cross_val_score(knn, x_test, y_test, cv=10)\n",
        "print(\"KNN score:\",scores.mean())"
      ],
      "metadata": {
        "colab": {
          "base_uri": "https://localhost:8080/"
        },
        "id": "EsNaR18UBpWu",
        "outputId": "571f27e5-d275-4057-dcc3-08d1fef46159"
      },
      "execution_count": null,
      "outputs": [
        {
          "output_type": "stream",
          "name": "stdout",
          "text": [
            "KNN score: 0.6675737670732979\n"
          ]
        }
      ]
    },
    {
      "cell_type": "markdown",
      "source": [
        "4) Decision Tree"
      ],
      "metadata": {
        "id": "vQP0v0kEDNLE"
      }
    },
    {
      "cell_type": "code",
      "source": [
        "from sklearn.tree import DecisionTreeClassifier\n",
        "\n",
        "dt = DecisionTreeClassifier()\n",
        "model_dt = dt.fit(x_train,y_train)\n",
        "y_pred_dt = model_dt.predict(x_test)\n",
        "print('Accuracy %s' % accuracy_score(y_pred_dt,y_test))\n",
        "print(classification_report(y_test,y_pred_dt))"
      ],
      "metadata": {
        "colab": {
          "base_uri": "https://localhost:8080/"
        },
        "id": "7D2ZU2msBpZD",
        "outputId": "9a9ebc8a-e7f4-4d84-8e55-f414716814c5"
      },
      "execution_count": null,
      "outputs": [
        {
          "output_type": "stream",
          "name": "stdout",
          "text": [
            "Accuracy 0.6596820809248555\n",
            "              precision    recall  f1-score   support\n",
            "\n",
            "           0       0.66      0.63      0.64       671\n",
            "           1       0.66      0.69      0.68       713\n",
            "\n",
            "    accuracy                           0.66      1384\n",
            "   macro avg       0.66      0.66      0.66      1384\n",
            "weighted avg       0.66      0.66      0.66      1384\n",
            "\n"
          ]
        }
      ]
    },
    {
      "cell_type": "code",
      "source": [
        "# Calculating cross value score for Decision Tree:\n",
        "\n",
        "scores = cross_val_score(dt, x_test, y_test, cv=10)\n",
        "print(\"Decision tree score:\",scores.mean())"
      ],
      "metadata": {
        "colab": {
          "base_uri": "https://localhost:8080/"
        },
        "id": "Q8eimauhBpbq",
        "outputId": "f20def77-c7a9-4fb1-f1ae-24187e42a75b"
      },
      "execution_count": null,
      "outputs": [
        {
          "output_type": "stream",
          "name": "stdout",
          "text": [
            "Decision tree score: 0.6220675633406318\n"
          ]
        }
      ]
    },
    {
      "cell_type": "markdown",
      "source": [
        "5) Random Forest"
      ],
      "metadata": {
        "id": "RRwanwxVDneN"
      }
    },
    {
      "cell_type": "code",
      "source": [
        "from sklearn.ensemble import RandomForestClassifier\n",
        "rf = RandomForestClassifier()\n",
        "model_rf = rf.fit(x_train,y_train)\n",
        "y_pred_rf = model_rf.predict(x_test)\n",
        "print('Accuracy %s' % accuracy_score(y_pred_rf,y_test))\n",
        "print(classification_report(y_test,y_pred_rf))"
      ],
      "metadata": {
        "colab": {
          "base_uri": "https://localhost:8080/"
        },
        "id": "KCrFlQDPBpeV",
        "outputId": "e4e88bd6-accd-4f0a-db08-ead55e89de49"
      },
      "execution_count": null,
      "outputs": [
        {
          "output_type": "stream",
          "name": "stdout",
          "text": [
            "Accuracy 0.7319364161849711\n",
            "              precision    recall  f1-score   support\n",
            "\n",
            "           0       0.77      0.63      0.70       671\n",
            "           1       0.70      0.83      0.76       713\n",
            "\n",
            "    accuracy                           0.73      1384\n",
            "   macro avg       0.74      0.73      0.73      1384\n",
            "weighted avg       0.74      0.73      0.73      1384\n",
            "\n"
          ]
        }
      ]
    },
    {
      "cell_type": "code",
      "source": [
        "# Calculating cross value score for Random Forest:\n",
        "\n",
        "cores = cross_val_score(rf, x_test, y_test, cv=10)\n",
        "print(\"Random forest score\",scores.mean())"
      ],
      "metadata": {
        "colab": {
          "base_uri": "https://localhost:8080/"
        },
        "id": "VqskXG63Bphu",
        "outputId": "90f5896d-e51b-4431-c894-19b8cc3b66e6"
      },
      "execution_count": null,
      "outputs": [
        {
          "output_type": "stream",
          "name": "stdout",
          "text": [
            "Random forest score 0.6220675633406318\n"
          ]
        }
      ]
    },
    {
      "cell_type": "markdown",
      "source": [
        "6) XGBoost"
      ],
      "metadata": {
        "id": "vefzocjxECVT"
      }
    },
    {
      "cell_type": "code",
      "source": [
        "from xgboost import XGBClassifier\n",
        "xgb = XGBClassifier()\n",
        "model_xgb = xgb.fit(x_train,y_train)\n",
        "y_pred_xgb = model_xgb.predict(x_test)\n",
        "print('Accuracy %s' % accuracy_score(y_pred_xgb,y_test))\n",
        "print(classification_report(y_test,y_pred_xgb))"
      ],
      "metadata": {
        "colab": {
          "base_uri": "https://localhost:8080/"
        },
        "id": "tezsLT2ZEFJb",
        "outputId": "1f3318ee-a375-43fe-a808-56e3d695e49c"
      },
      "execution_count": null,
      "outputs": [
        {
          "output_type": "stream",
          "name": "stdout",
          "text": [
            "Accuracy 0.6445086705202312\n",
            "              precision    recall  f1-score   support\n",
            "\n",
            "           0       0.75      0.40      0.52       671\n",
            "           1       0.61      0.88      0.72       713\n",
            "\n",
            "    accuracy                           0.64      1384\n",
            "   macro avg       0.68      0.64      0.62      1384\n",
            "weighted avg       0.68      0.64      0.62      1384\n",
            "\n"
          ]
        }
      ]
    },
    {
      "cell_type": "code",
      "source": [
        "# Calculating cross value score for XGBoost:\n",
        "\n",
        "scores = cross_val_score(xgb, x_test, y_test, cv=10)\n",
        "print(\"XGBoost score:\",scores.mean())"
      ],
      "metadata": {
        "colab": {
          "base_uri": "https://localhost:8080/"
        },
        "id": "aP88Ew68EFM2",
        "outputId": "dac2e09a-da9c-42b8-d206-270f229b9e84"
      },
      "execution_count": null,
      "outputs": [
        {
          "output_type": "stream",
          "name": "stdout",
          "text": [
            "XGBoost score: 0.6184704410384736\n"
          ]
        }
      ]
    },
    {
      "cell_type": "markdown",
      "metadata": {
        "id": "bWIWwPnq0syG"
      },
      "source": [
        "(20 points) The purpose of the question is to practice different machine learning algorithms for text clustering\n",
        "Please downlad the dataset by using the following link.  https://www.kaggle.com/PromptCloudHQ/amazon-reviews-unlocked-mobile-phones\n",
        "(You can also use different text data which you want)\n",
        "\n",
        "Apply the listed clustering methods to the dataset:\n",
        "\n",
        "K means, \n",
        "DBSCAN,\n",
        "Hierarchical clustering. \n",
        "\n",
        "You can refer to of the codes from  the follwing link below. \n",
        "https://www.kaggle.com/karthik3890/text-clustering "
      ]
    },
    {
      "cell_type": "code",
      "execution_count": 3,
      "metadata": {
        "id": "AzAE735Y0syH"
      },
      "outputs": [],
      "source": [
        "#Write your code here.\n",
        "\n",
        "import pandas as pd\n",
        "df = pd.read_csv('/content/drive/MyDrive/Amazon_Unlocked_Mobile.csv/Amazon_Unlocked_Mobile.csv')"
      ]
    },
    {
      "cell_type": "code",
      "source": [
        "df.head()"
      ],
      "metadata": {
        "colab": {
          "base_uri": "https://localhost:8080/",
          "height": 206
        },
        "id": "SvkahH5qF0d-",
        "outputId": "54bcd8a2-6d78-4452-efda-1a586bc53b4b"
      },
      "execution_count": 4,
      "outputs": [
        {
          "output_type": "execute_result",
          "data": {
            "text/plain": [
              "                                        Product Name Brand Name   Price  \\\n",
              "0  \"CLEAR CLEAN ESN\" Sprint EPIC 4G Galaxy SPH-D7...    Samsung  199.99   \n",
              "1  \"CLEAR CLEAN ESN\" Sprint EPIC 4G Galaxy SPH-D7...    Samsung  199.99   \n",
              "2  \"CLEAR CLEAN ESN\" Sprint EPIC 4G Galaxy SPH-D7...    Samsung  199.99   \n",
              "3  \"CLEAR CLEAN ESN\" Sprint EPIC 4G Galaxy SPH-D7...    Samsung  199.99   \n",
              "4  \"CLEAR CLEAN ESN\" Sprint EPIC 4G Galaxy SPH-D7...    Samsung  199.99   \n",
              "\n",
              "   Rating                                            Reviews  Review Votes  \n",
              "0       5  I feel so LUCKY to have found this used (phone...           1.0  \n",
              "1       4  nice phone, nice up grade from my pantach revu...           0.0  \n",
              "2       5                                       Very pleased           0.0  \n",
              "3       4  It works good but it goes slow sometimes but i...           0.0  \n",
              "4       4  Great phone to replace my lost phone. The only...           0.0  "
            ],
            "text/html": [
              "\n",
              "  <div id=\"df-16357b10-7f56-4998-857d-28204009f4ee\">\n",
              "    <div class=\"colab-df-container\">\n",
              "      <div>\n",
              "<style scoped>\n",
              "    .dataframe tbody tr th:only-of-type {\n",
              "        vertical-align: middle;\n",
              "    }\n",
              "\n",
              "    .dataframe tbody tr th {\n",
              "        vertical-align: top;\n",
              "    }\n",
              "\n",
              "    .dataframe thead th {\n",
              "        text-align: right;\n",
              "    }\n",
              "</style>\n",
              "<table border=\"1\" class=\"dataframe\">\n",
              "  <thead>\n",
              "    <tr style=\"text-align: right;\">\n",
              "      <th></th>\n",
              "      <th>Product Name</th>\n",
              "      <th>Brand Name</th>\n",
              "      <th>Price</th>\n",
              "      <th>Rating</th>\n",
              "      <th>Reviews</th>\n",
              "      <th>Review Votes</th>\n",
              "    </tr>\n",
              "  </thead>\n",
              "  <tbody>\n",
              "    <tr>\n",
              "      <th>0</th>\n",
              "      <td>\"CLEAR CLEAN ESN\" Sprint EPIC 4G Galaxy SPH-D7...</td>\n",
              "      <td>Samsung</td>\n",
              "      <td>199.99</td>\n",
              "      <td>5</td>\n",
              "      <td>I feel so LUCKY to have found this used (phone...</td>\n",
              "      <td>1.0</td>\n",
              "    </tr>\n",
              "    <tr>\n",
              "      <th>1</th>\n",
              "      <td>\"CLEAR CLEAN ESN\" Sprint EPIC 4G Galaxy SPH-D7...</td>\n",
              "      <td>Samsung</td>\n",
              "      <td>199.99</td>\n",
              "      <td>4</td>\n",
              "      <td>nice phone, nice up grade from my pantach revu...</td>\n",
              "      <td>0.0</td>\n",
              "    </tr>\n",
              "    <tr>\n",
              "      <th>2</th>\n",
              "      <td>\"CLEAR CLEAN ESN\" Sprint EPIC 4G Galaxy SPH-D7...</td>\n",
              "      <td>Samsung</td>\n",
              "      <td>199.99</td>\n",
              "      <td>5</td>\n",
              "      <td>Very pleased</td>\n",
              "      <td>0.0</td>\n",
              "    </tr>\n",
              "    <tr>\n",
              "      <th>3</th>\n",
              "      <td>\"CLEAR CLEAN ESN\" Sprint EPIC 4G Galaxy SPH-D7...</td>\n",
              "      <td>Samsung</td>\n",
              "      <td>199.99</td>\n",
              "      <td>4</td>\n",
              "      <td>It works good but it goes slow sometimes but i...</td>\n",
              "      <td>0.0</td>\n",
              "    </tr>\n",
              "    <tr>\n",
              "      <th>4</th>\n",
              "      <td>\"CLEAR CLEAN ESN\" Sprint EPIC 4G Galaxy SPH-D7...</td>\n",
              "      <td>Samsung</td>\n",
              "      <td>199.99</td>\n",
              "      <td>4</td>\n",
              "      <td>Great phone to replace my lost phone. The only...</td>\n",
              "      <td>0.0</td>\n",
              "    </tr>\n",
              "  </tbody>\n",
              "</table>\n",
              "</div>\n",
              "      <button class=\"colab-df-convert\" onclick=\"convertToInteractive('df-16357b10-7f56-4998-857d-28204009f4ee')\"\n",
              "              title=\"Convert this dataframe to an interactive table.\"\n",
              "              style=\"display:none;\">\n",
              "        \n",
              "  <svg xmlns=\"http://www.w3.org/2000/svg\" height=\"24px\"viewBox=\"0 0 24 24\"\n",
              "       width=\"24px\">\n",
              "    <path d=\"M0 0h24v24H0V0z\" fill=\"none\"/>\n",
              "    <path d=\"M18.56 5.44l.94 2.06.94-2.06 2.06-.94-2.06-.94-.94-2.06-.94 2.06-2.06.94zm-11 1L8.5 8.5l.94-2.06 2.06-.94-2.06-.94L8.5 2.5l-.94 2.06-2.06.94zm10 10l.94 2.06.94-2.06 2.06-.94-2.06-.94-.94-2.06-.94 2.06-2.06.94z\"/><path d=\"M17.41 7.96l-1.37-1.37c-.4-.4-.92-.59-1.43-.59-.52 0-1.04.2-1.43.59L10.3 9.45l-7.72 7.72c-.78.78-.78 2.05 0 2.83L4 21.41c.39.39.9.59 1.41.59.51 0 1.02-.2 1.41-.59l7.78-7.78 2.81-2.81c.8-.78.8-2.07 0-2.86zM5.41 20L4 18.59l7.72-7.72 1.47 1.35L5.41 20z\"/>\n",
              "  </svg>\n",
              "      </button>\n",
              "      \n",
              "  <style>\n",
              "    .colab-df-container {\n",
              "      display:flex;\n",
              "      flex-wrap:wrap;\n",
              "      gap: 12px;\n",
              "    }\n",
              "\n",
              "    .colab-df-convert {\n",
              "      background-color: #E8F0FE;\n",
              "      border: none;\n",
              "      border-radius: 50%;\n",
              "      cursor: pointer;\n",
              "      display: none;\n",
              "      fill: #1967D2;\n",
              "      height: 32px;\n",
              "      padding: 0 0 0 0;\n",
              "      width: 32px;\n",
              "    }\n",
              "\n",
              "    .colab-df-convert:hover {\n",
              "      background-color: #E2EBFA;\n",
              "      box-shadow: 0px 1px 2px rgba(60, 64, 67, 0.3), 0px 1px 3px 1px rgba(60, 64, 67, 0.15);\n",
              "      fill: #174EA6;\n",
              "    }\n",
              "\n",
              "    [theme=dark] .colab-df-convert {\n",
              "      background-color: #3B4455;\n",
              "      fill: #D2E3FC;\n",
              "    }\n",
              "\n",
              "    [theme=dark] .colab-df-convert:hover {\n",
              "      background-color: #434B5C;\n",
              "      box-shadow: 0px 1px 3px 1px rgba(0, 0, 0, 0.15);\n",
              "      filter: drop-shadow(0px 1px 2px rgba(0, 0, 0, 0.3));\n",
              "      fill: #FFFFFF;\n",
              "    }\n",
              "  </style>\n",
              "\n",
              "      <script>\n",
              "        const buttonEl =\n",
              "          document.querySelector('#df-16357b10-7f56-4998-857d-28204009f4ee button.colab-df-convert');\n",
              "        buttonEl.style.display =\n",
              "          google.colab.kernel.accessAllowed ? 'block' : 'none';\n",
              "\n",
              "        async function convertToInteractive(key) {\n",
              "          const element = document.querySelector('#df-16357b10-7f56-4998-857d-28204009f4ee');\n",
              "          const dataTable =\n",
              "            await google.colab.kernel.invokeFunction('convertToInteractive',\n",
              "                                                     [key], {});\n",
              "          if (!dataTable) return;\n",
              "\n",
              "          const docLinkHtml = 'Like what you see? Visit the ' +\n",
              "            '<a target=\"_blank\" href=https://colab.research.google.com/notebooks/data_table.ipynb>data table notebook</a>'\n",
              "            + ' to learn more about interactive tables.';\n",
              "          element.innerHTML = '';\n",
              "          dataTable['output_type'] = 'display_data';\n",
              "          await google.colab.output.renderOutput(dataTable, element);\n",
              "          const docLink = document.createElement('div');\n",
              "          docLink.innerHTML = docLinkHtml;\n",
              "          element.appendChild(docLink);\n",
              "        }\n",
              "      </script>\n",
              "    </div>\n",
              "  </div>\n",
              "  "
            ]
          },
          "metadata": {},
          "execution_count": 4
        }
      ]
    },
    {
      "cell_type": "code",
      "source": [
        "import seaborn as sns\n",
        "sns.countplot(df.Rating)"
      ],
      "metadata": {
        "id": "M3mq6xcFF0gr",
        "colab": {
          "base_uri": "https://localhost:8080/",
          "height": 351
        },
        "outputId": "8b79169d-685f-461f-9a54-c917ae0e746e"
      },
      "execution_count": 6,
      "outputs": [
        {
          "output_type": "stream",
          "name": "stderr",
          "text": [
            "/usr/local/lib/python3.7/dist-packages/seaborn/_decorators.py:43: FutureWarning: Pass the following variable as a keyword arg: x. From version 0.12, the only valid positional argument will be `data`, and passing other arguments without an explicit keyword will result in an error or misinterpretation.\n",
            "  FutureWarning\n"
          ]
        },
        {
          "output_type": "execute_result",
          "data": {
            "text/plain": [
              "<matplotlib.axes._subplots.AxesSubplot at 0x7fa8cbcd2e50>"
            ]
          },
          "metadata": {},
          "execution_count": 6
        },
        {
          "output_type": "display_data",
          "data": {
            "text/plain": [
              "<Figure size 432x288 with 1 Axes>"
            ],
            "image/png": "[encoded data removed]"
          },
          "metadata": {
            "needs_background": "light"
          }
        }
      ]
    },
    {
      "cell_type": "code",
      "source": [
        "def partition(x):\n",
        "    if x < 3:\n",
        "        return 'negative'\n",
        "    return 'positive'\n",
        "\n",
        "#changing reviews with Rating less than 3 to be positive\n",
        "actualScore = df['Rating']\n",
        "positiveNegative = actualScore.map(partition) \n",
        "df['RatingTransformed'] = positiveNegative"
      ],
      "metadata": {
        "id": "lMVKvRGwF0kE"
      },
      "execution_count": 7,
      "outputs": []
    },
    {
      "cell_type": "code",
      "source": [
        "sns.countplot(df.RatingTransformed)"
      ],
      "metadata": {
        "id": "HsdhUYVpKvVK",
        "colab": {
          "base_uri": "https://localhost:8080/",
          "height": 351
        },
        "outputId": "475d1b30-3f0f-4473-b40f-a42ece2e6278"
      },
      "execution_count": 8,
      "outputs": [
        {
          "output_type": "stream",
          "name": "stderr",
          "text": [
            "/usr/local/lib/python3.7/dist-packages/seaborn/_decorators.py:43: FutureWarning: Pass the following variable as a keyword arg: x. From version 0.12, the only valid positional argument will be `data`, and passing other arguments without an explicit keyword will result in an error or misinterpretation.\n",
            "  FutureWarning\n"
          ]
        },
        {
          "output_type": "execute_result",
          "data": {
            "text/plain": [
              "<matplotlib.axes._subplots.AxesSubplot at 0x7fa8cbcce7d0>"
            ]
          },
          "metadata": {},
          "execution_count": 8
        },
        {
          "output_type": "display_data",
          "data": {
            "text/plain": [
              "<Figure size 432x288 with 1 Axes>"
            ],
            "image/png": "[encoded data removed]"
          },
          "metadata": {
            "needs_background": "light"
          }
        }
      ]
    },
    {
      "cell_type": "code",
      "source": [
        "import nltk\n",
        "nltk.download('stopwords')\n",
        "from nltk.corpus import stopwords\n",
        "#initialising the snowball stemmer which is developed in recent years\n",
        "sno = nltk.stem.SnowballStemmer('english') \n",
        "stop=set(stopwords.words('english'))\n",
        "\n",
        "final = df"
      ],
      "metadata": {
        "id": "wT-nAPNWKvZz",
        "colab": {
          "base_uri": "https://localhost:8080/"
        },
        "outputId": "69ff4aeb-a4ab-41b7-e311-3959ae3db730"
      },
      "execution_count": 9,
      "outputs": [
        {
          "output_type": "stream",
          "name": "stderr",
          "text": [
            "[nltk_data] Downloading package stopwords to /root/nltk_data...\n",
            "[nltk_data]   Package stopwords is already up-to-date!\n"
          ]
        }
      ]
    },
    {
      "cell_type": "code",
      "source": [
        "def cleanhtml(sentence): #function to clean the word of any html-tags\n",
        "    cleanr = re.compile('<.*?>')\n",
        "    cleantext = re.sub(cleanr, ' ', sentence)\n",
        "    return cleantext\n",
        "\n",
        "def cleanpunc(sentence):\n",
        "    cleaned_data = re.sub(r'[?|!|\\'|\"|#]',r'',sent)\n",
        "    cleaned_data = re.sub(r'[.|,|)|(|\\|/]',r' ',cleaned_data)\n",
        "    return  cleaned_data"
      ],
      "metadata": {
        "id": "Jr_vwwOiKvdL"
      },
      "execution_count": 10,
      "outputs": []
    },
    {
      "cell_type": "code",
      "source": [
        "final = df.sample(n=1000, random_state=1)"
      ],
      "metadata": {
        "id": "mYz9lXieK1wz"
      },
      "execution_count": 13,
      "outputs": []
    },
    {
      "cell_type": "code",
      "source": [
        "# Clean text\n",
        "import re\n",
        "\n",
        "i=0\n",
        "str1=' '\n",
        "final_string=[]\n",
        "# store words from +ve reviews here\n",
        "all_positive_words=[] \n",
        "# store words from -ve reviews here.\n",
        "all_negative_words=[] \n",
        "s=''\n",
        "for sent in final['Reviews'].values:\n",
        "    filtered_sent=[]\n",
        "    #sent=cleanhtml(sent) # remove HTMl tags\n",
        "    try:\n",
        "      for w in sent.split():\n",
        "          for cleaned_words in cleanpunc(w).split():\n",
        "              if((cleaned_words.isalpha()) & (len(cleaned_words)>2)):    \n",
        "                  if(cleaned_words.lower() not in stop):\n",
        "                      s=(sno.stem(cleaned_words.lower())).encode('utf8')\n",
        "                      filtered_sent.append(s)\n",
        "                      if (final['RatingTransformed'].values)[i] == 'positive': \n",
        "                        #list of all words used to describe positive reviews\n",
        "                          all_positive_words.append(s) \n",
        "                      if(final['RatingTransformed'].values)[i] == 'negative':\n",
        "                        #list of all words used to describe negative reviews reviews\n",
        "                          all_negative_words.append(s) \n",
        "                  else:\n",
        "                      continue\n",
        "              else:\n",
        "                  continue \n",
        "                   #final string of cleaned words\n",
        "      str1 = b\" \".join(filtered_sent)\n",
        "      \n",
        "      #print('str1:', str1)\n",
        "      final_string.append(str1)\n",
        "      i+=1\n",
        "    except AttributeError as e:\n",
        "      # No words to split\n",
        "      final_string.append('')\n",
        "      i+=1"
      ],
      "metadata": {
        "id": "YgJC4ZoCK17v"
      },
      "execution_count": 14,
      "outputs": []
    },
    {
      "cell_type": "code",
      "source": [
        "final['CleanedText']=final_string \n",
        "final['CleanedText']=final['CleanedText'].str.decode(\"utf-8\")\n",
        "final = final.fillna('')"
      ],
      "metadata": {
        "id": "oSLU295XK8LQ"
      },
      "execution_count": 15,
      "outputs": []
    },
    {
      "cell_type": "code",
      "source": [
        "from sklearn.feature_extraction.text import CountVectorizer\n",
        "count_vect = CountVectorizer()\n",
        "#bow = count_vect.fit_transform(final['CleanedText'].values)\n",
        "bow = count_vect.fit_transform(final['CleanedText'].values)\n",
        "print(bow.shape)"
      ],
      "metadata": {
        "colab": {
          "base_uri": "https://localhost:8080/"
        },
        "id": "40JJxaX2QkuN",
        "outputId": "7737ac77-6bb4-4407-b42c-aa1c6c7c45e5"
      },
      "execution_count": 16,
      "outputs": [
        {
          "output_type": "stream",
          "name": "stdout",
          "text": [
            "(1000, 2660)\n"
          ]
        }
      ]
    },
    {
      "cell_type": "code",
      "source": [
        "terms = count_vect.get_feature_names()"
      ],
      "metadata": {
        "colab": {
          "base_uri": "https://localhost:8080/"
        },
        "id": "7jc1ZswYQkw-",
        "outputId": "4a974b4c-f05e-4ecc-8485-612b65476de4"
      },
      "execution_count": 17,
      "outputs": [
        {
          "output_type": "stream",
          "name": "stderr",
          "text": [
            "/usr/local/lib/python3.7/dist-packages/sklearn/utils/deprecation.py:87: FutureWarning: Function get_feature_names is deprecated; get_feature_names is deprecated in 1.0 and will be removed in 1.2. Please use get_feature_names_out instead.\n",
            "  warnings.warn(msg, category=FutureWarning)\n"
          ]
        }
      ]
    },
    {
      "cell_type": "code",
      "source": [
        "from sklearn.cluster import KMeans\n",
        "model = KMeans(n_clusters = 10,init='k-means++',random_state=99)\n",
        "model.fit(bow)"
      ],
      "metadata": {
        "colab": {
          "base_uri": "https://localhost:8080/"
        },
        "id": "uFUVxZi8Qkzl",
        "outputId": "3b57df93-e4dd-43db-bb82-4f159e1b6a5d"
      },
      "execution_count": 18,
      "outputs": [
        {
          "output_type": "execute_result",
          "data": {
            "text/plain": [
              "KMeans(n_clusters=10, random_state=99)"
            ]
          },
          "metadata": {},
          "execution_count": 18
        }
      ]
    },
    {
      "cell_type": "code",
      "source": [
        "labels = model.labels_\n",
        "cluster_center=model.cluster_centers_"
      ],
      "metadata": {
        "id": "MgBNONhbQk2P"
      },
      "execution_count": 19,
      "outputs": []
    },
    {
      "cell_type": "code",
      "source": [
        "from sklearn import metrics\n",
        "silhouette_score = metrics.silhouette_score(bow, labels, metric='euclidean')\n",
        "silhouette_score"
      ],
      "metadata": {
        "colab": {
          "base_uri": "https://localhost:8080/"
        },
        "id": "2OtaJZNmQk5C",
        "outputId": "899da8aa-50c9-4ead-fbaa-b0546bae0295"
      },
      "execution_count": 20,
      "outputs": [
        {
          "output_type": "execute_result",
          "data": {
            "text/plain": [
              "0.8677877653732496"
            ]
          },
          "metadata": {},
          "execution_count": 20
        }
      ]
    },
    {
      "cell_type": "code",
      "source": [
        "dafrme = final\n",
        "dafrme['Bow Clus Label'] = model.labels_ \n",
        "dafrme.head(2)"
      ],
      "metadata": {
        "colab": {
          "base_uri": "https://localhost:8080/",
          "height": 208
        },
        "id": "ivnM2Ey8Qk7d",
        "outputId": "5c673ca2-ea7e-4613-e45b-f2943e3d86db"
      },
      "execution_count": 21,
      "outputs": [
        {
          "output_type": "execute_result",
          "data": {
            "text/plain": [
              "                                             Product Name   Brand Name  \\\n",
              "103270  BLU Advance 4.0L Unlocked Smartphone -Global G...          BLU   \n",
              "297857  POSH MOBILE MICRO X, The Smallest Smartphone i...  Posh Mobile   \n",
              "\n",
              "         Price  Rating                                            Reviews  \\\n",
              "103270  149.99       4  Had it for 1 year, can't really complain. Gave...   \n",
              "297857   49.99       5                                    Perfect, thanks   \n",
              "\n",
              "       Review Votes RatingTransformed  \\\n",
              "103270          0.0          positive   \n",
              "297857          1.0          positive   \n",
              "\n",
              "                                              CleanedText  Bow Clus Label  \n",
              "103270  year cant realli complain gave teenag replac w...               2  \n",
              "297857                        perfect thank perfect thank               2  "
            ],
            "text/html": [
              "\n",
              "  <div id=\"df-114137c8-536c-4d3f-9427-017ac068948d\">\n",
              "    <div class=\"colab-df-container\">\n",
              "      <div>\n",
              "<style scoped>\n",
              "    .dataframe tbody tr th:only-of-type {\n",
              "        vertical-align: middle;\n",
              "    }\n",
              "\n",
              "    .dataframe tbody tr th {\n",
              "        vertical-align: top;\n",
              "    }\n",
              "\n",
              "    .dataframe thead th {\n",
              "        text-align: right;\n",
              "    }\n",
              "</style>\n",
              "<table border=\"1\" class=\"dataframe\">\n",
              "  <thead>\n",
              "    <tr style=\"text-align: right;\">\n",
              "      <th></th>\n",
              "      <th>Product Name</th>\n",
              "      <th>Brand Name</th>\n",
              "      <th>Price</th>\n",
              "      <th>Rating</th>\n",
              "      <th>Reviews</th>\n",
              "      <th>Review Votes</th>\n",
              "      <th>RatingTransformed</th>\n",
              "      <th>CleanedText</th>\n",
              "      <th>Bow Clus Label</th>\n",
              "    </tr>\n",
              "  </thead>\n",
              "  <tbody>\n",
              "    <tr>\n",
              "      <th>103270</th>\n",
              "      <td>BLU Advance 4.0L Unlocked Smartphone -Global G...</td>\n",
              "      <td>BLU</td>\n",
              "      <td>149.99</td>\n",
              "      <td>4</td>\n",
              "      <td>Had it for 1 year, can't really complain. Gave...</td>\n",
              "      <td>0.0</td>\n",
              "      <td>positive</td>\n",
              "      <td>year cant realli complain gave teenag replac w...</td>\n",
              "      <td>2</td>\n",
              "    </tr>\n",
              "    <tr>\n",
              "      <th>297857</th>\n",
              "      <td>POSH MOBILE MICRO X, The Smallest Smartphone i...</td>\n",
              "      <td>Posh Mobile</td>\n",
              "      <td>49.99</td>\n",
              "      <td>5</td>\n",
              "      <td>Perfect, thanks</td>\n",
              "      <td>1.0</td>\n",
              "      <td>positive</td>\n",
              "      <td>perfect thank perfect thank</td>\n",
              "      <td>2</td>\n",
              "    </tr>\n",
              "  </tbody>\n",
              "</table>\n",
              "</div>\n",
              "      <button class=\"colab-df-convert\" onclick=\"convertToInteractive('df-114137c8-536c-4d3f-9427-017ac068948d')\"\n",
              "              title=\"Convert this dataframe to an interactive table.\"\n",
              "              style=\"display:none;\">\n",
              "        \n",
              "  <svg xmlns=\"http://www.w3.org/2000/svg\" height=\"24px\"viewBox=\"0 0 24 24\"\n",
              "       width=\"24px\">\n",
              "    <path d=\"M0 0h24v24H0V0z\" fill=\"none\"/>\n",
              "    <path d=\"M18.56 5.44l.94 2.06.94-2.06 2.06-.94-2.06-.94-.94-2.06-.94 2.06-2.06.94zm-11 1L8.5 8.5l.94-2.06 2.06-.94-2.06-.94L8.5 2.5l-.94 2.06-2.06.94zm10 10l.94 2.06.94-2.06 2.06-.94-2.06-.94-.94-2.06-.94 2.06-2.06.94z\"/><path d=\"M17.41 7.96l-1.37-1.37c-.4-.4-.92-.59-1.43-.59-.52 0-1.04.2-1.43.59L10.3 9.45l-7.72 7.72c-.78.78-.78 2.05 0 2.83L4 21.41c.39.39.9.59 1.41.59.51 0 1.02-.2 1.41-.59l7.78-7.78 2.81-2.81c.8-.78.8-2.07 0-2.86zM5.41 20L4 18.59l7.72-7.72 1.47 1.35L5.41 20z\"/>\n",
              "  </svg>\n",
              "      </button>\n",
              "      \n",
              "  <style>\n",
              "    .colab-df-container {\n",
              "      display:flex;\n",
              "      flex-wrap:wrap;\n",
              "      gap: 12px;\n",
              "    }\n",
              "\n",
              "    .colab-df-convert {\n",
              "      background-color: #E8F0FE;\n",
              "      border: none;\n",
              "      border-radius: 50%;\n",
              "      cursor: pointer;\n",
              "      display: none;\n",
              "      fill: #1967D2;\n",
              "      height: 32px;\n",
              "      padding: 0 0 0 0;\n",
              "      width: 32px;\n",
              "    }\n",
              "\n",
              "    .colab-df-convert:hover {\n",
              "      background-color: #E2EBFA;\n",
              "      box-shadow: 0px 1px 2px rgba(60, 64, 67, 0.3), 0px 1px 3px 1px rgba(60, 64, 67, 0.15);\n",
              "      fill: #174EA6;\n",
              "    }\n",
              "\n",
              "    [theme=dark] .colab-df-convert {\n",
              "      background-color: #3B4455;\n",
              "      fill: #D2E3FC;\n",
              "    }\n",
              "\n",
              "    [theme=dark] .colab-df-convert:hover {\n",
              "      background-color: #434B5C;\n",
              "      box-shadow: 0px 1px 3px 1px rgba(0, 0, 0, 0.15);\n",
              "      filter: drop-shadow(0px 1px 2px rgba(0, 0, 0, 0.3));\n",
              "      fill: #FFFFFF;\n",
              "    }\n",
              "  </style>\n",
              "\n",
              "      <script>\n",
              "        const buttonEl =\n",
              "          document.querySelector('#df-114137c8-536c-4d3f-9427-017ac068948d button.colab-df-convert');\n",
              "        buttonEl.style.display =\n",
              "          google.colab.kernel.accessAllowed ? 'block' : 'none';\n",
              "\n",
              "        async function convertToInteractive(key) {\n",
              "          const element = document.querySelector('#df-114137c8-536c-4d3f-9427-017ac068948d');\n",
              "          const dataTable =\n",
              "            await google.colab.kernel.invokeFunction('convertToInteractive',\n",
              "                                                     [key], {});\n",
              "          if (!dataTable) return;\n",
              "\n",
              "          const docLinkHtml = 'Like what you see? Visit the ' +\n",
              "            '<a target=\"_blank\" href=https://colab.research.google.com/notebooks/data_table.ipynb>data table notebook</a>'\n",
              "            + ' to learn more about interactive tables.';\n",
              "          element.innerHTML = '';\n",
              "          dataTable['output_type'] = 'display_data';\n",
              "          await google.colab.output.renderOutput(dataTable, element);\n",
              "          const docLink = document.createElement('div');\n",
              "          docLink.innerHTML = docLinkHtml;\n",
              "          element.appendChild(docLink);\n",
              "        }\n",
              "      </script>\n",
              "    </div>\n",
              "  </div>\n",
              "  "
            ]
          },
          "metadata": {},
          "execution_count": 21
        }
      ]
    },
    {
      "cell_type": "code",
      "source": [
        "dafrme.groupby(['Bow Clus Label'])['Reviews'].count()"
      ],
      "metadata": {
        "colab": {
          "base_uri": "https://localhost:8080/"
        },
        "id": "Q-eyIHz6Qk-Y",
        "outputId": "35936c07-5a89-4f98-8ec7-1fad96de7e39"
      },
      "execution_count": 22,
      "outputs": [
        {
          "output_type": "execute_result",
          "data": {
            "text/plain": [
              "Bow Clus Label\n",
              "0     34\n",
              "1      1\n",
              "2    958\n",
              "3      1\n",
              "4      1\n",
              "5      1\n",
              "6      1\n",
              "7      1\n",
              "8      1\n",
              "9      1\n",
              "Name: Reviews, dtype: int64"
            ]
          },
          "metadata": {},
          "execution_count": 22
        }
      ]
    },
    {
      "cell_type": "code",
      "source": [
        "print(\"Top terms per cluster:\")\n",
        "order_centroids = model.cluster_centers_.argsort()[:, ::-1]\n",
        "terms = count_vect.get_feature_names()\n",
        "for i in range(10):\n",
        "    print(\"Cluster %d:\" % i, end='')\n",
        "    for ind in order_centroids[i, :10]:\n",
        "        print(' %s' % terms[ind], end='')\n",
        "        print()"
      ],
      "metadata": {
        "colab": {
          "base_uri": "https://localhost:8080/"
        },
        "id": "vZgKW_3wQlBo",
        "outputId": "1c340941-023e-407c-d766-f5b1c15cdd49"
      },
      "execution_count": 23,
      "outputs": [
        {
          "output_type": "stream",
          "name": "stdout",
          "text": [
            "Top terms per cluster:\n",
            "Cluster 0: phone\n",
            " use\n",
            " batteri\n",
            " like\n",
            " good\n",
            " camera\n",
            " time\n",
            " one\n",
            " get\n",
            " screen\n",
            "Cluster 1: phone\n",
            " seller\n",
            " month\n",
            " work\n",
            " samsung\n",
            " report\n",
            " return\n",
            " said\n",
            " unlock\n",
            " stolen\n",
            "Cluster 2: phone\n",
            " work\n",
            " use\n",
            " great\n",
            " get\n",
            " good\n",
            " one\n",
            " screen\n",
            " like\n",
            " time\n",
            "Cluster 3: phone\n",
            " got\n",
            " month\n",
            " product\n",
            " later\n",
            " compani\n",
            " dont\n",
            " never\n",
            " give\n",
            " apart\n",
            "Cluster 4: phone\n",
            " gps\n",
            " app\n",
            " problem\n",
            " get\n",
            " fix\n",
            " navig\n",
            " use\n",
            " screen\n",
            " work\n",
            "Cluster 5: phone\n",
            " camera\n",
            " realli\n",
            " screen\n",
            " servic\n",
            " photo\n",
            " gps\n",
            " take\n",
            " compani\n",
            " need\n",
            "Cluster 6: phone\n",
            " applic\n",
            " updat\n",
            " contact\n",
            " turn\n",
            " work\n",
            " deal\n",
            " quit\n",
            " tri\n",
            " facebook\n",
            "Cluster 7: phone\n",
            " cabl\n",
            " issu\n",
            " tri\n",
            " port\n",
            " card\n",
            " factori\n",
            " qualiti\n",
            " connect\n",
            " proper\n",
            "Cluster 8: phone\n",
            " small\n",
            " like\n",
            " sometim\n",
            " get\n",
            " micro\n",
            " take\n",
            " sinc\n",
            " usb\n",
            " use\n",
            "Cluster 9: phone\n",
            " use\n",
            " flir\n",
            " one\n",
            " great\n",
            " your\n",
            " cant\n",
            " see\n",
            " there\n",
            " featur\n"
          ]
        },
        {
          "output_type": "stream",
          "name": "stderr",
          "text": [
            "/usr/local/lib/python3.7/dist-packages/sklearn/utils/deprecation.py:87: FutureWarning: Function get_feature_names is deprecated; get_feature_names is deprecated in 1.0 and will be removed in 1.2. Please use get_feature_names_out instead.\n",
            "  warnings.warn(msg, category=FutureWarning)\n"
          ]
        }
      ]
    },
    {
      "cell_type": "code",
      "source": [
        "import matplotlib.pyplot as plt\n",
        "plt.bar([x for x in range(10)], dafrme.groupby(['Bow Clus Label'])['Reviews'].count(), alpha = 0.4)\n",
        "plt.title('KMeans cluster points')\n",
        "plt.xlabel(\"Cluster number\")\n",
        "plt.ylabel(\"Number of points\")\n",
        "plt.show()"
      ],
      "metadata": {
        "colab": {
          "base_uri": "https://localhost:8080/",
          "height": 295
        },
        "id": "9N4vA6gNRFc5",
        "outputId": "3080456c-6529-4e05-cd40-d28fecb26541"
      },
      "execution_count": 24,
      "outputs": [
        {
          "output_type": "display_data",
          "data": {
            "text/plain": [
              "<Figure size 432x288 with 1 Axes>"
            ],
            "image/png": "[encoded data removed]"
          },
          "metadata": {
            "needs_background": "light"
          }
        }
      ]
    },
    {
      "cell_type": "code",
      "source": [
        "from sklearn.feature_extraction.text import TfidfVectorizer\n",
        "tf_idf_vect = TfidfVectorizer()\n",
        "tf_idf = tf_idf_vect.fit_transform(final['CleanedText'].values)\n",
        "tf_idf.shape"
      ],
      "metadata": {
        "colab": {
          "base_uri": "https://localhost:8080/"
        },
        "id": "SadyOisiRFfW",
        "outputId": "4e4971f9-efe2-4f5e-f701-184b87ef6c23"
      },
      "execution_count": 25,
      "outputs": [
        {
          "output_type": "execute_result",
          "data": {
            "text/plain": [
              "(1000, 2660)"
            ]
          },
          "metadata": {},
          "execution_count": 25
        }
      ]
    },
    {
      "cell_type": "code",
      "source": [
        "from sklearn.cluster import KMeans\n",
        "model_tf = KMeans(n_clusters = 10,random_state=99)\n",
        "model_tf.fit(tf_idf)"
      ],
      "metadata": {
        "colab": {
          "base_uri": "https://localhost:8080/"
        },
        "id": "ad6D6dNQRFh6",
        "outputId": "05ecde9b-f89a-4030-9831-6c4f3f910ed8"
      },
      "execution_count": 26,
      "outputs": [
        {
          "output_type": "execute_result",
          "data": {
            "text/plain": [
              "KMeans(n_clusters=10, random_state=99)"
            ]
          },
          "metadata": {},
          "execution_count": 26
        }
      ]
    },
    {
      "cell_type": "code",
      "source": [
        "labels_tf = model_tf.labels_\n",
        "cluster_center_tf=model_tf.cluster_centers_\n",
        "cluster_center_tf"
      ],
      "metadata": {
        "colab": {
          "base_uri": "https://localhost:8080/"
        },
        "id": "Wky6_AfERFks",
        "outputId": "bf1e089c-81a7-4127-b5f9-40a854be3324"
      },
      "execution_count": 27,
      "outputs": [
        {
          "output_type": "execute_result",
          "data": {
            "text/plain": [
              "array([[0.        , 0.00211943, 0.00463832, ..., 0.        , 0.        ,\n",
              "        0.        ],\n",
              "       [0.        , 0.        , 0.        , ..., 0.        , 0.        ,\n",
              "        0.        ],\n",
              "       [0.        , 0.        , 0.        , ..., 0.        , 0.        ,\n",
              "        0.        ],\n",
              "       ...,\n",
              "       [0.        , 0.00025242, 0.00691803, ..., 0.0009042 , 0.00113021,\n",
              "        0.00099414],\n",
              "       [0.        , 0.        , 0.        , ..., 0.        , 0.        ,\n",
              "        0.        ],\n",
              "       [0.        , 0.        , 0.        , ..., 0.        , 0.        ,\n",
              "        0.        ]])"
            ]
          },
          "metadata": {},
          "execution_count": 27
        }
      ]
    },
    {
      "cell_type": "code",
      "source": [
        "terms1 = tf_idf_vect.get_feature_names()\n",
        "terms1[1:10]"
      ],
      "metadata": {
        "colab": {
          "base_uri": "https://localhost:8080/"
        },
        "id": "dI9l3VTcRFnk",
        "outputId": "9e029ac2-ef5b-4312-e93a-a61cc6c434ed"
      },
      "execution_count": 28,
      "outputs": [
        {
          "output_type": "stream",
          "name": "stderr",
          "text": [
            "/usr/local/lib/python3.7/dist-packages/sklearn/utils/deprecation.py:87: FutureWarning: Function get_feature_names is deprecated; get_feature_names is deprecated in 1.0 and will be removed in 1.2. Please use get_feature_names_out instead.\n",
            "  warnings.warn(msg, category=FutureWarning)\n"
          ]
        },
        {
          "output_type": "execute_result",
          "data": {
            "text/plain": [
              "['abil',\n",
              " 'abl',\n",
              " 'abnorm',\n",
              " 'abroad',\n",
              " 'absolut',\n",
              " 'absurd',\n",
              " 'acceler',\n",
              " 'accent',\n",
              " 'accept']"
            ]
          },
          "metadata": {},
          "execution_count": 28
        }
      ]
    },
    {
      "cell_type": "code",
      "source": [
        "from sklearn import metrics\n",
        "silhouette_score_tf = metrics.silhouette_score(tf_idf, labels_tf, metric='euclidean')\n",
        "silhouette_score_tf"
      ],
      "metadata": {
        "colab": {
          "base_uri": "https://localhost:8080/"
        },
        "id": "odVWcVObRNjb",
        "outputId": "2639b66e-f8d7-487a-f5f3-9b116e9d296c"
      },
      "execution_count": 29,
      "outputs": [
        {
          "output_type": "execute_result",
          "data": {
            "text/plain": [
              "0.0641401485898055"
            ]
          },
          "metadata": {},
          "execution_count": 29
        }
      ]
    },
    {
      "cell_type": "code",
      "source": [
        "dafrme1 = dafrme\n",
        "dafrme1['Tfidf Clus Label'] = model_tf.labels_\n",
        "dafrme1.head(5)"
      ],
      "metadata": {
        "colab": {
          "base_uri": "https://localhost:8080/",
          "height": 354
        },
        "id": "mRwpQThlRNmH",
        "outputId": "85f3c94f-e144-4b2e-aa0e-bee1c532e4d1"
      },
      "execution_count": 30,
      "outputs": [
        {
          "output_type": "execute_result",
          "data": {
            "text/plain": [
              "                                             Product Name   Brand Name  \\\n",
              "103270  BLU Advance 4.0L Unlocked Smartphone -Global G...          BLU   \n",
              "297857  POSH MOBILE MICRO X, The Smallest Smartphone i...  Posh Mobile   \n",
              "40075            Apple iPhone 5s 16GB (Silver) - T-Mobile        Apple   \n",
              "100790  Blackberry Torch 9800 Unlocked Phone with 5 MP...   BlackBerry   \n",
              "58055   Apple iPhone 6 Plus 64GB Unlocked Smartphone -...                \n",
              "\n",
              "         Price  Rating                                            Reviews  \\\n",
              "103270  149.99       4  Had it for 1 year, can't really complain. Gave...   \n",
              "297857   49.99       5                                    Perfect, thanks   \n",
              "40075    75.65       1  the back camera stopped working, the phone tou...   \n",
              "100790   82.62       5                                              Good!   \n",
              "58055   529.99       5  no complaints. worked fine and still working p...   \n",
              "\n",
              "       Review Votes RatingTransformed  \\\n",
              "103270          0.0          positive   \n",
              "297857          1.0          positive   \n",
              "40075           1.0          negative   \n",
              "100790          0.0          positive   \n",
              "58055           0.0          positive   \n",
              "\n",
              "                                              CleanedText  Bow Clus Label  \\\n",
              "103270  year cant realli complain gave teenag replac w...               2   \n",
              "297857                        perfect thank perfect thank               2   \n",
              "40075   back camera stop work phone touch screen stop ...               2   \n",
              "100790                                               good               2   \n",
              "58055   complaint work fine still work perfect tear we...               2   \n",
              "\n",
              "        Tfidf Clus Label  \n",
              "103270                 7  \n",
              "297857                 3  \n",
              "40075                  5  \n",
              "100790                 9  \n",
              "58055                  5  "
            ],
            "text/html": [
              "\n",
              "  <div id=\"df-685099e4-840c-4907-a5c4-8e9db5ee0626\">\n",
              "    <div class=\"colab-df-container\">\n",
              "      <div>\n",
              "<style scoped>\n",
              "    .dataframe tbody tr th:only-of-type {\n",
              "        vertical-align: middle;\n",
              "    }\n",
              "\n",
              "    .dataframe tbody tr th {\n",
              "        vertical-align: top;\n",
              "    }\n",
              "\n",
              "    .dataframe thead th {\n",
              "        text-align: right;\n",
              "    }\n",
              "</style>\n",
              "<table border=\"1\" class=\"dataframe\">\n",
              "  <thead>\n",
              "    <tr style=\"text-align: right;\">\n",
              "      <th></th>\n",
              "      <th>Product Name</th>\n",
              "      <th>Brand Name</th>\n",
              "      <th>Price</th>\n",
              "      <th>Rating</th>\n",
              "      <th>Reviews</th>\n",
              "      <th>Review Votes</th>\n",
              "      <th>RatingTransformed</th>\n",
              "      <th>CleanedText</th>\n",
              "      <th>Bow Clus Label</th>\n",
              "      <th>Tfidf Clus Label</th>\n",
              "    </tr>\n",
              "  </thead>\n",
              "  <tbody>\n",
              "    <tr>\n",
              "      <th>103270</th>\n",
              "      <td>BLU Advance 4.0L Unlocked Smartphone -Global G...</td>\n",
              "      <td>BLU</td>\n",
              "      <td>149.99</td>\n",
              "      <td>4</td>\n",
              "      <td>Had it for 1 year, can't really complain. Gave...</td>\n",
              "      <td>0.0</td>\n",
              "      <td>positive</td>\n",
              "      <td>year cant realli complain gave teenag replac w...</td>\n",
              "      <td>2</td>\n",
              "      <td>7</td>\n",
              "    </tr>\n",
              "    <tr>\n",
              "      <th>297857</th>\n",
              "      <td>POSH MOBILE MICRO X, The Smallest Smartphone i...</td>\n",
              "      <td>Posh Mobile</td>\n",
              "      <td>49.99</td>\n",
              "      <td>5</td>\n",
              "      <td>Perfect, thanks</td>\n",
              "      <td>1.0</td>\n",
              "      <td>positive</td>\n",
              "      <td>perfect thank perfect thank</td>\n",
              "      <td>2</td>\n",
              "      <td>3</td>\n",
              "    </tr>\n",
              "    <tr>\n",
              "      <th>40075</th>\n",
              "      <td>Apple iPhone 5s 16GB (Silver) - T-Mobile</td>\n",
              "      <td>Apple</td>\n",
              "      <td>75.65</td>\n",
              "      <td>1</td>\n",
              "      <td>the back camera stopped working, the phone tou...</td>\n",
              "      <td>1.0</td>\n",
              "      <td>negative</td>\n",
              "      <td>back camera stop work phone touch screen stop ...</td>\n",
              "      <td>2</td>\n",
              "      <td>5</td>\n",
              "    </tr>\n",
              "    <tr>\n",
              "      <th>100790</th>\n",
              "      <td>Blackberry Torch 9800 Unlocked Phone with 5 MP...</td>\n",
              "      <td>BlackBerry</td>\n",
              "      <td>82.62</td>\n",
              "      <td>5</td>\n",
              "      <td>Good!</td>\n",
              "      <td>0.0</td>\n",
              "      <td>positive</td>\n",
              "      <td>good</td>\n",
              "      <td>2</td>\n",
              "      <td>9</td>\n",
              "    </tr>\n",
              "    <tr>\n",
              "      <th>58055</th>\n",
              "      <td>Apple iPhone 6 Plus 64GB Unlocked Smartphone -...</td>\n",
              "      <td></td>\n",
              "      <td>529.99</td>\n",
              "      <td>5</td>\n",
              "      <td>no complaints. worked fine and still working p...</td>\n",
              "      <td>0.0</td>\n",
              "      <td>positive</td>\n",
              "      <td>complaint work fine still work perfect tear we...</td>\n",
              "      <td>2</td>\n",
              "      <td>5</td>\n",
              "    </tr>\n",
              "  </tbody>\n",
              "</table>\n",
              "</div>\n",
              "      <button class=\"colab-df-convert\" onclick=\"convertToInteractive('df-685099e4-840c-4907-a5c4-8e9db5ee0626')\"\n",
              "              title=\"Convert this dataframe to an interactive table.\"\n",
              "              style=\"display:none;\">\n",
              "        \n",
              "  <svg xmlns=\"http://www.w3.org/2000/svg\" height=\"24px\"viewBox=\"0 0 24 24\"\n",
              "       width=\"24px\">\n",
              "    <path d=\"M0 0h24v24H0V0z\" fill=\"none\"/>\n",
              "    <path d=\"M18.56 5.44l.94 2.06.94-2.06 2.06-.94-2.06-.94-.94-2.06-.94 2.06-2.06.94zm-11 1L8.5 8.5l.94-2.06 2.06-.94-2.06-.94L8.5 2.5l-.94 2.06-2.06.94zm10 10l.94 2.06.94-2.06 2.06-.94-2.06-.94-.94-2.06-.94 2.06-2.06.94z\"/><path d=\"M17.41 7.96l-1.37-1.37c-.4-.4-.92-.59-1.43-.59-.52 0-1.04.2-1.43.59L10.3 9.45l-7.72 7.72c-.78.78-.78 2.05 0 2.83L4 21.41c.39.39.9.59 1.41.59.51 0 1.02-.2 1.41-.59l7.78-7.78 2.81-2.81c.8-.78.8-2.07 0-2.86zM5.41 20L4 18.59l7.72-7.72 1.47 1.35L5.41 20z\"/>\n",
              "  </svg>\n",
              "      </button>\n",
              "      \n",
              "  <style>\n",
              "    .colab-df-container {\n",
              "      display:flex;\n",
              "      flex-wrap:wrap;\n",
              "      gap: 12px;\n",
              "    }\n",
              "\n",
              "    .colab-df-convert {\n",
              "      background-color: #E8F0FE;\n",
              "      border: none;\n",
              "      border-radius: 50%;\n",
              "      cursor: pointer;\n",
              "      display: none;\n",
              "      fill: #1967D2;\n",
              "      height: 32px;\n",
              "      padding: 0 0 0 0;\n",
              "      width: 32px;\n",
              "    }\n",
              "\n",
              "    .colab-df-convert:hover {\n",
              "      background-color: #E2EBFA;\n",
              "      box-shadow: 0px 1px 2px rgba(60, 64, 67, 0.3), 0px 1px 3px 1px rgba(60, 64, 67, 0.15);\n",
              "      fill: #174EA6;\n",
              "    }\n",
              "\n",
              "    [theme=dark] .colab-df-convert {\n",
              "      background-color: #3B4455;\n",
              "      fill: #D2E3FC;\n",
              "    }\n",
              "\n",
              "    [theme=dark] .colab-df-convert:hover {\n",
              "      background-color: #434B5C;\n",
              "      box-shadow: 0px 1px 3px 1px rgba(0, 0, 0, 0.15);\n",
              "      filter: drop-shadow(0px 1px 2px rgba(0, 0, 0, 0.3));\n",
              "      fill: #FFFFFF;\n",
              "    }\n",
              "  </style>\n",
              "\n",
              "      <script>\n",
              "        const buttonEl =\n",
              "          document.querySelector('#df-685099e4-840c-4907-a5c4-8e9db5ee0626 button.colab-df-convert');\n",
              "        buttonEl.style.display =\n",
              "          google.colab.kernel.accessAllowed ? 'block' : 'none';\n",
              "\n",
              "        async function convertToInteractive(key) {\n",
              "          const element = document.querySelector('#df-685099e4-840c-4907-a5c4-8e9db5ee0626');\n",
              "          const dataTable =\n",
              "            await google.colab.kernel.invokeFunction('convertToInteractive',\n",
              "                                                     [key], {});\n",
              "          if (!dataTable) return;\n",
              "\n",
              "          const docLinkHtml = 'Like what you see? Visit the ' +\n",
              "            '<a target=\"_blank\" href=https://colab.research.google.com/notebooks/data_table.ipynb>data table notebook</a>'\n",
              "            + ' to learn more about interactive tables.';\n",
              "          element.innerHTML = '';\n",
              "          dataTable['output_type'] = 'display_data';\n",
              "          await google.colab.output.renderOutput(dataTable, element);\n",
              "          const docLink = document.createElement('div');\n",
              "          docLink.innerHTML = docLinkHtml;\n",
              "          element.appendChild(docLink);\n",
              "        }\n",
              "      </script>\n",
              "    </div>\n",
              "  </div>\n",
              "  "
            ]
          },
          "metadata": {},
          "execution_count": 30
        }
      ]
    },
    {
      "cell_type": "code",
      "source": [
        "dafrme1.groupby(['Tfidf Clus Label'])['Reviews'].count()"
      ],
      "metadata": {
        "colab": {
          "base_uri": "https://localhost:8080/"
        },
        "id": "DbStnlRQRNou",
        "outputId": "976b093c-c6ab-46fa-ff5d-4caf3cc32277"
      },
      "execution_count": 31,
      "outputs": [
        {
          "output_type": "execute_result",
          "data": {
            "text/plain": [
              "Tfidf Clus Label\n",
              "0     48\n",
              "1    103\n",
              "2     46\n",
              "3    273\n",
              "4     18\n",
              "5     78\n",
              "6     27\n",
              "7    356\n",
              "8      6\n",
              "9     45\n",
              "Name: Reviews, dtype: int64"
            ]
          },
          "metadata": {},
          "execution_count": 31
        }
      ]
    },
    {
      "cell_type": "code",
      "source": [
        "print(\"Top terms per cluster:\")\n",
        "order_centroids = model_tf.cluster_centers_.argsort()[:, ::-1]\n",
        "for i in range(10):\n",
        "    print(\"Cluster %d:\" % i, end='')\n",
        "    for ind in order_centroids[i, :10]:\n",
        "        print(' %s' % terms1[ind], end='')\n",
        "        print()"
      ],
      "metadata": {
        "colab": {
          "base_uri": "https://localhost:8080/"
        },
        "id": "8uhxOmmcRNrP",
        "outputId": "93864e2d-8277-4fd3-e0f9-b51684984fb1"
      },
      "execution_count": 32,
      "outputs": [
        {
          "output_type": "stream",
          "name": "stdout",
          "text": [
            "Top terms per cluster:\n",
            "Cluster 0: batteri\n",
            " charg\n",
            " phone\n",
            " life\n",
            " card\n",
            " hour\n",
            " sim\n",
            " month\n",
            " last\n",
            " even\n",
            "Cluster 1: great\n",
            " love\n",
            " phone\n",
            " work\n",
            " price\n",
            " fast\n",
            " iphon\n",
            " good\n",
            " son\n",
            " thank\n",
            "Cluster 2: excel\n",
            " product\n",
            " phone\n",
            " thank\n",
            " love\n",
            " everyth\n",
            " produtc\n",
            " describ\n",
            " good\n",
            " recommend\n",
            "Cluster 3: product\n",
            " perfect\n",
            " good\n",
            " iphon\n",
            " thank\n",
            " expect\n",
            " like\n",
            " new\n",
            " time\n",
            " qualiti\n",
            "Cluster 4: excelent\n",
            " producto\n",
            " punto\n",
            " telefono\n",
            " condit\n",
            " phone\n",
            " first\n",
            " flap\n",
            " flir\n",
            " flip\n",
            "Cluster 5: work\n",
            " well\n",
            " fine\n",
            " phone\n",
            " doesnt\n",
            " perfect\n",
            " still\n",
            " expect\n",
            " stop\n",
            " good\n",
            "Cluster 6: nice\n",
            " phone\n",
            " good\n",
            " product\n",
            " low\n",
            " work\n",
            " seller\n",
            " price\n",
            " camera\n",
            " came\n",
            "Cluster 7: phone\n",
            " use\n",
            " one\n",
            " work\n",
            " screen\n",
            " love\n",
            " good\n",
            " unlock\n",
            " like\n",
            " get\n",
            "Cluster 8: exelent\n",
            " producto\n",
            " ítem\n",
            " flake\n",
            " flir\n",
            " flip\n",
            " flawless\n",
            " flaw\n",
            " flash\n",
            " flap\n",
            "Cluster 9: good\n",
            " product\n",
            " phone\n",
            " price\n",
            " qualiti\n",
            " realli\n",
            " star\n",
            " far\n",
            " problem\n",
            " expect\n"
          ]
        }
      ]
    },
    {
      "cell_type": "code",
      "source": [
        "plt.bar([x for x in range(10)], dafrme1.groupby(['Tfidf Clus Label'])['Reviews'].count(), alpha = 0.4)\n",
        "plt.title('TFID cluster points')\n",
        "plt.xlabel(\"Cluster number\")\n",
        "plt.ylabel(\"Number of points\")\n",
        "plt.show()"
      ],
      "metadata": {
        "colab": {
          "base_uri": "https://localhost:8080/",
          "height": 295
        },
        "id": "aR3bvABHRNtz",
        "outputId": "dd283153-2367-4944-e189-5155bd3cd690"
      },
      "execution_count": 33,
      "outputs": [
        {
          "output_type": "display_data",
          "data": {
            "text/plain": [
              "<Figure size 432x288 with 1 Axes>"
            ],
            "image/png": "[encoded data removed]"
          },
          "metadata": {
            "needs_background": "light"
          }
        }
      ]
    },
    {
      "cell_type": "code",
      "source": [
        "#Average Word to Vector\n",
        "i=0\n",
        "list_of_sent=[]\n",
        "for sent in final['CleanedText'].values:\n",
        "    list_of_sent.append(sent.split())"
      ],
      "metadata": {
        "id": "PRAx4rXXRNxU"
      },
      "execution_count": 34,
      "outputs": []
    },
    {
      "cell_type": "code",
      "source": [
        "i=0\n",
        "list_of_sent_train=[]\n",
        "for sent in final['CleanedText'].values:\n",
        "    filtered_sentence=[]\n",
        "    for w in sent.split():\n",
        "      if(len(filtered_sentence) > 10000):\n",
        "        continue\n",
        "      for cleaned_words in cleanpunc(w).split():\n",
        "        if(cleaned_words.isalpha()):\n",
        "          filtered_sentence.append(cleaned_words.lower())\n",
        "        else:\n",
        "          continue \n",
        "    list_of_sent_train.append(filtered_sentence)\n",
        "#print(list_of_sent_train)"
      ],
      "metadata": {
        "id": "sfIcrHdvRatl"
      },
      "execution_count": 35,
      "outputs": []
    },
    {
      "cell_type": "code",
      "source": [
        "print(list_of_sent_train[:10])"
      ],
      "metadata": {
        "colab": {
          "base_uri": "https://localhost:8080/"
        },
        "id": "QFEKLhS4Rawk",
        "outputId": "fad6b5f1-23a4-4046-f21d-66a67a882158"
      },
      "execution_count": 36,
      "outputs": [
        {
          "output_type": "stream",
          "name": "stdout",
          "text": [
            "[['year', 'cant', 'realli', 'complain', 'gave', 'teenag', 'replac', 'wait', 'upgrad', 'time', 'phone', 'use', 'crap', 'batteri', 'final', 'isnt', 'keep', 'anymor', 'wont', 'stay', 'charg', 'though', 'cant', 'realli', 'complain', 'phone', 'earpiec', 'doubl', 'extern', 'speaker', 'want', 'play', 'song', 'loud', 'wasnt', 'best', 'doabl', 'year', 'cant', 'realli', 'complain', 'gave', 'teenag', 'replac', 'wait', 'upgrad', 'time', 'phone', 'use', 'crap', 'batteri', 'final', 'isnt', 'keep', 'anymor', 'wont', 'stay', 'charg', 'though', 'cant', 'realli', 'complain', 'phone', 'earpiec', 'doubl', 'extern', 'speaker', 'want', 'play', 'song', 'loud', 'wasnt', 'best', 'doabl', 'year', 'cant', 'realli', 'complain', 'gave', 'teenag', 'replac', 'wait', 'upgrad', 'time', 'phone', 'use', 'crap', 'batteri', 'final', 'isnt', 'keep', 'anymor', 'wont', 'stay', 'charg', 'though', 'cant', 'realli', 'complain', 'phone', 'earpiec', 'doubl', 'extern', 'speaker', 'want', 'play', 'song', 'loud', 'wasnt', 'best', 'doabl', 'year', 'cant', 'realli', 'complain', 'gave', 'teenag', 'replac', 'wait', 'upgrad', 'time', 'phone', 'use', 'crap', 'batteri', 'final', 'isnt', 'keep', 'anymor', 'wont', 'stay', 'charg', 'though', 'cant', 'realli', 'complain', 'phone', 'earpiec', 'doubl', 'extern', 'speaker', 'want', 'play', 'song', 'loud', 'wasnt', 'best', 'doabl', 'year', 'cant', 'realli', 'complain', 'gave', 'teenag', 'replac', 'wait', 'upgrad', 'time', 'phone', 'use', 'crap', 'batteri', 'final', 'isnt', 'keep', 'anymor', 'wont', 'stay', 'charg', 'though', 'cant', 'realli', 'complain', 'phone', 'earpiec', 'doubl', 'extern', 'speaker', 'want', 'play', 'song', 'loud', 'wasnt', 'best', 'doabl', 'year', 'cant', 'realli', 'complain', 'gave', 'teenag', 'replac', 'wait', 'upgrad', 'time', 'phone', 'use', 'crap', 'batteri', 'final', 'isnt', 'keep', 'anymor', 'wont', 'stay', 'charg', 'though', 'cant', 'realli', 'complain', 'phone', 'earpiec', 'doubl', 'extern', 'speaker', 'want', 'play', 'song', 'loud', 'wasnt', 'best', 'doabl', 'year', 'cant', 'realli', 'complain', 'gave', 'teenag', 'replac', 'wait', 'upgrad', 'time', 'phone', 'use', 'crap', 'batteri', 'final', 'isnt', 'keep', 'anymor', 'wont', 'stay', 'charg', 'though', 'cant', 'realli', 'complain', 'phone', 'earpiec', 'doubl', 'extern', 'speaker', 'want', 'play', 'song', 'loud', 'wasnt', 'best', 'doabl', 'year', 'cant', 'realli', 'complain', 'gave', 'teenag', 'replac', 'wait', 'upgrad', 'time', 'phone', 'use', 'crap', 'batteri', 'final', 'isnt', 'keep', 'anymor', 'wont', 'stay', 'charg', 'though', 'cant', 'realli', 'complain', 'phone', 'earpiec', 'doubl', 'extern', 'speaker', 'want', 'play', 'song', 'loud', 'wasnt', 'best', 'doabl', 'year', 'cant', 'realli', 'complain', 'gave', 'teenag', 'replac', 'wait', 'upgrad', 'time', 'phone', 'use', 'crap', 'batteri', 'final', 'isnt', 'keep', 'anymor', 'wont', 'stay', 'charg', 'though', 'cant', 'realli', 'complain', 'phone', 'earpiec', 'doubl', 'extern', 'speaker', 'want', 'play', 'song', 'loud', 'wasnt', 'best', 'doabl', 'year', 'cant', 'realli', 'complain', 'gave', 'teenag', 'replac', 'wait', 'upgrad', 'time', 'phone', 'use', 'crap', 'batteri', 'final', 'isnt', 'keep', 'anymor', 'wont', 'stay', 'charg', 'though', 'cant', 'realli', 'complain', 'phone', 'earpiec', 'doubl', 'extern', 'speaker', 'want', 'play', 'song', 'loud', 'wasnt', 'best', 'doabl', 'year', 'cant', 'realli', 'complain', 'gave', 'teenag', 'replac', 'wait', 'upgrad', 'time', 'phone', 'use', 'crap', 'batteri', 'final', 'isnt', 'keep', 'anymor', 'wont', 'stay', 'charg', 'though', 'cant', 'realli', 'complain', 'phone', 'earpiec', 'doubl', 'extern', 'speaker', 'want', 'play', 'song', 'loud', 'wasnt', 'best', 'doabl', 'year', 'cant', 'realli', 'complain', 'gave', 'teenag', 'replac', 'wait', 'upgrad', 'time', 'phone', 'use', 'crap', 'batteri', 'final', 'isnt', 'keep', 'anymor', 'wont', 'stay', 'charg', 'though', 'cant', 'realli', 'complain', 'phone', 'earpiec', 'doubl', 'extern', 'speaker', 'want', 'play', 'song', 'loud', 'wasnt', 'best', 'doabl', 'year', 'cant', 'realli', 'complain', 'gave', 'teenag', 'replac', 'wait', 'upgrad', 'time', 'phone', 'use', 'crap', 'batteri', 'final', 'isnt', 'keep', 'anymor', 'wont', 'stay', 'charg', 'though', 'cant', 'realli', 'complain', 'phone', 'earpiec', 'doubl', 'extern', 'speaker', 'want', 'play', 'song', 'loud', 'wasnt', 'best', 'doabl', 'year', 'cant', 'realli', 'complain', 'gave', 'teenag', 'replac', 'wait', 'upgrad', 'time', 'phone', 'use', 'crap', 'batteri', 'final', 'isnt', 'keep', 'anymor', 'wont', 'stay', 'charg', 'though', 'cant', 'realli', 'complain', 'phone', 'earpiec', 'doubl', 'extern', 'speaker', 'want', 'play', 'song', 'loud', 'wasnt', 'best', 'doabl', 'year', 'cant', 'realli', 'complain', 'gave', 'teenag', 'replac', 'wait', 'upgrad', 'time', 'phone', 'use', 'crap', 'batteri', 'final', 'isnt', 'keep', 'anymor', 'wont', 'stay', 'charg', 'though', 'cant', 'realli', 'complain', 'phone', 'earpiec', 'doubl', 'extern', 'speaker', 'want', 'play', 'song', 'loud', 'wasnt', 'best', 'doabl', 'year', 'cant', 'realli', 'complain', 'gave', 'teenag', 'replac', 'wait', 'upgrad', 'time', 'phone', 'use', 'crap', 'batteri', 'final', 'isnt', 'keep', 'anymor', 'wont', 'stay', 'charg', 'though', 'cant', 'realli', 'complain', 'phone', 'earpiec', 'doubl', 'extern', 'speaker', 'want', 'play', 'song', 'loud', 'wasnt', 'best', 'doabl', 'year', 'cant', 'realli', 'complain', 'gave', 'teenag', 'replac', 'wait', 'upgrad', 'time', 'phone', 'use', 'crap', 'batteri', 'final', 'isnt', 'keep', 'anymor', 'wont', 'stay', 'charg', 'though', 'cant', 'realli', 'complain', 'phone', 'earpiec', 'doubl', 'extern', 'speaker', 'want', 'play', 'song', 'loud', 'wasnt', 'best', 'doabl', 'year', 'cant', 'realli', 'complain', 'gave', 'teenag', 'replac', 'wait', 'upgrad', 'time', 'phone', 'use', 'crap', 'batteri', 'final', 'isnt', 'keep', 'anymor', 'wont', 'stay', 'charg', 'though', 'cant', 'realli', 'complain', 'phone', 'earpiec', 'doubl', 'extern', 'speaker', 'want', 'play', 'song', 'loud', 'wasnt', 'best', 'doabl', 'year', 'cant', 'realli', 'complain', 'gave', 'teenag', 'replac', 'wait', 'upgrad', 'time', 'phone', 'use', 'crap', 'batteri', 'final', 'isnt', 'keep', 'anymor', 'wont', 'stay', 'charg', 'though', 'cant', 'realli', 'complain', 'phone', 'earpiec', 'doubl', 'extern', 'speaker', 'want', 'play', 'song', 'loud', 'wasnt', 'best', 'doabl', 'year', 'cant', 'realli', 'complain', 'gave', 'teenag', 'replac', 'wait', 'upgrad', 'time', 'phone', 'use', 'crap', 'batteri', 'final', 'isnt', 'keep', 'anymor', 'wont', 'stay', 'charg', 'though', 'cant', 'realli', 'complain', 'phone', 'earpiec', 'doubl', 'extern', 'speaker', 'want', 'play', 'song', 'loud', 'wasnt', 'best', 'doabl', 'year', 'cant', 'realli', 'complain', 'gave', 'teenag', 'replac', 'wait', 'upgrad', 'time', 'phone', 'use', 'crap', 'batteri', 'final', 'isnt', 'keep', 'anymor', 'wont', 'stay', 'charg', 'though', 'cant', 'realli', 'complain', 'phone', 'earpiec', 'doubl', 'extern', 'speaker', 'want', 'play', 'song', 'loud', 'wasnt', 'best', 'doabl', 'year', 'cant', 'realli', 'complain', 'gave', 'teenag', 'replac', 'wait', 'upgrad', 'time', 'phone', 'use', 'crap', 'batteri', 'final', 'isnt', 'keep', 'anymor', 'wont', 'stay', 'charg', 'though', 'cant', 'realli', 'complain', 'phone', 'earpiec', 'doubl', 'extern', 'speaker', 'want', 'play', 'song', 'loud', 'wasnt', 'best', 'doabl', 'year', 'cant', 'realli', 'complain', 'gave', 'teenag', 'replac', 'wait', 'upgrad', 'time', 'phone', 'use', 'crap', 'batteri', 'final', 'isnt', 'keep', 'anymor', 'wont', 'stay', 'charg', 'though', 'cant', 'realli', 'complain', 'phone', 'earpiec', 'doubl', 'extern', 'speaker', 'want', 'play', 'song', 'loud', 'wasnt', 'best', 'doabl', 'year', 'cant', 'realli', 'complain', 'gave', 'teenag', 'replac', 'wait', 'upgrad', 'time', 'phone', 'use', 'crap', 'batteri', 'final', 'isnt', 'keep', 'anymor', 'wont', 'stay', 'charg', 'though', 'cant', 'realli', 'complain', 'phone', 'earpiec', 'doubl', 'extern', 'speaker', 'want', 'play', 'song', 'loud', 'wasnt', 'best', 'doabl', 'year', 'cant', 'realli', 'complain', 'gave', 'teenag', 'replac', 'wait', 'upgrad', 'time', 'phone', 'use', 'crap', 'batteri', 'final', 'isnt', 'keep', 'anymor', 'wont', 'stay', 'charg', 'though', 'cant', 'realli', 'complain', 'phone', 'earpiec', 'doubl', 'extern', 'speaker', 'want', 'play', 'song', 'loud', 'wasnt', 'best', 'doabl', 'year', 'cant', 'realli', 'complain', 'gave', 'teenag', 'replac', 'wait', 'upgrad', 'time', 'phone', 'use', 'crap', 'batteri', 'final', 'isnt', 'keep', 'anymor', 'wont', 'stay', 'charg', 'though', 'cant', 'realli', 'complain', 'phone', 'earpiec', 'doubl', 'extern', 'speaker', 'want', 'play', 'song', 'loud', 'wasnt', 'best', 'doabl', 'year', 'cant', 'realli', 'complain', 'gave', 'teenag', 'replac', 'wait', 'upgrad', 'time', 'phone', 'use', 'crap', 'batteri', 'final', 'isnt', 'keep', 'anymor', 'wont', 'stay', 'charg', 'though', 'cant', 'realli', 'complain', 'phone', 'earpiec', 'doubl', 'extern', 'speaker', 'want', 'play', 'song', 'loud', 'wasnt', 'best', 'doabl', 'year', 'cant', 'realli', 'complain', 'gave', 'teenag', 'replac', 'wait', 'upgrad', 'time', 'phone', 'use', 'crap', 'batteri', 'final', 'isnt', 'keep', 'anymor', 'wont', 'stay', 'charg', 'though', 'cant', 'realli', 'complain', 'phone', 'earpiec', 'doubl', 'extern', 'speaker', 'want', 'play', 'song', 'loud', 'wasnt', 'best', 'doabl', 'year', 'cant', 'realli', 'complain', 'gave', 'teenag', 'replac', 'wait', 'upgrad', 'time', 'phone', 'use', 'crap', 'batteri', 'final', 'isnt', 'keep', 'anymor', 'wont', 'stay', 'charg', 'though', 'cant', 'realli', 'complain', 'phone', 'earpiec', 'doubl', 'extern', 'speaker', 'want', 'play', 'song', 'loud', 'wasnt', 'best', 'doabl', 'year', 'cant', 'realli', 'complain', 'gave', 'teenag', 'replac', 'wait', 'upgrad', 'time', 'phone', 'use', 'crap', 'batteri', 'final', 'isnt', 'keep', 'anymor', 'wont', 'stay', 'charg', 'though', 'cant', 'realli', 'complain', 'phone', 'earpiec', 'doubl', 'extern', 'speaker', 'want', 'play', 'song', 'loud', 'wasnt', 'best', 'doabl', 'year', 'cant', 'realli', 'complain', 'gave', 'teenag', 'replac', 'wait', 'upgrad', 'time', 'phone', 'use', 'crap', 'batteri', 'final', 'isnt', 'keep', 'anymor', 'wont', 'stay', 'charg', 'though', 'cant', 'realli', 'complain', 'phone', 'earpiec', 'doubl', 'extern', 'speaker', 'want', 'play', 'song', 'loud', 'wasnt', 'best', 'doabl', 'year', 'cant', 'realli', 'complain', 'gave', 'teenag', 'replac', 'wait', 'upgrad', 'time', 'phone', 'use', 'crap', 'batteri', 'final', 'isnt', 'keep', 'anymor', 'wont', 'stay', 'charg', 'though', 'cant', 'realli', 'complain', 'phone', 'earpiec', 'doubl', 'extern', 'speaker', 'want', 'play', 'song', 'loud', 'wasnt', 'best', 'doabl', 'year', 'cant', 'realli', 'complain', 'gave', 'teenag', 'replac', 'wait', 'upgrad', 'time', 'phone', 'use', 'crap', 'batteri', 'final', 'isnt', 'keep', 'anymor', 'wont', 'stay', 'charg', 'though', 'cant', 'realli', 'complain', 'phone', 'earpiec', 'doubl', 'extern', 'speaker', 'want', 'play', 'song', 'loud', 'wasnt', 'best', 'doabl', 'year', 'cant', 'realli', 'complain', 'gave', 'teenag', 'replac', 'wait', 'upgrad', 'time', 'phone', 'use', 'crap', 'batteri', 'final', 'isnt', 'keep', 'anymor', 'wont', 'stay', 'charg', 'though', 'cant', 'realli', 'complain', 'phone', 'earpiec', 'doubl', 'extern', 'speaker', 'want', 'play', 'song', 'loud', 'wasnt', 'best', 'doabl', 'year', 'cant', 'realli', 'complain', 'gave', 'teenag', 'replac', 'wait', 'upgrad', 'time', 'phone', 'use', 'crap', 'batteri', 'final', 'isnt', 'keep', 'anymor', 'wont', 'stay', 'charg', 'though', 'cant', 'realli', 'complain', 'phone', 'earpiec', 'doubl', 'extern', 'speaker', 'want', 'play', 'song', 'loud', 'wasnt', 'best', 'doabl', 'year', 'cant', 'realli', 'complain', 'gave', 'teenag', 'replac', 'wait', 'upgrad', 'time', 'phone', 'use', 'crap', 'batteri', 'final', 'isnt', 'keep', 'anymor', 'wont', 'stay', 'charg', 'though', 'cant', 'realli', 'complain', 'phone', 'earpiec', 'doubl', 'extern', 'speaker', 'want', 'play', 'song', 'loud', 'wasnt', 'best', 'doabl', 'year', 'cant', 'realli', 'complain', 'gave', 'teenag', 'replac', 'wait', 'upgrad', 'time', 'phone', 'use', 'crap', 'batteri', 'final', 'isnt', 'keep', 'anymor', 'wont', 'stay', 'charg', 'though', 'cant', 'realli', 'complain', 'phone', 'earpiec', 'doubl', 'extern', 'speaker', 'want', 'play', 'song', 'loud', 'wasnt', 'best', 'doabl', 'year', 'cant', 'realli', 'complain', 'gave', 'teenag', 'replac', 'wait', 'upgrad', 'time', 'phone', 'use', 'crap', 'batteri', 'final', 'isnt', 'keep', 'anymor', 'wont', 'stay', 'charg', 'though', 'cant', 'realli', 'complain', 'phone', 'earpiec', 'doubl', 'extern', 'speaker', 'want', 'play', 'song', 'loud', 'wasnt', 'best', 'doabl', 'year', 'cant', 'realli', 'complain', 'gave', 'teenag', 'replac', 'wait', 'upgrad', 'time', 'phone', 'use', 'crap', 'batteri', 'final', 'isnt', 'keep', 'anymor', 'wont', 'stay', 'charg', 'though', 'cant', 'realli', 'complain', 'phone', 'earpiec', 'doubl', 'extern', 'speaker', 'want', 'play', 'song', 'loud', 'wasnt', 'best', 'doabl', 'year', 'cant', 'realli', 'complain', 'gave', 'teenag', 'replac', 'wait', 'upgrad', 'time', 'phone', 'use', 'crap', 'batteri', 'final', 'isnt', 'keep', 'anymor', 'wont', 'stay', 'charg', 'though', 'cant', 'realli', 'complain', 'phone', 'earpiec', 'doubl', 'extern', 'speaker', 'want', 'play', 'song', 'loud', 'wasnt', 'best', 'doabl', 'year', 'cant', 'realli', 'complain', 'gave', 'teenag', 'replac', 'wait', 'upgrad', 'time', 'phone', 'use', 'crap', 'batteri', 'final', 'isnt', 'keep', 'anymor', 'wont', 'stay', 'charg', 'though', 'cant', 'realli', 'complain', 'phone', 'earpiec', 'doubl', 'extern', 'speaker', 'want', 'play', 'song', 'loud', 'wasnt', 'best', 'doabl', 'year', 'cant', 'realli', 'complain', 'gave', 'teenag', 'replac', 'wait', 'upgrad', 'time', 'phone', 'use', 'crap', 'batteri', 'final', 'isnt', 'keep', 'anymor', 'wont', 'stay', 'charg', 'though', 'cant', 'realli', 'complain', 'phone', 'earpiec', 'doubl', 'extern', 'speaker', 'want', 'play', 'song', 'loud', 'wasnt', 'best', 'doabl', 'year', 'cant', 'realli', 'complain', 'gave', 'teenag', 'replac', 'wait', 'upgrad', 'time', 'phone', 'use', 'crap', 'batteri', 'final', 'isnt', 'keep', 'anymor', 'wont', 'stay', 'charg', 'though', 'cant', 'realli', 'complain', 'phone', 'earpiec', 'doubl', 'extern', 'speaker', 'want', 'play', 'song', 'loud', 'wasnt', 'best', 'doabl', 'year', 'cant', 'realli', 'complain', 'gave', 'teenag', 'replac', 'wait', 'upgrad', 'time', 'phone', 'use', 'crap', 'batteri', 'final', 'isnt', 'keep', 'anymor', 'wont', 'stay', 'charg', 'though', 'cant', 'realli', 'complain', 'phone', 'earpiec', 'doubl', 'extern', 'speaker', 'want', 'play', 'song', 'loud', 'wasnt', 'best', 'doabl', 'year', 'cant', 'realli', 'complain', 'gave', 'teenag', 'replac', 'wait', 'upgrad', 'time', 'phone', 'use', 'crap', 'batteri', 'final', 'isnt', 'keep', 'anymor', 'wont', 'stay', 'charg', 'though', 'cant', 'realli', 'complain', 'phone', 'earpiec', 'doubl', 'extern', 'speaker', 'want', 'play', 'song', 'loud', 'wasnt', 'best', 'doabl', 'year', 'cant', 'realli', 'complain', 'gave', 'teenag', 'replac', 'wait', 'upgrad', 'time', 'phone', 'use', 'crap', 'batteri', 'final', 'isnt', 'keep', 'anymor', 'wont', 'stay', 'charg', 'though', 'cant', 'realli', 'complain', 'phone', 'earpiec', 'doubl', 'extern', 'speaker', 'want', 'play', 'song', 'loud', 'wasnt', 'best', 'doabl', 'year', 'cant', 'realli', 'complain', 'gave', 'teenag', 'replac', 'wait', 'upgrad', 'time', 'phone', 'use', 'crap', 'batteri', 'final', 'isnt', 'keep', 'anymor', 'wont', 'stay', 'charg', 'though', 'cant', 'realli', 'complain', 'phone', 'earpiec', 'doubl', 'extern', 'speaker', 'want', 'play', 'song', 'loud', 'wasnt', 'best', 'doabl', 'year', 'cant', 'realli', 'complain', 'gave', 'teenag', 'replac', 'wait', 'upgrad', 'time', 'phone', 'use', 'crap', 'batteri', 'final', 'isnt', 'keep', 'anymor', 'wont', 'stay', 'charg', 'though', 'cant', 'realli', 'complain', 'phone', 'earpiec', 'doubl', 'extern', 'speaker', 'want', 'play', 'song', 'loud', 'wasnt', 'best', 'doabl', 'year', 'cant', 'realli', 'complain', 'gave', 'teenag', 'replac', 'wait', 'upgrad', 'time', 'phone', 'use', 'crap', 'batteri', 'final', 'isnt', 'keep', 'anymor', 'wont', 'stay', 'charg', 'though', 'cant', 'realli', 'complain', 'phone', 'earpiec', 'doubl', 'extern', 'speaker', 'want', 'play', 'song', 'loud', 'wasnt', 'best', 'doabl', 'year', 'cant', 'realli', 'complain', 'gave', 'teenag', 'replac', 'wait', 'upgrad', 'time', 'phone', 'use', 'crap', 'batteri', 'final', 'isnt', 'keep', 'anymor', 'wont', 'stay', 'charg', 'though', 'cant', 'realli', 'complain', 'phone', 'earpiec', 'doubl', 'extern', 'speaker', 'want', 'play', 'song', 'loud', 'wasnt', 'best', 'doabl', 'year', 'cant', 'realli', 'complain', 'gave', 'teenag', 'replac', 'wait', 'upgrad', 'time', 'phone', 'use', 'crap', 'batteri', 'final', 'isnt', 'keep', 'anymor', 'wont', 'stay', 'charg', 'though', 'cant', 'realli', 'complain', 'phone', 'earpiec', 'doubl', 'extern', 'speaker', 'want', 'play', 'song', 'loud', 'wasnt', 'best', 'doabl', 'year', 'cant', 'realli', 'complain', 'gave', 'teenag', 'replac', 'wait', 'upgrad', 'time', 'phone', 'use', 'crap', 'batteri', 'final', 'isnt', 'keep', 'anymor', 'wont', 'stay', 'charg', 'though', 'cant', 'realli', 'complain', 'phone', 'earpiec', 'doubl', 'extern', 'speaker', 'want', 'play', 'song', 'loud', 'wasnt', 'best', 'doabl', 'year', 'cant', 'realli', 'complain', 'gave', 'teenag', 'replac', 'wait', 'upgrad', 'time', 'phone', 'use', 'crap', 'batteri', 'final', 'isnt', 'keep', 'anymor', 'wont', 'stay', 'charg', 'though', 'cant', 'realli', 'complain', 'phone', 'earpiec', 'doubl', 'extern', 'speaker', 'want', 'play', 'song', 'loud', 'wasnt', 'best', 'doabl', 'year', 'cant', 'realli', 'complain', 'gave', 'teenag', 'replac', 'wait', 'upgrad', 'time', 'phone', 'use', 'crap', 'batteri', 'final', 'isnt', 'keep', 'anymor', 'wont', 'stay', 'charg', 'though', 'cant', 'realli', 'complain', 'phone', 'earpiec', 'doubl', 'extern', 'speaker', 'want', 'play', 'song', 'loud', 'wasnt', 'best', 'doabl', 'year', 'cant', 'realli', 'complain', 'gave', 'teenag', 'replac', 'wait', 'upgrad', 'time', 'phone', 'use', 'crap', 'batteri', 'final', 'isnt', 'keep', 'anymor', 'wont', 'stay', 'charg', 'though', 'cant', 'realli', 'complain', 'phone', 'earpiec', 'doubl', 'extern', 'speaker', 'want', 'play', 'song', 'loud', 'wasnt', 'best', 'doabl', 'year', 'cant', 'realli', 'complain', 'gave', 'teenag', 'replac', 'wait', 'upgrad', 'time', 'phone', 'use', 'crap', 'batteri', 'final', 'isnt', 'keep', 'anymor', 'wont', 'stay', 'charg', 'though', 'cant', 'realli', 'complain', 'phone', 'earpiec', 'doubl', 'extern', 'speaker', 'want', 'play', 'song', 'loud', 'wasnt', 'best', 'doabl', 'year', 'cant', 'realli', 'complain', 'gave', 'teenag', 'replac', 'wait', 'upgrad', 'time', 'phone', 'use', 'crap', 'batteri', 'final', 'isnt', 'keep', 'anymor', 'wont', 'stay', 'charg', 'though', 'cant', 'realli', 'complain', 'phone', 'earpiec', 'doubl', 'extern', 'speaker', 'want', 'play', 'song', 'loud', 'wasnt', 'best', 'doabl', 'year', 'cant', 'realli', 'complain', 'gave', 'teenag', 'replac', 'wait', 'upgrad', 'time', 'phone', 'use', 'crap', 'batteri', 'final', 'isnt', 'keep', 'anymor', 'wont', 'stay', 'charg', 'though', 'cant', 'realli', 'complain', 'phone', 'earpiec', 'doubl', 'extern', 'speaker', 'want', 'play', 'song', 'loud', 'wasnt', 'best', 'doabl', 'year', 'cant', 'realli', 'complain', 'gave', 'teenag', 'replac', 'wait', 'upgrad', 'time', 'phone', 'use', 'crap', 'batteri', 'final', 'isnt', 'keep', 'anymor', 'wont', 'stay', 'charg', 'though', 'cant', 'realli', 'complain', 'phone', 'earpiec', 'doubl', 'extern', 'speaker', 'want', 'play', 'song', 'loud', 'wasnt', 'best', 'doabl', 'year', 'cant', 'realli', 'complain', 'gave', 'teenag', 'replac', 'wait', 'upgrad', 'time', 'phone', 'use', 'crap', 'batteri', 'final', 'isnt', 'keep', 'anymor', 'wont', 'stay', 'charg', 'though', 'cant', 'realli', 'complain', 'phone', 'earpiec', 'doubl', 'extern', 'speaker', 'want', 'play', 'song', 'loud', 'wasnt', 'best', 'doabl', 'year', 'cant', 'realli', 'complain', 'gave', 'teenag', 'replac', 'wait', 'upgrad', 'time', 'phone', 'use', 'crap', 'batteri', 'final', 'isnt', 'keep', 'anymor', 'wont', 'stay', 'charg', 'though', 'cant', 'realli', 'complain', 'phone', 'earpiec', 'doubl', 'extern', 'speaker', 'want', 'play', 'song', 'loud', 'wasnt', 'best', 'doabl', 'year', 'cant', 'realli', 'complain', 'gave', 'teenag', 'replac', 'wait', 'upgrad', 'time', 'phone', 'use', 'crap', 'batteri', 'final', 'isnt', 'keep', 'anymor', 'wont', 'stay', 'charg', 'though', 'cant', 'realli', 'complain', 'phone', 'earpiec', 'doubl', 'extern', 'speaker', 'want', 'play', 'song', 'loud', 'wasnt', 'best', 'doabl', 'year', 'cant', 'realli', 'complain', 'gave', 'teenag', 'replac', 'wait', 'upgrad', 'time', 'phone', 'use', 'crap', 'batteri', 'final', 'isnt', 'keep', 'anymor', 'wont', 'stay', 'charg', 'though', 'cant', 'realli', 'complain', 'phone', 'earpiec', 'doubl', 'extern', 'speaker', 'want', 'play', 'song', 'loud', 'wasnt', 'best', 'doabl', 'year', 'cant', 'realli', 'complain', 'gave', 'teenag', 'replac', 'wait', 'upgrad', 'time', 'phone', 'use', 'crap', 'batteri', 'final', 'isnt', 'keep', 'anymor', 'wont', 'stay', 'charg', 'though', 'cant', 'realli', 'complain', 'phone', 'earpiec', 'doubl', 'extern', 'speaker', 'want', 'play', 'song', 'loud', 'wasnt', 'best', 'doabl', 'year', 'cant', 'realli', 'complain', 'gave', 'teenag', 'replac', 'wait', 'upgrad', 'time', 'phone', 'use', 'crap', 'batteri', 'final', 'isnt', 'keep', 'anymor', 'wont', 'stay', 'charg', 'though', 'cant', 'realli', 'complain', 'phone', 'earpiec', 'doubl', 'extern', 'speaker', 'want', 'play', 'song', 'loud', 'wasnt', 'best', 'doabl', 'year', 'cant', 'realli', 'complain', 'gave', 'teenag', 'replac', 'wait', 'upgrad', 'time', 'phone', 'use', 'crap', 'batteri', 'final', 'isnt', 'keep', 'anymor', 'wont', 'stay', 'charg', 'though', 'cant', 'realli', 'complain', 'phone', 'earpiec', 'doubl', 'extern', 'speaker', 'want', 'play', 'song', 'loud', 'wasnt', 'best', 'doabl', 'year', 'cant', 'realli', 'complain', 'gave', 'teenag', 'replac', 'wait', 'upgrad', 'time', 'phone', 'use', 'crap', 'batteri', 'final', 'isnt', 'keep', 'anymor', 'wont', 'stay', 'charg', 'though', 'cant', 'realli', 'complain', 'phone', 'earpiec', 'doubl', 'extern', 'speaker', 'want', 'play', 'song', 'loud', 'wasnt', 'best', 'doabl', 'year', 'cant', 'realli', 'complain', 'gave', 'teenag', 'replac', 'wait', 'upgrad', 'time', 'phone', 'use', 'crap', 'batteri', 'final', 'isnt', 'keep', 'anymor', 'wont', 'stay', 'charg', 'though', 'cant', 'realli', 'complain', 'phone', 'earpiec', 'doubl', 'extern', 'speaker', 'want', 'play', 'song', 'loud', 'wasnt', 'best', 'doabl', 'year', 'cant', 'realli', 'complain', 'gave', 'teenag', 'replac', 'wait', 'upgrad', 'time', 'phone', 'use', 'crap', 'batteri', 'final', 'isnt', 'keep', 'anymor', 'wont', 'stay', 'charg', 'though', 'cant', 'realli', 'complain', 'phone', 'earpiec', 'doubl', 'extern', 'speaker', 'want', 'play', 'song', 'loud', 'wasnt', 'best', 'doabl', 'year', 'cant', 'realli', 'complain', 'gave', 'teenag', 'replac', 'wait', 'upgrad', 'time', 'phone', 'use', 'crap', 'batteri', 'final', 'isnt', 'keep', 'anymor', 'wont', 'stay', 'charg', 'though', 'cant', 'realli', 'complain', 'phone', 'earpiec', 'doubl', 'extern', 'speaker', 'want', 'play', 'song', 'loud', 'wasnt', 'best', 'doabl', 'year', 'cant', 'realli', 'complain', 'gave', 'teenag', 'replac', 'wait', 'upgrad', 'time', 'phone', 'use', 'crap', 'batteri', 'final', 'isnt', 'keep', 'anymor', 'wont', 'stay', 'charg', 'though', 'cant', 'realli', 'complain', 'phone', 'earpiec', 'doubl', 'extern', 'speaker', 'want', 'play', 'song', 'loud', 'wasnt', 'best', 'doabl', 'year', 'cant', 'realli', 'complain', 'gave', 'teenag', 'replac', 'wait', 'upgrad', 'time', 'phone', 'use', 'crap', 'batteri', 'final', 'isnt', 'keep', 'anymor', 'wont', 'stay', 'charg', 'though', 'cant', 'realli', 'complain', 'phone', 'earpiec', 'doubl', 'extern', 'speaker', 'want', 'play', 'song', 'loud', 'wasnt', 'best', 'doabl', 'year', 'cant', 'realli', 'complain', 'gave', 'teenag', 'replac', 'wait', 'upgrad', 'time', 'phone', 'use', 'crap', 'batteri', 'final', 'isnt', 'keep', 'anymor', 'wont', 'stay', 'charg', 'though', 'cant', 'realli', 'complain', 'phone', 'earpiec', 'doubl', 'extern', 'speaker', 'want', 'play', 'song', 'loud', 'wasnt', 'best', 'doabl', 'year', 'cant', 'realli', 'complain', 'gave', 'teenag', 'replac', 'wait', 'upgrad', 'time', 'phone', 'use', 'crap', 'batteri', 'final', 'isnt', 'keep', 'anymor', 'wont', 'stay', 'charg', 'though', 'cant', 'realli', 'complain', 'phone', 'earpiec', 'doubl', 'extern', 'speaker', 'want', 'play', 'song', 'loud', 'wasnt', 'best', 'doabl', 'year', 'cant', 'realli', 'complain', 'gave', 'teenag', 'replac', 'wait', 'upgrad', 'time', 'phone', 'use', 'crap', 'batteri', 'final', 'isnt', 'keep', 'anymor', 'wont', 'stay', 'charg', 'though', 'cant', 'realli', 'complain', 'phone', 'earpiec', 'doubl', 'extern', 'speaker', 'want', 'play', 'song', 'loud', 'wasnt', 'best', 'doabl', 'year', 'cant', 'realli', 'complain', 'gave', 'teenag', 'replac', 'wait', 'upgrad', 'time', 'phone', 'use', 'crap', 'batteri', 'final', 'isnt', 'keep', 'anymor', 'wont', 'stay', 'charg', 'though', 'cant', 'realli', 'complain', 'phone', 'earpiec', 'doubl', 'extern', 'speaker', 'want', 'play', 'song', 'loud', 'wasnt', 'best', 'doabl', 'year', 'cant', 'realli', 'complain', 'gave', 'teenag', 'replac', 'wait', 'upgrad', 'time', 'phone', 'use', 'crap', 'batteri', 'final', 'isnt', 'keep', 'anymor', 'wont', 'stay', 'charg', 'though', 'cant', 'realli', 'complain', 'phone', 'earpiec', 'doubl', 'extern', 'speaker', 'want', 'play', 'song', 'loud', 'wasnt', 'best', 'doabl', 'year', 'cant', 'realli', 'complain', 'gave', 'teenag', 'replac', 'wait', 'upgrad', 'time', 'phone', 'use', 'crap', 'batteri', 'final', 'isnt', 'keep', 'anymor', 'wont', 'stay', 'charg', 'though', 'cant', 'realli', 'complain', 'phone', 'earpiec', 'doubl', 'extern', 'speaker', 'want', 'play', 'song', 'loud', 'wasnt', 'best', 'doabl', 'year', 'cant', 'realli', 'complain', 'gave', 'teenag', 'replac', 'wait', 'upgrad', 'time', 'phone', 'use', 'crap', 'batteri', 'final', 'isnt', 'keep', 'anymor', 'wont', 'stay', 'charg', 'though', 'cant', 'realli', 'complain', 'phone', 'earpiec', 'doubl', 'extern', 'speaker', 'want', 'play', 'song', 'loud', 'wasnt', 'best', 'doabl', 'year', 'cant', 'realli', 'complain', 'gave', 'teenag', 'replac', 'wait', 'upgrad', 'time', 'phone', 'use', 'crap', 'batteri', 'final', 'isnt', 'keep', 'anymor', 'wont', 'stay', 'charg', 'though', 'cant', 'realli', 'complain', 'phone', 'earpiec', 'doubl', 'extern', 'speaker', 'want', 'play', 'song', 'loud', 'wasnt', 'best', 'doabl', 'year', 'cant', 'realli', 'complain', 'gave', 'teenag', 'replac', 'wait', 'upgrad', 'time', 'phone', 'use', 'crap', 'batteri', 'final', 'isnt', 'keep', 'anymor', 'wont', 'stay', 'charg', 'though', 'cant', 'realli', 'complain', 'phone', 'earpiec', 'doubl', 'extern', 'speaker', 'want', 'play', 'song', 'loud', 'wasnt', 'best', 'doabl', 'year', 'cant', 'realli', 'complain', 'gave', 'teenag', 'replac', 'wait', 'upgrad', 'time', 'phone', 'use', 'crap', 'batteri', 'final', 'isnt', 'keep', 'anymor', 'wont', 'stay', 'charg', 'though', 'cant', 'realli', 'complain', 'phone', 'earpiec', 'doubl', 'extern', 'speaker', 'want', 'play', 'song', 'loud', 'wasnt', 'best', 'doabl', 'year', 'cant', 'realli', 'complain', 'gave', 'teenag', 'replac', 'wait', 'upgrad', 'time', 'phone', 'use', 'crap', 'batteri', 'final', 'isnt', 'keep', 'anymor', 'wont', 'stay', 'charg', 'though', 'cant', 'realli', 'complain', 'phone', 'earpiec', 'doubl', 'extern', 'speaker', 'want', 'play', 'song', 'loud', 'wasnt', 'best', 'doabl', 'year', 'cant', 'realli', 'complain', 'gave', 'teenag', 'replac', 'wait', 'upgrad', 'time', 'phone', 'use', 'crap', 'batteri', 'final', 'isnt', 'keep', 'anymor', 'wont', 'stay', 'charg', 'though', 'cant', 'realli', 'complain', 'phone', 'earpiec', 'doubl', 'extern', 'speaker', 'want', 'play', 'song', 'loud', 'wasnt', 'best', 'doabl', 'year', 'cant', 'realli', 'complain', 'gave', 'teenag', 'replac', 'wait', 'upgrad', 'time', 'phone', 'use', 'crap', 'batteri', 'final', 'isnt', 'keep', 'anymor', 'wont', 'stay', 'charg', 'though', 'cant', 'realli', 'complain', 'phone', 'earpiec', 'doubl', 'extern', 'speaker', 'want', 'play', 'song', 'loud', 'wasnt', 'best', 'doabl', 'year', 'cant', 'realli', 'complain', 'gave', 'teenag', 'replac', 'wait', 'upgrad', 'time', 'phone', 'use', 'crap', 'batteri', 'final', 'isnt', 'keep', 'anymor', 'wont', 'stay', 'charg', 'though', 'cant', 'realli', 'complain', 'phone', 'earpiec', 'doubl', 'extern', 'speaker', 'want', 'play', 'song', 'loud', 'wasnt', 'best', 'doabl', 'year', 'cant', 'realli', 'complain', 'gave', 'teenag', 'replac', 'wait', 'upgrad', 'time', 'phone', 'use', 'crap', 'batteri', 'final', 'isnt', 'keep', 'anymor', 'wont', 'stay', 'charg', 'though', 'cant', 'realli', 'complain', 'phone', 'earpiec', 'doubl', 'extern', 'speaker', 'want', 'play', 'song', 'loud', 'wasnt', 'best', 'doabl', 'year', 'cant', 'realli', 'complain', 'gave', 'teenag', 'replac', 'wait', 'upgrad', 'time', 'phone', 'use', 'crap', 'batteri', 'final', 'isnt', 'keep', 'anymor', 'wont', 'stay', 'charg', 'though', 'cant', 'realli', 'complain', 'phone', 'earpiec', 'doubl', 'extern', 'speaker', 'want', 'play', 'song', 'loud', 'wasnt', 'best', 'doabl', 'year', 'cant', 'realli', 'complain', 'gave', 'teenag', 'replac', 'wait', 'upgrad', 'time', 'phone', 'use', 'crap', 'batteri', 'final', 'isnt', 'keep', 'anymor', 'wont', 'stay', 'charg', 'though', 'cant', 'realli', 'complain', 'phone', 'earpiec', 'doubl', 'extern', 'speaker', 'want', 'play', 'song', 'loud', 'wasnt', 'best', 'doabl', 'year', 'cant', 'realli', 'complain', 'gave', 'teenag', 'replac', 'wait', 'upgrad', 'time', 'phone', 'use', 'crap', 'batteri', 'final', 'isnt', 'keep', 'anymor', 'wont', 'stay', 'charg', 'though', 'cant', 'realli', 'complain', 'phone', 'earpiec', 'doubl', 'extern', 'speaker', 'want', 'play', 'song', 'loud', 'wasnt', 'best', 'doabl', 'year', 'cant', 'realli', 'complain', 'gave', 'teenag', 'replac', 'wait', 'upgrad', 'time', 'phone', 'use', 'crap', 'batteri', 'final', 'isnt', 'keep', 'anymor', 'wont', 'stay', 'charg', 'though', 'cant', 'realli', 'complain', 'phone', 'earpiec', 'doubl', 'extern', 'speaker', 'want', 'play', 'song', 'loud', 'wasnt', 'best', 'doabl', 'year', 'cant', 'realli', 'complain', 'gave', 'teenag', 'replac', 'wait', 'upgrad', 'time', 'phone', 'use', 'crap', 'batteri', 'final', 'isnt', 'keep', 'anymor', 'wont', 'stay', 'charg', 'though', 'cant', 'realli', 'complain', 'phone', 'earpiec', 'doubl', 'extern', 'speaker', 'want', 'play', 'song', 'loud', 'wasnt', 'best', 'doabl', 'year', 'cant', 'realli', 'complain', 'gave', 'teenag', 'replac', 'wait', 'upgrad', 'time', 'phone', 'use', 'crap', 'batteri', 'final', 'isnt', 'keep', 'anymor', 'wont', 'stay', 'charg', 'though', 'cant', 'realli', 'complain', 'phone', 'earpiec', 'doubl', 'extern', 'speaker', 'want', 'play', 'song', 'loud', 'wasnt', 'best', 'doabl', 'year', 'cant', 'realli', 'complain', 'gave', 'teenag', 'replac', 'wait', 'upgrad', 'time', 'phone', 'use', 'crap', 'batteri', 'final', 'isnt', 'keep', 'anymor', 'wont', 'stay', 'charg', 'though', 'cant', 'realli', 'complain', 'phone', 'earpiec', 'doubl', 'extern', 'speaker', 'want', 'play', 'song', 'loud', 'wasnt', 'best', 'doabl', 'year', 'cant', 'realli', 'complain', 'gave', 'teenag', 'replac', 'wait', 'upgrad', 'time', 'phone', 'use', 'crap', 'batteri', 'final', 'isnt', 'keep', 'anymor', 'wont', 'stay', 'charg', 'though', 'cant', 'realli', 'complain', 'phone', 'earpiec', 'doubl', 'extern', 'speaker', 'want', 'play', 'song', 'loud', 'wasnt', 'best', 'doabl', 'year', 'cant', 'realli', 'complain', 'gave', 'teenag', 'replac', 'wait', 'upgrad', 'time', 'phone', 'use', 'crap', 'batteri', 'final', 'isnt', 'keep', 'anymor', 'wont', 'stay', 'charg', 'though', 'cant', 'realli', 'complain', 'phone', 'earpiec', 'doubl', 'extern', 'speaker', 'want', 'play', 'song', 'loud', 'wasnt', 'best', 'doabl', 'year', 'cant', 'realli', 'complain', 'gave', 'teenag', 'replac', 'wait', 'upgrad', 'time', 'phone', 'use', 'crap', 'batteri', 'final', 'isnt', 'keep', 'anymor', 'wont', 'stay', 'charg', 'though', 'cant', 'realli', 'complain', 'phone', 'earpiec', 'doubl', 'extern', 'speaker', 'want', 'play', 'song', 'loud', 'wasnt', 'best', 'doabl', 'year', 'cant', 'realli', 'complain', 'gave', 'teenag', 'replac', 'wait', 'upgrad', 'time', 'phone', 'use', 'crap', 'batteri', 'final', 'isnt', 'keep', 'anymor', 'wont', 'stay', 'charg', 'though', 'cant', 'realli', 'complain', 'phone', 'earpiec', 'doubl', 'extern', 'speaker', 'want', 'play', 'song', 'loud', 'wasnt', 'best', 'doabl', 'year', 'cant', 'realli', 'complain', 'gave', 'teenag', 'replac', 'wait', 'upgrad', 'time', 'phone', 'use', 'crap', 'batteri', 'final', 'isnt', 'keep', 'anymor', 'wont', 'stay', 'charg', 'though', 'cant', 'realli', 'complain', 'phone', 'earpiec', 'doubl', 'extern', 'speaker', 'want', 'play', 'song', 'loud', 'wasnt', 'best', 'doabl', 'year', 'cant', 'realli', 'complain', 'gave', 'teenag', 'replac', 'wait', 'upgrad', 'time', 'phone', 'use', 'crap', 'batteri', 'final', 'isnt', 'keep', 'anymor', 'wont', 'stay', 'charg', 'though', 'cant', 'realli', 'complain', 'phone', 'earpiec', 'doubl', 'extern', 'speaker', 'want', 'play', 'song', 'loud', 'wasnt', 'best', 'doabl', 'year', 'cant', 'realli', 'complain', 'gave', 'teenag', 'replac', 'wait', 'upgrad', 'time', 'phone', 'use', 'crap', 'batteri', 'final', 'isnt', 'keep', 'anymor', 'wont', 'stay', 'charg', 'though', 'cant', 'realli', 'complain', 'phone', 'earpiec', 'doubl', 'extern', 'speaker', 'want', 'play', 'song', 'loud', 'wasnt', 'best', 'doabl', 'year', 'cant', 'realli', 'complain', 'gave', 'teenag', 'replac', 'wait', 'upgrad', 'time', 'phone', 'use', 'crap', 'batteri', 'final', 'isnt', 'keep', 'anymor', 'wont', 'stay', 'charg', 'though', 'cant', 'realli', 'complain', 'phone', 'earpiec', 'doubl', 'extern', 'speaker', 'want', 'play', 'song', 'loud', 'wasnt', 'best', 'doabl', 'year', 'cant', 'realli', 'complain', 'gave', 'teenag', 'replac', 'wait', 'upgrad', 'time', 'phone', 'use', 'crap', 'batteri', 'final', 'isnt', 'keep', 'anymor', 'wont', 'stay', 'charg', 'though', 'cant', 'realli', 'complain', 'phone', 'earpiec', 'doubl', 'extern', 'speaker', 'want', 'play', 'song', 'loud', 'wasnt', 'best', 'doabl', 'year', 'cant', 'realli', 'complain', 'gave', 'teenag', 'replac', 'wait', 'upgrad', 'time', 'phone', 'use', 'crap', 'batteri', 'final', 'isnt', 'keep', 'anymor', 'wont', 'stay', 'charg', 'though', 'cant', 'realli', 'complain', 'phone', 'earpiec', 'doubl', 'extern', 'speaker', 'want', 'play', 'song', 'loud', 'wasnt', 'best', 'doabl', 'year', 'cant', 'realli', 'complain', 'gave', 'teenag', 'replac', 'wait', 'upgrad', 'time', 'phone', 'use', 'crap', 'batteri', 'final', 'isnt', 'keep', 'anymor', 'wont', 'stay', 'charg', 'though', 'cant', 'realli', 'complain', 'phone', 'earpiec', 'doubl', 'extern', 'speaker', 'want', 'play', 'song', 'loud', 'wasnt', 'best', 'doabl', 'year', 'cant', 'realli', 'complain', 'gave', 'teenag', 'replac', 'wait', 'upgrad', 'time', 'phone', 'use', 'crap', 'batteri', 'final', 'isnt', 'keep', 'anymor', 'wont', 'stay', 'charg', 'though', 'cant', 'realli', 'complain', 'phone', 'earpiec', 'doubl', 'extern', 'speaker', 'want', 'play', 'song', 'loud', 'wasnt', 'best', 'doabl', 'year', 'cant', 'realli', 'complain', 'gave', 'teenag', 'replac', 'wait', 'upgrad', 'time', 'phone', 'use', 'crap', 'batteri', 'final', 'isnt', 'keep', 'anymor', 'wont', 'stay', 'charg', 'though', 'cant', 'realli', 'complain', 'phone', 'earpiec', 'doubl', 'extern', 'speaker', 'want', 'play', 'song', 'loud', 'wasnt', 'best', 'doabl', 'year', 'cant', 'realli', 'complain', 'gave', 'teenag', 'replac', 'wait', 'upgrad', 'time', 'phone', 'use', 'crap', 'batteri', 'final', 'isnt', 'keep', 'anymor', 'wont', 'stay', 'charg', 'though', 'cant', 'realli', 'complain', 'phone', 'earpiec', 'doubl', 'extern', 'speaker', 'want', 'play', 'song', 'loud', 'wasnt', 'best', 'doabl', 'year', 'cant', 'realli', 'complain', 'gave', 'teenag', 'replac', 'wait', 'upgrad', 'time', 'phone', 'use', 'crap', 'batteri', 'final', 'isnt', 'keep', 'anymor', 'wont', 'stay', 'charg', 'though', 'cant', 'realli', 'complain', 'phone', 'earpiec', 'doubl', 'extern', 'speaker', 'want', 'play', 'song', 'loud', 'wasnt', 'best', 'doabl', 'year', 'cant', 'realli', 'complain', 'gave', 'teenag', 'replac', 'wait', 'upgrad', 'time', 'phone', 'use', 'crap', 'batteri', 'final', 'isnt', 'keep', 'anymor', 'wont', 'stay', 'charg', 'though', 'cant', 'realli', 'complain', 'phone', 'earpiec', 'doubl', 'extern', 'speaker', 'want', 'play', 'song', 'loud', 'wasnt', 'best', 'doabl', 'year', 'cant', 'realli', 'complain', 'gave', 'teenag', 'replac', 'wait', 'upgrad', 'time', 'phone', 'use', 'crap', 'batteri', 'final', 'isnt', 'keep', 'anymor', 'wont', 'stay', 'charg', 'though', 'cant', 'realli', 'complain', 'phone', 'earpiec', 'doubl', 'extern', 'speaker', 'want', 'play', 'song', 'loud', 'wasnt', 'best', 'doabl', 'year', 'cant', 'realli', 'complain', 'gave', 'teenag', 'replac', 'wait', 'upgrad', 'time', 'phone', 'use', 'crap', 'batteri', 'final', 'isnt', 'keep', 'anymor', 'wont', 'stay', 'charg', 'though', 'cant', 'realli', 'complain', 'phone', 'earpiec', 'doubl', 'extern', 'speaker', 'want', 'play', 'song', 'loud', 'wasnt', 'best', 'doabl', 'year', 'cant', 'realli', 'complain', 'gave', 'teenag', 'replac', 'wait', 'upgrad', 'time', 'phone', 'use', 'crap', 'batteri', 'final', 'isnt', 'keep', 'anymor', 'wont', 'stay', 'charg', 'though', 'cant', 'realli', 'complain', 'phone', 'earpiec', 'doubl', 'extern', 'speaker', 'want', 'play', 'song', 'loud', 'wasnt', 'best', 'doabl', 'year', 'cant', 'realli', 'complain', 'gave', 'teenag', 'replac', 'wait', 'upgrad', 'time', 'phone', 'use', 'crap', 'batteri', 'final', 'isnt', 'keep', 'anymor', 'wont', 'stay', 'charg', 'though', 'cant', 'realli', 'complain', 'phone', 'earpiec', 'doubl', 'extern', 'speaker', 'want', 'play', 'song', 'loud', 'wasnt', 'best', 'doabl', 'year', 'cant', 'realli', 'complain', 'gave', 'teenag', 'replac', 'wait', 'upgrad', 'time', 'phone', 'use', 'crap', 'batteri', 'final', 'isnt', 'keep', 'anymor', 'wont', 'stay', 'charg', 'though', 'cant', 'realli', 'complain', 'phone', 'earpiec', 'doubl', 'extern', 'speaker', 'want', 'play', 'song', 'loud', 'wasnt', 'best', 'doabl', 'year', 'cant', 'realli', 'complain', 'gave', 'teenag', 'replac', 'wait', 'upgrad', 'time', 'phone', 'use', 'crap', 'batteri', 'final', 'isnt', 'keep', 'anymor', 'wont', 'stay', 'charg', 'though', 'cant', 'realli', 'complain', 'phone', 'earpiec', 'doubl', 'extern', 'speaker', 'want', 'play', 'song', 'loud', 'wasnt', 'best', 'doabl', 'year', 'cant', 'realli', 'complain', 'gave', 'teenag', 'replac', 'wait', 'upgrad', 'time', 'phone', 'use', 'crap', 'batteri', 'final', 'isnt', 'keep', 'anymor', 'wont', 'stay', 'charg', 'though', 'cant', 'realli', 'complain', 'phone', 'earpiec', 'doubl', 'extern', 'speaker', 'want', 'play', 'song', 'loud', 'wasnt', 'best', 'doabl', 'year', 'cant', 'realli', 'complain', 'gave', 'teenag', 'replac', 'wait', 'upgrad', 'time', 'phone', 'use', 'crap', 'batteri', 'final', 'isnt', 'keep', 'anymor', 'wont', 'stay', 'charg', 'though', 'cant', 'realli', 'complain', 'phone', 'earpiec', 'doubl', 'extern', 'speaker', 'want', 'play', 'song', 'loud', 'wasnt', 'best', 'doabl', 'year', 'cant', 'realli', 'complain', 'gave', 'teenag', 'replac', 'wait', 'upgrad', 'time', 'phone', 'use', 'crap', 'batteri', 'final', 'isnt', 'keep', 'anymor', 'wont', 'stay', 'charg', 'though', 'cant', 'realli', 'complain', 'phone', 'earpiec', 'doubl', 'extern', 'speaker', 'want', 'play', 'song', 'loud', 'wasnt', 'best', 'doabl', 'year', 'cant', 'realli', 'complain', 'gave', 'teenag', 'replac', 'wait', 'upgrad', 'time', 'phone', 'use', 'crap', 'batteri', 'final', 'isnt', 'keep', 'anymor', 'wont', 'stay', 'charg', 'though', 'cant', 'realli', 'complain', 'phone', 'earpiec', 'doubl', 'extern', 'speaker', 'want', 'play', 'song', 'loud', 'wasnt', 'best', 'doabl', 'year', 'cant', 'realli', 'complain', 'gave', 'teenag', 'replac', 'wait', 'upgrad', 'time', 'phone', 'use', 'crap', 'batteri', 'final', 'isnt', 'keep', 'anymor', 'wont', 'stay', 'charg', 'though', 'cant', 'realli', 'complain', 'phone', 'earpiec', 'doubl', 'extern', 'speaker', 'want', 'play', 'song', 'loud', 'wasnt', 'best', 'doabl', 'year', 'cant', 'realli', 'complain', 'gave', 'teenag', 'replac', 'wait', 'upgrad', 'time', 'phone', 'use', 'crap', 'batteri', 'final', 'isnt', 'keep', 'anymor', 'wont', 'stay', 'charg', 'though', 'cant', 'realli', 'complain', 'phone', 'earpiec', 'doubl', 'extern', 'speaker', 'want', 'play', 'song', 'loud', 'wasnt', 'best', 'doabl', 'year', 'cant', 'realli', 'complain', 'gave', 'teenag', 'replac', 'wait', 'upgrad', 'time', 'phone', 'use', 'crap', 'batteri', 'final', 'isnt', 'keep', 'anymor', 'wont', 'stay', 'charg', 'though', 'cant', 'realli', 'complain', 'phone', 'earpiec', 'doubl', 'extern', 'speaker', 'want', 'play', 'song', 'loud', 'wasnt', 'best', 'doabl', 'year', 'cant', 'realli', 'complain', 'gave', 'teenag', 'replac', 'wait', 'upgrad', 'time', 'phone', 'use', 'crap', 'batteri', 'final', 'isnt', 'keep', 'anymor', 'wont', 'stay', 'charg', 'though', 'cant', 'realli', 'complain', 'phone', 'earpiec', 'doubl', 'extern', 'speaker', 'want', 'play', 'song', 'loud', 'wasnt', 'best', 'doabl', 'year', 'cant', 'realli', 'complain', 'gave', 'teenag', 'replac', 'wait', 'upgrad', 'time', 'phone', 'use', 'crap', 'batteri', 'final', 'isnt', 'keep', 'anymor', 'wont', 'stay', 'charg', 'though', 'cant', 'realli', 'complain', 'phone', 'earpiec', 'doubl', 'extern', 'speaker', 'want', 'play', 'song', 'loud', 'wasnt', 'best', 'doabl', 'year', 'cant', 'realli', 'complain', 'gave', 'teenag', 'replac', 'wait', 'upgrad', 'time', 'phone', 'use', 'crap', 'batteri', 'final', 'isnt', 'keep', 'anymor', 'wont', 'stay', 'charg', 'though', 'cant', 'realli', 'complain', 'phone', 'earpiec', 'doubl', 'extern', 'speaker', 'want', 'play', 'song', 'loud', 'wasnt', 'best', 'doabl', 'year', 'cant', 'realli', 'complain', 'gave', 'teenag', 'replac', 'wait', 'upgrad', 'time', 'phone', 'use', 'crap', 'batteri', 'final', 'isnt', 'keep', 'anymor', 'wont', 'stay', 'charg', 'though', 'cant', 'realli', 'complain', 'phone', 'earpiec', 'doubl', 'extern', 'speaker', 'want', 'play', 'song', 'loud', 'wasnt', 'best', 'doabl', 'year', 'cant', 'realli', 'complain', 'gave', 'teenag', 'replac', 'wait', 'upgrad', 'time', 'phone', 'use', 'crap', 'batteri', 'final', 'isnt', 'keep', 'anymor', 'wont', 'stay', 'charg', 'though', 'cant', 'realli', 'complain', 'phone', 'earpiec', 'doubl', 'extern', 'speaker', 'want', 'play', 'song', 'loud', 'wasnt', 'best', 'doabl', 'year', 'cant', 'realli', 'complain', 'gave', 'teenag', 'replac', 'wait', 'upgrad', 'time', 'phone', 'use', 'crap', 'batteri', 'final', 'isnt', 'keep', 'anymor', 'wont', 'stay', 'charg', 'though', 'cant', 'realli', 'complain', 'phone', 'earpiec', 'doubl', 'extern', 'speaker', 'want', 'play', 'song', 'loud', 'wasnt', 'best', 'doabl', 'year', 'cant', 'realli', 'complain', 'gave', 'teenag', 'replac', 'wait', 'upgrad', 'time', 'phone', 'use', 'crap', 'batteri', 'final', 'isnt', 'keep', 'anymor', 'wont', 'stay', 'charg', 'though', 'cant', 'realli', 'complain', 'phone', 'earpiec', 'doubl', 'extern', 'speaker', 'want', 'play', 'song', 'loud', 'wasnt', 'best', 'doabl', 'year', 'cant', 'realli', 'complain', 'gave', 'teenag', 'replac', 'wait', 'upgrad', 'time', 'phone', 'use', 'crap', 'batteri', 'final', 'isnt', 'keep', 'anymor', 'wont', 'stay', 'charg', 'though', 'cant', 'realli', 'complain', 'phone', 'earpiec', 'doubl', 'extern', 'speaker', 'want', 'play', 'song', 'loud', 'wasnt', 'best', 'doabl', 'year', 'cant', 'realli', 'complain', 'gave', 'teenag', 'replac', 'wait', 'upgrad', 'time', 'phone', 'use', 'crap', 'batteri', 'final', 'isnt', 'keep', 'anymor', 'wont', 'stay', 'charg', 'though', 'cant', 'realli', 'complain', 'phone', 'earpiec', 'doubl', 'extern', 'speaker', 'want', 'play', 'song', 'loud', 'wasnt', 'best', 'doabl', 'year', 'cant', 'realli', 'complain', 'gave', 'teenag', 'replac', 'wait', 'upgrad', 'time', 'phone', 'use', 'crap', 'batteri', 'final', 'isnt', 'keep', 'anymor', 'wont', 'stay', 'charg', 'though', 'cant', 'realli', 'complain', 'phone', 'earpiec', 'doubl', 'extern', 'speaker', 'want', 'play', 'song', 'loud', 'wasnt', 'best', 'doabl', 'year', 'cant', 'realli', 'complain', 'gave', 'teenag', 'replac', 'wait', 'upgrad', 'time', 'phone', 'use', 'crap', 'batteri', 'final', 'isnt', 'keep', 'anymor', 'wont', 'stay', 'charg', 'though', 'cant', 'realli', 'complain', 'phone', 'earpiec', 'doubl', 'extern', 'speaker', 'want', 'play', 'song', 'loud', 'wasnt', 'best', 'doabl', 'year', 'cant', 'realli', 'complain', 'gave', 'teenag', 'replac', 'wait', 'upgrad', 'time', 'phone', 'use', 'crap', 'batteri', 'final', 'isnt', 'keep', 'anymor', 'wont', 'stay', 'charg', 'though', 'cant', 'realli', 'complain', 'phone', 'earpiec', 'doubl', 'extern', 'speaker', 'want', 'play', 'song', 'loud', 'wasnt', 'best', 'doabl', 'year', 'cant', 'realli', 'complain', 'gave', 'teenag', 'replac', 'wait', 'upgrad', 'time', 'phone', 'use', 'crap', 'batteri', 'final', 'isnt', 'keep', 'anymor', 'wont', 'stay', 'charg', 'though', 'cant', 'realli', 'complain', 'phone', 'earpiec', 'doubl', 'extern', 'speaker', 'want', 'play', 'song', 'loud', 'wasnt', 'best', 'doabl', 'year', 'cant', 'realli', 'complain', 'gave', 'teenag', 'replac', 'wait', 'upgrad', 'time', 'phone', 'use', 'crap', 'batteri', 'final', 'isnt', 'keep', 'anymor', 'wont', 'stay', 'charg', 'though', 'cant', 'realli', 'complain', 'phone', 'earpiec', 'doubl', 'extern', 'speaker', 'want', 'play', 'song', 'loud', 'wasnt', 'best', 'doabl', 'year', 'cant', 'realli', 'complain', 'gave', 'teenag', 'replac', 'wait', 'upgrad', 'time', 'phone', 'use', 'crap', 'batteri', 'final', 'isnt', 'keep', 'anymor', 'wont', 'stay', 'charg', 'though', 'cant', 'realli', 'complain', 'phone', 'earpiec', 'doubl', 'extern', 'speaker', 'want', 'play', 'song', 'loud', 'wasnt', 'best', 'doabl', 'year', 'cant', 'realli', 'complain', 'gave', 'teenag', 'replac', 'wait', 'upgrad', 'time', 'phone', 'use', 'crap', 'batteri', 'final', 'isnt', 'keep', 'anymor', 'wont', 'stay', 'charg', 'though', 'cant', 'realli', 'complain', 'phone', 'earpiec', 'doubl', 'extern', 'speaker', 'want', 'play', 'song', 'loud', 'wasnt', 'best', 'doabl', 'year', 'cant', 'realli', 'complain', 'gave', 'teenag', 'replac', 'wait', 'upgrad', 'time', 'phone', 'use', 'crap', 'batteri', 'final', 'isnt', 'keep', 'anymor', 'wont', 'stay', 'charg', 'though', 'cant', 'realli', 'complain', 'phone', 'earpiec', 'doubl', 'extern', 'speaker', 'want', 'play', 'song', 'loud', 'wasnt', 'best', 'doabl', 'year', 'cant', 'realli', 'complain', 'gave', 'teenag', 'replac', 'wait', 'upgrad', 'time', 'phone', 'use', 'crap', 'batteri', 'final', 'isnt', 'keep', 'anymor', 'wont', 'stay', 'charg', 'though', 'cant', 'realli', 'complain', 'phone', 'earpiec', 'doubl', 'extern', 'speaker', 'want', 'play', 'song', 'loud', 'wasnt', 'best', 'doabl', 'year', 'cant', 'realli', 'complain', 'gave', 'teenag', 'replac', 'wait', 'upgrad', 'time', 'phone', 'use', 'crap', 'batteri', 'final', 'isnt', 'keep', 'anymor', 'wont', 'stay', 'charg', 'though', 'cant', 'realli', 'complain', 'phone', 'earpiec', 'doubl', 'extern', 'speaker', 'want', 'play', 'song', 'loud', 'wasnt', 'best', 'doabl', 'year', 'cant', 'realli', 'complain', 'gave', 'teenag', 'replac', 'wait', 'upgrad', 'time', 'phone', 'use', 'crap', 'batteri', 'final', 'isnt', 'keep', 'anymor', 'wont', 'stay', 'charg', 'though', 'cant', 'realli', 'complain', 'phone', 'earpiec', 'doubl', 'extern', 'speaker', 'want', 'play', 'song', 'loud', 'wasnt', 'best', 'doabl', 'year', 'cant', 'realli', 'complain', 'gave', 'teenag', 'replac', 'wait', 'upgrad', 'time', 'phone', 'use', 'crap', 'batteri', 'final', 'isnt', 'keep', 'anymor', 'wont', 'stay', 'charg', 'though', 'cant', 'realli', 'complain', 'phone', 'earpiec', 'doubl', 'extern', 'speaker', 'want', 'play', 'song', 'loud', 'wasnt', 'best', 'doabl', 'year', 'cant', 'realli', 'complain', 'gave', 'teenag', 'replac', 'wait', 'upgrad', 'time', 'phone', 'use', 'crap', 'batteri', 'final', 'isnt', 'keep', 'anymor', 'wont', 'stay', 'charg', 'though', 'cant', 'realli', 'complain', 'phone', 'earpiec', 'doubl', 'extern', 'speaker', 'want', 'play', 'song', 'loud', 'wasnt', 'best', 'doabl', 'year', 'cant', 'realli', 'complain', 'gave', 'teenag', 'replac', 'wait', 'upgrad', 'time', 'phone', 'use', 'crap', 'batteri', 'final', 'isnt', 'keep', 'anymor', 'wont', 'stay', 'charg', 'though', 'cant', 'realli', 'complain', 'phone', 'earpiec', 'doubl', 'extern', 'speaker', 'want', 'play', 'song', 'loud', 'wasnt', 'best', 'doabl', 'year', 'cant', 'realli', 'complain', 'gave', 'teenag', 'replac', 'wait', 'upgrad', 'time', 'phone', 'use', 'crap', 'batteri', 'final', 'isnt', 'keep', 'anymor', 'wont', 'stay', 'charg', 'though', 'cant', 'realli', 'complain', 'phone', 'earpiec', 'doubl', 'extern', 'speaker', 'want', 'play', 'song', 'loud', 'wasnt', 'best', 'doabl', 'year', 'cant', 'realli', 'complain', 'gave', 'teenag', 'replac', 'wait', 'upgrad', 'time', 'phone', 'use', 'crap', 'batteri', 'final', 'isnt', 'keep', 'anymor', 'wont', 'stay', 'charg', 'though', 'cant', 'realli', 'complain', 'phone', 'earpiec', 'doubl', 'extern', 'speaker', 'want', 'play', 'song', 'loud', 'wasnt', 'best', 'doabl', 'year', 'cant', 'realli', 'complain', 'gave', 'teenag', 'replac', 'wait', 'upgrad', 'time', 'phone', 'use', 'crap', 'batteri', 'final', 'isnt', 'keep', 'anymor', 'wont', 'stay', 'charg', 'though', 'cant', 'realli', 'complain', 'phone', 'earpiec', 'doubl', 'extern', 'speaker', 'want', 'play', 'song', 'loud', 'wasnt', 'best', 'doabl', 'year', 'cant', 'realli', 'complain', 'gave', 'teenag', 'replac', 'wait', 'upgrad', 'time', 'phone', 'use', 'crap', 'batteri', 'final', 'isnt', 'keep', 'anymor', 'wont', 'stay', 'charg', 'though', 'cant', 'realli', 'complain', 'phone', 'earpiec', 'doubl', 'extern', 'speaker', 'want', 'play', 'song', 'loud', 'wasnt', 'best', 'doabl', 'year', 'cant', 'realli', 'complain', 'gave', 'teenag', 'replac', 'wait', 'upgrad', 'time', 'phone', 'use', 'crap', 'batteri', 'final', 'isnt', 'keep', 'anymor', 'wont', 'stay', 'charg', 'though', 'cant', 'realli', 'complain', 'phone', 'earpiec', 'doubl', 'extern', 'speaker', 'want', 'play', 'song', 'loud', 'wasnt', 'best', 'doabl', 'year', 'cant', 'realli', 'complain', 'gave', 'teenag', 'replac', 'wait', 'upgrad', 'time', 'phone', 'use', 'crap', 'batteri', 'final', 'isnt', 'keep', 'anymor', 'wont', 'stay', 'charg', 'though', 'cant', 'realli', 'complain', 'phone', 'earpiec', 'doubl', 'extern', 'speaker', 'want', 'play', 'song', 'loud', 'wasnt', 'best', 'doabl', 'year', 'cant', 'realli', 'complain', 'gave', 'teenag', 'replac', 'wait', 'upgrad', 'time', 'phone', 'use', 'crap', 'batteri', 'final', 'isnt', 'keep', 'anymor', 'wont', 'stay', 'charg', 'though', 'cant', 'realli', 'complain', 'phone', 'earpiec', 'doubl', 'extern', 'speaker', 'want', 'play', 'song', 'loud', 'wasnt', 'best', 'doabl', 'year', 'cant', 'realli', 'complain', 'gave', 'teenag', 'replac', 'wait', 'upgrad', 'time', 'phone', 'use', 'crap', 'batteri', 'final', 'isnt', 'keep', 'anymor', 'wont', 'stay', 'charg', 'though', 'cant', 'realli', 'complain', 'phone', 'earpiec', 'doubl', 'extern', 'speaker', 'want', 'play', 'song', 'loud', 'wasnt', 'best', 'doabl', 'year', 'cant', 'realli', 'complain', 'gave', 'teenag', 'replac', 'wait', 'upgrad', 'time', 'phone', 'use', 'crap', 'batteri', 'final', 'isnt', 'keep', 'anymor', 'wont', 'stay', 'charg', 'though', 'cant', 'realli', 'complain', 'phone', 'earpiec', 'doubl', 'extern', 'speaker', 'want', 'play', 'song', 'loud', 'wasnt', 'best', 'doabl', 'year', 'cant', 'realli', 'complain', 'gave', 'teenag', 'replac', 'wait', 'upgrad', 'time', 'phone', 'use', 'crap', 'batteri', 'final', 'isnt', 'keep', 'anymor', 'wont', 'stay', 'charg', 'though', 'cant', 'realli', 'complain', 'phone', 'earpiec', 'doubl', 'extern', 'speaker', 'want', 'play', 'song', 'loud', 'wasnt', 'best', 'doabl', 'year', 'cant', 'realli', 'complain', 'gave', 'teenag', 'replac', 'wait', 'upgrad', 'time', 'phone', 'use', 'crap', 'batteri', 'final', 'isnt', 'keep', 'anymor', 'wont', 'stay', 'charg', 'though', 'cant', 'realli', 'complain', 'phone', 'earpiec', 'doubl', 'extern', 'speaker', 'want', 'play', 'song', 'loud', 'wasnt', 'best', 'doabl', 'year', 'cant', 'realli', 'complain', 'gave', 'teenag', 'replac', 'wait', 'upgrad', 'time', 'phone', 'use', 'crap', 'batteri', 'final', 'isnt', 'keep', 'anymor', 'wont', 'stay', 'charg', 'though', 'cant', 'realli', 'complain', 'phone', 'earpiec', 'doubl', 'extern', 'speaker', 'want', 'play', 'song', 'loud', 'wasnt', 'best', 'doabl', 'year', 'cant', 'realli', 'complain', 'gave', 'teenag', 'replac', 'wait', 'upgrad', 'time', 'phone', 'use', 'crap', 'batteri', 'final', 'isnt', 'keep', 'anymor', 'wont', 'stay', 'charg', 'though', 'cant', 'realli', 'complain', 'phone', 'earpiec', 'doubl', 'extern', 'speaker', 'want', 'play', 'song', 'loud', 'wasnt', 'best', 'doabl', 'year', 'cant', 'realli', 'complain', 'gave', 'teenag', 'replac', 'wait', 'upgrad', 'time', 'phone', 'use', 'crap', 'batteri', 'final', 'isnt', 'keep', 'anymor', 'wont', 'stay', 'charg', 'though', 'cant', 'realli', 'complain', 'phone', 'earpiec', 'doubl', 'extern', 'speaker', 'want', 'play', 'song', 'loud', 'wasnt', 'best', 'doabl', 'year', 'cant', 'realli', 'complain', 'gave', 'teenag', 'replac', 'wait', 'upgrad', 'time', 'phone', 'use', 'crap', 'batteri', 'final', 'isnt', 'keep', 'anymor', 'wont', 'stay', 'charg', 'though', 'cant', 'realli', 'complain', 'phone', 'earpiec', 'doubl', 'extern', 'speaker', 'want', 'play', 'song', 'loud', 'wasnt', 'best', 'doabl', 'year', 'cant', 'realli', 'complain', 'gave', 'teenag', 'replac', 'wait', 'upgrad', 'time', 'phone', 'use', 'crap', 'batteri', 'final', 'isnt', 'keep', 'anymor', 'wont', 'stay', 'charg', 'though', 'cant', 'realli', 'complain', 'phone', 'earpiec', 'doubl', 'extern', 'speaker', 'want', 'play', 'song', 'loud', 'wasnt', 'best', 'doabl', 'year', 'cant', 'realli', 'complain', 'gave', 'teenag', 'replac', 'wait', 'upgrad', 'time', 'phone', 'use', 'crap', 'batteri', 'final', 'isnt', 'keep', 'anymor', 'wont', 'stay', 'charg', 'though', 'cant', 'realli', 'complain', 'phone', 'earpiec', 'doubl', 'extern', 'speaker', 'want', 'play', 'song', 'loud', 'wasnt', 'best', 'doabl', 'year', 'cant', 'realli', 'complain', 'gave', 'teenag', 'replac', 'wait', 'upgrad', 'time', 'phone', 'use', 'crap', 'batteri', 'final', 'isnt', 'keep', 'anymor', 'wont', 'stay', 'charg', 'though', 'cant', 'realli', 'complain', 'phone', 'earpiec', 'doubl', 'extern', 'speaker', 'want', 'play', 'song', 'loud', 'wasnt', 'best', 'doabl', 'year', 'cant', 'realli', 'complain', 'gave', 'teenag', 'replac', 'wait', 'upgrad', 'time', 'phone', 'use', 'crap', 'batteri', 'final', 'isnt', 'keep', 'anymor', 'wont', 'stay', 'charg', 'though', 'cant', 'realli', 'complain', 'phone', 'earpiec', 'doubl', 'extern', 'speaker', 'want', 'play', 'song', 'loud', 'wasnt', 'best', 'doabl', 'year', 'cant', 'realli', 'complain', 'gave', 'teenag', 'replac', 'wait', 'upgrad', 'time', 'phone', 'use', 'crap', 'batteri', 'final', 'isnt', 'keep', 'anymor', 'wont', 'stay', 'charg', 'though', 'cant', 'realli', 'complain', 'phone', 'earpiec', 'doubl', 'extern', 'speaker', 'want', 'play', 'song', 'loud', 'wasnt', 'best', 'doabl', 'year', 'cant', 'realli', 'complain', 'gave', 'teenag', 'replac', 'wait', 'upgrad', 'time', 'phone', 'use', 'crap', 'batteri', 'final', 'isnt', 'keep', 'anymor', 'wont', 'stay', 'charg', 'though', 'cant', 'realli', 'complain', 'phone', 'earpiec', 'doubl', 'extern', 'speaker', 'want', 'play', 'song', 'loud', 'wasnt', 'best', 'doabl', 'year', 'cant', 'realli', 'complain', 'gave', 'teenag', 'replac', 'wait', 'upgrad', 'time', 'phone', 'use', 'crap', 'batteri', 'final', 'isnt', 'keep', 'anymor', 'wont', 'stay', 'charg', 'though', 'cant', 'realli', 'complain', 'phone', 'earpiec', 'doubl', 'extern', 'speaker', 'want', 'play', 'song', 'loud', 'wasnt', 'best', 'doabl', 'year', 'cant', 'realli', 'complain', 'gave', 'teenag', 'replac', 'wait', 'upgrad', 'time', 'phone', 'use', 'crap', 'batteri', 'final', 'isnt', 'keep', 'anymor', 'wont', 'stay', 'charg', 'though', 'cant', 'realli', 'complain', 'phone', 'earpiec', 'doubl', 'extern', 'speaker', 'want', 'play', 'song', 'loud', 'wasnt', 'best', 'doabl', 'year', 'cant', 'realli', 'complain', 'gave', 'teenag', 'replac', 'wait', 'upgrad', 'time', 'phone', 'use', 'crap', 'batteri', 'final', 'isnt', 'keep', 'anymor', 'wont', 'stay', 'charg', 'though', 'cant', 'realli', 'complain', 'phone', 'earpiec', 'doubl', 'extern', 'speaker', 'want', 'play', 'song', 'loud', 'wasnt', 'best', 'doabl', 'year', 'cant', 'realli', 'complain', 'gave', 'teenag', 'replac', 'wait', 'upgrad', 'time', 'phone', 'use', 'crap', 'batteri', 'final', 'isnt', 'keep', 'anymor', 'wont', 'stay', 'charg', 'though', 'cant', 'realli', 'complain', 'phone', 'earpiec', 'doubl', 'extern', 'speaker', 'want', 'play', 'song', 'loud', 'wasnt', 'best', 'doabl', 'year', 'cant', 'realli', 'complain', 'gave', 'teenag', 'replac', 'wait', 'upgrad', 'time', 'phone', 'use', 'crap', 'batteri', 'final', 'isnt', 'keep', 'anymor', 'wont', 'stay', 'charg', 'though', 'cant', 'realli', 'complain', 'phone', 'earpiec', 'doubl', 'extern', 'speaker', 'want', 'play', 'song', 'loud', 'wasnt', 'best', 'doabl', 'year', 'cant', 'realli', 'complain', 'gave', 'teenag', 'replac', 'wait', 'upgrad', 'time', 'phone', 'use', 'crap', 'batteri', 'final', 'isnt', 'keep', 'anymor', 'wont', 'stay', 'charg', 'though', 'cant', 'realli', 'complain', 'phone', 'earpiec', 'doubl', 'extern', 'speaker', 'want', 'play', 'song', 'loud', 'wasnt', 'best', 'doabl', 'year', 'cant', 'realli', 'complain', 'gave', 'teenag', 'replac', 'wait', 'upgrad', 'time', 'phone', 'use', 'crap', 'batteri', 'final', 'isnt', 'keep', 'anymor', 'wont', 'stay', 'charg', 'though', 'cant', 'realli', 'complain', 'phone', 'earpiec', 'doubl', 'extern', 'speaker', 'want', 'play', 'song', 'loud', 'wasnt', 'best', 'doabl', 'year', 'cant', 'realli', 'complain', 'gave', 'teenag', 'replac', 'wait', 'upgrad', 'time', 'phone', 'use', 'crap', 'batteri', 'final', 'isnt', 'keep', 'anymor', 'wont', 'stay', 'charg', 'though', 'cant', 'realli', 'complain', 'phone', 'earpiec', 'doubl', 'extern', 'speaker', 'want', 'play', 'song', 'loud', 'wasnt', 'best', 'doabl', 'year', 'cant', 'realli', 'complain', 'gave', 'teenag', 'replac', 'wait', 'upgrad', 'time', 'phone', 'use', 'crap', 'batteri', 'final', 'isnt', 'keep', 'anymor', 'wont', 'stay', 'charg', 'though', 'cant', 'realli', 'complain', 'phone', 'earpiec', 'doubl', 'extern', 'speaker', 'want', 'play', 'song', 'loud', 'wasnt', 'best', 'doabl', 'year', 'cant', 'realli', 'complain', 'gave', 'teenag', 'replac', 'wait', 'upgrad', 'time', 'phone', 'use', 'crap', 'batteri', 'final', 'isnt', 'keep', 'anymor', 'wont', 'stay', 'charg', 'though', 'cant', 'realli', 'complain', 'phone', 'earpiec', 'doubl', 'extern', 'speaker', 'want', 'play', 'song', 'loud', 'wasnt', 'best', 'doabl', 'year', 'cant', 'realli', 'complain', 'gave', 'teenag', 'replac', 'wait', 'upgrad', 'time', 'phone', 'use', 'crap', 'batteri', 'final', 'isnt', 'keep', 'anymor', 'wont', 'stay', 'charg', 'though', 'cant', 'realli', 'complain', 'phone', 'earpiec', 'doubl', 'extern', 'speaker', 'want', 'play', 'song', 'loud', 'wasnt', 'best', 'doabl', 'year', 'cant', 'realli', 'complain', 'gave', 'teenag', 'replac', 'wait', 'upgrad', 'time', 'phone', 'use', 'crap', 'batteri', 'final', 'isnt', 'keep', 'anymor', 'wont', 'stay', 'charg', 'though', 'cant', 'realli', 'complain', 'phone', 'earpiec', 'doubl', 'extern', 'speaker', 'want', 'play', 'song', 'loud', 'wasnt', 'best', 'doabl', 'year', 'cant', 'realli', 'complain', 'gave', 'teenag', 'replac', 'wait', 'upgrad', 'time', 'phone', 'use', 'crap', 'batteri', 'final', 'isnt', 'keep', 'anymor', 'wont', 'stay', 'charg', 'though', 'cant', 'realli', 'complain', 'phone', 'earpiec', 'doubl', 'extern', 'speaker', 'want', 'play', 'song', 'loud', 'wasnt', 'best', 'doabl', 'year', 'cant', 'realli', 'complain', 'gave', 'teenag', 'replac', 'wait', 'upgrad', 'time', 'phone', 'use', 'crap', 'batteri', 'final', 'isnt', 'keep', 'anymor', 'wont', 'stay', 'charg', 'though', 'cant', 'realli', 'complain', 'phone', 'earpiec', 'doubl', 'extern', 'speaker', 'want', 'play', 'song', 'loud', 'wasnt', 'best', 'doabl', 'year', 'cant', 'realli', 'complain', 'gave', 'teenag', 'replac', 'wait', 'upgrad', 'time', 'phone', 'use', 'crap', 'batteri', 'final', 'isnt', 'keep', 'anymor', 'wont', 'stay', 'charg', 'though', 'cant', 'realli', 'complain', 'phone', 'earpiec', 'doubl', 'extern', 'speaker', 'want', 'play', 'song', 'loud', 'wasnt', 'best', 'doabl', 'year', 'cant', 'realli', 'complain', 'gave', 'teenag', 'replac', 'wait', 'upgrad', 'time', 'phone', 'use', 'crap', 'batteri', 'final', 'isnt', 'keep', 'anymor', 'wont', 'stay', 'charg', 'though', 'cant', 'realli', 'complain', 'phone', 'earpiec', 'doubl', 'extern', 'speaker', 'want', 'play', 'song', 'loud', 'wasnt', 'best', 'doabl', 'year', 'cant', 'realli', 'complain', 'gave', 'teenag', 'replac', 'wait', 'upgrad', 'time', 'phone', 'use', 'crap', 'batteri', 'final', 'isnt', 'keep', 'anymor', 'wont', 'stay', 'charg', 'though', 'cant', 'realli', 'complain', 'phone', 'earpiec', 'doubl', 'extern', 'speaker', 'want', 'play', 'song', 'loud', 'wasnt', 'best', 'doabl', 'year', 'cant', 'realli', 'complain', 'gave', 'teenag', 'replac', 'wait', 'upgrad', 'time', 'phone', 'use', 'crap', 'batteri', 'final', 'isnt', 'keep', 'anymor', 'wont', 'stay', 'charg', 'though', 'cant', 'realli', 'complain', 'phone', 'earpiec', 'doubl', 'extern', 'speaker', 'want', 'play', 'song', 'loud', 'wasnt', 'best', 'doabl', 'year', 'cant', 'realli', 'complain', 'gave', 'teenag', 'replac', 'wait', 'upgrad', 'time', 'phone', 'use', 'crap', 'batteri', 'final', 'isnt', 'keep', 'anymor', 'wont', 'stay', 'charg', 'though', 'cant', 'realli', 'complain', 'phone', 'earpiec', 'doubl', 'extern', 'speaker', 'want', 'play', 'song', 'loud', 'wasnt', 'best', 'doabl', 'year', 'cant', 'realli', 'complain', 'gave', 'teenag', 'replac', 'wait', 'upgrad', 'time', 'phone', 'use', 'crap', 'batteri', 'final', 'isnt', 'keep', 'anymor', 'wont', 'stay', 'charg', 'though', 'cant', 'realli', 'complain', 'phone', 'earpiec', 'doubl', 'extern', 'speaker', 'want', 'play', 'song', 'loud', 'wasnt', 'best', 'doabl', 'year', 'cant', 'realli', 'complain', 'gave', 'teenag', 'replac', 'wait', 'upgrad', 'time', 'phone', 'use', 'crap', 'batteri', 'final', 'isnt', 'keep', 'anymor', 'wont', 'stay', 'charg', 'though', 'cant', 'realli', 'complain', 'phone', 'earpiec', 'doubl', 'extern', 'speaker', 'want', 'play', 'song', 'loud', 'wasnt', 'best', 'doabl', 'year', 'cant', 'realli', 'complain', 'gave', 'teenag', 'replac', 'wait', 'upgrad', 'time', 'phone', 'use', 'crap', 'batteri', 'final', 'isnt', 'keep', 'anymor', 'wont', 'stay', 'charg', 'though', 'cant', 'realli', 'complain', 'phone', 'earpiec', 'doubl', 'extern', 'speaker', 'want', 'play', 'song', 'loud', 'wasnt', 'best', 'doabl', 'year', 'cant', 'realli', 'complain', 'gave', 'teenag', 'replac', 'wait', 'upgrad', 'time', 'phone', 'use', 'crap', 'batteri', 'final', 'isnt', 'keep', 'anymor', 'wont', 'stay', 'charg', 'though', 'cant', 'realli', 'complain', 'phone', 'earpiec', 'doubl', 'extern', 'speaker', 'want', 'play', 'song', 'loud', 'wasnt', 'best', 'doabl', 'year', 'cant', 'realli', 'complain', 'gave', 'teenag', 'replac', 'wait', 'upgrad', 'time', 'phone', 'use', 'crap', 'batteri', 'final', 'isnt', 'keep', 'anymor', 'wont', 'stay', 'charg', 'though', 'cant', 'realli', 'complain', 'phone', 'earpiec', 'doubl', 'extern', 'speaker', 'want', 'play', 'song', 'loud', 'wasnt', 'best', 'doabl', 'year', 'cant', 'realli', 'complain', 'gave', 'teenag', 'replac', 'wait', 'upgrad', 'time', 'phone', 'use', 'crap', 'batteri', 'final', 'isnt', 'keep', 'anymor', 'wont', 'stay', 'charg', 'though', 'cant', 'realli', 'complain', 'phone', 'earpiec', 'doubl', 'extern', 'speaker', 'want', 'play', 'song', 'loud', 'wasnt', 'best', 'doabl', 'year', 'cant', 'realli', 'complain', 'gave', 'teenag', 'replac', 'wait', 'upgrad', 'time', 'phone', 'use', 'crap', 'batteri', 'final', 'isnt', 'keep', 'anymor', 'wont', 'stay', 'charg', 'though', 'cant', 'realli', 'complain', 'phone', 'earpiec', 'doubl', 'extern', 'speaker', 'want', 'play', 'song', 'loud', 'wasnt', 'best', 'doabl', 'year', 'cant', 'realli', 'complain', 'gave', 'teenag', 'replac', 'wait', 'upgrad', 'time', 'phone', 'use', 'crap', 'batteri', 'final', 'isnt', 'keep', 'anymor', 'wont', 'stay', 'charg', 'though', 'cant', 'realli', 'complain', 'phone', 'earpiec', 'doubl', 'extern', 'speaker', 'want', 'play', 'song', 'loud', 'wasnt', 'best', 'doabl', 'year', 'cant', 'realli', 'complain', 'gave', 'teenag', 'replac', 'wait', 'upgrad', 'time', 'phone', 'use', 'crap', 'batteri', 'final', 'isnt', 'keep', 'anymor', 'wont', 'stay', 'charg', 'though', 'cant', 'realli', 'complain', 'phone', 'earpiec', 'doubl', 'extern', 'speaker', 'want', 'play', 'song', 'loud', 'wasnt', 'best', 'doabl', 'year', 'cant', 'realli', 'complain', 'gave', 'teenag', 'replac', 'wait', 'upgrad', 'time', 'phone', 'use', 'crap', 'batteri', 'final', 'isnt', 'keep', 'anymor', 'wont', 'stay', 'charg', 'though', 'cant', 'realli', 'complain', 'phone', 'earpiec', 'doubl', 'extern', 'speaker', 'want', 'play', 'song', 'loud', 'wasnt', 'best', 'doabl', 'year', 'cant', 'realli', 'complain', 'gave', 'teenag', 'replac', 'wait', 'upgrad', 'time', 'phone', 'use', 'crap', 'batteri', 'final', 'isnt', 'keep', 'anymor', 'wont', 'stay', 'charg', 'though', 'cant', 'realli', 'complain', 'phone', 'earpiec', 'doubl', 'extern', 'speaker', 'want', 'play', 'song', 'loud', 'wasnt', 'best', 'doabl', 'year', 'cant', 'realli', 'complain', 'gave', 'teenag', 'replac', 'wait', 'upgrad', 'time', 'phone', 'use', 'crap', 'batteri', 'final', 'isnt', 'keep', 'anymor', 'wont', 'stay', 'charg', 'though', 'cant', 'realli', 'complain', 'phone', 'earpiec', 'doubl', 'extern', 'speaker', 'want', 'play', 'song', 'loud', 'wasnt', 'best', 'doabl', 'year', 'cant', 'realli', 'complain', 'gave', 'teenag', 'replac', 'wait', 'upgrad', 'time', 'phone', 'use', 'crap', 'batteri', 'final', 'isnt', 'keep', 'anymor', 'wont', 'stay', 'charg', 'though', 'cant', 'realli', 'complain', 'phone', 'earpiec', 'doubl', 'extern', 'speaker', 'want', 'play', 'song', 'loud', 'wasnt', 'best', 'doabl', 'year', 'cant', 'realli', 'complain', 'gave', 'teenag', 'replac', 'wait', 'upgrad', 'time', 'phone', 'use', 'crap', 'batteri', 'final', 'isnt', 'keep', 'anymor', 'wont', 'stay', 'charg', 'though', 'cant', 'realli', 'complain', 'phone', 'earpiec', 'doubl', 'extern', 'speaker', 'want', 'play', 'song', 'loud', 'wasnt', 'best', 'doabl', 'year', 'cant', 'realli', 'complain', 'gave', 'teenag', 'replac', 'wait', 'upgrad', 'time', 'phone', 'use', 'crap', 'batteri', 'final', 'isnt', 'keep', 'anymor', 'wont', 'stay', 'charg', 'though', 'cant', 'realli', 'complain', 'phone', 'earpiec', 'doubl', 'extern', 'speaker', 'want', 'play', 'song', 'loud', 'wasnt', 'best', 'doabl', 'year', 'cant', 'realli', 'complain', 'gave', 'teenag', 'replac', 'wait', 'upgrad', 'time', 'phone', 'use', 'crap', 'batteri', 'final', 'isnt', 'keep', 'anymor', 'wont', 'stay', 'charg', 'though', 'cant', 'realli', 'complain', 'phone', 'earpiec', 'doubl', 'extern', 'speaker', 'want', 'play', 'song', 'loud', 'wasnt', 'best', 'doabl', 'year', 'cant', 'realli', 'complain', 'gave', 'teenag', 'replac', 'wait', 'upgrad', 'time', 'phone', 'use', 'crap', 'batteri', 'final', 'isnt', 'keep', 'anymor', 'wont', 'stay', 'charg', 'though', 'cant', 'realli', 'complain', 'phone', 'earpiec', 'doubl', 'extern', 'speaker', 'want', 'play', 'song', 'loud', 'wasnt', 'best', 'doabl', 'year', 'cant', 'realli', 'complain', 'gave', 'teenag', 'replac', 'wait', 'upgrad', 'time', 'phone', 'use', 'crap', 'batteri', 'final', 'isnt', 'keep', 'anymor', 'wont', 'stay', 'charg', 'though', 'cant', 'realli', 'complain', 'phone', 'earpiec', 'doubl', 'extern', 'speaker', 'want', 'play', 'song', 'loud', 'wasnt', 'best', 'doabl', 'year', 'cant', 'realli', 'complain', 'gave', 'teenag', 'replac', 'wait', 'upgrad', 'time', 'phone', 'use', 'crap', 'batteri', 'final', 'isnt', 'keep', 'anymor', 'wont', 'stay', 'charg', 'though', 'cant', 'realli', 'complain', 'phone', 'earpiec', 'doubl', 'extern', 'speaker', 'want', 'play', 'song', 'loud', 'wasnt', 'best', 'doabl', 'year', 'cant', 'realli', 'complain', 'gave', 'teenag', 'replac', 'wait', 'upgrad', 'time', 'phone', 'use', 'crap', 'batteri', 'final', 'isnt', 'keep', 'anymor', 'wont', 'stay', 'charg', 'though', 'cant', 'realli', 'complain', 'phone', 'earpiec', 'doubl', 'extern', 'speaker', 'want', 'play', 'song', 'loud', 'wasnt', 'best', 'doabl', 'year', 'cant', 'realli', 'complain', 'gave', 'teenag', 'replac', 'wait', 'upgrad', 'time', 'phone', 'use', 'crap', 'batteri', 'final', 'isnt', 'keep', 'anymor', 'wont', 'stay', 'charg', 'though', 'cant', 'realli', 'complain', 'phone', 'earpiec', 'doubl', 'extern', 'speaker', 'want', 'play', 'song', 'loud', 'wasnt', 'best', 'doabl', 'year', 'cant', 'realli', 'complain', 'gave', 'teenag', 'replac', 'wait', 'upgrad', 'time', 'phone', 'use', 'crap', 'batteri', 'final', 'isnt', 'keep', 'anymor', 'wont', 'stay', 'charg', 'though', 'cant', 'realli', 'complain', 'phone', 'earpiec', 'doubl', 'extern', 'speaker', 'want', 'play', 'song', 'loud', 'wasnt', 'best', 'doabl', 'year', 'cant', 'realli', 'complain', 'gave', 'teenag', 'replac', 'wait', 'upgrad', 'time', 'phone', 'use', 'crap', 'batteri', 'final', 'isnt', 'keep', 'anymor', 'wont', 'stay', 'charg', 'though', 'cant', 'realli', 'complain', 'phone', 'earpiec', 'doubl', 'extern', 'speaker', 'want', 'play', 'song', 'loud', 'wasnt', 'best', 'doabl', 'year', 'cant', 'realli', 'complain', 'gave', 'teenag', 'replac', 'wait', 'upgrad', 'time', 'phone', 'use', 'crap', 'batteri', 'final', 'isnt', 'keep', 'anymor', 'wont', 'stay', 'charg', 'though', 'cant', 'realli', 'complain', 'phone', 'earpiec', 'doubl', 'extern', 'speaker', 'want', 'play', 'song', 'loud', 'wasnt', 'best', 'doabl', 'year', 'cant', 'realli', 'complain', 'gave', 'teenag', 'replac', 'wait', 'upgrad', 'time', 'phone', 'use', 'crap', 'batteri', 'final', 'isnt', 'keep', 'anymor', 'wont', 'stay', 'charg', 'though', 'cant', 'realli', 'complain', 'phone', 'earpiec', 'doubl', 'extern', 'speaker', 'want', 'play', 'song', 'loud', 'wasnt', 'best', 'doabl', 'year', 'cant', 'realli', 'complain', 'gave', 'teenag', 'replac', 'wait', 'upgrad', 'time', 'phone', 'use', 'crap', 'batteri', 'final', 'isnt', 'keep', 'anymor', 'wont', 'stay', 'charg', 'though', 'cant', 'realli', 'complain', 'phone', 'earpiec', 'doubl', 'extern', 'speaker', 'want', 'play', 'song', 'loud', 'wasnt', 'best', 'doabl', 'year', 'cant', 'realli', 'complain', 'gave', 'teenag', 'replac', 'wait', 'upgrad', 'time', 'phone', 'use', 'crap', 'batteri', 'final', 'isnt', 'keep', 'anymor', 'wont', 'stay', 'charg', 'though', 'cant', 'realli', 'complain', 'phone', 'earpiec', 'doubl', 'extern', 'speaker', 'want', 'play', 'song', 'loud', 'wasnt', 'best', 'doabl', 'year', 'cant', 'realli', 'complain', 'gave', 'teenag', 'replac', 'wait', 'upgrad', 'time', 'phone', 'use', 'crap', 'batteri', 'final', 'isnt', 'keep', 'anymor', 'wont', 'stay', 'charg', 'though', 'cant', 'realli', 'complain', 'phone', 'earpiec', 'doubl', 'extern', 'speaker', 'want', 'play', 'song', 'loud', 'wasnt', 'best', 'doabl', 'year', 'cant', 'realli', 'complain', 'gave', 'teenag', 'replac', 'wait', 'upgrad', 'time', 'phone', 'use', 'crap', 'batteri', 'final', 'isnt', 'keep', 'anymor', 'wont', 'stay', 'charg', 'though', 'cant', 'realli', 'complain', 'phone', 'earpiec', 'doubl', 'extern', 'speaker', 'want', 'play', 'song', 'loud', 'wasnt', 'best', 'doabl', 'year', 'cant', 'realli', 'complain', 'gave', 'teenag', 'replac', 'wait', 'upgrad', 'time', 'phone', 'use', 'crap', 'batteri', 'final', 'isnt', 'keep', 'anymor', 'wont', 'stay', 'charg', 'though', 'cant', 'realli', 'complain', 'phone', 'earpiec', 'doubl', 'extern', 'speaker', 'want', 'play', 'song', 'loud', 'wasnt', 'best', 'doabl', 'year', 'cant', 'realli', 'complain', 'gave', 'teenag', 'replac', 'wait', 'upgrad', 'time', 'phone', 'use', 'crap', 'batteri', 'final', 'isnt', 'keep', 'anymor', 'wont', 'stay', 'charg', 'though', 'cant', 'realli', 'complain', 'phone', 'earpiec', 'doubl', 'extern', 'speaker', 'want', 'play', 'song', 'loud', 'wasnt', 'best', 'doabl', 'year', 'cant', 'realli', 'complain', 'gave', 'teenag', 'replac', 'wait', 'upgrad', 'time', 'phone', 'use', 'crap', 'batteri', 'final', 'isnt', 'keep', 'anymor', 'wont', 'stay', 'charg', 'though', 'cant', 'realli', 'complain', 'phone', 'earpiec', 'doubl', 'extern', 'speaker', 'want', 'play', 'song', 'loud', 'wasnt', 'best', 'doabl', 'year', 'cant', 'realli', 'complain', 'gave', 'teenag', 'replac', 'wait', 'upgrad', 'time', 'phone', 'use', 'crap', 'batteri', 'final', 'isnt', 'keep', 'anymor', 'wont', 'stay', 'charg', 'though', 'cant', 'realli', 'complain', 'phone', 'earpiec', 'doubl', 'extern', 'speaker', 'want', 'play', 'song', 'loud', 'wasnt', 'best', 'doabl', 'year', 'cant', 'realli', 'complain', 'gave', 'teenag', 'replac', 'wait', 'upgrad', 'time', 'phone', 'use', 'crap', 'batteri', 'final', 'isnt', 'keep', 'anymor', 'wont', 'stay', 'charg', 'though', 'cant', 'realli', 'complain', 'phone', 'earpiec', 'doubl', 'extern', 'speaker', 'want', 'play', 'song', 'loud', 'wasnt', 'best', 'doabl', 'year', 'cant', 'realli', 'complain', 'gave', 'teenag', 'replac', 'wait', 'upgrad', 'time', 'phone', 'use', 'crap', 'batteri', 'final', 'isnt', 'keep', 'anymor', 'wont', 'stay', 'charg', 'though', 'cant', 'realli', 'complain', 'phone', 'earpiec', 'doubl', 'extern', 'speaker', 'want', 'play', 'song', 'loud', 'wasnt', 'best', 'doabl', 'year', 'cant', 'realli', 'complain', 'gave', 'teenag', 'replac', 'wait', 'upgrad', 'time', 'phone', 'use', 'crap', 'batteri', 'final', 'isnt', 'keep', 'anymor', 'wont', 'stay', 'charg', 'though', 'cant', 'realli', 'complain', 'phone', 'earpiec', 'doubl', 'extern', 'speaker', 'want', 'play', 'song', 'loud', 'wasnt', 'best', 'doabl', 'year', 'cant', 'realli', 'complain', 'gave', 'teenag', 'replac', 'wait', 'upgrad', 'time', 'phone', 'use', 'crap', 'batteri', 'final', 'isnt', 'keep', 'anymor', 'wont', 'stay', 'charg', 'though', 'cant', 'realli', 'complain', 'phone', 'earpiec', 'doubl', 'extern', 'speaker', 'want', 'play', 'song', 'loud', 'wasnt', 'best', 'doabl', 'year', 'cant', 'realli', 'complain', 'gave', 'teenag', 'replac', 'wait', 'upgrad', 'time', 'phone', 'use', 'crap', 'batteri', 'final', 'isnt', 'keep', 'anymor', 'wont', 'stay', 'charg', 'though', 'cant', 'realli', 'complain', 'phone', 'earpiec', 'doubl', 'extern', 'speaker', 'want', 'play', 'song', 'loud', 'wasnt', 'best', 'doabl', 'year', 'cant', 'realli', 'complain', 'gave', 'teenag', 'replac', 'wait', 'upgrad', 'time', 'phone', 'use', 'crap', 'batteri', 'final', 'isnt', 'keep', 'anymor', 'wont', 'stay', 'charg', 'though', 'cant', 'realli', 'complain', 'phone', 'earpiec', 'doubl', 'extern', 'speaker', 'want', 'play', 'song', 'loud', 'wasnt', 'best', 'doabl', 'year', 'cant', 'realli', 'complain', 'gave', 'teenag', 'replac', 'wait', 'upgrad', 'time', 'phone', 'use', 'crap', 'batteri', 'final', 'isnt', 'keep', 'anymor', 'wont', 'stay', 'charg', 'though', 'cant', 'realli', 'complain', 'phone', 'earpiec', 'doubl', 'extern', 'speaker', 'want', 'play', 'song', 'loud', 'wasnt', 'best', 'doabl', 'year', 'cant', 'realli', 'complain', 'gave', 'teenag', 'replac', 'wait', 'upgrad', 'time', 'phone', 'use', 'crap', 'batteri', 'final', 'isnt', 'keep', 'anymor', 'wont', 'stay', 'charg', 'though', 'cant', 'realli', 'complain', 'phone', 'earpiec', 'doubl', 'extern', 'speaker', 'want', 'play', 'song', 'loud', 'wasnt', 'best', 'doabl', 'year', 'cant', 'realli', 'complain', 'gave', 'teenag', 'replac', 'wait', 'upgrad', 'time', 'phone', 'use', 'crap', 'batteri', 'final', 'isnt', 'keep', 'anymor', 'wont', 'stay', 'charg', 'though', 'cant', 'realli', 'complain', 'phone', 'earpiec', 'doubl', 'extern', 'speaker', 'want', 'play', 'song', 'loud', 'wasnt', 'best', 'doabl', 'year', 'cant', 'realli', 'complain', 'gave', 'teenag', 'replac', 'wait', 'upgrad', 'time', 'phone', 'use', 'crap', 'batteri', 'final', 'isnt', 'keep', 'anymor', 'wont', 'stay', 'charg', 'though', 'cant', 'realli', 'complain', 'phone', 'earpiec', 'doubl', 'extern', 'speaker', 'want', 'play', 'song', 'loud', 'wasnt', 'best', 'doabl', 'year', 'cant', 'realli', 'complain', 'gave', 'teenag', 'replac', 'wait', 'upgrad', 'time', 'phone', 'use', 'crap', 'batteri', 'final', 'isnt', 'keep', 'anymor', 'wont', 'stay', 'charg', 'though', 'cant', 'realli', 'complain', 'phone', 'earpiec', 'doubl', 'extern', 'speaker', 'want', 'play', 'song', 'loud', 'wasnt', 'best', 'doabl', 'year', 'cant', 'realli', 'complain', 'gave', 'teenag', 'replac', 'wait', 'upgrad', 'time', 'phone', 'use', 'crap', 'batteri', 'final', 'isnt', 'keep', 'anymor', 'wont', 'stay', 'charg', 'though', 'cant', 'realli', 'complain', 'phone', 'earpiec', 'doubl', 'extern', 'speaker', 'want', 'play', 'song', 'loud', 'wasnt', 'best', 'doabl', 'year', 'cant', 'realli', 'complain', 'gave', 'teenag', 'replac', 'wait', 'upgrad', 'time', 'phone', 'use', 'crap', 'batteri', 'final', 'isnt', 'keep', 'anymor', 'wont', 'stay', 'charg', 'though', 'cant', 'realli', 'complain', 'phone', 'earpiec', 'doubl', 'extern', 'speaker', 'want', 'play', 'song', 'loud', 'wasnt', 'best', 'doabl', 'year', 'cant', 'realli', 'complain', 'gave', 'teenag', 'replac', 'wait', 'upgrad', 'time', 'phone', 'use', 'crap', 'batteri', 'final', 'isnt', 'keep', 'anymor', 'wont', 'stay', 'charg', 'though', 'cant', 'realli', 'complain', 'phone', 'earpiec', 'doubl', 'extern', 'speaker', 'want', 'play', 'song', 'loud', 'wasnt', 'best', 'doabl', 'year', 'cant', 'realli', 'complain', 'gave', 'teenag', 'replac', 'wait', 'upgrad', 'time', 'phone', 'use', 'crap', 'batteri', 'final', 'isnt', 'keep', 'anymor', 'wont', 'stay', 'charg', 'though', 'cant', 'realli', 'complain', 'phone', 'earpiec', 'doubl', 'extern', 'speaker', 'want', 'play', 'song', 'loud', 'wasnt', 'best', 'doabl', 'year', 'cant', 'realli', 'complain', 'gave', 'teenag', 'replac', 'wait', 'upgrad', 'time', 'phone', 'use', 'crap', 'batteri', 'final', 'isnt', 'keep', 'anymor', 'wont', 'stay', 'charg', 'though', 'cant', 'realli', 'complain', 'phone', 'earpiec', 'doubl', 'extern', 'speaker', 'want', 'play', 'song', 'loud', 'wasnt', 'best', 'doabl', 'year', 'cant', 'realli', 'complain', 'gave', 'teenag', 'replac', 'wait', 'upgrad', 'time', 'phone', 'use', 'crap', 'batteri', 'final', 'isnt', 'keep', 'anymor', 'wont', 'stay', 'charg', 'though', 'cant', 'realli', 'complain', 'phone', 'earpiec', 'doubl', 'extern', 'speaker', 'want', 'play', 'song', 'loud', 'wasnt', 'best', 'doabl', 'year', 'cant', 'realli', 'complain', 'gave', 'teenag', 'replac', 'wait', 'upgrad', 'time', 'phone', 'use', 'crap', 'batteri', 'final', 'isnt', 'keep', 'anymor', 'wont', 'stay', 'charg', 'though', 'cant', 'realli', 'complain', 'phone', 'earpiec', 'doubl', 'extern', 'speaker', 'want', 'play', 'song', 'loud', 'wasnt', 'best', 'doabl', 'year', 'cant', 'realli', 'complain', 'gave', 'teenag', 'replac', 'wait', 'upgrad', 'time', 'phone', 'use', 'crap', 'batteri', 'final', 'isnt', 'keep', 'anymor', 'wont', 'stay', 'charg', 'though', 'cant', 'realli', 'complain', 'phone', 'earpiec', 'doubl', 'extern', 'speaker', 'want', 'play', 'song', 'loud', 'wasnt', 'best', 'doabl', 'year', 'cant', 'realli', 'complain', 'gave', 'teenag', 'replac', 'wait', 'upgrad', 'time', 'phone', 'use', 'crap', 'batteri', 'final', 'isnt', 'keep', 'anymor', 'wont', 'stay', 'charg', 'though', 'cant', 'realli', 'complain', 'phone', 'earpiec', 'doubl', 'extern', 'speaker', 'want', 'play', 'song', 'loud', 'wasnt', 'best', 'doabl', 'year', 'cant', 'realli', 'complain', 'gave', 'teenag', 'replac', 'wait', 'upgrad', 'time', 'phone', 'use', 'crap', 'batteri', 'final', 'isnt', 'keep', 'anymor', 'wont', 'stay', 'charg', 'though', 'cant', 'realli', 'complain', 'phone', 'earpiec', 'doubl', 'extern', 'speaker', 'want', 'play', 'song', 'loud', 'wasnt', 'best', 'doabl', 'year', 'cant', 'realli', 'complain', 'gave', 'teenag', 'replac', 'wait', 'upgrad', 'time', 'phone', 'use', 'crap', 'batteri', 'final', 'isnt', 'keep', 'anymor', 'wont', 'stay', 'charg', 'though', 'cant', 'realli', 'complain', 'phone', 'earpiec', 'doubl', 'extern', 'speaker', 'want', 'play', 'song', 'loud', 'wasnt', 'best', 'doabl', 'year', 'cant', 'realli', 'complain', 'gave', 'teenag', 'replac', 'wait', 'upgrad', 'time', 'phone', 'use', 'crap', 'batteri', 'final', 'isnt', 'keep', 'anymor', 'wont', 'stay', 'charg', 'though', 'cant', 'realli', 'complain', 'phone', 'earpiec', 'doubl', 'extern', 'speaker', 'want', 'play', 'song', 'loud', 'wasnt', 'best', 'doabl', 'year', 'cant', 'realli', 'complain', 'gave', 'teenag', 'replac', 'wait', 'upgrad', 'time', 'phone', 'use', 'crap', 'batteri', 'final', 'isnt', 'keep', 'anymor', 'wont', 'stay', 'charg', 'though', 'cant', 'realli', 'complain', 'phone', 'earpiec', 'doubl', 'extern', 'speaker', 'want', 'play', 'song', 'loud', 'wasnt', 'best', 'doabl', 'year', 'cant', 'realli', 'complain', 'gave', 'teenag', 'replac', 'wait', 'upgrad', 'time', 'phone', 'use', 'crap', 'batteri', 'final', 'isnt', 'keep', 'anymor', 'wont', 'stay', 'charg', 'though', 'cant', 'realli', 'complain', 'phone', 'earpiec', 'doubl', 'extern', 'speaker', 'want', 'play', 'song', 'loud', 'wasnt', 'best', 'doabl', 'year', 'cant', 'realli', 'complain', 'gave', 'teenag', 'replac', 'wait', 'upgrad', 'time', 'phone', 'use', 'crap', 'batteri', 'final', 'isnt', 'keep', 'anymor', 'wont', 'stay', 'charg', 'though', 'cant', 'realli', 'complain', 'phone', 'earpiec', 'doubl', 'extern', 'speaker', 'want', 'play', 'song', 'loud', 'wasnt', 'best', 'doabl', 'year', 'cant', 'realli', 'complain', 'gave', 'teenag', 'replac', 'wait', 'upgrad', 'time', 'phone', 'use', 'crap', 'batteri', 'final', 'isnt', 'keep', 'anymor', 'wont', 'stay', 'charg', 'though', 'cant', 'realli', 'complain', 'phone', 'earpiec', 'doubl', 'extern', 'speaker', 'want', 'play', 'song', 'loud', 'wasnt', 'best', 'doabl', 'year', 'cant', 'realli', 'complain', 'gave', 'teenag', 'replac', 'wait', 'upgrad', 'time', 'phone', 'use', 'crap', 'batteri', 'final', 'isnt', 'keep', 'anymor', 'wont', 'stay', 'charg', 'though', 'cant', 'realli', 'complain', 'phone', 'earpiec', 'doubl', 'extern', 'speaker', 'want', 'play', 'song', 'loud', 'wasnt', 'best', 'doabl', 'year', 'cant', 'realli', 'complain', 'gave', 'teenag', 'replac', 'wait', 'upgrad', 'time', 'phone', 'use', 'crap', 'batteri', 'final', 'isnt', 'keep', 'anymor', 'wont', 'stay', 'charg', 'though', 'cant', 'realli', 'complain', 'phone', 'earpiec', 'doubl', 'extern', 'speaker', 'want', 'play', 'song', 'loud', 'wasnt', 'best', 'doabl', 'year', 'cant', 'realli', 'complain', 'gave', 'teenag', 'replac', 'wait', 'upgrad', 'time', 'phone', 'use', 'crap', 'batteri', 'final', 'isnt', 'keep', 'anymor', 'wont', 'stay', 'charg', 'though', 'cant', 'realli', 'complain', 'phone', 'earpiec', 'doubl', 'extern', 'speaker', 'want', 'play', 'song', 'loud', 'wasnt', 'best', 'doabl', 'year', 'cant', 'realli', 'complain', 'gave', 'teenag', 'replac', 'wait', 'upgrad', 'time', 'phone', 'use', 'crap', 'batteri', 'final', 'isnt', 'keep', 'anymor', 'wont', 'stay', 'charg', 'though', 'cant', 'realli', 'complain', 'phone', 'earpiec', 'doubl', 'extern', 'speaker', 'want', 'play', 'song', 'loud', 'wasnt', 'best', 'doabl', 'year', 'cant', 'realli', 'complain', 'gave', 'teenag', 'replac', 'wait', 'upgrad', 'time', 'phone', 'use', 'crap', 'batteri', 'final', 'isnt', 'keep', 'anymor', 'wont', 'stay', 'charg', 'though', 'cant', 'realli', 'complain', 'phone', 'earpiec', 'doubl', 'extern', 'speaker', 'want', 'play', 'song', 'loud', 'wasnt', 'best', 'doabl', 'year', 'cant', 'realli', 'complain', 'gave', 'teenag', 'replac', 'wait', 'upgrad', 'time', 'phone', 'use', 'crap', 'batteri', 'final', 'isnt', 'keep', 'anymor', 'wont', 'stay', 'charg', 'though', 'cant', 'realli', 'complain', 'phone', 'earpiec', 'doubl', 'extern', 'speaker', 'want', 'play', 'song', 'loud', 'wasnt', 'best', 'doabl', 'year', 'cant', 'realli', 'complain', 'gave', 'teenag', 'replac', 'wait', 'upgrad', 'time', 'phone', 'use', 'crap', 'batteri', 'final', 'isnt', 'keep', 'anymor', 'wont', 'stay', 'charg', 'though', 'cant', 'realli', 'complain', 'phone', 'earpiec', 'doubl', 'extern', 'speaker', 'want', 'play', 'song', 'loud', 'wasnt', 'best', 'doabl', 'year', 'cant', 'realli', 'complain', 'gave', 'teenag', 'replac', 'wait', 'upgrad', 'time', 'phone', 'use', 'crap', 'batteri', 'final', 'isnt', 'keep', 'anymor', 'wont', 'stay', 'charg', 'though', 'cant', 'realli', 'complain', 'phone', 'earpiec', 'doubl', 'extern', 'speaker', 'want', 'play', 'song', 'loud', 'wasnt', 'best', 'doabl', 'year', 'cant', 'realli', 'complain', 'gave', 'teenag', 'replac', 'wait', 'upgrad', 'time', 'phone', 'use', 'crap', 'batteri', 'final', 'isnt', 'keep', 'anymor', 'wont', 'stay', 'charg', 'though', 'cant', 'realli', 'complain', 'phone', 'earpiec', 'doubl', 'extern', 'speaker', 'want', 'play', 'song', 'loud', 'wasnt', 'best', 'doabl', 'year', 'cant', 'realli', 'complain', 'gave', 'teenag', 'replac', 'wait', 'upgrad', 'time', 'phone', 'use', 'crap', 'batteri', 'final', 'isnt', 'keep', 'anymor', 'wont', 'stay', 'charg', 'though', 'cant', 'realli', 'complain', 'phone', 'earpiec', 'doubl', 'extern', 'speaker', 'want', 'play', 'song', 'loud', 'wasnt', 'best', 'doabl', 'year', 'cant', 'realli', 'complain', 'gave', 'teenag', 'replac', 'wait', 'upgrad', 'time', 'phone', 'use', 'crap', 'batteri', 'final', 'isnt', 'keep', 'anymor', 'wont', 'stay', 'charg', 'though', 'cant', 'realli', 'complain', 'phone', 'earpiec', 'doubl', 'extern', 'speaker', 'want', 'play', 'song', 'loud', 'wasnt', 'best', 'doabl', 'year', 'cant', 'realli', 'complain', 'gave', 'teenag', 'replac', 'wait', 'upgrad', 'time', 'phone', 'use', 'crap', 'batteri', 'final', 'isnt', 'keep', 'anymor', 'wont', 'stay', 'charg', 'though', 'cant', 'realli', 'complain', 'phone', 'earpiec', 'doubl', 'extern', 'speaker', 'want', 'play', 'song', 'loud', 'wasnt', 'best', 'doabl', 'year', 'cant', 'realli', 'complain', 'gave', 'teenag', 'replac', 'wait', 'upgrad', 'time', 'phone', 'use', 'crap', 'batteri', 'final', 'isnt', 'keep', 'anymor', 'wont', 'stay', 'charg', 'though', 'cant', 'realli', 'complain', 'phone', 'earpiec', 'doubl', 'extern', 'speaker', 'want', 'play', 'song', 'loud', 'wasnt', 'best', 'doabl', 'year', 'cant', 'realli', 'complain', 'gave', 'teenag', 'replac', 'wait', 'upgrad', 'time', 'phone', 'use', 'crap', 'batteri', 'final', 'isnt', 'keep', 'anymor', 'wont', 'stay', 'charg', 'though', 'cant', 'realli', 'complain', 'phone', 'earpiec', 'doubl', 'extern', 'speaker', 'want', 'play', 'song', 'loud', 'wasnt', 'best', 'doabl', 'year', 'cant', 'realli', 'complain', 'gave', 'teenag', 'replac', 'wait', 'upgrad', 'time', 'phone', 'use', 'crap', 'batteri', 'final', 'isnt', 'keep', 'anymor', 'wont', 'stay', 'charg', 'though', 'cant', 'realli', 'complain', 'phone', 'earpiec', 'doubl', 'extern', 'speaker', 'want', 'play', 'song', 'loud', 'wasnt', 'best', 'doabl', 'year', 'cant', 'realli', 'complain', 'gave', 'teenag', 'replac', 'wait', 'upgrad', 'time', 'phone', 'use', 'crap', 'batteri', 'final', 'isnt', 'keep', 'anymor', 'wont', 'stay', 'charg', 'though', 'cant', 'realli', 'complain', 'phone', 'earpiec', 'doubl', 'extern', 'speaker', 'want', 'play', 'song', 'loud', 'wasnt', 'best', 'doabl', 'year', 'cant', 'realli', 'complain', 'gave', 'teenag', 'replac', 'wait', 'upgrad', 'time', 'phone', 'use', 'crap', 'batteri', 'final', 'isnt', 'keep', 'anymor', 'wont', 'stay', 'charg', 'though', 'cant', 'realli', 'complain', 'phone', 'earpiec', 'doubl', 'extern', 'speaker', 'want', 'play', 'song', 'loud', 'wasnt', 'best', 'doabl', 'year', 'cant', 'realli', 'complain', 'gave', 'teenag', 'replac', 'wait', 'upgrad', 'time', 'phone', 'use', 'crap', 'batteri', 'final', 'isnt', 'keep', 'anymor', 'wont', 'stay', 'charg', 'though', 'cant', 'realli', 'complain', 'phone', 'earpiec', 'doubl', 'extern', 'speaker', 'want', 'play', 'song', 'loud', 'wasnt', 'best', 'doabl', 'year', 'cant', 'realli', 'complain', 'gave', 'teenag', 'replac', 'wait', 'upgrad', 'time', 'phone', 'use', 'crap', 'batteri', 'final', 'isnt', 'keep', 'anymor', 'wont', 'stay', 'charg', 'though', 'cant', 'realli', 'complain', 'phone', 'earpiec', 'doubl', 'extern', 'speaker', 'want', 'play', 'song', 'loud', 'wasnt', 'best', 'doabl', 'year', 'cant', 'realli', 'complain', 'gave', 'teenag', 'replac', 'wait', 'upgrad', 'time', 'phone', 'use', 'crap', 'batteri', 'final', 'isnt', 'keep', 'anymor', 'wont', 'stay', 'charg', 'though', 'cant', 'realli', 'complain', 'phone', 'earpiec', 'doubl', 'extern', 'speaker', 'want', 'play', 'song', 'loud', 'wasnt', 'best', 'doabl', 'year', 'cant', 'realli', 'complain', 'gave', 'teenag', 'replac', 'wait', 'upgrad', 'time', 'phone', 'use', 'crap', 'batteri', 'final', 'isnt', 'keep', 'anymor', 'wont', 'stay', 'charg', 'though', 'cant', 'realli', 'complain', 'phone', 'earpiec', 'doubl', 'extern', 'speaker', 'want', 'play', 'song', 'loud', 'wasnt', 'best', 'doabl', 'year', 'cant', 'realli', 'complain', 'gave', 'teenag', 'replac', 'wait', 'upgrad', 'time', 'phone', 'use', 'crap', 'batteri', 'final', 'isnt', 'keep', 'anymor', 'wont', 'stay', 'charg', 'though', 'cant', 'realli', 'complain', 'phone', 'earpiec', 'doubl', 'extern', 'speaker', 'want', 'play', 'song', 'loud', 'wasnt', 'best', 'doabl', 'year', 'cant', 'realli', 'complain', 'gave', 'teenag', 'replac', 'wait', 'upgrad', 'time', 'phone', 'use', 'crap', 'batteri', 'final', 'isnt', 'keep', 'anymor', 'wont', 'stay', 'charg', 'though', 'cant', 'realli', 'complain', 'phone', 'earpiec', 'doubl', 'extern', 'speaker', 'want', 'play', 'song', 'loud', 'wasnt', 'best', 'doabl', 'year', 'cant', 'realli', 'complain', 'gave', 'teenag', 'replac', 'wait', 'upgrad', 'time', 'phone', 'use', 'crap', 'batteri', 'final', 'isnt', 'keep', 'anymor', 'wont', 'stay', 'charg', 'though', 'cant', 'realli', 'complain', 'phone', 'earpiec', 'doubl', 'extern', 'speaker', 'want', 'play', 'song', 'loud', 'wasnt', 'best', 'doabl', 'year', 'cant', 'realli', 'complain', 'gave', 'teenag', 'replac', 'wait', 'upgrad', 'time', 'phone', 'use', 'crap', 'batteri', 'final', 'isnt', 'keep', 'anymor', 'wont', 'stay', 'charg', 'though', 'cant', 'realli', 'complain', 'phone', 'earpiec', 'doubl', 'extern', 'speaker', 'want', 'play', 'song', 'loud', 'wasnt', 'best', 'doabl', 'year', 'cant', 'realli', 'complain', 'gave', 'teenag', 'replac', 'wait', 'upgrad', 'time', 'phone', 'use', 'crap', 'batteri', 'final', 'isnt', 'keep', 'anymor', 'wont', 'stay', 'charg', 'though', 'cant', 'realli', 'complain', 'phone', 'earpiec', 'doubl', 'extern', 'speaker', 'want', 'play', 'song', 'loud', 'wasnt', 'best', 'doabl', 'year', 'cant', 'realli', 'complain', 'gave', 'teenag', 'replac', 'wait', 'upgrad', 'time', 'phone', 'use', 'crap', 'batteri', 'final', 'isnt', 'keep', 'anymor', 'wont', 'stay', 'charg', 'though', 'cant', 'realli', 'complain', 'phone', 'earpiec', 'doubl', 'extern', 'speaker', 'want', 'play', 'song', 'loud', 'wasnt', 'best', 'doabl', 'year', 'cant', 'realli', 'complain', 'gave', 'teenag', 'replac', 'wait', 'upgrad', 'time', 'phone', 'use', 'crap', 'batteri', 'final', 'isnt', 'keep', 'anymor', 'wont', 'stay', 'charg', 'though', 'cant', 'realli', 'complain', 'phone', 'earpiec', 'doubl', 'extern', 'speaker', 'want', 'play', 'song', 'loud', 'wasnt', 'best', 'doabl', 'year', 'cant', 'realli', 'complain', 'gave', 'teenag', 'replac', 'wait', 'upgrad', 'time', 'phone', 'use', 'crap', 'batteri', 'final', 'isnt', 'keep', 'anymor', 'wont', 'stay', 'charg', 'though', 'cant', 'realli', 'complain', 'phone', 'earpiec', 'doubl', 'extern', 'speaker', 'want', 'play', 'song', 'loud', 'wasnt', 'best', 'doabl', 'year', 'cant', 'realli', 'complain', 'gave', 'teenag', 'replac', 'wait', 'upgrad', 'time', 'phone', 'use', 'crap', 'batteri', 'final', 'isnt', 'keep', 'anymor', 'wont', 'stay', 'charg', 'though', 'cant', 'realli', 'complain', 'phone', 'earpiec', 'doubl', 'extern', 'speaker', 'want', 'play', 'song', 'loud', 'wasnt', 'best', 'doabl', 'year', 'cant', 'realli', 'complain', 'gave', 'teenag', 'replac', 'wait', 'upgrad', 'time', 'phone', 'use', 'crap', 'batteri', 'final', 'isnt', 'keep', 'anymor', 'wont', 'stay', 'charg', 'though', 'cant', 'realli', 'complain', 'phone', 'earpiec', 'doubl', 'extern', 'speaker', 'want', 'play', 'song', 'loud', 'wasnt', 'best', 'doabl', 'year', 'cant', 'realli', 'complain', 'gave', 'teenag', 'replac', 'wait', 'upgrad', 'time', 'phone', 'use', 'crap', 'batteri', 'final', 'isnt', 'keep', 'anymor', 'wont', 'stay', 'charg', 'though', 'cant', 'realli', 'complain', 'phone', 'earpiec', 'doubl', 'extern', 'speaker', 'want', 'play', 'song', 'loud', 'wasnt', 'best', 'doabl', 'year', 'cant', 'realli', 'complain', 'gave', 'teenag', 'replac', 'wait', 'upgrad', 'time', 'phone', 'use', 'crap', 'batteri', 'final', 'isnt', 'keep', 'anymor', 'wont', 'stay', 'charg', 'though', 'cant', 'realli', 'complain', 'phone', 'earpiec', 'doubl', 'extern', 'speaker', 'want', 'play', 'song', 'loud', 'wasnt', 'best', 'doabl', 'year', 'cant', 'realli', 'complain', 'gave', 'teenag', 'replac', 'wait', 'upgrad', 'time', 'phone', 'use', 'crap', 'batteri', 'final', 'isnt', 'keep', 'anymor', 'wont', 'stay', 'charg', 'though', 'cant', 'realli', 'complain', 'phone', 'earpiec', 'doubl', 'extern', 'speaker', 'want', 'play', 'song', 'loud', 'wasnt', 'best', 'doabl', 'year', 'cant', 'realli', 'complain', 'gave', 'teenag', 'replac', 'wait', 'upgrad', 'time', 'phone', 'use', 'crap', 'batteri', 'final', 'isnt', 'keep', 'anymor', 'wont', 'stay', 'charg', 'though', 'cant', 'realli', 'complain', 'phone', 'earpiec', 'doubl', 'extern', 'speaker', 'want', 'play', 'song', 'loud', 'wasnt', 'best', 'doabl', 'year', 'cant', 'realli', 'complain', 'gave', 'teenag', 'replac', 'wait', 'upgrad', 'time', 'phone', 'use', 'crap', 'batteri', 'final', 'isnt', 'keep', 'anymor', 'wont', 'stay', 'charg', 'though', 'cant', 'realli', 'complain', 'phone', 'earpiec', 'doubl', 'extern', 'speaker', 'want', 'play', 'song', 'loud', 'wasnt', 'best', 'doabl', 'year', 'cant', 'realli', 'complain', 'gave', 'teenag', 'replac', 'wait', 'upgrad', 'time', 'phone', 'use', 'crap', 'batteri', 'final', 'isnt', 'keep', 'anymor', 'wont', 'stay', 'charg', 'though', 'cant', 'realli', 'complain', 'phone', 'earpiec', 'doubl', 'extern', 'speaker', 'want', 'play', 'song', 'loud', 'wasnt', 'best', 'doabl', 'year', 'cant', 'realli', 'complain', 'gave', 'teenag', 'replac', 'wait', 'upgrad', 'time', 'phone', 'use', 'crap', 'batteri', 'final', 'isnt', 'keep', 'anymor', 'wont', 'stay', 'charg', 'though', 'cant', 'realli', 'complain', 'phone', 'earpiec', 'doubl', 'extern', 'speaker', 'want', 'play', 'song', 'loud', 'wasnt', 'best', 'doabl', 'year', 'cant', 'realli', 'complain', 'gave', 'teenag', 'replac', 'wait', 'upgrad', 'time', 'phone', 'use', 'crap', 'batteri', 'final', 'isnt', 'keep', 'anymor', 'wont', 'stay', 'charg', 'though', 'cant', 'realli', 'complain', 'phone', 'earpiec', 'doubl', 'extern', 'speaker', 'want', 'play', 'song', 'loud', 'wasnt', 'best', 'doabl', 'year', 'cant', 'realli', 'complain', 'gave', 'teenag', 'replac', 'wait', 'upgrad', 'time', 'phone', 'use', 'crap', 'batteri', 'final', 'isnt', 'keep', 'anymor', 'wont', 'stay', 'charg', 'though', 'cant', 'realli', 'complain', 'phone', 'earpiec', 'doubl', 'extern', 'speaker', 'want', 'play', 'song', 'loud', 'wasnt', 'best', 'doabl', 'year', 'cant', 'realli', 'complain', 'gave', 'teenag', 'replac', 'wait', 'upgrad', 'time', 'phone', 'use', 'crap', 'batteri', 'final', 'isnt', 'keep', 'anymor', 'wont', 'stay', 'charg', 'though', 'cant', 'realli', 'complain', 'phone', 'earpiec', 'doubl', 'extern', 'speaker', 'want', 'play', 'song', 'loud', 'wasnt', 'best', 'doabl', 'year', 'cant', 'realli', 'complain', 'gave', 'teenag', 'replac', 'wait', 'upgrad', 'time', 'phone', 'use', 'crap', 'batteri', 'final', 'isnt', 'keep', 'anymor', 'wont', 'stay', 'charg', 'though', 'cant', 'realli', 'complain', 'phone', 'earpiec', 'doubl', 'extern', 'speaker', 'want', 'play', 'song', 'loud', 'wasnt', 'best', 'doabl', 'year', 'cant', 'realli', 'complain', 'gave', 'teenag', 'replac', 'wait', 'upgrad', 'time', 'phone', 'use', 'crap', 'batteri', 'final', 'isnt', 'keep', 'anymor', 'wont', 'stay', 'charg', 'though', 'cant', 'realli', 'complain', 'phone', 'earpiec', 'doubl', 'extern', 'speaker', 'want', 'play', 'song', 'loud', 'wasnt', 'best', 'doabl', 'year', 'cant', 'realli', 'complain', 'gave', 'teenag', 'replac', 'wait', 'upgrad', 'time', 'phone', 'use', 'crap', 'batteri', 'final', 'isnt', 'keep', 'anymor', 'wont', 'stay', 'charg', 'though', 'cant', 'realli', 'complain', 'phone', 'earpiec', 'doubl', 'extern', 'speaker', 'want', 'play', 'song', 'loud', 'wasnt', 'best', 'doabl', 'year', 'cant', 'realli', 'complain', 'gave', 'teenag', 'replac', 'wait', 'upgrad', 'time', 'phone', 'use', 'crap', 'batteri', 'final', 'isnt', 'keep', 'anymor', 'wont', 'stay', 'charg', 'though', 'cant', 'realli', 'complain', 'phone', 'earpiec', 'doubl', 'extern', 'speaker', 'want', 'play', 'song', 'loud', 'wasnt', 'best', 'doabl', 'year', 'cant', 'realli', 'complain', 'gave', 'teenag', 'replac', 'wait', 'upgrad', 'time', 'phone', 'use', 'crap', 'batteri', 'final', 'isnt', 'keep', 'anymor', 'wont', 'stay', 'charg', 'though', 'cant', 'realli', 'complain', 'phone', 'earpiec', 'doubl', 'extern', 'speaker', 'want', 'play', 'song', 'loud', 'wasnt', 'best', 'doabl', 'year', 'cant', 'realli', 'complain', 'gave', 'teenag', 'replac', 'wait', 'upgrad', 'time', 'phone', 'use', 'crap', 'batteri', 'final', 'isnt', 'keep', 'anymor', 'wont', 'stay', 'charg', 'though', 'cant', 'realli', 'complain', 'phone', 'earpiec', 'doubl', 'extern', 'speaker', 'want', 'play', 'song', 'loud', 'wasnt', 'best', 'doabl', 'year', 'cant', 'realli', 'complain', 'gave', 'teenag', 'replac', 'wait', 'upgrad', 'time', 'phone', 'use', 'crap', 'batteri', 'final', 'isnt', 'keep', 'anymor', 'wont', 'stay', 'charg', 'though', 'cant', 'realli', 'complain', 'phone', 'earpiec', 'doubl', 'extern', 'speaker', 'want', 'play', 'song', 'loud', 'wasnt', 'best', 'doabl', 'year', 'cant', 'realli', 'complain', 'gave', 'teenag', 'replac', 'wait', 'upgrad', 'time', 'phone', 'use', 'crap', 'batteri', 'final', 'isnt', 'keep', 'anymor', 'wont', 'stay', 'charg', 'though', 'cant', 'realli', 'complain', 'phone', 'earpiec', 'doubl', 'extern', 'speaker', 'want', 'play', 'song', 'loud', 'wasnt', 'best', 'doabl', 'year', 'cant', 'realli', 'complain', 'gave', 'teenag', 'replac', 'wait', 'upgrad', 'time', 'phone', 'use', 'crap', 'batteri', 'final', 'isnt', 'keep', 'anymor', 'wont', 'stay', 'charg', 'though', 'cant', 'realli', 'complain', 'phone', 'earpiec', 'doubl', 'extern', 'speaker', 'want', 'play', 'song', 'loud', 'wasnt', 'best', 'doabl', 'year', 'cant', 'realli', 'complain', 'gave', 'teenag', 'replac', 'wait', 'upgrad', 'time', 'phone', 'use', 'crap', 'batteri', 'final', 'isnt', 'keep', 'anymor', 'wont', 'stay', 'charg', 'though', 'cant', 'realli', 'complain', 'phone', 'earpiec', 'doubl', 'extern', 'speaker', 'want', 'play', 'song', 'loud', 'wasnt', 'best', 'doabl', 'year', 'cant', 'realli', 'complain', 'gave', 'teenag', 'replac', 'wait', 'upgrad', 'time', 'phone', 'use', 'crap', 'batteri', 'final', 'isnt', 'keep', 'anymor', 'wont', 'stay', 'charg', 'though', 'cant', 'realli', 'complain', 'phone', 'earpiec', 'doubl', 'extern', 'speaker', 'want', 'play', 'song', 'loud', 'wasnt', 'best', 'doabl', 'year', 'cant', 'realli', 'complain', 'gave', 'teenag', 'replac', 'wait', 'upgrad', 'time', 'phone', 'use', 'crap', 'batteri', 'final', 'isnt', 'keep', 'anymor', 'wont', 'stay', 'charg', 'though', 'cant', 'realli', 'complain', 'phone', 'earpiec', 'doubl', 'extern', 'speaker', 'want', 'play', 'song', 'loud', 'wasnt', 'best', 'doabl', 'year', 'cant', 'realli', 'complain', 'gave', 'teenag', 'replac', 'wait', 'upgrad', 'time', 'phone', 'use', 'crap', 'batteri', 'final', 'isnt', 'keep', 'anymor', 'wont', 'stay', 'charg', 'though', 'cant', 'realli', 'complain', 'phone', 'earpiec', 'doubl', 'extern', 'speaker', 'want', 'play', 'song', 'loud', 'wasnt', 'best', 'doabl', 'year', 'cant', 'realli', 'complain', 'gave', 'teenag', 'replac', 'wait', 'upgrad', 'time', 'phone', 'use', 'crap', 'batteri', 'final', 'isnt', 'keep', 'anymor', 'wont', 'stay', 'charg', 'though', 'cant', 'realli', 'complain', 'phone', 'earpiec', 'doubl', 'extern', 'speaker', 'want', 'play', 'song', 'loud', 'wasnt', 'best', 'doabl', 'year', 'cant', 'realli', 'complain', 'gave', 'teenag', 'replac', 'wait', 'upgrad', 'time', 'phone', 'use', 'crap', 'batteri', 'final', 'isnt', 'keep', 'anymor', 'wont', 'stay', 'charg', 'though', 'cant', 'realli', 'complain', 'phone', 'earpiec', 'doubl', 'extern', 'speaker', 'want', 'play', 'song', 'loud', 'wasnt', 'best', 'doabl', 'year', 'cant', 'realli', 'complain', 'gave', 'teenag', 'replac', 'wait', 'upgrad', 'time', 'phone', 'use', 'crap', 'batteri', 'final', 'isnt', 'keep', 'anymor', 'wont', 'stay', 'charg', 'though', 'cant', 'realli', 'complain', 'phone', 'earpiec', 'doubl', 'extern', 'speaker', 'want', 'play', 'song', 'loud', 'wasnt', 'best', 'doabl', 'year', 'cant', 'realli', 'complain', 'gave', 'teenag', 'replac', 'wait', 'upgrad', 'time', 'phone', 'use', 'crap', 'batteri', 'final', 'isnt', 'keep', 'anymor', 'wont', 'stay', 'charg', 'though', 'cant', 'realli', 'complain', 'phone', 'earpiec', 'doubl', 'extern', 'speaker', 'want', 'play', 'song', 'loud', 'wasnt', 'best', 'doabl', 'year', 'cant', 'realli', 'complain', 'gave', 'teenag', 'replac', 'wait', 'upgrad', 'time', 'phone', 'use', 'crap', 'batteri', 'final', 'isnt', 'keep', 'anymor', 'wont', 'stay', 'charg', 'though', 'cant', 'realli', 'complain', 'phone', 'earpiec', 'doubl', 'extern', 'speaker', 'want', 'play', 'song', 'loud', 'wasnt', 'best', 'doabl', 'year', 'cant', 'realli', 'complain', 'gave', 'teenag', 'replac', 'wait', 'upgrad', 'time', 'phone', 'use', 'crap', 'batteri', 'final', 'isnt', 'keep', 'anymor', 'wont', 'stay', 'charg', 'though', 'cant', 'realli', 'complain', 'phone', 'earpiec', 'doubl', 'extern', 'speaker', 'want', 'play', 'song', 'loud', 'wasnt', 'best', 'doabl', 'year', 'cant', 'realli', 'complain', 'gave', 'teenag', 'replac', 'wait', 'upgrad', 'time', 'phone', 'use', 'crap', 'batteri', 'final', 'isnt', 'keep', 'anymor', 'wont', 'stay', 'charg', 'though', 'cant', 'realli', 'complain', 'phone', 'earpiec', 'doubl', 'extern', 'speaker', 'want', 'play', 'song', 'loud', 'wasnt', 'best', 'doabl', 'year', 'cant', 'realli', 'complain', 'gave', 'teenag', 'replac', 'wait', 'upgrad', 'time', 'phone', 'use', 'crap', 'batteri', 'final', 'isnt', 'keep', 'anymor', 'wont', 'stay', 'charg', 'though', 'cant', 'realli', 'complain', 'phone', 'earpiec', 'doubl', 'extern', 'speaker', 'want', 'play', 'song', 'loud', 'wasnt', 'best', 'doabl'], ['perfect', 'thank', 'perfect', 'thank', 'perfect', 'thank', 'perfect', 'thank', 'perfect', 'thank', 'perfect', 'thank', 'perfect', 'thank', 'perfect', 'thank'], ['back', 'camera', 'stop', 'work', 'phone', 'touch', 'screen', 'stop', 'work', 'restart', 'phone', 'get', 'work', 'phone', 'huge', 'disappoint', 'worth', 'paid', 'back', 'camera', 'stop', 'work', 'phone', 'touch', 'screen', 'stop', 'work', 'restart', 'phone', 'get', 'work', 'phone', 'huge', 'disappoint', 'worth', 'paid', 'back', 'camera', 'stop', 'work', 'phone', 'touch', 'screen', 'stop', 'work', 'restart', 'phone', 'get', 'work', 'phone', 'huge', 'disappoint', 'worth', 'paid', 'back', 'camera', 'stop', 'work', 'phone', 'touch', 'screen', 'stop', 'work', 'restart', 'phone', 'get', 'work', 'phone', 'huge', 'disappoint', 'worth', 'paid', 'back', 'camera', 'stop', 'work', 'phone', 'touch', 'screen', 'stop', 'work', 'restart', 'phone', 'get', 'work', 'phone', 'huge', 'disappoint', 'worth', 'paid', 'back', 'camera', 'stop', 'work', 'phone', 'touch', 'screen', 'stop', 'work', 'restart', 'phone', 'get', 'work', 'phone', 'huge', 'disappoint', 'worth', 'paid', 'back', 'camera', 'stop', 'work', 'phone', 'touch', 'screen', 'stop', 'work', 'restart', 'phone', 'get', 'work', 'phone', 'huge', 'disappoint', 'worth', 'paid', 'back', 'camera', 'stop', 'work', 'phone', 'touch', 'screen', 'stop', 'work', 'restart', 'phone', 'get', 'work', 'phone', 'huge', 'disappoint', 'worth', 'paid', 'back', 'camera', 'stop', 'work', 'phone', 'touch', 'screen', 'stop', 'work', 'restart', 'phone', 'get', 'work', 'phone', 'huge', 'disappoint', 'worth', 'paid', 'back', 'camera', 'stop', 'work', 'phone', 'touch', 'screen', 'stop', 'work', 'restart', 'phone', 'get', 'work', 'phone', 'huge', 'disappoint', 'worth', 'paid', 'back', 'camera', 'stop', 'work', 'phone', 'touch', 'screen', 'stop', 'work', 'restart', 'phone', 'get', 'work', 'phone', 'huge', 'disappoint', 'worth', 'paid', 'back', 'camera', 'stop', 'work', 'phone', 'touch', 'screen', 'stop', 'work', 'restart', 'phone', 'get', 'work', 'phone', 'huge', 'disappoint', 'worth', 'paid', 'back', 'camera', 'stop', 'work', 'phone', 'touch', 'screen', 'stop', 'work', 'restart', 'phone', 'get', 'work', 'phone', 'huge', 'disappoint', 'worth', 'paid', 'back', 'camera', 'stop', 'work', 'phone', 'touch', 'screen', 'stop', 'work', 'restart', 'phone', 'get', 'work', 'phone', 'huge', 'disappoint', 'worth', 'paid', 'back', 'camera', 'stop', 'work', 'phone', 'touch', 'screen', 'stop', 'work', 'restart', 'phone', 'get', 'work', 'phone', 'huge', 'disappoint', 'worth', 'paid', 'back', 'camera', 'stop', 'work', 'phone', 'touch', 'screen', 'stop', 'work', 'restart', 'phone', 'get', 'work', 'phone', 'huge', 'disappoint', 'worth', 'paid', 'back', 'camera', 'stop', 'work', 'phone', 'touch', 'screen', 'stop', 'work', 'restart', 'phone', 'get', 'work', 'phone', 'huge', 'disappoint', 'worth', 'paid', 'back', 'camera', 'stop', 'work', 'phone', 'touch', 'screen', 'stop', 'work', 'restart', 'phone', 'get', 'work', 'phone', 'huge', 'disappoint', 'worth', 'paid', 'back', 'camera', 'stop', 'work', 'phone', 'touch', 'screen', 'stop', 'work', 'restart', 'phone', 'get', 'work', 'phone', 'huge', 'disappoint', 'worth', 'paid', 'back', 'camera', 'stop', 'work', 'phone', 'touch', 'screen', 'stop', 'work', 'restart', 'phone', 'get', 'work', 'phone', 'huge', 'disappoint', 'worth', 'paid', 'back', 'camera', 'stop', 'work', 'phone', 'touch', 'screen', 'stop', 'work', 'restart', 'phone', 'get', 'work', 'phone', 'huge', 'disappoint', 'worth', 'paid', 'back', 'camera', 'stop', 'work', 'phone', 'touch', 'screen', 'stop', 'work', 'restart', 'phone', 'get', 'work', 'phone', 'huge', 'disappoint', 'worth', 'paid', 'back', 'camera', 'stop', 'work', 'phone', 'touch', 'screen', 'stop', 'work', 'restart', 'phone', 'get', 'work', 'phone', 'huge', 'disappoint', 'worth', 'paid', 'back', 'camera', 'stop', 'work', 'phone', 'touch', 'screen', 'stop', 'work', 'restart', 'phone', 'get', 'work', 'phone', 'huge', 'disappoint', 'worth', 'paid', 'back', 'camera', 'stop', 'work', 'phone', 'touch', 'screen', 'stop', 'work', 'restart', 'phone', 'get', 'work', 'phone', 'huge', 'disappoint', 'worth', 'paid', 'back', 'camera', 'stop', 'work', 'phone', 'touch', 'screen', 'stop', 'work', 'restart', 'phone', 'get', 'work', 'phone', 'huge', 'disappoint', 'worth', 'paid', 'back', 'camera', 'stop', 'work', 'phone', 'touch', 'screen', 'stop', 'work', 'restart', 'phone', 'get', 'work', 'phone', 'huge', 'disappoint', 'worth', 'paid', 'back', 'camera', 'stop', 'work', 'phone', 'touch', 'screen', 'stop', 'work', 'restart', 'phone', 'get', 'work', 'phone', 'huge', 'disappoint', 'worth', 'paid', 'back', 'camera', 'stop', 'work', 'phone', 'touch', 'screen', 'stop', 'work', 'restart', 'phone', 'get', 'work', 'phone', 'huge', 'disappoint', 'worth', 'paid', 'back', 'camera', 'stop', 'work', 'phone', 'touch', 'screen', 'stop', 'work', 'restart', 'phone', 'get', 'work', 'phone', 'huge', 'disappoint', 'worth', 'paid', 'back', 'camera', 'stop', 'work', 'phone', 'touch', 'screen', 'stop', 'work', 'restart', 'phone', 'get', 'work', 'phone', 'huge', 'disappoint', 'worth', 'paid', 'back', 'camera', 'stop', 'work', 'phone', 'touch', 'screen', 'stop', 'work', 'restart', 'phone', 'get', 'work', 'phone', 'huge', 'disappoint', 'worth', 'paid', 'back', 'camera', 'stop', 'work', 'phone', 'touch', 'screen', 'stop', 'work', 'restart', 'phone', 'get', 'work', 'phone', 'huge', 'disappoint', 'worth', 'paid', 'back', 'camera', 'stop', 'work', 'phone', 'touch', 'screen', 'stop', 'work', 'restart', 'phone', 'get', 'work', 'phone', 'huge', 'disappoint', 'worth', 'paid', 'back', 'camera', 'stop', 'work', 'phone', 'touch', 'screen', 'stop', 'work', 'restart', 'phone', 'get', 'work', 'phone', 'huge', 'disappoint', 'worth', 'paid', 'back', 'camera', 'stop', 'work', 'phone', 'touch', 'screen', 'stop', 'work', 'restart', 'phone', 'get', 'work', 'phone', 'huge', 'disappoint', 'worth', 'paid', 'back', 'camera', 'stop', 'work', 'phone', 'touch', 'screen', 'stop', 'work', 'restart', 'phone', 'get', 'work', 'phone', 'huge', 'disappoint', 'worth', 'paid', 'back', 'camera', 'stop', 'work', 'phone', 'touch', 'screen', 'stop', 'work', 'restart', 'phone', 'get', 'work', 'phone', 'huge', 'disappoint', 'worth', 'paid', 'back', 'camera', 'stop', 'work', 'phone', 'touch', 'screen', 'stop', 'work', 'restart', 'phone', 'get', 'work', 'phone', 'huge', 'disappoint', 'worth', 'paid', 'back', 'camera', 'stop', 'work', 'phone', 'touch', 'screen', 'stop', 'work', 'restart', 'phone', 'get', 'work', 'phone', 'huge', 'disappoint', 'worth', 'paid', 'back', 'camera', 'stop', 'work', 'phone', 'touch', 'screen', 'stop', 'work', 'restart', 'phone', 'get', 'work', 'phone', 'huge', 'disappoint', 'worth', 'paid', 'back', 'camera', 'stop', 'work', 'phone', 'touch', 'screen', 'stop', 'work', 'restart', 'phone', 'get', 'work', 'phone', 'huge', 'disappoint', 'worth', 'paid', 'back', 'camera', 'stop', 'work', 'phone', 'touch', 'screen', 'stop', 'work', 'restart', 'phone', 'get', 'work', 'phone', 'huge', 'disappoint', 'worth', 'paid', 'back', 'camera', 'stop', 'work', 'phone', 'touch', 'screen', 'stop', 'work', 'restart', 'phone', 'get', 'work', 'phone', 'huge', 'disappoint', 'worth', 'paid', 'back', 'camera', 'stop', 'work', 'phone', 'touch', 'screen', 'stop', 'work', 'restart', 'phone', 'get', 'work', 'phone', 'huge', 'disappoint', 'worth', 'paid', 'back', 'camera', 'stop', 'work', 'phone', 'touch', 'screen', 'stop', 'work', 'restart', 'phone', 'get', 'work', 'phone', 'huge', 'disappoint', 'worth', 'paid', 'back', 'camera', 'stop', 'work', 'phone', 'touch', 'screen', 'stop', 'work', 'restart', 'phone', 'get', 'work', 'phone', 'huge', 'disappoint', 'worth', 'paid', 'back', 'camera', 'stop', 'work', 'phone', 'touch', 'screen', 'stop', 'work', 'restart', 'phone', 'get', 'work', 'phone', 'huge', 'disappoint', 'worth', 'paid', 'back', 'camera', 'stop', 'work', 'phone', 'touch', 'screen', 'stop', 'work', 'restart', 'phone', 'get', 'work', 'phone', 'huge', 'disappoint', 'worth', 'paid', 'back', 'camera', 'stop', 'work', 'phone', 'touch', 'screen', 'stop', 'work', 'restart', 'phone', 'get', 'work', 'phone', 'huge', 'disappoint', 'worth', 'paid', 'back', 'camera', 'stop', 'work', 'phone', 'touch', 'screen', 'stop', 'work', 'restart', 'phone', 'get', 'work', 'phone', 'huge', 'disappoint', 'worth', 'paid', 'back', 'camera', 'stop', 'work', 'phone', 'touch', 'screen', 'stop', 'work', 'restart', 'phone', 'get', 'work', 'phone', 'huge', 'disappoint', 'worth', 'paid', 'back', 'camera', 'stop', 'work', 'phone', 'touch', 'screen', 'stop', 'work', 'restart', 'phone', 'get', 'work', 'phone', 'huge', 'disappoint', 'worth', 'paid', 'back', 'camera', 'stop', 'work', 'phone', 'touch', 'screen', 'stop', 'work', 'restart', 'phone', 'get', 'work', 'phone', 'huge', 'disappoint', 'worth', 'paid', 'back', 'camera', 'stop', 'work', 'phone', 'touch', 'screen', 'stop', 'work', 'restart', 'phone', 'get', 'work', 'phone', 'huge', 'disappoint', 'worth', 'paid', 'back', 'camera', 'stop', 'work', 'phone', 'touch', 'screen', 'stop', 'work', 'restart', 'phone', 'get', 'work', 'phone', 'huge', 'disappoint', 'worth', 'paid', 'back', 'camera', 'stop', 'work', 'phone', 'touch', 'screen', 'stop', 'work', 'restart', 'phone', 'get', 'work', 'phone', 'huge', 'disappoint', 'worth', 'paid', 'back', 'camera', 'stop', 'work', 'phone', 'touch', 'screen', 'stop', 'work', 'restart', 'phone', 'get', 'work', 'phone', 'huge', 'disappoint', 'worth', 'paid', 'back', 'camera', 'stop', 'work', 'phone', 'touch', 'screen', 'stop', 'work', 'restart', 'phone', 'get', 'work', 'phone', 'huge', 'disappoint', 'worth', 'paid', 'back', 'camera', 'stop', 'work', 'phone', 'touch', 'screen', 'stop', 'work', 'restart', 'phone', 'get', 'work', 'phone', 'huge', 'disappoint', 'worth', 'paid', 'back', 'camera', 'stop', 'work', 'phone', 'touch', 'screen', 'stop', 'work', 'restart', 'phone', 'get', 'work', 'phone', 'huge', 'disappoint', 'worth', 'paid', 'back', 'camera', 'stop', 'work', 'phone', 'touch', 'screen', 'stop', 'work', 'restart', 'phone', 'get', 'work', 'phone', 'huge', 'disappoint', 'worth', 'paid', 'back', 'camera', 'stop', 'work', 'phone', 'touch', 'screen', 'stop', 'work', 'restart', 'phone', 'get', 'work', 'phone', 'huge', 'disappoint', 'worth', 'paid', 'back', 'camera', 'stop', 'work', 'phone', 'touch', 'screen', 'stop', 'work', 'restart', 'phone', 'get', 'work', 'phone', 'huge', 'disappoint', 'worth', 'paid', 'back', 'camera', 'stop', 'work', 'phone', 'touch', 'screen', 'stop', 'work', 'restart', 'phone', 'get', 'work', 'phone', 'huge', 'disappoint', 'worth', 'paid', 'back', 'camera', 'stop', 'work', 'phone', 'touch', 'screen', 'stop', 'work', 'restart', 'phone', 'get', 'work', 'phone', 'huge', 'disappoint', 'worth', 'paid', 'back', 'camera', 'stop', 'work', 'phone', 'touch', 'screen', 'stop', 'work', 'restart', 'phone', 'get', 'work', 'phone', 'huge', 'disappoint', 'worth', 'paid', 'back', 'camera', 'stop', 'work', 'phone', 'touch', 'screen', 'stop', 'work', 'restart', 'phone', 'get', 'work', 'phone', 'huge', 'disappoint', 'worth', 'paid', 'back', 'camera', 'stop', 'work', 'phone', 'touch', 'screen', 'stop', 'work', 'restart', 'phone', 'get', 'work', 'phone', 'huge', 'disappoint', 'worth', 'paid', 'back', 'camera', 'stop', 'work', 'phone', 'touch', 'screen', 'stop', 'work', 'restart', 'phone', 'get', 'work', 'phone', 'huge', 'disappoint', 'worth', 'paid', 'back', 'camera', 'stop', 'work', 'phone', 'touch', 'screen', 'stop', 'work', 'restart', 'phone', 'get', 'work', 'phone', 'huge', 'disappoint', 'worth', 'paid', 'back', 'camera', 'stop', 'work', 'phone', 'touch', 'screen', 'stop', 'work', 'restart', 'phone', 'get', 'work', 'phone', 'huge', 'disappoint', 'worth', 'paid', 'back', 'camera', 'stop', 'work', 'phone', 'touch', 'screen', 'stop', 'work', 'restart', 'phone', 'get', 'work', 'phone', 'huge', 'disappoint', 'worth', 'paid', 'back', 'camera', 'stop', 'work', 'phone', 'touch', 'screen', 'stop', 'work', 'restart', 'phone', 'get', 'work', 'phone', 'huge', 'disappoint', 'worth', 'paid', 'back', 'camera', 'stop', 'work', 'phone', 'touch', 'screen', 'stop', 'work', 'restart', 'phone', 'get', 'work', 'phone', 'huge', 'disappoint', 'worth', 'paid', 'back', 'camera', 'stop', 'work', 'phone', 'touch', 'screen', 'stop', 'work', 'restart', 'phone', 'get', 'work', 'phone', 'huge', 'disappoint', 'worth', 'paid', 'back', 'camera', 'stop', 'work', 'phone', 'touch', 'screen', 'stop', 'work', 'restart', 'phone', 'get', 'work', 'phone', 'huge', 'disappoint', 'worth', 'paid', 'back', 'camera', 'stop', 'work', 'phone', 'touch', 'screen', 'stop', 'work', 'restart', 'phone', 'get', 'work', 'phone', 'huge', 'disappoint', 'worth', 'paid', 'back', 'camera', 'stop', 'work', 'phone', 'touch', 'screen', 'stop', 'work', 'restart', 'phone', 'get', 'work', 'phone', 'huge', 'disappoint', 'worth', 'paid', 'back', 'camera', 'stop', 'work', 'phone', 'touch', 'screen', 'stop', 'work', 'restart', 'phone', 'get', 'work', 'phone', 'huge', 'disappoint', 'worth', 'paid', 'back', 'camera', 'stop', 'work', 'phone', 'touch', 'screen', 'stop', 'work', 'restart', 'phone', 'get', 'work', 'phone', 'huge', 'disappoint', 'worth', 'paid', 'back', 'camera', 'stop', 'work', 'phone', 'touch', 'screen', 'stop', 'work', 'restart', 'phone', 'get', 'work', 'phone', 'huge', 'disappoint', 'worth', 'paid', 'back', 'camera', 'stop', 'work', 'phone', 'touch', 'screen', 'stop', 'work', 'restart', 'phone', 'get', 'work', 'phone', 'huge', 'disappoint', 'worth', 'paid', 'back', 'camera', 'stop', 'work', 'phone', 'touch', 'screen', 'stop', 'work', 'restart', 'phone', 'get', 'work', 'phone', 'huge', 'disappoint', 'worth', 'paid', 'back', 'camera', 'stop', 'work', 'phone', 'touch', 'screen', 'stop', 'work', 'restart', 'phone', 'get', 'work', 'phone', 'huge', 'disappoint', 'worth', 'paid', 'back', 'camera', 'stop', 'work', 'phone', 'touch', 'screen', 'stop', 'work', 'restart', 'phone', 'get', 'work', 'phone', 'huge', 'disappoint', 'worth', 'paid', 'back', 'camera', 'stop', 'work', 'phone', 'touch', 'screen', 'stop', 'work', 'restart', 'phone', 'get', 'work', 'phone', 'huge', 'disappoint', 'worth', 'paid', 'back', 'camera', 'stop', 'work', 'phone', 'touch', 'screen', 'stop', 'work', 'restart', 'phone', 'get', 'work', 'phone', 'huge', 'disappoint', 'worth', 'paid', 'back', 'camera', 'stop', 'work', 'phone', 'touch', 'screen', 'stop', 'work', 'restart', 'phone', 'get', 'work', 'phone', 'huge', 'disappoint', 'worth', 'paid', 'back', 'camera', 'stop', 'work', 'phone', 'touch', 'screen', 'stop', 'work', 'restart', 'phone', 'get', 'work', 'phone', 'huge', 'disappoint', 'worth', 'paid', 'back', 'camera', 'stop', 'work', 'phone', 'touch', 'screen', 'stop', 'work', 'restart', 'phone', 'get', 'work', 'phone', 'huge', 'disappoint', 'worth', 'paid', 'back', 'camera', 'stop', 'work', 'phone', 'touch', 'screen', 'stop', 'work', 'restart', 'phone', 'get', 'work', 'phone', 'huge', 'disappoint', 'worth', 'paid', 'back', 'camera', 'stop', 'work', 'phone', 'touch', 'screen', 'stop', 'work', 'restart', 'phone', 'get', 'work', 'phone', 'huge', 'disappoint', 'worth', 'paid', 'back', 'camera', 'stop', 'work', 'phone', 'touch', 'screen', 'stop', 'work', 'restart', 'phone', 'get', 'work', 'phone', 'huge', 'disappoint', 'worth', 'paid', 'back', 'camera', 'stop', 'work', 'phone', 'touch', 'screen', 'stop', 'work', 'restart', 'phone', 'get', 'work', 'phone', 'huge', 'disappoint', 'worth', 'paid', 'back', 'camera', 'stop', 'work', 'phone', 'touch', 'screen', 'stop', 'work', 'restart', 'phone', 'get', 'work', 'phone', 'huge', 'disappoint', 'worth', 'paid', 'back', 'camera', 'stop', 'work', 'phone', 'touch', 'screen', 'stop', 'work', 'restart', 'phone', 'get', 'work', 'phone', 'huge', 'disappoint', 'worth', 'paid', 'back', 'camera', 'stop', 'work', 'phone', 'touch', 'screen', 'stop', 'work', 'restart', 'phone', 'get', 'work', 'phone', 'huge', 'disappoint', 'worth', 'paid', 'back', 'camera', 'stop', 'work', 'phone', 'touch', 'screen', 'stop', 'work', 'restart', 'phone', 'get', 'work', 'phone', 'huge', 'disappoint', 'worth', 'paid', 'back', 'camera', 'stop', 'work', 'phone', 'touch', 'screen', 'stop', 'work', 'restart', 'phone', 'get', 'work', 'phone', 'huge', 'disappoint', 'worth', 'paid', 'back', 'camera', 'stop', 'work', 'phone', 'touch', 'screen', 'stop', 'work', 'restart', 'phone', 'get', 'work', 'phone', 'huge', 'disappoint', 'worth', 'paid', 'back', 'camera', 'stop', 'work', 'phone', 'touch', 'screen', 'stop', 'work', 'restart', 'phone', 'get', 'work', 'phone', 'huge', 'disappoint', 'worth', 'paid', 'back', 'camera', 'stop', 'work', 'phone', 'touch', 'screen', 'stop', 'work', 'restart', 'phone', 'get', 'work', 'phone', 'huge', 'disappoint', 'worth', 'paid', 'back', 'camera', 'stop', 'work', 'phone', 'touch', 'screen', 'stop', 'work', 'restart', 'phone', 'get', 'work', 'phone', 'huge', 'disappoint', 'worth', 'paid', 'back', 'camera', 'stop', 'work', 'phone', 'touch', 'screen', 'stop', 'work', 'restart', 'phone', 'get', 'work', 'phone', 'huge', 'disappoint', 'worth', 'paid', 'back', 'camera', 'stop', 'work', 'phone', 'touch', 'screen', 'stop', 'work', 'restart', 'phone', 'get', 'work', 'phone', 'huge', 'disappoint', 'worth', 'paid', 'back', 'camera', 'stop', 'work', 'phone', 'touch', 'screen', 'stop', 'work', 'restart', 'phone', 'get', 'work', 'phone', 'huge', 'disappoint', 'worth', 'paid', 'back', 'camera', 'stop', 'work', 'phone', 'touch', 'screen', 'stop', 'work', 'restart', 'phone', 'get', 'work', 'phone', 'huge', 'disappoint', 'worth', 'paid', 'back', 'camera', 'stop', 'work', 'phone', 'touch', 'screen', 'stop', 'work', 'restart', 'phone', 'get', 'work', 'phone', 'huge', 'disappoint', 'worth', 'paid', 'back', 'camera', 'stop', 'work', 'phone', 'touch', 'screen', 'stop', 'work', 'restart', 'phone', 'get', 'work', 'phone', 'huge', 'disappoint', 'worth', 'paid', 'back', 'camera', 'stop', 'work', 'phone', 'touch', 'screen', 'stop', 'work', 'restart', 'phone', 'get', 'work', 'phone', 'huge', 'disappoint', 'worth', 'paid', 'back', 'camera', 'stop', 'work', 'phone', 'touch', 'screen', 'stop', 'work', 'restart', 'phone', 'get', 'work', 'phone', 'huge', 'disappoint', 'worth', 'paid', 'back', 'camera', 'stop', 'work', 'phone', 'touch', 'screen', 'stop', 'work', 'restart', 'phone', 'get', 'work', 'phone', 'huge', 'disappoint', 'worth', 'paid', 'back', 'camera', 'stop', 'work', 'phone', 'touch', 'screen', 'stop', 'work', 'restart', 'phone', 'get', 'work', 'phone', 'huge', 'disappoint', 'worth', 'paid', 'back', 'camera', 'stop', 'work', 'phone', 'touch', 'screen', 'stop', 'work', 'restart', 'phone', 'get', 'work', 'phone', 'huge', 'disappoint', 'worth', 'paid', 'back', 'camera', 'stop', 'work', 'phone', 'touch', 'screen', 'stop', 'work', 'restart', 'phone', 'get', 'work', 'phone', 'huge', 'disappoint', 'worth', 'paid', 'back', 'camera', 'stop', 'work', 'phone', 'touch', 'screen', 'stop', 'work', 'restart', 'phone', 'get', 'work', 'phone', 'huge', 'disappoint', 'worth', 'paid', 'back', 'camera', 'stop', 'work', 'phone', 'touch', 'screen', 'stop', 'work', 'restart', 'phone', 'get', 'work', 'phone', 'huge', 'disappoint', 'worth', 'paid', 'back', 'camera', 'stop', 'work', 'phone', 'touch', 'screen', 'stop', 'work', 'restart', 'phone', 'get', 'work', 'phone', 'huge', 'disappoint', 'worth', 'paid', 'back', 'camera', 'stop', 'work', 'phone', 'touch', 'screen', 'stop', 'work', 'restart', 'phone', 'get', 'work', 'phone', 'huge', 'disappoint', 'worth', 'paid', 'back', 'camera', 'stop', 'work', 'phone', 'touch', 'screen', 'stop', 'work', 'restart', 'phone', 'get', 'work', 'phone', 'huge', 'disappoint', 'worth', 'paid', 'back', 'camera', 'stop', 'work', 'phone', 'touch', 'screen', 'stop', 'work', 'restart', 'phone', 'get', 'work', 'phone', 'huge', 'disappoint', 'worth', 'paid', 'back', 'camera', 'stop', 'work', 'phone', 'touch', 'screen', 'stop', 'work', 'restart', 'phone', 'get', 'work', 'phone', 'huge', 'disappoint', 'worth', 'paid', 'back', 'camera', 'stop', 'work', 'phone', 'touch', 'screen', 'stop', 'work', 'restart', 'phone', 'get', 'work', 'phone', 'huge', 'disappoint', 'worth', 'paid', 'back', 'camera', 'stop', 'work', 'phone', 'touch', 'screen', 'stop', 'work', 'restart', 'phone', 'get', 'work', 'phone', 'huge', 'disappoint', 'worth', 'paid', 'back', 'camera', 'stop', 'work', 'phone', 'touch', 'screen', 'stop', 'work', 'restart', 'phone', 'get', 'work', 'phone', 'huge', 'disappoint', 'worth', 'paid', 'back', 'camera', 'stop', 'work', 'phone', 'touch', 'screen', 'stop', 'work', 'restart', 'phone', 'get', 'work', 'phone', 'huge', 'disappoint', 'worth', 'paid', 'back', 'camera', 'stop', 'work', 'phone', 'touch', 'screen', 'stop', 'work', 'restart', 'phone', 'get', 'work', 'phone', 'huge', 'disappoint', 'worth', 'paid', 'back', 'camera', 'stop', 'work', 'phone', 'touch', 'screen', 'stop', 'work', 'restart', 'phone', 'get', 'work', 'phone', 'huge', 'disappoint', 'worth', 'paid', 'back', 'camera', 'stop', 'work', 'phone', 'touch', 'screen', 'stop', 'work', 'restart', 'phone', 'get', 'work', 'phone', 'huge', 'disappoint', 'worth', 'paid', 'back', 'camera', 'stop', 'work', 'phone', 'touch', 'screen', 'stop', 'work', 'restart', 'phone', 'get', 'work', 'phone', 'huge', 'disappoint', 'worth', 'paid', 'back', 'camera', 'stop', 'work', 'phone', 'touch', 'screen', 'stop', 'work', 'restart', 'phone', 'get', 'work', 'phone', 'huge', 'disappoint', 'worth', 'paid', 'back', 'camera', 'stop', 'work', 'phone', 'touch', 'screen', 'stop', 'work', 'restart', 'phone', 'get', 'work', 'phone', 'huge', 'disappoint', 'worth', 'paid', 'back', 'camera', 'stop', 'work', 'phone', 'touch', 'screen', 'stop', 'work', 'restart', 'phone', 'get', 'work', 'phone', 'huge', 'disappoint', 'worth', 'paid', 'back', 'camera', 'stop', 'work', 'phone', 'touch', 'screen', 'stop', 'work', 'restart', 'phone', 'get', 'work', 'phone', 'huge', 'disappoint', 'worth', 'paid', 'back', 'camera', 'stop', 'work', 'phone', 'touch', 'screen', 'stop', 'work', 'restart', 'phone', 'get', 'work', 'phone', 'huge', 'disappoint', 'worth', 'paid', 'back', 'camera', 'stop', 'work', 'phone', 'touch', 'screen', 'stop', 'work', 'restart', 'phone', 'get', 'work', 'phone', 'huge', 'disappoint', 'worth', 'paid', 'back', 'camera', 'stop', 'work', 'phone', 'touch', 'screen', 'stop', 'work', 'restart', 'phone', 'get', 'work', 'phone', 'huge', 'disappoint', 'worth', 'paid', 'back', 'camera', 'stop', 'work', 'phone', 'touch', 'screen', 'stop', 'work', 'restart', 'phone', 'get', 'work', 'phone', 'huge', 'disappoint', 'worth', 'paid', 'back', 'camera', 'stop', 'work', 'phone', 'touch', 'screen', 'stop', 'work', 'restart', 'phone', 'get', 'work', 'phone', 'huge', 'disappoint', 'worth', 'paid', 'back', 'camera', 'stop', 'work', 'phone', 'touch', 'screen', 'stop', 'work', 'restart', 'phone', 'get', 'work', 'phone', 'huge', 'disappoint', 'worth', 'paid', 'back', 'camera', 'stop', 'work', 'phone', 'touch', 'screen', 'stop', 'work', 'restart', 'phone', 'get', 'work', 'phone', 'huge', 'disappoint', 'worth', 'paid', 'back', 'camera', 'stop', 'work', 'phone', 'touch', 'screen', 'stop', 'work', 'restart', 'phone', 'get', 'work', 'phone', 'huge', 'disappoint', 'worth', 'paid', 'back', 'camera', 'stop', 'work', 'phone', 'touch', 'screen', 'stop', 'work', 'restart', 'phone', 'get', 'work', 'phone', 'huge', 'disappoint', 'worth', 'paid', 'back', 'camera', 'stop', 'work', 'phone', 'touch', 'screen', 'stop', 'work', 'restart', 'phone', 'get', 'work', 'phone', 'huge', 'disappoint', 'worth', 'paid', 'back', 'camera', 'stop', 'work', 'phone', 'touch', 'screen', 'stop', 'work', 'restart', 'phone', 'get', 'work', 'phone', 'huge', 'disappoint', 'worth', 'paid', 'back', 'camera', 'stop', 'work', 'phone', 'touch', 'screen', 'stop', 'work', 'restart', 'phone', 'get', 'work', 'phone', 'huge', 'disappoint', 'worth', 'paid', 'back', 'camera', 'stop', 'work', 'phone', 'touch', 'screen', 'stop', 'work', 'restart', 'phone', 'get', 'work', 'phone', 'huge', 'disappoint', 'worth', 'paid', 'back', 'camera', 'stop', 'work', 'phone', 'touch', 'screen', 'stop', 'work', 'restart', 'phone', 'get', 'work', 'phone', 'huge', 'disappoint', 'worth', 'paid', 'back', 'camera', 'stop', 'work', 'phone', 'touch', 'screen', 'stop', 'work', 'restart', 'phone', 'get', 'work', 'phone', 'huge', 'disappoint', 'worth', 'paid', 'back', 'camera', 'stop', 'work', 'phone', 'touch', 'screen', 'stop', 'work', 'restart', 'phone', 'get', 'work', 'phone', 'huge', 'disappoint', 'worth', 'paid', 'back', 'camera', 'stop', 'work', 'phone', 'touch', 'screen', 'stop', 'work', 'restart', 'phone', 'get', 'work', 'phone', 'huge', 'disappoint', 'worth', 'paid', 'back', 'camera', 'stop', 'work', 'phone', 'touch', 'screen', 'stop', 'work', 'restart', 'phone', 'get', 'work', 'phone', 'huge', 'disappoint', 'worth', 'paid', 'back', 'camera', 'stop', 'work', 'phone', 'touch', 'screen', 'stop', 'work', 'restart', 'phone', 'get', 'work', 'phone', 'huge', 'disappoint', 'worth', 'paid', 'back', 'camera', 'stop', 'work', 'phone', 'touch', 'screen', 'stop', 'work', 'restart', 'phone', 'get', 'work', 'phone', 'huge', 'disappoint', 'worth', 'paid', 'back', 'camera', 'stop', 'work', 'phone', 'touch', 'screen', 'stop', 'work', 'restart', 'phone', 'get', 'work', 'phone', 'huge', 'disappoint', 'worth', 'paid', 'back', 'camera', 'stop', 'work', 'phone', 'touch', 'screen', 'stop', 'work', 'restart', 'phone', 'get', 'work', 'phone', 'huge', 'disappoint', 'worth', 'paid', 'back', 'camera', 'stop', 'work', 'phone', 'touch', 'screen', 'stop', 'work', 'restart', 'phone', 'get', 'work', 'phone', 'huge', 'disappoint', 'worth', 'paid', 'back', 'camera', 'stop', 'work', 'phone', 'touch', 'screen', 'stop', 'work', 'restart', 'phone', 'get', 'work', 'phone', 'huge', 'disappoint', 'worth', 'paid', 'back', 'camera', 'stop', 'work', 'phone', 'touch', 'screen', 'stop', 'work', 'restart', 'phone', 'get', 'work', 'phone', 'huge', 'disappoint', 'worth', 'paid', 'back', 'camera', 'stop', 'work', 'phone', 'touch', 'screen', 'stop', 'work', 'restart', 'phone', 'get', 'work', 'phone', 'huge', 'disappoint', 'worth', 'paid', 'back', 'camera', 'stop', 'work', 'phone', 'touch', 'screen', 'stop', 'work', 'restart', 'phone', 'get', 'work', 'phone', 'huge', 'disappoint', 'worth', 'paid', 'back', 'camera', 'stop', 'work', 'phone', 'touch', 'screen', 'stop', 'work', 'restart', 'phone', 'get', 'work', 'phone', 'huge', 'disappoint', 'worth', 'paid', 'back', 'camera', 'stop', 'work', 'phone', 'touch', 'screen', 'stop', 'work', 'restart', 'phone', 'get', 'work', 'phone', 'huge', 'disappoint', 'worth', 'paid', 'back', 'camera', 'stop', 'work', 'phone', 'touch', 'screen', 'stop', 'work', 'restart', 'phone', 'get', 'work', 'phone', 'huge', 'disappoint', 'worth', 'paid', 'back', 'camera', 'stop', 'work', 'phone', 'touch', 'screen', 'stop', 'work', 'restart', 'phone', 'get', 'work', 'phone', 'huge', 'disappoint', 'worth', 'paid', 'back', 'camera', 'stop', 'work', 'phone', 'touch', 'screen', 'stop', 'work', 'restart', 'phone', 'get', 'work', 'phone', 'huge', 'disappoint', 'worth', 'paid', 'back', 'camera', 'stop', 'work', 'phone', 'touch', 'screen', 'stop', 'work', 'restart', 'phone', 'get', 'work', 'phone', 'huge', 'disappoint', 'worth', 'paid', 'back', 'camera', 'stop', 'work', 'phone', 'touch', 'screen', 'stop', 'work', 'restart', 'phone', 'get', 'work', 'phone', 'huge', 'disappoint', 'worth', 'paid', 'back', 'camera', 'stop', 'work', 'phone', 'touch', 'screen', 'stop', 'work', 'restart', 'phone', 'get', 'work', 'phone', 'huge', 'disappoint', 'worth', 'paid', 'back', 'camera', 'stop', 'work', 'phone', 'touch', 'screen', 'stop', 'work', 'restart', 'phone', 'get', 'work', 'phone', 'huge', 'disappoint', 'worth', 'paid', 'back', 'camera', 'stop', 'work', 'phone', 'touch', 'screen', 'stop', 'work', 'restart', 'phone', 'get', 'work', 'phone', 'huge', 'disappoint', 'worth', 'paid', 'back', 'camera', 'stop', 'work', 'phone', 'touch', 'screen', 'stop', 'work', 'restart', 'phone', 'get', 'work', 'phone', 'huge', 'disappoint', 'worth', 'paid', 'back', 'camera', 'stop', 'work', 'phone', 'touch', 'screen', 'stop', 'work', 'restart', 'phone', 'get', 'work', 'phone', 'huge', 'disappoint', 'worth', 'paid', 'back', 'camera', 'stop', 'work', 'phone', 'touch', 'screen', 'stop', 'work', 'restart', 'phone', 'get', 'work', 'phone', 'huge', 'disappoint', 'worth', 'paid', 'back', 'camera', 'stop', 'work', 'phone', 'touch', 'screen', 'stop', 'work', 'restart', 'phone', 'get', 'work', 'phone', 'huge', 'disappoint', 'worth', 'paid', 'back', 'camera', 'stop', 'work', 'phone', 'touch', 'screen', 'stop', 'work', 'restart', 'phone', 'get', 'work', 'phone', 'huge', 'disappoint', 'worth', 'paid', 'back', 'camera', 'stop', 'work', 'phone', 'touch', 'screen', 'stop', 'work', 'restart', 'phone', 'get', 'work', 'phone', 'huge', 'disappoint', 'worth', 'paid', 'back', 'camera', 'stop', 'work', 'phone', 'touch', 'screen', 'stop', 'work', 'restart', 'phone', 'get', 'work', 'phone', 'huge', 'disappoint', 'worth', 'paid', 'back', 'camera', 'stop', 'work', 'phone', 'touch', 'screen', 'stop', 'work', 'restart', 'phone', 'get', 'work', 'phone', 'huge', 'disappoint', 'worth', 'paid', 'back', 'camera', 'stop', 'work', 'phone', 'touch', 'screen', 'stop', 'work', 'restart', 'phone', 'get', 'work', 'phone', 'huge', 'disappoint', 'worth', 'paid', 'back', 'camera', 'stop', 'work', 'phone', 'touch', 'screen', 'stop', 'work', 'restart', 'phone', 'get', 'work', 'phone', 'huge', 'disappoint', 'worth', 'paid', 'back', 'camera', 'stop', 'work', 'phone', 'touch', 'screen', 'stop', 'work', 'restart', 'phone', 'get', 'work', 'phone', 'huge', 'disappoint', 'worth', 'paid', 'back', 'camera', 'stop', 'work', 'phone', 'touch', 'screen', 'stop', 'work', 'restart', 'phone', 'get', 'work', 'phone', 'huge', 'disappoint', 'worth', 'paid', 'back', 'camera', 'stop', 'work', 'phone', 'touch', 'screen', 'stop', 'work', 'restart', 'phone', 'get', 'work', 'phone', 'huge', 'disappoint', 'worth', 'paid', 'back', 'camera', 'stop', 'work', 'phone', 'touch', 'screen', 'stop', 'work', 'restart', 'phone', 'get', 'work', 'phone', 'huge', 'disappoint', 'worth', 'paid', 'back', 'camera', 'stop', 'work', 'phone', 'touch', 'screen', 'stop', 'work', 'restart', 'phone', 'get', 'work', 'phone', 'huge', 'disappoint', 'worth', 'paid', 'back', 'camera', 'stop', 'work', 'phone', 'touch', 'screen', 'stop', 'work', 'restart', 'phone', 'get', 'work', 'phone', 'huge', 'disappoint', 'worth', 'paid', 'back', 'camera', 'stop', 'work', 'phone', 'touch', 'screen', 'stop', 'work', 'restart', 'phone', 'get', 'work', 'phone', 'huge', 'disappoint', 'worth', 'paid', 'back', 'camera', 'stop', 'work', 'phone', 'touch', 'screen', 'stop', 'work', 'restart', 'phone', 'get', 'work', 'phone', 'huge', 'disappoint', 'worth', 'paid', 'back', 'camera', 'stop', 'work', 'phone', 'touch', 'screen', 'stop', 'work', 'restart', 'phone', 'get', 'work', 'phone', 'huge', 'disappoint', 'worth', 'paid', 'back', 'camera', 'stop', 'work', 'phone', 'touch', 'screen', 'stop', 'work', 'restart', 'phone', 'get', 'work', 'phone', 'huge', 'disappoint', 'worth', 'paid', 'back', 'camera', 'stop', 'work', 'phone', 'touch', 'screen', 'stop', 'work', 'restart', 'phone', 'get', 'work', 'phone', 'huge', 'disappoint', 'worth', 'paid', 'back', 'camera', 'stop', 'work', 'phone', 'touch', 'screen', 'stop', 'work', 'restart', 'phone', 'get', 'work', 'phone', 'huge', 'disappoint', 'worth', 'paid', 'back', 'camera', 'stop', 'work', 'phone', 'touch', 'screen', 'stop', 'work', 'restart', 'phone', 'get', 'work', 'phone', 'huge', 'disappoint', 'worth', 'paid', 'back', 'camera', 'stop', 'work', 'phone', 'touch', 'screen', 'stop', 'work', 'restart', 'phone', 'get', 'work', 'phone', 'huge', 'disappoint', 'worth', 'paid', 'back', 'camera', 'stop', 'work', 'phone', 'touch', 'screen', 'stop', 'work', 'restart', 'phone', 'get', 'work', 'phone', 'huge', 'disappoint', 'worth', 'paid', 'back', 'camera', 'stop', 'work', 'phone', 'touch', 'screen', 'stop', 'work', 'restart', 'phone', 'get', 'work', 'phone', 'huge', 'disappoint', 'worth', 'paid', 'back', 'camera', 'stop', 'work', 'phone', 'touch', 'screen', 'stop', 'work', 'restart', 'phone', 'get', 'work', 'phone', 'huge', 'disappoint', 'worth', 'paid', 'back', 'camera', 'stop', 'work', 'phone', 'touch', 'screen', 'stop', 'work', 'restart', 'phone', 'get', 'work', 'phone', 'huge', 'disappoint', 'worth', 'paid', 'back', 'camera', 'stop', 'work', 'phone', 'touch', 'screen', 'stop', 'work', 'restart', 'phone', 'get', 'work', 'phone', 'huge', 'disappoint', 'worth', 'paid', 'back', 'camera', 'stop', 'work', 'phone', 'touch', 'screen', 'stop', 'work', 'restart', 'phone', 'get', 'work', 'phone', 'huge', 'disappoint', 'worth', 'paid', 'back', 'camera', 'stop', 'work', 'phone', 'touch', 'screen', 'stop', 'work', 'restart', 'phone', 'get', 'work', 'phone', 'huge', 'disappoint', 'worth', 'paid', 'back', 'camera', 'stop', 'work', 'phone', 'touch', 'screen', 'stop', 'work', 'restart', 'phone', 'get', 'work', 'phone', 'huge', 'disappoint', 'worth', 'paid', 'back', 'camera', 'stop', 'work', 'phone', 'touch', 'screen', 'stop', 'work', 'restart', 'phone', 'get', 'work', 'phone', 'huge', 'disappoint', 'worth', 'paid', 'back', 'camera', 'stop', 'work', 'phone', 'touch', 'screen', 'stop', 'work', 'restart', 'phone', 'get', 'work', 'phone', 'huge', 'disappoint', 'worth', 'paid', 'back', 'camera', 'stop', 'work', 'phone', 'touch', 'screen', 'stop', 'work', 'restart', 'phone', 'get', 'work', 'phone', 'huge', 'disappoint', 'worth', 'paid', 'back', 'camera', 'stop', 'work', 'phone', 'touch', 'screen', 'stop', 'work', 'restart', 'phone', 'get', 'work', 'phone', 'huge', 'disappoint', 'worth', 'paid', 'back', 'camera', 'stop', 'work', 'phone', 'touch', 'screen', 'stop', 'work', 'restart', 'phone', 'get', 'work', 'phone', 'huge', 'disappoint', 'worth', 'paid', 'back', 'camera', 'stop', 'work', 'phone', 'touch', 'screen', 'stop', 'work', 'restart', 'phone', 'get', 'work', 'phone', 'huge', 'disappoint', 'worth', 'paid', 'back', 'camera', 'stop', 'work', 'phone', 'touch', 'screen', 'stop', 'work', 'restart', 'phone', 'get', 'work', 'phone', 'huge', 'disappoint', 'worth', 'paid', 'back', 'camera', 'stop', 'work', 'phone', 'touch', 'screen', 'stop', 'work', 'restart', 'phone', 'get', 'work', 'phone', 'huge', 'disappoint', 'worth', 'paid', 'back', 'camera', 'stop', 'work', 'phone', 'touch', 'screen', 'stop', 'work', 'restart', 'phone', 'get', 'work', 'phone', 'huge', 'disappoint', 'worth', 'paid', 'back', 'camera', 'stop', 'work', 'phone', 'touch', 'screen', 'stop', 'work', 'restart', 'phone', 'get', 'work', 'phone', 'huge', 'disappoint', 'worth', 'paid', 'back', 'camera', 'stop', 'work', 'phone', 'touch', 'screen', 'stop', 'work', 'restart', 'phone', 'get', 'work', 'phone', 'huge', 'disappoint', 'worth', 'paid', 'back', 'camera', 'stop', 'work', 'phone', 'touch', 'screen', 'stop', 'work', 'restart', 'phone', 'get', 'work', 'phone', 'huge', 'disappoint', 'worth', 'paid', 'back', 'camera', 'stop', 'work', 'phone', 'touch', 'screen', 'stop', 'work', 'restart', 'phone', 'get', 'work', 'phone', 'huge', 'disappoint', 'worth', 'paid', 'back', 'camera', 'stop', 'work', 'phone', 'touch', 'screen', 'stop', 'work', 'restart', 'phone', 'get', 'work', 'phone', 'huge', 'disappoint', 'worth', 'paid', 'back', 'camera', 'stop', 'work', 'phone', 'touch', 'screen', 'stop', 'work', 'restart', 'phone', 'get', 'work', 'phone', 'huge', 'disappoint', 'worth', 'paid', 'back', 'camera', 'stop', 'work', 'phone', 'touch', 'screen', 'stop', 'work', 'restart', 'phone', 'get', 'work', 'phone', 'huge', 'disappoint', 'worth', 'paid', 'back', 'camera', 'stop', 'work', 'phone', 'touch', 'screen', 'stop', 'work', 'restart', 'phone', 'get', 'work', 'phone', 'huge', 'disappoint', 'worth', 'paid', 'back', 'camera', 'stop', 'work', 'phone', 'touch', 'screen', 'stop', 'work', 'restart', 'phone', 'get', 'work', 'phone', 'huge', 'disappoint', 'worth', 'paid', 'back', 'camera', 'stop', 'work', 'phone', 'touch', 'screen', 'stop', 'work', 'restart', 'phone', 'get', 'work', 'phone', 'huge', 'disappoint', 'worth', 'paid', 'back', 'camera', 'stop', 'work', 'phone', 'touch', 'screen', 'stop', 'work', 'restart', 'phone', 'get', 'work', 'phone', 'huge', 'disappoint', 'worth', 'paid', 'back', 'camera', 'stop', 'work', 'phone', 'touch', 'screen', 'stop', 'work', 'restart', 'phone', 'get', 'work', 'phone', 'huge', 'disappoint', 'worth', 'paid', 'back', 'camera', 'stop', 'work', 'phone', 'touch', 'screen', 'stop', 'work', 'restart', 'phone', 'get', 'work', 'phone', 'huge', 'disappoint', 'worth', 'paid', 'back', 'camera', 'stop', 'work', 'phone', 'touch', 'screen', 'stop', 'work', 'restart', 'phone', 'get', 'work', 'phone', 'huge', 'disappoint', 'worth', 'paid', 'back', 'camera', 'stop', 'work', 'phone', 'touch', 'screen', 'stop', 'work', 'restart', 'phone', 'get', 'work', 'phone', 'huge', 'disappoint', 'worth', 'paid', 'back', 'camera', 'stop', 'work', 'phone', 'touch', 'screen', 'stop', 'work', 'restart', 'phone', 'get', 'work', 'phone', 'huge', 'disappoint', 'worth', 'paid', 'back', 'camera', 'stop', 'work', 'phone', 'touch', 'screen', 'stop', 'work', 'restart', 'phone', 'get', 'work', 'phone', 'huge', 'disappoint', 'worth', 'paid', 'back', 'camera', 'stop', 'work', 'phone', 'touch', 'screen', 'stop', 'work', 'restart', 'phone', 'get', 'work', 'phone', 'huge', 'disappoint', 'worth', 'paid', 'back', 'camera', 'stop', 'work', 'phone', 'touch', 'screen', 'stop', 'work', 'restart', 'phone', 'get', 'work', 'phone', 'huge', 'disappoint', 'worth', 'paid', 'back', 'camera', 'stop', 'work', 'phone', 'touch', 'screen', 'stop', 'work', 'restart', 'phone', 'get', 'work', 'phone', 'huge', 'disappoint', 'worth', 'paid', 'back', 'camera', 'stop', 'work', 'phone', 'touch', 'screen', 'stop', 'work', 'restart', 'phone', 'get', 'work', 'phone', 'huge', 'disappoint', 'worth', 'paid', 'back', 'camera', 'stop', 'work', 'phone', 'touch', 'screen', 'stop', 'work', 'restart', 'phone', 'get', 'work', 'phone', 'huge', 'disappoint', 'worth', 'paid', 'back', 'camera', 'stop', 'work', 'phone', 'touch', 'screen', 'stop', 'work', 'restart', 'phone', 'get', 'work', 'phone', 'huge', 'disappoint', 'worth', 'paid', 'back', 'camera', 'stop', 'work', 'phone', 'touch', 'screen', 'stop', 'work', 'restart', 'phone', 'get', 'work', 'phone', 'huge', 'disappoint', 'worth', 'paid', 'back', 'camera', 'stop', 'work', 'phone', 'touch', 'screen', 'stop', 'work', 'restart', 'phone', 'get', 'work', 'phone', 'huge', 'disappoint', 'worth', 'paid', 'back', 'camera', 'stop', 'work', 'phone', 'touch', 'screen', 'stop', 'work', 'restart', 'phone', 'get', 'work', 'phone', 'huge', 'disappoint', 'worth', 'paid', 'back', 'camera', 'stop', 'work', 'phone', 'touch', 'screen', 'stop', 'work', 'restart', 'phone', 'get', 'work', 'phone', 'huge', 'disappoint', 'worth', 'paid', 'back', 'camera', 'stop', 'work', 'phone', 'touch', 'screen', 'stop', 'work', 'restart', 'phone', 'get', 'work', 'phone', 'huge', 'disappoint', 'worth', 'paid', 'back', 'camera', 'stop', 'work', 'phone', 'touch', 'screen', 'stop', 'work', 'restart', 'phone', 'get', 'work', 'phone', 'huge', 'disappoint', 'worth', 'paid', 'back', 'camera', 'stop', 'work', 'phone', 'touch', 'screen', 'stop', 'work', 'restart', 'phone', 'get', 'work', 'phone', 'huge', 'disappoint', 'worth', 'paid', 'back', 'camera', 'stop', 'work', 'phone', 'touch', 'screen', 'stop', 'work', 'restart', 'phone', 'get', 'work', 'phone', 'huge', 'disappoint', 'worth', 'paid', 'back', 'camera', 'stop', 'work', 'phone', 'touch', 'screen', 'stop', 'work', 'restart', 'phone', 'get', 'work', 'phone', 'huge', 'disappoint', 'worth', 'paid', 'back', 'camera', 'stop', 'work', 'phone', 'touch', 'screen', 'stop', 'work', 'restart', 'phone', 'get', 'work', 'phone', 'huge', 'disappoint', 'worth', 'paid', 'back', 'camera', 'stop', 'work', 'phone', 'touch', 'screen', 'stop', 'work', 'restart', 'phone', 'get', 'work', 'phone', 'huge', 'disappoint', 'worth', 'paid', 'back', 'camera', 'stop', 'work', 'phone', 'touch', 'screen', 'stop', 'work', 'restart', 'phone', 'get', 'work', 'phone', 'huge', 'disappoint', 'worth', 'paid', 'back', 'camera', 'stop', 'work', 'phone', 'touch', 'screen', 'stop', 'work', 'restart', 'phone', 'get', 'work', 'phone', 'huge', 'disappoint', 'worth', 'paid', 'back', 'camera', 'stop', 'work', 'phone', 'touch', 'screen', 'stop', 'work', 'restart', 'phone', 'get', 'work', 'phone', 'huge', 'disappoint', 'worth', 'paid', 'back', 'camera', 'stop', 'work', 'phone', 'touch', 'screen', 'stop', 'work', 'restart', 'phone', 'get', 'work', 'phone', 'huge', 'disappoint', 'worth', 'paid', 'back', 'camera', 'stop', 'work', 'phone', 'touch', 'screen', 'stop', 'work', 'restart', 'phone', 'get', 'work', 'phone', 'huge', 'disappoint', 'worth', 'paid', 'back', 'camera', 'stop', 'work', 'phone', 'touch', 'screen', 'stop', 'work', 'restart', 'phone', 'get', 'work', 'phone', 'huge', 'disappoint', 'worth', 'paid', 'back', 'camera', 'stop', 'work', 'phone', 'touch', 'screen', 'stop', 'work', 'restart', 'phone', 'get', 'work', 'phone', 'huge', 'disappoint', 'worth', 'paid', 'back', 'camera', 'stop', 'work', 'phone', 'touch', 'screen', 'stop', 'work', 'restart', 'phone', 'get', 'work', 'phone', 'huge', 'disappoint', 'worth', 'paid', 'back', 'camera', 'stop', 'work', 'phone', 'touch', 'screen', 'stop', 'work', 'restart', 'phone', 'get', 'work', 'phone', 'huge', 'disappoint', 'worth', 'paid', 'back', 'camera', 'stop', 'work', 'phone', 'touch', 'screen', 'stop', 'work', 'restart', 'phone', 'get', 'work', 'phone', 'huge', 'disappoint', 'worth', 'paid', 'back', 'camera', 'stop', 'work', 'phone', 'touch', 'screen', 'stop', 'work', 'restart', 'phone', 'get', 'work', 'phone', 'huge', 'disappoint', 'worth', 'paid', 'back', 'camera', 'stop', 'work', 'phone', 'touch', 'screen', 'stop', 'work', 'restart', 'phone', 'get', 'work', 'phone', 'huge', 'disappoint', 'worth', 'paid', 'back', 'camera', 'stop', 'work', 'phone', 'touch', 'screen', 'stop', 'work', 'restart', 'phone', 'get', 'work', 'phone', 'huge', 'disappoint', 'worth', 'paid', 'back', 'camera', 'stop', 'work', 'phone', 'touch', 'screen', 'stop', 'work', 'restart', 'phone', 'get', 'work', 'phone', 'huge', 'disappoint', 'worth', 'paid', 'back', 'camera', 'stop', 'work', 'phone', 'touch', 'screen', 'stop', 'work', 'restart', 'phone', 'get', 'work', 'phone', 'huge', 'disappoint', 'worth', 'paid', 'back', 'camera', 'stop', 'work', 'phone', 'touch', 'screen', 'stop', 'work', 'restart', 'phone', 'get', 'work', 'phone', 'huge', 'disappoint', 'worth', 'paid', 'back', 'camera', 'stop', 'work', 'phone', 'touch', 'screen', 'stop', 'work', 'restart', 'phone', 'get', 'work', 'phone', 'huge', 'disappoint', 'worth', 'paid', 'back', 'camera', 'stop', 'work', 'phone', 'touch', 'screen', 'stop', 'work', 'restart', 'phone', 'get', 'work', 'phone', 'huge', 'disappoint', 'worth', 'paid', 'back', 'camera', 'stop', 'work', 'phone', 'touch', 'screen', 'stop', 'work', 'restart', 'phone', 'get', 'work', 'phone', 'huge', 'disappoint', 'worth', 'paid', 'back', 'camera', 'stop', 'work', 'phone', 'touch', 'screen', 'stop', 'work', 'restart', 'phone', 'get', 'work', 'phone', 'huge', 'disappoint', 'worth', 'paid', 'back', 'camera', 'stop', 'work', 'phone', 'touch', 'screen', 'stop', 'work', 'restart', 'phone', 'get', 'work', 'phone', 'huge', 'disappoint', 'worth', 'paid', 'back', 'camera', 'stop', 'work', 'phone', 'touch', 'screen', 'stop', 'work', 'restart', 'phone', 'get', 'work', 'phone', 'huge', 'disappoint', 'worth', 'paid', 'back', 'camera', 'stop', 'work', 'phone', 'touch', 'screen', 'stop', 'work', 'restart', 'phone', 'get', 'work', 'phone', 'huge', 'disappoint', 'worth', 'paid', 'back', 'camera', 'stop', 'work', 'phone', 'touch', 'screen', 'stop', 'work', 'restart', 'phone', 'get', 'work', 'phone', 'huge', 'disappoint', 'worth', 'paid', 'back', 'camera', 'stop', 'work', 'phone', 'touch', 'screen', 'stop', 'work', 'restart', 'phone', 'get', 'work', 'phone', 'huge', 'disappoint', 'worth', 'paid', 'back', 'camera', 'stop', 'work', 'phone', 'touch', 'screen', 'stop', 'work', 'restart', 'phone', 'get', 'work', 'phone', 'huge', 'disappoint', 'worth', 'paid', 'back', 'camera', 'stop', 'work', 'phone', 'touch', 'screen', 'stop', 'work', 'restart', 'phone', 'get', 'work', 'phone', 'huge', 'disappoint', 'worth', 'paid', 'back', 'camera', 'stop', 'work', 'phone', 'touch', 'screen', 'stop', 'work', 'restart', 'phone', 'get', 'work', 'phone', 'huge', 'disappoint', 'worth', 'paid', 'back', 'camera', 'stop', 'work', 'phone', 'touch', 'screen', 'stop', 'work', 'restart', 'phone', 'get', 'work', 'phone', 'huge', 'disappoint', 'worth', 'paid', 'back', 'camera', 'stop', 'work', 'phone', 'touch', 'screen', 'stop', 'work', 'restart', 'phone', 'get', 'work', 'phone', 'huge', 'disappoint', 'worth', 'paid', 'back', 'camera', 'stop', 'work', 'phone', 'touch', 'screen', 'stop', 'work', 'restart', 'phone', 'get', 'work', 'phone', 'huge', 'disappoint', 'worth', 'paid', 'back', 'camera', 'stop', 'work', 'phone', 'touch', 'screen', 'stop', 'work', 'restart', 'phone', 'get', 'work', 'phone', 'huge', 'disappoint', 'worth', 'paid', 'back', 'camera', 'stop', 'work', 'phone', 'touch', 'screen', 'stop', 'work', 'restart', 'phone', 'get', 'work', 'phone', 'huge', 'disappoint', 'worth', 'paid', 'back', 'camera', 'stop', 'work', 'phone', 'touch', 'screen', 'stop', 'work', 'restart', 'phone', 'get', 'work', 'phone', 'huge', 'disappoint', 'worth', 'paid', 'back', 'camera', 'stop', 'work', 'phone', 'touch', 'screen', 'stop', 'work', 'restart', 'phone', 'get', 'work', 'phone', 'huge', 'disappoint', 'worth', 'paid', 'back', 'camera', 'stop', 'work', 'phone', 'touch', 'screen', 'stop', 'work', 'restart', 'phone', 'get', 'work', 'phone', 'huge', 'disappoint', 'worth', 'paid', 'back', 'camera', 'stop', 'work', 'phone', 'touch', 'screen', 'stop', 'work', 'restart', 'phone', 'get', 'work', 'phone', 'huge', 'disappoint', 'worth', 'paid', 'back', 'camera', 'stop', 'work', 'phone', 'touch', 'screen', 'stop', 'work', 'restart', 'phone', 'get', 'work', 'phone', 'huge', 'disappoint', 'worth', 'paid', 'back', 'camera', 'stop', 'work', 'phone', 'touch', 'screen', 'stop', 'work', 'restart', 'phone', 'get', 'work', 'phone', 'huge', 'disappoint', 'worth', 'paid', 'back', 'camera', 'stop', 'work', 'phone', 'touch', 'screen', 'stop', 'work', 'restart', 'phone', 'get', 'work', 'phone', 'huge', 'disappoint', 'worth', 'paid', 'back', 'camera', 'stop', 'work', 'phone', 'touch', 'screen', 'stop', 'work', 'restart', 'phone', 'get', 'work', 'phone', 'huge', 'disappoint', 'worth', 'paid', 'back', 'camera', 'stop', 'work', 'phone', 'touch', 'screen', 'stop', 'work', 'restart', 'phone', 'get', 'work', 'phone', 'huge', 'disappoint', 'worth', 'paid', 'back', 'camera', 'stop', 'work', 'phone', 'touch', 'screen', 'stop', 'work', 'restart', 'phone', 'get', 'work', 'phone', 'huge', 'disappoint', 'worth', 'paid', 'back', 'camera', 'stop', 'work', 'phone', 'touch', 'screen', 'stop', 'work', 'restart', 'phone', 'get', 'work', 'phone', 'huge', 'disappoint', 'worth', 'paid', 'back', 'camera', 'stop', 'work', 'phone', 'touch', 'screen', 'stop', 'work', 'restart', 'phone', 'get', 'work', 'phone', 'huge', 'disappoint', 'worth', 'paid', 'back', 'camera', 'stop', 'work', 'phone', 'touch', 'screen', 'stop', 'work', 'restart', 'phone', 'get', 'work', 'phone', 'huge', 'disappoint', 'worth', 'paid', 'back', 'camera', 'stop', 'work', 'phone', 'touch', 'screen', 'stop', 'work', 'restart', 'phone', 'get', 'work', 'phone', 'huge', 'disappoint', 'worth', 'paid', 'back', 'camera', 'stop', 'work', 'phone', 'touch', 'screen', 'stop', 'work', 'restart', 'phone', 'get', 'work', 'phone', 'huge', 'disappoint', 'worth', 'paid', 'back', 'camera', 'stop', 'work', 'phone', 'touch', 'screen', 'stop', 'work', 'restart', 'phone', 'get', 'work', 'phone', 'huge', 'disappoint', 'worth', 'paid', 'back', 'camera', 'stop', 'work', 'phone', 'touch', 'screen', 'stop', 'work', 'restart', 'phone', 'get', 'work', 'phone', 'huge', 'disappoint', 'worth', 'paid', 'back', 'camera', 'stop', 'work', 'phone', 'touch', 'screen', 'stop', 'work', 'restart', 'phone', 'get', 'work', 'phone', 'huge', 'disappoint', 'worth', 'paid', 'back', 'camera', 'stop', 'work', 'phone', 'touch', 'screen', 'stop', 'work', 'restart', 'phone', 'get', 'work', 'phone', 'huge', 'disappoint', 'worth', 'paid', 'back', 'camera', 'stop', 'work', 'phone', 'touch', 'screen', 'stop', 'work', 'restart', 'phone', 'get', 'work', 'phone', 'huge', 'disappoint', 'worth', 'paid', 'back', 'camera', 'stop', 'work', 'phone', 'touch', 'screen', 'stop', 'work', 'restart', 'phone', 'get', 'work', 'phone', 'huge', 'disappoint', 'worth', 'paid', 'back', 'camera', 'stop', 'work', 'phone', 'touch', 'screen', 'stop', 'work', 'restart', 'phone', 'get', 'work', 'phone', 'huge', 'disappoint', 'worth', 'paid', 'back', 'camera', 'stop', 'work', 'phone', 'touch', 'screen', 'stop', 'work', 'restart', 'phone', 'get', 'work', 'phone', 'huge', 'disappoint', 'worth', 'paid', 'back', 'camera', 'stop', 'work', 'phone', 'touch', 'screen', 'stop', 'work', 'restart', 'phone', 'get', 'work', 'phone', 'huge', 'disappoint', 'worth', 'paid', 'back', 'camera', 'stop', 'work', 'phone', 'touch', 'screen', 'stop', 'work', 'restart', 'phone', 'get', 'work', 'phone', 'huge', 'disappoint', 'worth', 'paid', 'back', 'camera', 'stop', 'work', 'phone', 'touch', 'screen', 'stop', 'work', 'restart', 'phone', 'get', 'work', 'phone', 'huge', 'disappoint', 'worth', 'paid', 'back', 'camera', 'stop', 'work', 'phone', 'touch', 'screen', 'stop', 'work', 'restart', 'phone', 'get', 'work', 'phone', 'huge', 'disappoint', 'worth', 'paid', 'back', 'camera', 'stop', 'work', 'phone', 'touch', 'screen', 'stop', 'work', 'restart', 'phone', 'get', 'work', 'phone', 'huge', 'disappoint', 'worth', 'paid', 'back', 'camera', 'stop', 'work', 'phone', 'touch', 'screen', 'stop', 'work', 'restart', 'phone', 'get', 'work', 'phone', 'huge', 'disappoint', 'worth', 'paid', 'back', 'camera', 'stop', 'work', 'phone', 'touch', 'screen', 'stop', 'work', 'restart', 'phone', 'get', 'work', 'phone', 'huge', 'disappoint', 'worth', 'paid', 'back', 'camera', 'stop', 'work', 'phone', 'touch', 'screen', 'stop', 'work', 'restart', 'phone', 'get', 'work', 'phone', 'huge', 'disappoint', 'worth', 'paid', 'back', 'camera', 'stop', 'work', 'phone', 'touch', 'screen', 'stop', 'work', 'restart', 'phone', 'get', 'work', 'phone', 'huge', 'disappoint', 'worth', 'paid', 'back', 'camera', 'stop', 'work', 'phone', 'touch', 'screen', 'stop', 'work', 'restart', 'phone', 'get', 'work', 'phone', 'huge', 'disappoint', 'worth', 'paid', 'back', 'camera', 'stop', 'work', 'phone', 'touch', 'screen', 'stop', 'work', 'restart', 'phone', 'get', 'work', 'phone', 'huge', 'disappoint', 'worth', 'paid', 'back', 'camera', 'stop', 'work', 'phone', 'touch', 'screen', 'stop', 'work', 'restart', 'phone', 'get', 'work', 'phone', 'huge', 'disappoint', 'worth', 'paid', 'back', 'camera', 'stop', 'work', 'phone', 'touch', 'screen', 'stop', 'work', 'restart', 'phone', 'get', 'work', 'phone', 'huge', 'disappoint', 'worth', 'paid', 'back', 'camera', 'stop', 'work', 'phone', 'touch', 'screen', 'stop', 'work', 'restart', 'phone', 'get', 'work', 'phone', 'huge', 'disappoint', 'worth', 'paid', 'back', 'camera', 'stop', 'work', 'phone', 'touch', 'screen', 'stop', 'work', 'restart', 'phone', 'get', 'work', 'phone', 'huge', 'disappoint', 'worth', 'paid', 'back', 'camera', 'stop', 'work', 'phone', 'touch', 'screen', 'stop', 'work', 'restart', 'phone', 'get', 'work', 'phone', 'huge', 'disappoint', 'worth', 'paid', 'back', 'camera', 'stop', 'work', 'phone', 'touch', 'screen', 'stop', 'work', 'restart', 'phone', 'get', 'work', 'phone', 'huge', 'disappoint', 'worth', 'paid', 'back', 'camera', 'stop', 'work', 'phone', 'touch', 'screen', 'stop', 'work', 'restart', 'phone', 'get', 'work', 'phone', 'huge', 'disappoint', 'worth', 'paid', 'back', 'camera', 'stop', 'work', 'phone', 'touch', 'screen', 'stop', 'work', 'restart', 'phone', 'get', 'work', 'phone', 'huge', 'disappoint', 'worth', 'paid', 'back', 'camera', 'stop', 'work', 'phone', 'touch', 'screen', 'stop', 'work', 'restart', 'phone', 'get', 'work', 'phone', 'huge', 'disappoint', 'worth', 'paid', 'back', 'camera', 'stop', 'work', 'phone', 'touch', 'screen', 'stop', 'work', 'restart', 'phone', 'get', 'work', 'phone', 'huge', 'disappoint', 'worth', 'paid', 'back', 'camera', 'stop', 'work', 'phone', 'touch', 'screen', 'stop', 'work', 'restart', 'phone', 'get', 'work', 'phone', 'huge', 'disappoint', 'worth', 'paid', 'back', 'camera', 'stop', 'work', 'phone', 'touch', 'screen', 'stop', 'work', 'restart', 'phone', 'get', 'work', 'phone', 'huge', 'disappoint', 'worth', 'paid', 'back', 'camera', 'stop', 'work', 'phone', 'touch', 'screen', 'stop', 'work', 'restart', 'phone', 'get', 'work', 'phone', 'huge', 'disappoint', 'worth', 'paid', 'back', 'camera', 'stop', 'work', 'phone', 'touch', 'screen', 'stop', 'work', 'restart', 'phone', 'get', 'work', 'phone', 'huge', 'disappoint', 'worth', 'paid', 'back', 'camera', 'stop', 'work', 'phone', 'touch', 'screen', 'stop', 'work', 'restart', 'phone', 'get', 'work', 'phone', 'huge', 'disappoint', 'worth', 'paid', 'back', 'camera', 'stop', 'work', 'phone', 'touch', 'screen', 'stop', 'work', 'restart', 'phone', 'get', 'work', 'phone', 'huge', 'disappoint', 'worth', 'paid', 'back', 'camera', 'stop', 'work', 'phone', 'touch', 'screen', 'stop', 'work', 'restart', 'phone', 'get', 'work', 'phone', 'huge', 'disappoint', 'worth', 'paid', 'back', 'camera', 'stop', 'work', 'phone', 'touch', 'screen', 'stop', 'work', 'restart', 'phone', 'get', 'work', 'phone', 'huge', 'disappoint', 'worth', 'paid', 'back', 'camera', 'stop', 'work', 'phone', 'touch', 'screen', 'stop', 'work', 'restart', 'phone', 'get', 'work', 'phone', 'huge', 'disappoint', 'worth', 'paid', 'back', 'camera', 'stop', 'work', 'phone', 'touch', 'screen', 'stop', 'work', 'restart', 'phone', 'get', 'work', 'phone', 'huge', 'disappoint', 'worth', 'paid', 'back', 'camera', 'stop', 'work', 'phone', 'touch', 'screen', 'stop', 'work', 'restart', 'phone', 'get', 'work', 'phone', 'huge', 'disappoint', 'worth', 'paid', 'back', 'camera', 'stop', 'work', 'phone', 'touch', 'screen', 'stop', 'work', 'restart', 'phone', 'get', 'work', 'phone', 'huge', 'disappoint', 'worth', 'paid', 'back', 'camera', 'stop', 'work', 'phone', 'touch', 'screen', 'stop', 'work', 'restart', 'phone', 'get', 'work', 'phone', 'huge', 'disappoint', 'worth', 'paid', 'back', 'camera', 'stop', 'work', 'phone', 'touch', 'screen', 'stop', 'work', 'restart', 'phone', 'get', 'work', 'phone', 'huge', 'disappoint', 'worth', 'paid', 'back', 'camera', 'stop', 'work', 'phone', 'touch', 'screen', 'stop', 'work', 'restart', 'phone', 'get', 'work', 'phone', 'huge', 'disappoint', 'worth', 'paid', 'back', 'camera', 'stop', 'work', 'phone', 'touch', 'screen', 'stop', 'work', 'restart', 'phone', 'get', 'work', 'phone', 'huge', 'disappoint', 'worth', 'paid', 'back', 'camera', 'stop', 'work', 'phone', 'touch', 'screen', 'stop', 'work', 'restart', 'phone', 'get', 'work', 'phone', 'huge', 'disappoint', 'worth', 'paid', 'back', 'camera', 'stop', 'work', 'phone', 'touch', 'screen', 'stop', 'work', 'restart', 'phone', 'get', 'work', 'phone', 'huge', 'disappoint', 'worth', 'paid', 'back', 'camera', 'stop', 'work', 'phone', 'touch', 'screen', 'stop', 'work', 'restart', 'phone', 'get', 'work', 'phone', 'huge', 'disappoint', 'worth', 'paid', 'back', 'camera', 'stop', 'work', 'phone', 'touch', 'screen', 'stop', 'work', 'restart', 'phone', 'get', 'work', 'phone', 'huge', 'disappoint', 'worth', 'paid', 'back', 'camera', 'stop', 'work', 'phone', 'touch', 'screen', 'stop', 'work', 'restart', 'phone', 'get', 'work', 'phone', 'huge', 'disappoint', 'worth', 'paid', 'back', 'camera', 'stop', 'work', 'phone', 'touch', 'screen', 'stop', 'work', 'restart', 'phone', 'get', 'work', 'phone', 'huge', 'disappoint', 'worth', 'paid', 'back', 'camera', 'stop', 'work', 'phone', 'touch', 'screen', 'stop', 'work', 'restart', 'phone', 'get', 'work', 'phone', 'huge', 'disappoint', 'worth', 'paid', 'back', 'camera', 'stop', 'work', 'phone', 'touch', 'screen', 'stop', 'work', 'restart', 'phone', 'get', 'work', 'phone', 'huge', 'disappoint', 'worth', 'paid', 'back', 'camera', 'stop', 'work', 'phone', 'touch', 'screen', 'stop', 'work', 'restart', 'phone', 'get', 'work', 'phone', 'huge', 'disappoint', 'worth', 'paid', 'back', 'camera', 'stop', 'work', 'phone', 'touch', 'screen', 'stop', 'work', 'restart', 'phone', 'get', 'work', 'phone', 'huge', 'disappoint', 'worth', 'paid', 'back', 'camera', 'stop', 'work', 'phone', 'touch', 'screen', 'stop', 'work', 'restart', 'phone', 'get', 'work', 'phone', 'huge', 'disappoint', 'worth', 'paid', 'back', 'camera', 'stop', 'work', 'phone', 'touch', 'screen', 'stop', 'work', 'restart', 'phone', 'get', 'work', 'phone', 'huge', 'disappoint', 'worth', 'paid', 'back', 'camera', 'stop', 'work', 'phone', 'touch', 'screen', 'stop', 'work', 'restart', 'phone', 'get', 'work', 'phone', 'huge', 'disappoint', 'worth', 'paid', 'back', 'camera', 'stop', 'work', 'phone', 'touch', 'screen', 'stop', 'work', 'restart', 'phone', 'get', 'work', 'phone', 'huge', 'disappoint', 'worth', 'paid', 'back', 'camera', 'stop', 'work', 'phone', 'touch', 'screen', 'stop', 'work', 'restart', 'phone', 'get', 'work', 'phone', 'huge', 'disappoint', 'worth', 'paid', 'back', 'camera', 'stop', 'work', 'phone', 'touch', 'screen', 'stop', 'work', 'restart', 'phone', 'get', 'work', 'phone', 'huge', 'disappoint', 'worth', 'paid', 'back', 'camera', 'stop', 'work', 'phone', 'touch', 'screen', 'stop', 'work', 'restart', 'phone', 'get', 'work', 'phone', 'huge', 'disappoint', 'worth', 'paid', 'back', 'camera', 'stop', 'work', 'phone', 'touch', 'screen', 'stop', 'work', 'restart', 'phone', 'get', 'work', 'phone', 'huge', 'disappoint', 'worth', 'paid', 'back', 'camera', 'stop', 'work', 'phone', 'touch', 'screen', 'stop', 'work', 'restart', 'phone', 'get', 'work', 'phone', 'huge', 'disappoint', 'worth', 'paid', 'back', 'camera', 'stop', 'work', 'phone', 'touch', 'screen', 'stop', 'work', 'restart', 'phone', 'get', 'work', 'phone', 'huge', 'disappoint', 'worth', 'paid', 'back', 'camera', 'stop', 'work', 'phone', 'touch', 'screen', 'stop', 'work', 'restart', 'phone', 'get', 'work', 'phone', 'huge', 'disappoint', 'worth', 'paid', 'back', 'camera', 'stop', 'work', 'phone', 'touch', 'screen', 'stop', 'work', 'restart', 'phone', 'get', 'work', 'phone', 'huge', 'disappoint', 'worth', 'paid', 'back', 'camera', 'stop', 'work', 'phone', 'touch', 'screen', 'stop', 'work', 'restart', 'phone', 'get', 'work', 'phone', 'huge', 'disappoint', 'worth', 'paid', 'back', 'camera', 'stop', 'work', 'phone', 'touch', 'screen', 'stop', 'work', 'restart', 'phone', 'get', 'work', 'phone', 'huge', 'disappoint', 'worth', 'paid', 'back', 'camera', 'stop', 'work', 'phone', 'touch', 'screen', 'stop', 'work', 'restart', 'phone', 'get', 'work', 'phone', 'huge', 'disappoint', 'worth', 'paid', 'back', 'camera', 'stop', 'work', 'phone', 'touch', 'screen', 'stop', 'work', 'restart', 'phone', 'get', 'work', 'phone', 'huge', 'disappoint', 'worth', 'paid', 'back', 'camera', 'stop', 'work', 'phone', 'touch', 'screen', 'stop', 'work', 'restart', 'phone', 'get', 'work', 'phone', 'huge', 'disappoint', 'worth', 'paid', 'back', 'camera', 'stop', 'work', 'phone', 'touch', 'screen', 'stop', 'work', 'restart', 'phone', 'get', 'work', 'phone', 'huge', 'disappoint', 'worth', 'paid', 'back', 'camera', 'stop', 'work', 'phone', 'touch', 'screen', 'stop', 'work', 'restart', 'phone', 'get', 'work', 'phone', 'huge', 'disappoint', 'worth', 'paid', 'back', 'camera', 'stop', 'work', 'phone', 'touch', 'screen', 'stop', 'work', 'restart', 'phone', 'get', 'work', 'phone', 'huge', 'disappoint', 'worth', 'paid', 'back', 'camera', 'stop', 'work', 'phone', 'touch', 'screen', 'stop', 'work', 'restart', 'phone', 'get', 'work', 'phone', 'huge', 'disappoint', 'worth', 'paid', 'back', 'camera', 'stop', 'work', 'phone', 'touch', 'screen', 'stop', 'work', 'restart', 'phone', 'get', 'work', 'phone', 'huge', 'disappoint', 'worth', 'paid', 'back', 'camera', 'stop', 'work', 'phone', 'touch', 'screen', 'stop', 'work', 'restart', 'phone', 'get', 'work', 'phone', 'huge', 'disappoint', 'worth', 'paid', 'back', 'camera', 'stop', 'work', 'phone', 'touch', 'screen', 'stop', 'work', 'restart', 'phone', 'get', 'work', 'phone', 'huge', 'disappoint', 'worth', 'paid', 'back', 'camera', 'stop', 'work', 'phone', 'touch', 'screen', 'stop', 'work', 'restart', 'phone', 'get', 'work', 'phone', 'huge', 'disappoint', 'worth', 'paid', 'back', 'camera', 'stop', 'work', 'phone', 'touch', 'screen', 'stop', 'work', 'restart', 'phone', 'get', 'work', 'phone', 'huge', 'disappoint', 'worth', 'paid', 'back', 'camera', 'stop', 'work', 'phone', 'touch', 'screen', 'stop', 'work', 'restart', 'phone', 'get', 'work', 'phone', 'huge', 'disappoint', 'worth', 'paid', 'back', 'camera', 'stop', 'work', 'phone', 'touch', 'screen', 'stop', 'work', 'restart', 'phone', 'get', 'work', 'phone', 'huge', 'disappoint', 'worth', 'paid', 'back', 'camera', 'stop', 'work', 'phone', 'touch', 'screen', 'stop', 'work', 'restart', 'phone', 'get', 'work', 'phone', 'huge', 'disappoint', 'worth', 'paid', 'back', 'camera', 'stop', 'work', 'phone', 'touch', 'screen', 'stop', 'work', 'restart', 'phone', 'get', 'work', 'phone', 'huge', 'disappoint', 'worth', 'paid', 'back', 'camera', 'stop', 'work', 'phone', 'touch', 'screen', 'stop', 'work', 'restart', 'phone', 'get', 'work', 'phone', 'huge', 'disappoint', 'worth', 'paid', 'back', 'camera', 'stop', 'work', 'phone', 'touch', 'screen', 'stop', 'work', 'restart', 'phone', 'get', 'work', 'phone', 'huge', 'disappoint', 'worth', 'paid', 'back', 'camera', 'stop', 'work', 'phone', 'touch', 'screen', 'stop', 'work', 'restart', 'phone', 'get', 'work', 'phone', 'huge', 'disappoint', 'worth', 'paid', 'back', 'camera', 'stop', 'work', 'phone', 'touch', 'screen', 'stop', 'work', 'restart', 'phone', 'get', 'work', 'phone', 'huge', 'disappoint', 'worth', 'paid', 'back', 'camera', 'stop', 'work', 'phone', 'touch', 'screen', 'stop', 'work', 'restart', 'phone', 'get', 'work', 'phone', 'huge', 'disappoint', 'worth', 'paid', 'back', 'camera', 'stop', 'work', 'phone', 'touch', 'screen', 'stop', 'work', 'restart', 'phone', 'get', 'work', 'phone', 'huge', 'disappoint', 'worth', 'paid', 'back', 'camera', 'stop', 'work', 'phone', 'touch', 'screen', 'stop', 'work', 'restart', 'phone', 'get', 'work', 'phone', 'huge', 'disappoint', 'worth', 'paid', 'back', 'camera', 'stop', 'work', 'phone', 'touch', 'screen', 'stop', 'work', 'restart', 'phone', 'get', 'work', 'phone', 'huge', 'disappoint', 'worth', 'paid', 'back', 'camera', 'stop', 'work', 'phone', 'touch', 'screen', 'stop', 'work', 'restart', 'phone', 'get', 'work', 'phone', 'huge', 'disappoint', 'worth', 'paid', 'back', 'camera', 'stop', 'work', 'phone', 'touch', 'screen', 'stop', 'work', 'restart', 'phone', 'get', 'work', 'phone', 'huge', 'disappoint', 'worth', 'paid', 'back', 'camera', 'stop', 'work', 'phone', 'touch', 'screen', 'stop', 'work', 'restart', 'phone', 'get', 'work', 'phone', 'huge', 'disappoint', 'worth', 'paid', 'back', 'camera', 'stop', 'work', 'phone', 'touch', 'screen', 'stop', 'work', 'restart', 'phone', 'get', 'work', 'phone', 'huge', 'disappoint', 'worth', 'paid', 'back', 'camera', 'stop', 'work', 'phone', 'touch', 'screen', 'stop', 'work', 'restart', 'phone', 'get', 'work', 'phone', 'huge', 'disappoint', 'worth', 'paid', 'back', 'camera', 'stop', 'work', 'phone', 'touch', 'screen', 'stop', 'work', 'restart', 'phone', 'get', 'work', 'phone', 'huge', 'disappoint', 'worth', 'paid', 'back', 'camera', 'stop', 'work', 'phone', 'touch', 'screen', 'stop', 'work', 'restart', 'phone', 'get', 'work', 'phone', 'huge', 'disappoint', 'worth', 'paid', 'back', 'camera', 'stop', 'work', 'phone', 'touch', 'screen', 'stop', 'work', 'restart', 'phone', 'get', 'work', 'phone', 'huge', 'disappoint', 'worth', 'paid', 'back', 'camera', 'stop', 'work', 'phone', 'touch', 'screen', 'stop', 'work', 'restart', 'phone', 'get', 'work', 'phone', 'huge', 'disappoint', 'worth', 'paid', 'back', 'camera', 'stop', 'work', 'phone', 'touch', 'screen', 'stop', 'work', 'restart', 'phone', 'get', 'work', 'phone', 'huge', 'disappoint', 'worth', 'paid', 'back', 'camera', 'stop', 'work', 'phone', 'touch', 'screen', 'stop', 'work', 'restart', 'phone', 'get', 'work', 'phone', 'huge', 'disappoint', 'worth', 'paid', 'back', 'camera', 'stop', 'work', 'phone', 'touch', 'screen', 'stop', 'work', 'restart', 'phone', 'get', 'work', 'phone', 'huge', 'disappoint', 'worth', 'paid', 'back', 'camera', 'stop', 'work', 'phone', 'touch', 'screen', 'stop', 'work', 'restart', 'phone', 'get', 'work', 'phone', 'huge', 'disappoint', 'worth', 'paid', 'back', 'camera', 'stop', 'work', 'phone', 'touch', 'screen', 'stop', 'work', 'restart', 'phone', 'get', 'work', 'phone', 'huge', 'disappoint', 'worth', 'paid', 'back', 'camera', 'stop', 'work', 'phone', 'touch', 'screen', 'stop', 'work', 'restart', 'phone', 'get', 'work', 'phone', 'huge', 'disappoint', 'worth', 'paid', 'back', 'camera', 'stop', 'work', 'phone', 'touch', 'screen', 'stop', 'work', 'restart', 'phone', 'get', 'work', 'phone', 'huge', 'disappoint', 'worth', 'paid', 'back', 'camera', 'stop', 'work', 'phone', 'touch', 'screen', 'stop', 'work', 'restart', 'phone', 'get', 'work', 'phone', 'huge', 'disappoint', 'worth', 'paid', 'back', 'camera', 'stop', 'work', 'phone', 'touch', 'screen', 'stop', 'work', 'restart', 'phone', 'get', 'work', 'phone', 'huge', 'disappoint', 'worth', 'paid', 'back', 'camera', 'stop', 'work', 'phone', 'touch', 'screen', 'stop', 'work', 'restart', 'phone', 'get', 'work', 'phone', 'huge', 'disappoint', 'worth', 'paid', 'back', 'camera', 'stop', 'work', 'phone', 'touch', 'screen', 'stop', 'work', 'restart', 'phone', 'get', 'work', 'phone', 'huge', 'disappoint', 'worth', 'paid', 'back', 'camera', 'stop', 'work', 'phone', 'touch', 'screen', 'stop', 'work', 'restart', 'phone', 'get', 'work', 'phone', 'huge', 'disappoint', 'worth', 'paid', 'back', 'camera', 'stop', 'work', 'phone', 'touch', 'screen', 'stop', 'work', 'restart', 'phone', 'get', 'work', 'phone', 'huge', 'disappoint', 'worth', 'paid', 'back', 'camera', 'stop', 'work', 'phone', 'touch', 'screen', 'stop', 'work', 'restart', 'phone', 'get', 'work', 'phone', 'huge', 'disappoint', 'worth', 'paid', 'back', 'camera', 'stop', 'work', 'phone', 'touch', 'screen', 'stop', 'work', 'restart', 'phone', 'get', 'work', 'phone', 'huge', 'disappoint', 'worth', 'paid', 'back', 'camera', 'stop', 'work', 'phone', 'touch', 'screen', 'stop', 'work', 'restart', 'phone', 'get', 'work', 'phone', 'huge', 'disappoint', 'worth', 'paid', 'back', 'camera', 'stop', 'work', 'phone', 'touch', 'screen', 'stop', 'work', 'restart', 'phone', 'get', 'work', 'phone', 'huge', 'disappoint', 'worth', 'paid', 'back', 'camera', 'stop', 'work', 'phone', 'touch', 'screen', 'stop', 'work', 'restart', 'phone', 'get', 'work', 'phone', 'huge', 'disappoint', 'worth', 'paid', 'back', 'camera', 'stop', 'work', 'phone', 'touch', 'screen', 'stop', 'work', 'restart', 'phone', 'get', 'work', 'phone', 'huge', 'disappoint', 'worth', 'paid', 'back', 'camera', 'stop', 'work', 'phone', 'touch', 'screen', 'stop', 'work', 'restart', 'phone', 'get', 'work', 'phone', 'huge', 'disappoint', 'worth', 'paid', 'back', 'camera', 'stop', 'work', 'phone', 'touch', 'screen', 'stop', 'work', 'restart', 'phone', 'get', 'work', 'phone', 'huge', 'disappoint', 'worth', 'paid', 'back', 'camera', 'stop', 'work', 'phone', 'touch', 'screen', 'stop', 'work', 'restart', 'phone', 'get', 'work', 'phone', 'huge', 'disappoint', 'worth', 'paid', 'back', 'camera', 'stop', 'work', 'phone', 'touch', 'screen', 'stop', 'work', 'restart', 'phone', 'get', 'work', 'phone', 'huge', 'disappoint', 'worth', 'paid', 'back', 'camera', 'stop', 'work', 'phone', 'touch', 'screen', 'stop', 'work', 'restart', 'phone', 'get', 'work', 'phone', 'huge', 'disappoint', 'worth', 'paid', 'back', 'camera', 'stop', 'work', 'phone', 'touch', 'screen', 'stop', 'work', 'restart', 'phone', 'get', 'work', 'phone', 'huge', 'disappoint', 'worth', 'paid', 'back', 'camera', 'stop', 'work', 'phone', 'touch', 'screen', 'stop', 'work', 'restart', 'phone', 'get', 'work', 'phone', 'huge', 'disappoint', 'worth', 'paid', 'back', 'camera', 'stop', 'work', 'phone', 'touch', 'screen', 'stop', 'work', 'restart', 'phone', 'get', 'work', 'phone', 'huge', 'disappoint', 'worth', 'paid', 'back', 'camera', 'stop', 'work', 'phone', 'touch', 'screen', 'stop', 'work', 'restart', 'phone', 'get', 'work', 'phone', 'huge', 'disappoint', 'worth', 'paid', 'back', 'camera', 'stop', 'work', 'phone', 'touch', 'screen', 'stop', 'work', 'restart', 'phone', 'get', 'work', 'phone', 'huge', 'disappoint', 'worth', 'paid', 'back', 'camera', 'stop', 'work', 'phone', 'touch', 'screen', 'stop', 'work', 'restart', 'phone', 'get', 'work', 'phone', 'huge', 'disappoint', 'worth', 'paid', 'back', 'camera', 'stop', 'work', 'phone', 'touch', 'screen', 'stop', 'work', 'restart', 'phone', 'get', 'work', 'phone', 'huge', 'disappoint', 'worth', 'paid', 'back', 'camera', 'stop', 'work', 'phone', 'touch', 'screen', 'stop', 'work', 'restart', 'phone', 'get', 'work', 'phone', 'huge', 'disappoint', 'worth', 'paid', 'back', 'camera', 'stop', 'work', 'phone', 'touch', 'screen', 'stop', 'work', 'restart', 'phone', 'get', 'work', 'phone', 'huge', 'disappoint', 'worth', 'paid', 'back', 'camera', 'stop', 'work', 'phone', 'touch', 'screen', 'stop', 'work', 'restart', 'phone', 'get', 'work', 'phone', 'huge', 'disappoint', 'worth', 'paid', 'back', 'camera', 'stop', 'work', 'phone', 'touch', 'screen', 'stop', 'work', 'restart', 'phone', 'get', 'work', 'phone', 'huge', 'disappoint', 'worth', 'paid', 'back', 'camera', 'stop', 'work', 'phone', 'touch', 'screen', 'stop', 'work', 'restart', 'phone', 'get', 'work', 'phone', 'huge', 'disappoint', 'worth', 'paid', 'back', 'camera', 'stop', 'work', 'phone', 'touch', 'screen', 'stop', 'work', 'restart', 'phone', 'get', 'work', 'phone', 'huge', 'disappoint', 'worth', 'paid', 'back', 'camera', 'stop', 'work', 'phone', 'touch', 'screen', 'stop', 'work', 'restart', 'phone', 'get', 'work', 'phone', 'huge', 'disappoint', 'worth', 'paid', 'back', 'camera', 'stop', 'work', 'phone', 'touch', 'screen', 'stop', 'work', 'restart', 'phone', 'get', 'work', 'phone', 'huge', 'disappoint', 'worth', 'paid', 'back', 'camera', 'stop', 'work', 'phone', 'touch', 'screen', 'stop', 'work', 'restart', 'phone', 'get', 'work', 'phone', 'huge', 'disappoint', 'worth', 'paid', 'back', 'camera', 'stop', 'work', 'phone', 'touch', 'screen', 'stop', 'work', 'restart', 'phone', 'get', 'work', 'phone', 'huge', 'disappoint', 'worth', 'paid', 'back', 'camera', 'stop', 'work', 'phone', 'touch', 'screen', 'stop', 'work', 'restart', 'phone', 'get', 'work', 'phone', 'huge', 'disappoint', 'worth', 'paid', 'back', 'camera', 'stop', 'work', 'phone', 'touch', 'screen', 'stop', 'work', 'restart', 'phone', 'get', 'work', 'phone', 'huge', 'disappoint', 'worth', 'paid', 'back', 'camera', 'stop', 'work', 'phone', 'touch', 'screen', 'stop', 'work', 'restart', 'phone', 'get', 'work', 'phone', 'huge', 'disappoint', 'worth', 'paid', 'back', 'camera', 'stop', 'work', 'phone', 'touch', 'screen', 'stop', 'work', 'restart', 'phone', 'get', 'work', 'phone', 'huge', 'disappoint', 'worth', 'paid', 'back', 'camera', 'stop', 'work', 'phone', 'touch', 'screen', 'stop', 'work', 'restart', 'phone', 'get', 'work', 'phone', 'huge', 'disappoint', 'worth', 'paid', 'back', 'camera', 'stop', 'work', 'phone', 'touch', 'screen', 'stop', 'work', 'restart', 'phone', 'get', 'work', 'phone', 'huge', 'disappoint', 'worth', 'paid', 'back', 'camera', 'stop', 'work', 'phone', 'touch', 'screen', 'stop', 'work', 'restart', 'phone', 'get', 'work', 'phone', 'huge', 'disappoint', 'worth', 'paid', 'back', 'camera', 'stop', 'work', 'phone', 'touch', 'screen', 'stop', 'work', 'restart', 'phone', 'get', 'work', 'phone', 'huge', 'disappoint', 'worth', 'paid', 'back', 'camera', 'stop', 'work', 'phone', 'touch', 'screen', 'stop', 'work', 'restart', 'phone', 'get', 'work', 'phone', 'huge', 'disappoint', 'worth', 'paid', 'back', 'camera', 'stop', 'work', 'phone', 'touch', 'screen', 'stop', 'work', 'restart', 'phone', 'get', 'work', 'phone', 'huge', 'disappoint', 'worth', 'paid', 'back', 'camera', 'stop', 'work', 'phone', 'touch', 'screen', 'stop', 'work', 'restart', 'phone', 'get', 'work', 'phone', 'huge', 'disappoint', 'worth', 'paid', 'back', 'camera', 'stop', 'work', 'phone', 'touch', 'screen', 'stop', 'work', 'restart', 'phone', 'get', 'work', 'phone', 'huge', 'disappoint', 'worth', 'paid', 'back', 'camera', 'stop', 'work', 'phone', 'touch', 'screen', 'stop', 'work', 'restart', 'phone', 'get', 'work', 'phone', 'huge', 'disappoint', 'worth', 'paid', 'back', 'camera', 'stop', 'work', 'phone', 'touch', 'screen', 'stop', 'work', 'restart', 'phone', 'get', 'work', 'phone', 'huge', 'disappoint', 'worth', 'paid', 'back', 'camera', 'stop', 'work', 'phone', 'touch', 'screen', 'stop', 'work', 'restart', 'phone', 'get', 'work', 'phone', 'huge', 'disappoint', 'worth', 'paid', 'back', 'camera', 'stop', 'work', 'phone', 'touch', 'screen', 'stop', 'work', 'restart', 'phone', 'get', 'work', 'phone', 'huge', 'disappoint', 'worth', 'paid', 'back', 'camera', 'stop', 'work', 'phone', 'touch', 'screen', 'stop', 'work', 'restart', 'phone', 'get', 'work', 'phone', 'huge', 'disappoint', 'worth', 'paid', 'back', 'camera', 'stop', 'work', 'phone', 'touch', 'screen', 'stop', 'work', 'restart', 'phone', 'get', 'work', 'phone', 'huge', 'disappoint', 'worth', 'paid', 'back', 'camera', 'stop', 'work', 'phone', 'touch', 'screen', 'stop', 'work', 'restart', 'phone', 'get', 'work', 'phone', 'huge', 'disappoint', 'worth', 'paid', 'back', 'camera', 'stop', 'work', 'phone', 'touch', 'screen', 'stop', 'work', 'restart', 'phone', 'get', 'work', 'phone', 'huge', 'disappoint', 'worth', 'paid', 'back', 'camera', 'stop', 'work', 'phone', 'touch', 'screen', 'stop', 'work', 'restart', 'phone', 'get', 'work', 'phone', 'huge', 'disappoint', 'worth', 'paid', 'back', 'camera', 'stop', 'work', 'phone', 'touch', 'screen', 'stop', 'work', 'restart', 'phone', 'get', 'work', 'phone', 'huge', 'disappoint', 'worth', 'paid', 'back', 'camera', 'stop', 'work', 'phone', 'touch', 'screen', 'stop', 'work', 'restart', 'phone', 'get', 'work', 'phone', 'huge', 'disappoint', 'worth', 'paid', 'back', 'camera', 'stop', 'work', 'phone', 'touch', 'screen', 'stop', 'work', 'restart', 'phone', 'get', 'work', 'phone', 'huge', 'disappoint', 'worth', 'paid', 'back', 'camera', 'stop', 'work', 'phone', 'touch', 'screen', 'stop', 'work', 'restart', 'phone', 'get', 'work', 'phone', 'huge', 'disappoint', 'worth', 'paid', 'back', 'camera', 'stop', 'work', 'phone', 'touch', 'screen', 'stop', 'work', 'restart', 'phone', 'get', 'work', 'phone', 'huge', 'disappoint', 'worth', 'paid', 'back', 'camera', 'stop', 'work', 'phone', 'touch', 'screen', 'stop', 'work', 'restart', 'phone', 'get', 'work', 'phone', 'huge', 'disappoint', 'worth', 'paid', 'back', 'camera', 'stop', 'work', 'phone', 'touch', 'screen', 'stop', 'work', 'restart', 'phone', 'get', 'work', 'phone', 'huge', 'disappoint', 'worth', 'paid', 'back', 'camera', 'stop', 'work', 'phone', 'touch', 'screen', 'stop', 'work', 'restart', 'phone', 'get', 'work', 'phone', 'huge', 'disappoint', 'worth', 'paid', 'back', 'camera', 'stop', 'work', 'phone', 'touch', 'screen', 'stop', 'work', 'restart', 'phone', 'get', 'work', 'phone', 'huge', 'disappoint', 'worth', 'paid', 'back', 'camera', 'stop', 'work', 'phone', 'touch', 'screen', 'stop', 'work', 'restart', 'phone', 'get', 'work', 'phone', 'huge', 'disappoint', 'worth', 'paid', 'back', 'camera', 'stop', 'work', 'phone', 'touch', 'screen', 'stop', 'work', 'restart', 'phone', 'get', 'work', 'phone', 'huge', 'disappoint', 'worth', 'paid', 'back', 'camera', 'stop', 'work', 'phone', 'touch', 'screen', 'stop', 'work', 'restart', 'phone', 'get', 'work', 'phone', 'huge', 'disappoint', 'worth', 'paid', 'back', 'camera', 'stop', 'work', 'phone', 'touch', 'screen', 'stop', 'work', 'restart', 'phone', 'get', 'work', 'phone', 'huge', 'disappoint', 'worth', 'paid', 'back', 'camera', 'stop', 'work', 'phone', 'touch', 'screen', 'stop', 'work', 'restart', 'phone', 'get', 'work', 'phone', 'huge', 'disappoint', 'worth', 'paid', 'back', 'camera', 'stop', 'work', 'phone', 'touch', 'screen', 'stop', 'work', 'restart', 'phone', 'get', 'work', 'phone', 'huge', 'disappoint', 'worth', 'paid', 'back', 'camera', 'stop', 'work', 'phone', 'touch', 'screen', 'stop', 'work', 'restart', 'phone', 'get', 'work', 'phone', 'huge', 'disappoint', 'worth', 'paid', 'back', 'camera', 'stop', 'work', 'phone', 'touch', 'screen', 'stop', 'work', 'restart', 'phone', 'get', 'work', 'phone', 'huge', 'disappoint', 'worth', 'paid', 'back', 'camera', 'stop', 'work', 'phone', 'touch', 'screen', 'stop', 'work', 'restart', 'phone', 'get', 'work', 'phone', 'huge', 'disappoint', 'worth', 'paid', 'back', 'camera', 'stop', 'work', 'phone', 'touch', 'screen', 'stop', 'work', 'restart', 'phone', 'get', 'work', 'phone', 'huge', 'disappoint', 'worth', 'paid', 'back', 'camera', 'stop', 'work', 'phone', 'touch', 'screen', 'stop', 'work', 'restart', 'phone', 'get', 'work', 'phone', 'huge', 'disappoint', 'worth', 'paid', 'back', 'camera', 'stop', 'work', 'phone', 'touch', 'screen', 'stop', 'work', 'restart', 'phone', 'get', 'work', 'phone', 'huge', 'disappoint', 'worth', 'paid', 'back', 'camera', 'stop', 'work', 'phone', 'touch', 'screen', 'stop', 'work', 'restart', 'phone', 'get', 'work', 'phone', 'huge', 'disappoint', 'worth', 'paid', 'back', 'camera', 'stop', 'work', 'phone', 'touch', 'screen', 'stop', 'work', 'restart', 'phone', 'get', 'work', 'phone', 'huge', 'disappoint', 'worth', 'paid', 'back', 'camera', 'stop', 'work', 'phone', 'touch', 'screen', 'stop', 'work', 'restart', 'phone', 'get', 'work', 'phone', 'huge', 'disappoint', 'worth', 'paid', 'back', 'camera', 'stop', 'work', 'phone', 'touch', 'screen', 'stop', 'work', 'restart', 'phone', 'get', 'work', 'phone', 'huge', 'disappoint', 'worth', 'paid', 'back', 'camera', 'stop', 'work', 'phone', 'touch', 'screen', 'stop', 'work', 'restart', 'phone', 'get', 'work', 'phone', 'huge', 'disappoint', 'worth', 'paid', 'back', 'camera', 'stop', 'work', 'phone', 'touch', 'screen', 'stop', 'work', 'restart', 'phone', 'get', 'work', 'phone', 'huge', 'disappoint', 'worth', 'paid', 'back', 'camera', 'stop', 'work', 'phone', 'touch', 'screen', 'stop', 'work', 'restart', 'phone', 'get', 'work', 'phone', 'huge', 'disappoint', 'worth', 'paid', 'back', 'camera', 'stop', 'work', 'phone', 'touch', 'screen', 'stop', 'work', 'restart', 'phone', 'get', 'work', 'phone', 'huge', 'disappoint', 'worth', 'paid', 'back', 'camera', 'stop', 'work', 'phone', 'touch', 'screen', 'stop', 'work', 'restart', 'phone', 'get', 'work', 'phone', 'huge', 'disappoint', 'worth', 'paid', 'back', 'camera', 'stop', 'work', 'phone', 'touch', 'screen', 'stop', 'work', 'restart', 'phone', 'get', 'work', 'phone', 'huge', 'disappoint', 'worth', 'paid', 'back', 'camera', 'stop', 'work', 'phone', 'touch', 'screen', 'stop', 'work', 'restart', 'phone', 'get', 'work', 'phone', 'huge', 'disappoint', 'worth', 'paid', 'back', 'camera', 'stop', 'work', 'phone', 'touch', 'screen', 'stop', 'work', 'restart', 'phone', 'get', 'work', 'phone', 'huge', 'disappoint', 'worth', 'paid', 'back', 'camera', 'stop', 'work', 'phone', 'touch', 'screen', 'stop', 'work', 'restart', 'phone', 'get', 'work', 'phone', 'huge', 'disappoint', 'worth', 'paid', 'back', 'camera', 'stop', 'work', 'phone', 'touch', 'screen', 'stop', 'work', 'restart', 'phone', 'get', 'work', 'phone', 'huge', 'disappoint', 'worth', 'paid', 'back', 'camera', 'stop', 'work', 'phone', 'touch', 'screen', 'stop', 'work', 'restart', 'phone', 'get', 'work', 'phone', 'huge', 'disappoint', 'worth', 'paid', 'back', 'camera', 'stop', 'work', 'phone', 'touch', 'screen', 'stop', 'work', 'restart', 'phone', 'get', 'work', 'phone', 'huge', 'disappoint', 'worth', 'paid', 'back', 'camera', 'stop', 'work', 'phone', 'touch', 'screen', 'stop', 'work', 'restart', 'phone', 'get', 'work', 'phone', 'huge', 'disappoint', 'worth', 'paid', 'back', 'camera', 'stop', 'work', 'phone', 'touch', 'screen', 'stop', 'work', 'restart', 'phone', 'get', 'work', 'phone', 'huge', 'disappoint', 'worth', 'paid', 'back', 'camera', 'stop', 'work', 'phone', 'touch', 'screen', 'stop', 'work', 'restart', 'phone', 'get', 'work', 'phone', 'huge', 'disappoint', 'worth', 'paid', 'back', 'camera', 'stop', 'work', 'phone', 'touch', 'screen', 'stop', 'work', 'restart', 'phone', 'get', 'work', 'phone', 'huge', 'disappoint', 'worth', 'paid', 'back', 'camera', 'stop', 'work', 'phone', 'touch', 'screen', 'stop', 'work', 'restart', 'phone', 'get', 'work', 'phone', 'huge', 'disappoint', 'worth', 'paid', 'back', 'camera', 'stop', 'work', 'phone', 'touch', 'screen', 'stop', 'work', 'restart', 'phone', 'get', 'work', 'phone', 'huge', 'disappoint', 'worth', 'paid', 'back', 'camera', 'stop', 'work', 'phone', 'touch', 'screen', 'stop', 'work', 'restart', 'phone', 'get', 'work', 'phone', 'huge', 'disappoint', 'worth', 'paid', 'back', 'camera', 'stop', 'work', 'phone', 'touch', 'screen', 'stop', 'work', 'restart', 'phone', 'get', 'work', 'phone', 'huge', 'disappoint', 'worth', 'paid', 'back', 'camera', 'stop', 'work', 'phone', 'touch', 'screen', 'stop', 'work', 'restart', 'phone', 'get', 'work', 'phone', 'huge', 'disappoint', 'worth', 'paid', 'back', 'camera', 'stop', 'work', 'phone', 'touch', 'screen', 'stop', 'work', 'restart', 'phone', 'get', 'work', 'phone', 'huge', 'disappoint', 'worth', 'paid', 'back', 'camera', 'stop', 'work', 'phone', 'touch', 'screen', 'stop', 'work', 'restart', 'phone', 'get', 'work', 'phone', 'huge', 'disappoint', 'worth', 'paid', 'back', 'camera', 'stop', 'work', 'phone', 'touch', 'screen', 'stop', 'work', 'restart', 'phone', 'get', 'work', 'phone', 'huge', 'disappoint', 'worth', 'paid', 'back', 'camera', 'stop', 'work', 'phone', 'touch', 'screen', 'stop', 'work', 'restart', 'phone', 'get', 'work', 'phone', 'huge', 'disappoint', 'worth', 'paid', 'back', 'camera', 'stop', 'work', 'phone', 'touch', 'screen', 'stop', 'work', 'restart', 'phone', 'get', 'work', 'phone', 'huge', 'disappoint', 'worth', 'paid', 'back', 'camera', 'stop', 'work', 'phone', 'touch', 'screen', 'stop', 'work', 'restart', 'phone', 'get', 'work', 'phone', 'huge', 'disappoint', 'worth', 'paid', 'back', 'camera', 'stop', 'work', 'phone', 'touch', 'screen', 'stop', 'work', 'restart', 'phone', 'get', 'work', 'phone', 'huge', 'disappoint', 'worth', 'paid', 'back', 'camera', 'stop', 'work', 'phone', 'touch', 'screen', 'stop', 'work', 'restart', 'phone', 'get', 'work', 'phone', 'huge', 'disappoint', 'worth', 'paid', 'back', 'camera', 'stop', 'work', 'phone', 'touch', 'screen', 'stop', 'work', 'restart', 'phone', 'get', 'work', 'phone', 'huge', 'disappoint', 'worth', 'paid', 'back', 'camera', 'stop', 'work', 'phone', 'touch', 'screen', 'stop', 'work', 'restart', 'phone', 'get', 'work', 'phone', 'huge', 'disappoint', 'worth', 'paid', 'back', 'camera', 'stop', 'work', 'phone', 'touch', 'screen', 'stop', 'work', 'restart', 'phone', 'get', 'work', 'phone', 'huge', 'disappoint', 'worth', 'paid', 'back', 'camera', 'stop', 'work', 'phone', 'touch', 'screen', 'stop', 'work', 'restart', 'phone', 'get', 'work', 'phone', 'huge', 'disappoint', 'worth', 'paid', 'back', 'camera', 'stop', 'work', 'phone', 'touch', 'screen', 'stop', 'work', 'restart', 'phone', 'get', 'work', 'phone', 'huge', 'disappoint', 'worth', 'paid', 'back', 'camera', 'stop', 'work', 'phone', 'touch', 'screen', 'stop', 'work', 'restart', 'phone', 'get', 'work', 'phone', 'huge', 'disappoint', 'worth', 'paid', 'back', 'camera', 'stop', 'work', 'phone', 'touch', 'screen', 'stop', 'work', 'restart', 'phone', 'get', 'work', 'phone', 'huge', 'disappoint', 'worth', 'paid', 'back', 'camera', 'stop', 'work', 'phone', 'touch', 'screen', 'stop', 'work', 'restart', 'phone', 'get', 'work', 'phone', 'huge', 'disappoint', 'worth', 'paid', 'back', 'camera', 'stop', 'work', 'phone', 'touch', 'screen', 'stop', 'work', 'restart', 'phone', 'get', 'work', 'phone', 'huge', 'disappoint', 'worth', 'paid', 'back', 'camera', 'stop', 'work', 'phone', 'touch', 'screen', 'stop', 'work', 'restart', 'phone', 'get', 'work', 'phone', 'huge', 'disappoint', 'worth', 'paid', 'back', 'camera', 'stop', 'work', 'phone', 'touch', 'screen', 'stop', 'work', 'restart', 'phone', 'get', 'work', 'phone', 'huge', 'disappoint', 'worth', 'paid', 'back', 'camera', 'stop', 'work', 'phone', 'touch', 'screen', 'stop', 'work', 'restart', 'phone', 'get', 'work', 'phone', 'huge', 'disappoint', 'worth', 'paid', 'back', 'camera', 'stop', 'work', 'phone', 'touch', 'screen', 'stop', 'work', 'restart', 'phone', 'get', 'work', 'phone', 'huge', 'disappoint', 'worth', 'paid', 'back', 'camera', 'stop', 'work', 'phone', 'touch', 'screen', 'stop', 'work', 'restart', 'phone', 'get', 'work', 'phone', 'huge', 'disappoint', 'worth', 'paid', 'back', 'camera', 'stop', 'work', 'phone', 'touch', 'screen', 'stop', 'work', 'restart', 'phone', 'get', 'work', 'phone', 'huge', 'disappoint', 'worth', 'paid', 'back', 'camera', 'stop', 'work', 'phone', 'touch', 'screen', 'stop', 'work', 'restart', 'phone', 'get', 'work', 'phone', 'huge', 'disappoint', 'worth', 'paid', 'back', 'camera', 'stop', 'work', 'phone', 'touch', 'screen', 'stop', 'work', 'restart', 'phone', 'get', 'work', 'phone', 'huge', 'disappoint', 'worth', 'paid', 'back', 'camera', 'stop', 'work', 'phone', 'touch', 'screen', 'stop', 'work', 'restart', 'phone', 'get', 'work', 'phone', 'huge', 'disappoint', 'worth', 'paid', 'back', 'camera', 'stop', 'work', 'phone', 'touch', 'screen', 'stop', 'work', 'restart', 'phone', 'get', 'work', 'phone', 'huge', 'disappoint', 'worth', 'paid', 'back', 'camera', 'stop', 'work', 'phone', 'touch', 'screen', 'stop', 'work', 'restart', 'phone', 'get', 'work', 'phone', 'huge', 'disappoint', 'worth', 'paid', 'back', 'camera', 'stop', 'work', 'phone', 'touch', 'screen', 'stop', 'work', 'restart', 'phone', 'get', 'work', 'phone', 'huge', 'disappoint', 'worth', 'paid', 'back', 'camera', 'stop', 'work', 'phone', 'touch', 'screen', 'stop', 'work', 'restart', 'phone', 'get', 'work', 'phone', 'huge', 'disappoint', 'worth', 'paid', 'back', 'camera', 'stop', 'work', 'phone', 'touch', 'screen', 'stop', 'work', 'restart', 'phone', 'get', 'work', 'phone', 'huge', 'disappoint', 'worth', 'paid', 'back', 'camera', 'stop', 'work', 'phone', 'touch', 'screen', 'stop', 'work', 'restart', 'phone', 'get', 'work', 'phone', 'huge', 'disappoint', 'worth', 'paid', 'back', 'camera', 'stop', 'work', 'phone', 'touch', 'screen', 'stop', 'work', 'restart', 'phone', 'get', 'work', 'phone', 'huge', 'disappoint', 'worth', 'paid', 'back', 'camera', 'stop', 'work', 'phone', 'touch', 'screen', 'stop', 'work', 'restart', 'phone', 'get', 'work', 'phone', 'huge', 'disappoint', 'worth', 'paid', 'back', 'camera', 'stop', 'work', 'phone', 'touch', 'screen', 'stop', 'work', 'restart', 'phone', 'get', 'work', 'phone', 'huge', 'disappoint', 'worth', 'paid', 'back', 'camera', 'stop', 'work', 'phone', 'touch', 'screen', 'stop', 'work', 'restart', 'phone', 'get', 'work', 'phone', 'huge', 'disappoint', 'worth', 'paid', 'back', 'camera', 'stop', 'work', 'phone', 'touch', 'screen', 'stop', 'work', 'restart', 'phone', 'get', 'work', 'phone', 'huge', 'disappoint', 'worth', 'paid', 'back', 'camera', 'stop', 'work', 'phone', 'touch', 'screen', 'stop', 'work', 'restart', 'phone', 'get', 'work', 'phone', 'huge', 'disappoint', 'worth', 'paid', 'back', 'camera', 'stop', 'work', 'phone', 'touch', 'screen', 'stop', 'work', 'restart', 'phone', 'get', 'work', 'phone', 'huge', 'disappoint', 'worth', 'paid', 'back', 'camera', 'stop', 'work', 'phone', 'touch', 'screen', 'stop', 'work', 'restart', 'phone', 'get', 'work', 'phone', 'huge', 'disappoint', 'worth', 'paid', 'back', 'camera', 'stop', 'work', 'phone', 'touch', 'screen', 'stop', 'work', 'restart', 'phone', 'get', 'work', 'phone', 'huge', 'disappoint', 'worth', 'paid', 'back', 'camera', 'stop', 'work', 'phone', 'touch', 'screen', 'stop', 'work', 'restart', 'phone', 'get', 'work', 'phone', 'huge', 'disappoint', 'worth', 'paid', 'back', 'camera', 'stop', 'work', 'phone', 'touch', 'screen', 'stop', 'work', 'restart', 'phone', 'get', 'work', 'phone', 'huge', 'disappoint', 'worth', 'paid', 'back', 'camera', 'stop', 'work', 'phone', 'touch', 'screen', 'stop', 'work', 'restart', 'phone', 'get', 'work', 'phone', 'huge', 'disappoint', 'worth', 'paid', 'back', 'camera', 'stop', 'work', 'phone', 'touch', 'screen', 'stop', 'work', 'restart', 'phone', 'get', 'work', 'phone', 'huge', 'disappoint', 'worth', 'paid', 'back', 'camera', 'stop', 'work', 'phone', 'touch', 'screen', 'stop', 'work', 'restart', 'phone', 'get', 'work', 'phone', 'huge', 'disappoint', 'worth', 'paid', 'back', 'camera', 'stop', 'work', 'phone', 'touch', 'screen', 'stop', 'work', 'restart', 'phone', 'get', 'work', 'phone', 'huge', 'disappoint', 'worth', 'paid', 'back', 'camera', 'stop', 'work', 'phone', 'touch', 'screen', 'stop', 'work', 'restart', 'phone', 'get', 'work', 'phone', 'huge', 'disappoint', 'worth', 'paid', 'back', 'camera', 'stop', 'work', 'phone', 'touch', 'screen', 'stop', 'work', 'restart', 'phone', 'get', 'work', 'phone', 'huge', 'disappoint', 'worth', 'paid', 'back', 'camera', 'stop', 'work', 'phone', 'touch', 'screen', 'stop', 'work', 'restart', 'phone', 'get', 'work', 'phone', 'huge', 'disappoint', 'worth', 'paid', 'back', 'camera', 'stop', 'work', 'phone', 'touch', 'screen', 'stop', 'work', 'restart', 'phone', 'get', 'work', 'phone', 'huge', 'disappoint', 'worth', 'paid', 'back', 'camera', 'stop', 'work', 'phone', 'touch', 'screen', 'stop', 'work', 'restart', 'phone', 'get', 'work', 'phone', 'huge', 'disappoint', 'worth', 'paid', 'back', 'camera', 'stop', 'work', 'phone', 'touch', 'screen', 'stop', 'work', 'restart', 'phone', 'get', 'work', 'phone', 'huge', 'disappoint', 'worth', 'paid', 'back', 'camera', 'stop', 'work', 'phone', 'touch', 'screen', 'stop', 'work', 'restart', 'phone', 'get', 'work', 'phone', 'huge', 'disappoint', 'worth', 'paid', 'back', 'camera', 'stop', 'work', 'phone', 'touch', 'screen', 'stop', 'work', 'restart', 'phone', 'get', 'work', 'phone', 'huge', 'disappoint', 'worth', 'paid', 'back', 'camera', 'stop', 'work', 'phone', 'touch', 'screen', 'stop', 'work', 'restart', 'phone', 'get', 'work', 'phone', 'huge', 'disappoint', 'worth', 'paid', 'back', 'camera', 'stop', 'work', 'phone', 'touch', 'screen', 'stop', 'work', 'restart', 'phone', 'get', 'work', 'phone', 'huge', 'disappoint', 'worth', 'paid', 'back', 'camera', 'stop', 'work', 'phone', 'touch', 'screen', 'stop', 'work', 'restart', 'phone', 'get', 'work', 'phone', 'huge', 'disappoint', 'worth', 'paid', 'back', 'camera', 'stop', 'work', 'phone', 'touch', 'screen', 'stop', 'work', 'restart', 'phone', 'get', 'work', 'phone', 'huge', 'disappoint', 'worth', 'paid', 'back', 'camera', 'stop', 'work', 'phone', 'touch', 'screen', 'stop', 'work', 'restart', 'phone', 'get', 'work', 'phone', 'huge', 'disappoint', 'worth', 'paid', 'back', 'camera', 'stop', 'work', 'phone', 'touch', 'screen', 'stop', 'work', 'restart', 'phone', 'get', 'work', 'phone', 'huge', 'disappoint', 'worth', 'paid', 'back', 'camera', 'stop', 'work', 'phone', 'touch', 'screen', 'stop', 'work', 'restart', 'phone', 'get', 'work', 'phone', 'huge', 'disappoint', 'worth', 'paid', 'back', 'camera', 'stop', 'work', 'phone', 'touch', 'screen', 'stop', 'work', 'restart', 'phone', 'get', 'work', 'phone', 'huge', 'disappoint', 'worth', 'paid', 'back', 'camera', 'stop', 'work', 'phone', 'touch', 'screen', 'stop', 'work', 'restart', 'phone', 'get', 'work', 'phone', 'huge', 'disappoint', 'worth', 'paid', 'back', 'camera', 'stop', 'work', 'phone', 'touch', 'screen', 'stop', 'work', 'restart', 'phone', 'get', 'work', 'phone', 'huge', 'disappoint', 'worth', 'paid', 'back', 'camera', 'stop', 'work', 'phone', 'touch', 'screen', 'stop', 'work', 'restart', 'phone', 'get', 'work', 'phone', 'huge', 'disappoint', 'worth', 'paid', 'back', 'camera', 'stop', 'work', 'phone', 'touch', 'screen', 'stop', 'work', 'restart', 'phone', 'get', 'work', 'phone', 'huge', 'disappoint', 'worth', 'paid', 'back', 'camera', 'stop', 'work', 'phone', 'touch', 'screen', 'stop', 'work', 'restart', 'phone', 'get', 'work', 'phone', 'huge', 'disappoint', 'worth', 'paid', 'back', 'camera', 'stop', 'work', 'phone', 'touch', 'screen', 'stop', 'work', 'restart', 'phone', 'get', 'work', 'phone', 'huge', 'disappoint', 'worth', 'paid', 'back', 'camera', 'stop', 'work', 'phone', 'touch', 'screen', 'stop', 'work', 'restart', 'phone', 'get', 'work', 'phone', 'huge', 'disappoint', 'worth', 'paid', 'back', 'camera', 'stop', 'work', 'phone', 'touch', 'screen', 'stop', 'work', 'restart', 'phone', 'get', 'work', 'phone', 'huge', 'disappoint', 'worth', 'paid'], ['good'], ['complaint', 'work', 'fine', 'still', 'work', 'perfect', 'tear', 'wear', 'sign', 'refurbish', 'phone', 'complaint', 'work', 'fine', 'still', 'work', 'perfect', 'tear', 'wear', 'sign', 'refurbish', 'phone', 'complaint', 'work', 'fine', 'still', 'work', 'perfect', 'tear', 'wear', 'sign', 'refurbish', 'phone', 'complaint', 'work', 'fine', 'still', 'work', 'perfect', 'tear', 'wear', 'sign', 'refurbish', 'phone', 'complaint', 'work', 'fine', 'still', 'work', 'perfect', 'tear', 'wear', 'sign', 'refurbish', 'phone', 'complaint', 'work', 'fine', 'still', 'work', 'perfect', 'tear', 'wear', 'sign', 'refurbish', 'phone', 'complaint', 'work', 'fine', 'still', 'work', 'perfect', 'tear', 'wear', 'sign', 'refurbish', 'phone', 'complaint', 'work', 'fine', 'still', 'work', 'perfect', 'tear', 'wear', 'sign', 'refurbish', 'phone', 'complaint', 'work', 'fine', 'still', 'work', 'perfect', 'tear', 'wear', 'sign', 'refurbish', 'phone', 'complaint', 'work', 'fine', 'still', 'work', 'perfect', 'tear', 'wear', 'sign', 'refurbish', 'phone', 'complaint', 'work', 'fine', 'still', 'work', 'perfect', 'tear', 'wear', 'sign', 'refurbish', 'phone', 'complaint', 'work', 'fine', 'still', 'work', 'perfect', 'tear', 'wear', 'sign', 'refurbish', 'phone', 'complaint', 'work', 'fine', 'still', 'work', 'perfect', 'tear', 'wear', 'sign', 'refurbish', 'phone', 'complaint', 'work', 'fine', 'still', 'work', 'perfect', 'tear', 'wear', 'sign', 'refurbish', 'phone', 'complaint', 'work', 'fine', 'still', 'work', 'perfect', 'tear', 'wear', 'sign', 'refurbish', 'phone', 'complaint', 'work', 'fine', 'still', 'work', 'perfect', 'tear', 'wear', 'sign', 'refurbish', 'phone', 'complaint', 'work', 'fine', 'still', 'work', 'perfect', 'tear', 'wear', 'sign', 'refurbish', 'phone', 'complaint', 'work', 'fine', 'still', 'work', 'perfect', 'tear', 'wear', 'sign', 'refurbish', 'phone', 'complaint', 'work', 'fine', 'still', 'work', 'perfect', 'tear', 'wear', 'sign', 'refurbish', 'phone', 'complaint', 'work', 'fine', 'still', 'work', 'perfect', 'tear', 'wear', 'sign', 'refurbish', 'phone', 'complaint', 'work', 'fine', 'still', 'work', 'perfect', 'tear', 'wear', 'sign', 'refurbish', 'phone', 'complaint', 'work', 'fine', 'still', 'work', 'perfect', 'tear', 'wear', 'sign', 'refurbish', 'phone', 'complaint', 'work', 'fine', 'still', 'work', 'perfect', 'tear', 'wear', 'sign', 'refurbish', 'phone', 'complaint', 'work', 'fine', 'still', 'work', 'perfect', 'tear', 'wear', 'sign', 'refurbish', 'phone', 'complaint', 'work', 'fine', 'still', 'work', 'perfect', 'tear', 'wear', 'sign', 'refurbish', 'phone', 'complaint', 'work', 'fine', 'still', 'work', 'perfect', 'tear', 'wear', 'sign', 'refurbish', 'phone', 'complaint', 'work', 'fine', 'still', 'work', 'perfect', 'tear', 'wear', 'sign', 'refurbish', 'phone', 'complaint', 'work', 'fine', 'still', 'work', 'perfect', 'tear', 'wear', 'sign', 'refurbish', 'phone', 'complaint', 'work', 'fine', 'still', 'work', 'perfect', 'tear', 'wear', 'sign', 'refurbish', 'phone', 'complaint', 'work', 'fine', 'still', 'work', 'perfect', 'tear', 'wear', 'sign', 'refurbish', 'phone', 'complaint', 'work', 'fine', 'still', 'work', 'perfect', 'tear', 'wear', 'sign', 'refurbish', 'phone', 'complaint', 'work', 'fine', 'still', 'work', 'perfect', 'tear', 'wear', 'sign', 'refurbish', 'phone', 'complaint', 'work', 'fine', 'still', 'work', 'perfect', 'tear', 'wear', 'sign', 'refurbish', 'phone', 'complaint', 'work', 'fine', 'still', 'work', 'perfect', 'tear', 'wear', 'sign', 'refurbish', 'phone', 'complaint', 'work', 'fine', 'still', 'work', 'perfect', 'tear', 'wear', 'sign', 'refurbish', 'phone', 'complaint', 'work', 'fine', 'still', 'work', 'perfect', 'tear', 'wear', 'sign', 'refurbish', 'phone', 'complaint', 'work', 'fine', 'still', 'work', 'perfect', 'tear', 'wear', 'sign', 'refurbish', 'phone', 'complaint', 'work', 'fine', 'still', 'work', 'perfect', 'tear', 'wear', 'sign', 'refurbish', 'phone', 'complaint', 'work', 'fine', 'still', 'work', 'perfect', 'tear', 'wear', 'sign', 'refurbish', 'phone', 'complaint', 'work', 'fine', 'still', 'work', 'perfect', 'tear', 'wear', 'sign', 'refurbish', 'phone', 'complaint', 'work', 'fine', 'still', 'work', 'perfect', 'tear', 'wear', 'sign', 'refurbish', 'phone', 'complaint', 'work', 'fine', 'still', 'work', 'perfect', 'tear', 'wear', 'sign', 'refurbish', 'phone', 'complaint', 'work', 'fine', 'still', 'work', 'perfect', 'tear', 'wear', 'sign', 'refurbish', 'phone', 'complaint', 'work', 'fine', 'still', 'work', 'perfect', 'tear', 'wear', 'sign', 'refurbish', 'phone', 'complaint', 'work', 'fine', 'still', 'work', 'perfect', 'tear', 'wear', 'sign', 'refurbish', 'phone', 'complaint', 'work', 'fine', 'still', 'work', 'perfect', 'tear', 'wear', 'sign', 'refurbish', 'phone', 'complaint', 'work', 'fine', 'still', 'work', 'perfect', 'tear', 'wear', 'sign', 'refurbish', 'phone', 'complaint', 'work', 'fine', 'still', 'work', 'perfect', 'tear', 'wear', 'sign', 'refurbish', 'phone', 'complaint', 'work', 'fine', 'still', 'work', 'perfect', 'tear', 'wear', 'sign', 'refurbish', 'phone', 'complaint', 'work', 'fine', 'still', 'work', 'perfect', 'tear', 'wear', 'sign', 'refurbish', 'phone', 'complaint', 'work', 'fine', 'still', 'work', 'perfect', 'tear', 'wear', 'sign', 'refurbish', 'phone', 'complaint', 'work', 'fine', 'still', 'work', 'perfect', 'tear', 'wear', 'sign', 'refurbish', 'phone', 'complaint', 'work', 'fine', 'still', 'work', 'perfect', 'tear', 'wear', 'sign', 'refurbish', 'phone', 'complaint', 'work', 'fine', 'still', 'work', 'perfect', 'tear', 'wear', 'sign', 'refurbish', 'phone', 'complaint', 'work', 'fine', 'still', 'work', 'perfect', 'tear', 'wear', 'sign', 'refurbish', 'phone', 'complaint', 'work', 'fine', 'still', 'work', 'perfect', 'tear', 'wear', 'sign', 'refurbish', 'phone', 'complaint', 'work', 'fine', 'still', 'work', 'perfect', 'tear', 'wear', 'sign', 'refurbish', 'phone', 'complaint', 'work', 'fine', 'still', 'work', 'perfect', 'tear', 'wear', 'sign', 'refurbish', 'phone', 'complaint', 'work', 'fine', 'still', 'work', 'perfect', 'tear', 'wear', 'sign', 'refurbish', 'phone', 'complaint', 'work', 'fine', 'still', 'work', 'perfect', 'tear', 'wear', 'sign', 'refurbish', 'phone', 'complaint', 'work', 'fine', 'still', 'work', 'perfect', 'tear', 'wear', 'sign', 'refurbish', 'phone', 'complaint', 'work', 'fine', 'still', 'work', 'perfect', 'tear', 'wear', 'sign', 'refurbish', 'phone', 'complaint', 'work', 'fine', 'still', 'work', 'perfect', 'tear', 'wear', 'sign', 'refurbish', 'phone', 'complaint', 'work', 'fine', 'still', 'work', 'perfect', 'tear', 'wear', 'sign', 'refurbish', 'phone', 'complaint', 'work', 'fine', 'still', 'work', 'perfect', 'tear', 'wear', 'sign', 'refurbish', 'phone', 'complaint', 'work', 'fine', 'still', 'work', 'perfect', 'tear', 'wear', 'sign', 'refurbish', 'phone', 'complaint', 'work', 'fine', 'still', 'work', 'perfect', 'tear', 'wear', 'sign', 'refurbish', 'phone', 'complaint', 'work', 'fine', 'still', 'work', 'perfect', 'tear', 'wear', 'sign', 'refurbish', 'phone', 'complaint', 'work', 'fine', 'still', 'work', 'perfect', 'tear', 'wear', 'sign', 'refurbish', 'phone', 'complaint', 'work', 'fine', 'still', 'work', 'perfect', 'tear', 'wear', 'sign', 'refurbish', 'phone', 'complaint', 'work', 'fine', 'still', 'work', 'perfect', 'tear', 'wear', 'sign', 'refurbish', 'phone', 'complaint', 'work', 'fine', 'still', 'work', 'perfect', 'tear', 'wear', 'sign', 'refurbish', 'phone', 'complaint', 'work', 'fine', 'still', 'work', 'perfect', 'tear', 'wear', 'sign', 'refurbish', 'phone', 'complaint', 'work', 'fine', 'still', 'work', 'perfect', 'tear', 'wear', 'sign', 'refurbish', 'phone', 'complaint', 'work', 'fine', 'still', 'work', 'perfect', 'tear', 'wear', 'sign', 'refurbish', 'phone', 'complaint', 'work', 'fine', 'still', 'work', 'perfect', 'tear', 'wear', 'sign', 'refurbish', 'phone', 'complaint', 'work', 'fine', 'still', 'work', 'perfect', 'tear', 'wear', 'sign', 'refurbish', 'phone', 'complaint', 'work', 'fine', 'still', 'work', 'perfect', 'tear', 'wear', 'sign', 'refurbish', 'phone', 'complaint', 'work', 'fine', 'still', 'work', 'perfect', 'tear', 'wear', 'sign', 'refurbish', 'phone', 'complaint', 'work', 'fine', 'still', 'work', 'perfect', 'tear', 'wear', 'sign', 'refurbish', 'phone', 'complaint', 'work', 'fine', 'still', 'work', 'perfect', 'tear', 'wear', 'sign', 'refurbish', 'phone', 'complaint', 'work', 'fine', 'still', 'work', 'perfect', 'tear', 'wear', 'sign', 'refurbish', 'phone', 'complaint', 'work', 'fine', 'still', 'work', 'perfect', 'tear', 'wear', 'sign', 'refurbish', 'phone', 'complaint', 'work', 'fine', 'still', 'work', 'perfect', 'tear', 'wear', 'sign', 'refurbish', 'phone', 'complaint', 'work', 'fine', 'still', 'work', 'perfect', 'tear', 'wear', 'sign', 'refurbish', 'phone', 'complaint', 'work', 'fine', 'still', 'work', 'perfect', 'tear', 'wear', 'sign', 'refurbish', 'phone', 'complaint', 'work', 'fine', 'still', 'work', 'perfect', 'tear', 'wear', 'sign', 'refurbish', 'phone', 'complaint', 'work', 'fine', 'still', 'work', 'perfect', 'tear', 'wear', 'sign', 'refurbish', 'phone', 'complaint', 'work', 'fine', 'still', 'work', 'perfect', 'tear', 'wear', 'sign', 'refurbish', 'phone', 'complaint', 'work', 'fine', 'still', 'work', 'perfect', 'tear', 'wear', 'sign', 'refurbish', 'phone', 'complaint', 'work', 'fine', 'still', 'work', 'perfect', 'tear', 'wear', 'sign', 'refurbish', 'phone', 'complaint', 'work', 'fine', 'still', 'work', 'perfect', 'tear', 'wear', 'sign', 'refurbish', 'phone', 'complaint', 'work', 'fine', 'still', 'work', 'perfect', 'tear', 'wear', 'sign', 'refurbish', 'phone', 'complaint', 'work', 'fine', 'still', 'work', 'perfect', 'tear', 'wear', 'sign', 'refurbish', 'phone', 'complaint', 'work', 'fine', 'still', 'work', 'perfect', 'tear', 'wear', 'sign', 'refurbish', 'phone', 'complaint', 'work', 'fine', 'still', 'work', 'perfect', 'tear', 'wear', 'sign', 'refurbish', 'phone', 'complaint', 'work', 'fine', 'still', 'work', 'perfect', 'tear', 'wear', 'sign', 'refurbish', 'phone', 'complaint', 'work', 'fine', 'still', 'work', 'perfect', 'tear', 'wear', 'sign', 'refurbish', 'phone', 'complaint', 'work', 'fine', 'still', 'work', 'perfect', 'tear', 'wear', 'sign', 'refurbish', 'phone', 'complaint', 'work', 'fine', 'still', 'work', 'perfect', 'tear', 'wear', 'sign', 'refurbish', 'phone', 'complaint', 'work', 'fine', 'still', 'work', 'perfect', 'tear', 'wear', 'sign', 'refurbish', 'phone', 'complaint', 'work', 'fine', 'still', 'work', 'perfect', 'tear', 'wear', 'sign', 'refurbish', 'phone', 'complaint', 'work', 'fine', 'still', 'work', 'perfect', 'tear', 'wear', 'sign', 'refurbish', 'phone', 'complaint', 'work', 'fine', 'still', 'work', 'perfect', 'tear', 'wear', 'sign', 'refurbish', 'phone', 'complaint', 'work', 'fine', 'still', 'work', 'perfect', 'tear', 'wear', 'sign', 'refurbish', 'phone', 'complaint', 'work', 'fine', 'still', 'work', 'perfect', 'tear', 'wear', 'sign', 'refurbish', 'phone', 'complaint', 'work', 'fine', 'still', 'work', 'perfect', 'tear', 'wear', 'sign', 'refurbish', 'phone', 'complaint', 'work', 'fine', 'still', 'work', 'perfect', 'tear', 'wear', 'sign', 'refurbish', 'phone', 'complaint', 'work', 'fine', 'still', 'work', 'perfect', 'tear', 'wear', 'sign', 'refurbish', 'phone', 'complaint', 'work', 'fine', 'still', 'work', 'perfect', 'tear', 'wear', 'sign', 'refurbish', 'phone', 'complaint', 'work', 'fine', 'still', 'work', 'perfect', 'tear', 'wear', 'sign', 'refurbish', 'phone', 'complaint', 'work', 'fine', 'still', 'work', 'perfect', 'tear', 'wear', 'sign', 'refurbish', 'phone', 'complaint', 'work', 'fine', 'still', 'work', 'perfect', 'tear', 'wear', 'sign', 'refurbish', 'phone', 'complaint', 'work', 'fine', 'still', 'work', 'perfect', 'tear', 'wear', 'sign', 'refurbish', 'phone', 'complaint', 'work', 'fine', 'still', 'work', 'perfect', 'tear', 'wear', 'sign', 'refurbish', 'phone', 'complaint', 'work', 'fine', 'still', 'work', 'perfect', 'tear', 'wear', 'sign', 'refurbish', 'phone', 'complaint', 'work', 'fine', 'still', 'work', 'perfect', 'tear', 'wear', 'sign', 'refurbish', 'phone', 'complaint', 'work', 'fine', 'still', 'work', 'perfect', 'tear', 'wear', 'sign', 'refurbish', 'phone', 'complaint', 'work', 'fine', 'still', 'work', 'perfect', 'tear', 'wear', 'sign', 'refurbish', 'phone', 'complaint', 'work', 'fine', 'still', 'work', 'perfect', 'tear', 'wear', 'sign', 'refurbish', 'phone', 'complaint', 'work', 'fine', 'still', 'work', 'perfect', 'tear', 'wear', 'sign', 'refurbish', 'phone', 'complaint', 'work', 'fine', 'still', 'work', 'perfect', 'tear', 'wear', 'sign', 'refurbish', 'phone', 'complaint', 'work', 'fine', 'still', 'work', 'perfect', 'tear', 'wear', 'sign', 'refurbish', 'phone', 'complaint', 'work', 'fine', 'still', 'work', 'perfect', 'tear', 'wear', 'sign', 'refurbish', 'phone', 'complaint', 'work', 'fine', 'still', 'work', 'perfect', 'tear', 'wear', 'sign', 'refurbish', 'phone', 'complaint', 'work', 'fine', 'still', 'work', 'perfect', 'tear', 'wear', 'sign', 'refurbish', 'phone', 'complaint', 'work', 'fine', 'still', 'work', 'perfect', 'tear', 'wear', 'sign', 'refurbish', 'phone', 'complaint', 'work', 'fine', 'still', 'work', 'perfect', 'tear', 'wear', 'sign', 'refurbish', 'phone', 'complaint', 'work', 'fine', 'still', 'work', 'perfect', 'tear', 'wear', 'sign', 'refurbish', 'phone', 'complaint', 'work', 'fine', 'still', 'work', 'perfect', 'tear', 'wear', 'sign', 'refurbish', 'phone', 'complaint', 'work', 'fine', 'still', 'work', 'perfect', 'tear', 'wear', 'sign', 'refurbish', 'phone', 'complaint', 'work', 'fine', 'still', 'work', 'perfect', 'tear', 'wear', 'sign', 'refurbish', 'phone', 'complaint', 'work', 'fine', 'still', 'work', 'perfect', 'tear', 'wear', 'sign', 'refurbish', 'phone', 'complaint', 'work', 'fine', 'still', 'work', 'perfect', 'tear', 'wear', 'sign', 'refurbish', 'phone', 'complaint', 'work', 'fine', 'still', 'work', 'perfect', 'tear', 'wear', 'sign', 'refurbish', 'phone', 'complaint', 'work', 'fine', 'still', 'work', 'perfect', 'tear', 'wear', 'sign', 'refurbish', 'phone', 'complaint', 'work', 'fine', 'still', 'work', 'perfect', 'tear', 'wear', 'sign', 'refurbish', 'phone', 'complaint', 'work', 'fine', 'still', 'work', 'perfect', 'tear', 'wear', 'sign', 'refurbish', 'phone', 'complaint', 'work', 'fine', 'still', 'work', 'perfect', 'tear', 'wear', 'sign', 'refurbish', 'phone', 'complaint', 'work', 'fine', 'still', 'work', 'perfect', 'tear', 'wear', 'sign', 'refurbish', 'phone', 'complaint', 'work', 'fine', 'still', 'work', 'perfect', 'tear', 'wear', 'sign', 'refurbish', 'phone', 'complaint', 'work', 'fine', 'still', 'work', 'perfect', 'tear', 'wear', 'sign', 'refurbish', 'phone', 'complaint', 'work', 'fine', 'still', 'work', 'perfect', 'tear', 'wear', 'sign', 'refurbish', 'phone', 'complaint', 'work', 'fine', 'still', 'work', 'perfect', 'tear', 'wear', 'sign', 'refurbish', 'phone', 'complaint', 'work', 'fine', 'still', 'work', 'perfect', 'tear', 'wear', 'sign', 'refurbish', 'phone', 'complaint', 'work', 'fine', 'still', 'work', 'perfect', 'tear', 'wear', 'sign', 'refurbish', 'phone', 'complaint', 'work', 'fine', 'still', 'work', 'perfect', 'tear', 'wear', 'sign', 'refurbish', 'phone', 'complaint', 'work', 'fine', 'still', 'work', 'perfect', 'tear', 'wear', 'sign', 'refurbish', 'phone', 'complaint', 'work', 'fine', 'still', 'work', 'perfect', 'tear', 'wear', 'sign', 'refurbish', 'phone', 'complaint', 'work', 'fine', 'still', 'work', 'perfect', 'tear', 'wear', 'sign', 'refurbish', 'phone', 'complaint', 'work', 'fine', 'still', 'work', 'perfect', 'tear', 'wear', 'sign', 'refurbish', 'phone', 'complaint', 'work', 'fine', 'still', 'work', 'perfect', 'tear', 'wear', 'sign', 'refurbish', 'phone', 'complaint', 'work', 'fine', 'still', 'work', 'perfect', 'tear', 'wear', 'sign', 'refurbish', 'phone', 'complaint', 'work', 'fine', 'still', 'work', 'perfect', 'tear', 'wear', 'sign', 'refurbish', 'phone', 'complaint', 'work', 'fine', 'still', 'work', 'perfect', 'tear', 'wear', 'sign', 'refurbish', 'phone', 'complaint', 'work', 'fine', 'still', 'work', 'perfect', 'tear', 'wear', 'sign', 'refurbish', 'phone', 'complaint', 'work', 'fine', 'still', 'work', 'perfect', 'tear', 'wear', 'sign', 'refurbish', 'phone', 'complaint', 'work', 'fine', 'still', 'work', 'perfect', 'tear', 'wear', 'sign', 'refurbish', 'phone', 'complaint', 'work', 'fine', 'still', 'work', 'perfect', 'tear', 'wear', 'sign', 'refurbish', 'phone', 'complaint', 'work', 'fine', 'still', 'work', 'perfect', 'tear', 'wear', 'sign', 'refurbish', 'phone', 'complaint', 'work', 'fine', 'still', 'work', 'perfect', 'tear', 'wear', 'sign', 'refurbish', 'phone', 'complaint', 'work', 'fine', 'still', 'work', 'perfect', 'tear', 'wear', 'sign', 'refurbish', 'phone', 'complaint', 'work', 'fine', 'still', 'work', 'perfect', 'tear', 'wear', 'sign', 'refurbish', 'phone', 'complaint', 'work', 'fine', 'still', 'work', 'perfect', 'tear', 'wear', 'sign', 'refurbish', 'phone', 'complaint', 'work', 'fine', 'still', 'work', 'perfect', 'tear', 'wear', 'sign', 'refurbish', 'phone', 'complaint', 'work', 'fine', 'still', 'work', 'perfect', 'tear', 'wear', 'sign', 'refurbish', 'phone', 'complaint', 'work', 'fine', 'still', 'work', 'perfect', 'tear', 'wear', 'sign', 'refurbish', 'phone', 'complaint', 'work', 'fine', 'still', 'work', 'perfect', 'tear', 'wear', 'sign', 'refurbish', 'phone', 'complaint', 'work', 'fine', 'still', 'work', 'perfect', 'tear', 'wear', 'sign', 'refurbish', 'phone', 'complaint', 'work', 'fine', 'still', 'work', 'perfect', 'tear', 'wear', 'sign', 'refurbish', 'phone', 'complaint', 'work', 'fine', 'still', 'work', 'perfect', 'tear', 'wear', 'sign', 'refurbish', 'phone', 'complaint', 'work', 'fine', 'still', 'work', 'perfect', 'tear', 'wear', 'sign', 'refurbish', 'phone', 'complaint', 'work', 'fine', 'still', 'work', 'perfect', 'tear', 'wear', 'sign', 'refurbish', 'phone', 'complaint', 'work', 'fine', 'still', 'work', 'perfect', 'tear', 'wear', 'sign', 'refurbish', 'phone', 'complaint', 'work', 'fine', 'still', 'work', 'perfect', 'tear', 'wear', 'sign', 'refurbish', 'phone', 'complaint', 'work', 'fine', 'still', 'work', 'perfect', 'tear', 'wear', 'sign', 'refurbish', 'phone', 'complaint', 'work', 'fine', 'still', 'work', 'perfect', 'tear', 'wear', 'sign', 'refurbish', 'phone', 'complaint', 'work', 'fine', 'still', 'work', 'perfect', 'tear', 'wear', 'sign', 'refurbish', 'phone', 'complaint', 'work', 'fine', 'still', 'work', 'perfect', 'tear', 'wear', 'sign', 'refurbish', 'phone', 'complaint', 'work', 'fine', 'still', 'work', 'perfect', 'tear', 'wear', 'sign', 'refurbish', 'phone', 'complaint', 'work', 'fine', 'still', 'work', 'perfect', 'tear', 'wear', 'sign', 'refurbish', 'phone', 'complaint', 'work', 'fine', 'still', 'work', 'perfect', 'tear', 'wear', 'sign', 'refurbish', 'phone', 'complaint', 'work', 'fine', 'still', 'work', 'perfect', 'tear', 'wear', 'sign', 'refurbish', 'phone', 'complaint', 'work', 'fine', 'still', 'work', 'perfect', 'tear', 'wear', 'sign', 'refurbish', 'phone', 'complaint', 'work', 'fine', 'still', 'work', 'perfect', 'tear', 'wear', 'sign', 'refurbish', 'phone', 'complaint', 'work', 'fine', 'still', 'work', 'perfect', 'tear', 'wear', 'sign', 'refurbish', 'phone', 'complaint', 'work', 'fine', 'still', 'work', 'perfect', 'tear', 'wear', 'sign', 'refurbish', 'phone', 'complaint', 'work', 'fine', 'still', 'work', 'perfect', 'tear', 'wear', 'sign', 'refurbish', 'phone', 'complaint', 'work', 'fine', 'still', 'work', 'perfect', 'tear', 'wear', 'sign', 'refurbish', 'phone', 'complaint', 'work', 'fine', 'still', 'work', 'perfect', 'tear', 'wear', 'sign', 'refurbish', 'phone', 'complaint', 'work', 'fine', 'still', 'work', 'perfect', 'tear', 'wear', 'sign', 'refurbish', 'phone', 'complaint', 'work', 'fine', 'still', 'work', 'perfect', 'tear', 'wear', 'sign', 'refurbish', 'phone', 'complaint', 'work', 'fine', 'still', 'work', 'perfect', 'tear', 'wear', 'sign', 'refurbish', 'phone', 'complaint', 'work', 'fine', 'still', 'work', 'perfect', 'tear', 'wear', 'sign', 'refurbish', 'phone', 'complaint', 'work', 'fine', 'still', 'work', 'perfect', 'tear', 'wear', 'sign', 'refurbish', 'phone', 'complaint', 'work', 'fine', 'still', 'work', 'perfect', 'tear', 'wear', 'sign', 'refurbish', 'phone', 'complaint', 'work', 'fine', 'still', 'work', 'perfect', 'tear', 'wear', 'sign', 'refurbish', 'phone', 'complaint', 'work', 'fine', 'still', 'work', 'perfect', 'tear', 'wear', 'sign', 'refurbish', 'phone', 'complaint', 'work', 'fine', 'still', 'work', 'perfect', 'tear', 'wear', 'sign', 'refurbish', 'phone', 'complaint', 'work', 'fine', 'still', 'work', 'perfect', 'tear', 'wear', 'sign', 'refurbish', 'phone', 'complaint', 'work', 'fine', 'still', 'work', 'perfect', 'tear', 'wear', 'sign', 'refurbish', 'phone', 'complaint', 'work', 'fine', 'still', 'work', 'perfect', 'tear', 'wear', 'sign', 'refurbish', 'phone', 'complaint', 'work', 'fine', 'still', 'work', 'perfect', 'tear', 'wear', 'sign', 'refurbish', 'phone', 'complaint', 'work', 'fine', 'still', 'work', 'perfect', 'tear', 'wear', 'sign', 'refurbish', 'phone', 'complaint', 'work', 'fine', 'still', 'work', 'perfect', 'tear', 'wear', 'sign', 'refurbish', 'phone', 'complaint', 'work', 'fine', 'still', 'work', 'perfect', 'tear', 'wear', 'sign', 'refurbish', 'phone', 'complaint', 'work', 'fine', 'still', 'work', 'perfect', 'tear', 'wear', 'sign', 'refurbish', 'phone', 'complaint', 'work', 'fine', 'still', 'work', 'perfect', 'tear', 'wear', 'sign', 'refurbish', 'phone', 'complaint', 'work', 'fine', 'still', 'work', 'perfect', 'tear', 'wear', 'sign', 'refurbish', 'phone', 'complaint', 'work', 'fine', 'still', 'work', 'perfect', 'tear', 'wear', 'sign', 'refurbish', 'phone', 'complaint', 'work', 'fine', 'still', 'work', 'perfect', 'tear', 'wear', 'sign', 'refurbish', 'phone', 'complaint', 'work', 'fine', 'still', 'work', 'perfect', 'tear', 'wear', 'sign', 'refurbish', 'phone', 'complaint', 'work', 'fine', 'still', 'work', 'perfect', 'tear', 'wear', 'sign', 'refurbish', 'phone', 'complaint', 'work', 'fine', 'still', 'work', 'perfect', 'tear', 'wear', 'sign', 'refurbish', 'phone', 'complaint', 'work', 'fine', 'still', 'work', 'perfect', 'tear', 'wear', 'sign', 'refurbish', 'phone', 'complaint', 'work', 'fine', 'still', 'work', 'perfect', 'tear', 'wear', 'sign', 'refurbish', 'phone', 'complaint', 'work', 'fine', 'still', 'work', 'perfect', 'tear', 'wear', 'sign', 'refurbish', 'phone', 'complaint', 'work', 'fine', 'still', 'work', 'perfect', 'tear', 'wear', 'sign', 'refurbish', 'phone', 'complaint', 'work', 'fine', 'still', 'work', 'perfect', 'tear', 'wear', 'sign', 'refurbish', 'phone', 'complaint', 'work', 'fine', 'still', 'work', 'perfect', 'tear', 'wear', 'sign', 'refurbish', 'phone', 'complaint', 'work', 'fine', 'still', 'work', 'perfect', 'tear', 'wear', 'sign', 'refurbish', 'phone', 'complaint', 'work', 'fine', 'still', 'work', 'perfect', 'tear', 'wear', 'sign', 'refurbish', 'phone', 'complaint', 'work', 'fine', 'still', 'work', 'perfect', 'tear', 'wear', 'sign', 'refurbish', 'phone', 'complaint', 'work', 'fine', 'still', 'work', 'perfect', 'tear', 'wear', 'sign', 'refurbish', 'phone', 'complaint', 'work', 'fine', 'still', 'work', 'perfect', 'tear', 'wear', 'sign', 'refurbish', 'phone', 'complaint', 'work', 'fine', 'still', 'work', 'perfect', 'tear', 'wear', 'sign', 'refurbish', 'phone', 'complaint', 'work', 'fine', 'still', 'work', 'perfect', 'tear', 'wear', 'sign', 'refurbish', 'phone', 'complaint', 'work', 'fine', 'still', 'work', 'perfect', 'tear', 'wear', 'sign', 'refurbish', 'phone', 'complaint', 'work', 'fine', 'still', 'work', 'perfect', 'tear', 'wear', 'sign', 'refurbish', 'phone', 'complaint', 'work', 'fine', 'still', 'work', 'perfect', 'tear', 'wear', 'sign', 'refurbish', 'phone', 'complaint', 'work', 'fine', 'still', 'work', 'perfect', 'tear', 'wear', 'sign', 'refurbish', 'phone', 'complaint', 'work', 'fine', 'still', 'work', 'perfect', 'tear', 'wear', 'sign', 'refurbish', 'phone', 'complaint', 'work', 'fine', 'still', 'work', 'perfect', 'tear', 'wear', 'sign', 'refurbish', 'phone', 'complaint', 'work', 'fine', 'still', 'work', 'perfect', 'tear', 'wear', 'sign', 'refurbish', 'phone', 'complaint', 'work', 'fine', 'still', 'work', 'perfect', 'tear', 'wear', 'sign', 'refurbish', 'phone', 'complaint', 'work', 'fine', 'still', 'work', 'perfect', 'tear', 'wear', 'sign', 'refurbish', 'phone', 'complaint', 'work', 'fine', 'still', 'work', 'perfect', 'tear', 'wear', 'sign', 'refurbish', 'phone', 'complaint', 'work', 'fine', 'still', 'work', 'perfect', 'tear', 'wear', 'sign', 'refurbish', 'phone', 'complaint', 'work', 'fine', 'still', 'work', 'perfect', 'tear', 'wear', 'sign', 'refurbish', 'phone', 'complaint', 'work', 'fine', 'still', 'work', 'perfect', 'tear', 'wear', 'sign', 'refurbish', 'phone', 'complaint', 'work', 'fine', 'still', 'work', 'perfect', 'tear', 'wear', 'sign', 'refurbish', 'phone', 'complaint', 'work', 'fine', 'still', 'work', 'perfect', 'tear', 'wear', 'sign', 'refurbish', 'phone', 'complaint', 'work', 'fine', 'still', 'work', 'perfect', 'tear', 'wear', 'sign', 'refurbish', 'phone', 'complaint', 'work', 'fine', 'still', 'work', 'perfect', 'tear', 'wear', 'sign', 'refurbish', 'phone', 'complaint', 'work', 'fine', 'still', 'work', 'perfect', 'tear', 'wear', 'sign', 'refurbish', 'phone', 'complaint', 'work', 'fine', 'still', 'work', 'perfect', 'tear', 'wear', 'sign', 'refurbish', 'phone', 'complaint', 'work', 'fine', 'still', 'work', 'perfect', 'tear', 'wear', 'sign', 'refurbish', 'phone', 'complaint', 'work', 'fine', 'still', 'work', 'perfect', 'tear', 'wear', 'sign', 'refurbish', 'phone', 'complaint', 'work', 'fine', 'still', 'work', 'perfect', 'tear', 'wear', 'sign', 'refurbish', 'phone', 'complaint', 'work', 'fine', 'still', 'work', 'perfect', 'tear', 'wear', 'sign', 'refurbish', 'phone', 'complaint', 'work', 'fine', 'still', 'work', 'perfect', 'tear', 'wear', 'sign', 'refurbish', 'phone', 'complaint', 'work', 'fine', 'still', 'work', 'perfect', 'tear', 'wear', 'sign', 'refurbish', 'phone', 'complaint', 'work', 'fine', 'still', 'work', 'perfect', 'tear', 'wear', 'sign', 'refurbish', 'phone', 'complaint', 'work', 'fine', 'still', 'work', 'perfect', 'tear', 'wear', 'sign', 'refurbish', 'phone', 'complaint', 'work', 'fine', 'still', 'work', 'perfect', 'tear', 'wear', 'sign', 'refurbish', 'phone', 'complaint', 'work', 'fine', 'still', 'work', 'perfect', 'tear', 'wear', 'sign', 'refurbish', 'phone', 'complaint', 'work', 'fine', 'still', 'work', 'perfect', 'tear', 'wear', 'sign', 'refurbish', 'phone', 'complaint', 'work', 'fine', 'still', 'work', 'perfect', 'tear', 'wear', 'sign', 'refurbish', 'phone', 'complaint', 'work', 'fine', 'still', 'work', 'perfect', 'tear', 'wear', 'sign', 'refurbish', 'phone', 'complaint', 'work', 'fine', 'still', 'work', 'perfect', 'tear', 'wear', 'sign', 'refurbish', 'phone', 'complaint', 'work', 'fine', 'still', 'work', 'perfect', 'tear', 'wear', 'sign', 'refurbish', 'phone', 'complaint', 'work', 'fine', 'still', 'work', 'perfect', 'tear', 'wear', 'sign', 'refurbish', 'phone', 'complaint', 'work', 'fine', 'still', 'work', 'perfect', 'tear', 'wear', 'sign', 'refurbish', 'phone', 'complaint', 'work', 'fine', 'still', 'work', 'perfect', 'tear', 'wear', 'sign', 'refurbish', 'phone', 'complaint', 'work', 'fine', 'still', 'work', 'perfect', 'tear', 'wear', 'sign', 'refurbish', 'phone', 'complaint', 'work', 'fine', 'still', 'work', 'perfect', 'tear', 'wear', 'sign', 'refurbish', 'phone', 'complaint', 'work', 'fine', 'still', 'work', 'perfect', 'tear', 'wear', 'sign', 'refurbish', 'phone', 'complaint', 'work', 'fine', 'still', 'work', 'perfect', 'tear', 'wear', 'sign', 'refurbish', 'phone', 'complaint', 'work', 'fine', 'still', 'work', 'perfect', 'tear', 'wear', 'sign', 'refurbish', 'phone', 'complaint', 'work', 'fine', 'still', 'work', 'perfect', 'tear', 'wear', 'sign', 'refurbish', 'phone', 'complaint', 'work', 'fine', 'still', 'work', 'perfect', 'tear', 'wear', 'sign', 'refurbish', 'phone', 'complaint', 'work', 'fine', 'still', 'work', 'perfect', 'tear', 'wear', 'sign', 'refurbish', 'phone', 'complaint', 'work', 'fine', 'still', 'work', 'perfect', 'tear', 'wear', 'sign', 'refurbish', 'phone', 'complaint', 'work', 'fine', 'still', 'work', 'perfect', 'tear', 'wear', 'sign', 'refurbish', 'phone', 'complaint', 'work', 'fine', 'still', 'work', 'perfect', 'tear', 'wear', 'sign', 'refurbish', 'phone', 'complaint', 'work', 'fine', 'still', 'work', 'perfect', 'tear', 'wear', 'sign', 'refurbish', 'phone', 'complaint', 'work', 'fine', 'still', 'work', 'perfect', 'tear', 'wear', 'sign', 'refurbish', 'phone', 'complaint', 'work', 'fine', 'still', 'work', 'perfect', 'tear', 'wear', 'sign', 'refurbish', 'phone', 'complaint', 'work', 'fine', 'still', 'work', 'perfect', 'tear', 'wear', 'sign', 'refurbish', 'phone', 'complaint', 'work', 'fine', 'still', 'work', 'perfect', 'tear', 'wear', 'sign', 'refurbish', 'phone', 'complaint', 'work', 'fine', 'still', 'work', 'perfect', 'tear', 'wear', 'sign', 'refurbish', 'phone', 'complaint', 'work', 'fine', 'still', 'work', 'perfect', 'tear', 'wear', 'sign', 'refurbish', 'phone', 'complaint', 'work', 'fine', 'still', 'work', 'perfect', 'tear', 'wear', 'sign', 'refurbish', 'phone', 'complaint', 'work', 'fine', 'still', 'work', 'perfect', 'tear', 'wear', 'sign', 'refurbish', 'phone', 'complaint', 'work', 'fine', 'still', 'work', 'perfect', 'tear', 'wear', 'sign', 'refurbish', 'phone', 'complaint', 'work', 'fine', 'still', 'work', 'perfect', 'tear', 'wear', 'sign', 'refurbish', 'phone', 'complaint', 'work', 'fine', 'still', 'work', 'perfect', 'tear', 'wear', 'sign', 'refurbish', 'phone', 'complaint', 'work', 'fine', 'still', 'work', 'perfect', 'tear', 'wear', 'sign', 'refurbish', 'phone', 'complaint', 'work', 'fine', 'still', 'work', 'perfect', 'tear', 'wear', 'sign', 'refurbish', 'phone', 'complaint', 'work', 'fine', 'still', 'work', 'perfect', 'tear', 'wear', 'sign', 'refurbish', 'phone', 'complaint', 'work', 'fine', 'still', 'work', 'perfect', 'tear', 'wear', 'sign', 'refurbish', 'phone', 'complaint', 'work', 'fine', 'still', 'work', 'perfect', 'tear', 'wear', 'sign', 'refurbish', 'phone', 'complaint', 'work', 'fine', 'still', 'work', 'perfect', 'tear', 'wear', 'sign', 'refurbish', 'phone', 'complaint', 'work', 'fine', 'still', 'work', 'perfect', 'tear', 'wear', 'sign', 'refurbish', 'phone', 'complaint', 'work', 'fine', 'still', 'work', 'perfect', 'tear', 'wear', 'sign', 'refurbish', 'phone', 'complaint', 'work', 'fine', 'still', 'work', 'perfect', 'tear', 'wear', 'sign', 'refurbish', 'phone', 'complaint', 'work', 'fine', 'still', 'work', 'perfect', 'tear', 'wear', 'sign', 'refurbish', 'phone', 'complaint', 'work', 'fine', 'still', 'work', 'perfect', 'tear', 'wear', 'sign', 'refurbish', 'phone', 'complaint', 'work', 'fine', 'still', 'work', 'perfect', 'tear', 'wear', 'sign', 'refurbish', 'phone', 'complaint', 'work', 'fine', 'still', 'work', 'perfect', 'tear', 'wear', 'sign', 'refurbish', 'phone', 'complaint', 'work', 'fine', 'still', 'work', 'perfect', 'tear', 'wear', 'sign', 'refurbish', 'phone', 'complaint', 'work', 'fine', 'still', 'work', 'perfect', 'tear', 'wear', 'sign', 'refurbish', 'phone', 'complaint', 'work', 'fine', 'still', 'work', 'perfect', 'tear', 'wear', 'sign', 'refurbish', 'phone', 'complaint', 'work', 'fine', 'still', 'work', 'perfect', 'tear', 'wear', 'sign', 'refurbish', 'phone', 'complaint', 'work', 'fine', 'still', 'work', 'perfect', 'tear', 'wear', 'sign', 'refurbish', 'phone', 'complaint', 'work', 'fine', 'still', 'work', 'perfect', 'tear', 'wear', 'sign', 'refurbish', 'phone', 'complaint', 'work', 'fine', 'still', 'work', 'perfect', 'tear', 'wear', 'sign', 'refurbish', 'phone', 'complaint', 'work', 'fine', 'still', 'work', 'perfect', 'tear', 'wear', 'sign', 'refurbish', 'phone', 'complaint', 'work', 'fine', 'still', 'work', 'perfect', 'tear', 'wear', 'sign', 'refurbish', 'phone', 'complaint', 'work', 'fine', 'still', 'work', 'perfect', 'tear', 'wear', 'sign', 'refurbish', 'phone', 'complaint', 'work', 'fine', 'still', 'work', 'perfect', 'tear', 'wear', 'sign', 'refurbish', 'phone', 'complaint', 'work', 'fine', 'still', 'work', 'perfect', 'tear', 'wear', 'sign', 'refurbish', 'phone', 'complaint', 'work', 'fine', 'still', 'work', 'perfect', 'tear', 'wear', 'sign', 'refurbish', 'phone', 'complaint', 'work', 'fine', 'still', 'work', 'perfect', 'tear', 'wear', 'sign', 'refurbish', 'phone', 'complaint', 'work', 'fine', 'still', 'work', 'perfect', 'tear', 'wear', 'sign', 'refurbish', 'phone', 'complaint', 'work', 'fine', 'still', 'work', 'perfect', 'tear', 'wear', 'sign', 'refurbish', 'phone', 'complaint', 'work', 'fine', 'still', 'work', 'perfect', 'tear', 'wear', 'sign', 'refurbish', 'phone', 'complaint', 'work', 'fine', 'still', 'work', 'perfect', 'tear', 'wear', 'sign', 'refurbish', 'phone', 'complaint', 'work', 'fine', 'still', 'work', 'perfect', 'tear', 'wear', 'sign', 'refurbish', 'phone', 'complaint', 'work', 'fine', 'still', 'work', 'perfect', 'tear', 'wear', 'sign', 'refurbish', 'phone', 'complaint', 'work', 'fine', 'still', 'work', 'perfect', 'tear', 'wear', 'sign', 'refurbish', 'phone', 'complaint', 'work', 'fine', 'still', 'work', 'perfect', 'tear', 'wear', 'sign', 'refurbish', 'phone', 'complaint', 'work', 'fine', 'still', 'work', 'perfect', 'tear', 'wear', 'sign', 'refurbish', 'phone', 'complaint', 'work', 'fine', 'still', 'work', 'perfect', 'tear', 'wear', 'sign', 'refurbish', 'phone', 'complaint', 'work', 'fine', 'still', 'work', 'perfect', 'tear', 'wear', 'sign', 'refurbish', 'phone', 'complaint', 'work', 'fine', 'still', 'work', 'perfect', 'tear', 'wear', 'sign', 'refurbish', 'phone', 'complaint', 'work', 'fine', 'still', 'work', 'perfect', 'tear', 'wear', 'sign', 'refurbish', 'phone', 'complaint', 'work', 'fine', 'still', 'work', 'perfect', 'tear', 'wear', 'sign', 'refurbish', 'phone', 'complaint', 'work', 'fine', 'still', 'work', 'perfect', 'tear', 'wear', 'sign', 'refurbish', 'phone', 'complaint', 'work', 'fine', 'still', 'work', 'perfect', 'tear', 'wear', 'sign', 'refurbish', 'phone', 'complaint', 'work', 'fine', 'still', 'work', 'perfect', 'tear', 'wear', 'sign', 'refurbish', 'phone', 'complaint', 'work', 'fine', 'still', 'work', 'perfect', 'tear', 'wear', 'sign', 'refurbish', 'phone', 'complaint', 'work', 'fine', 'still', 'work', 'perfect', 'tear', 'wear', 'sign', 'refurbish', 'phone', 'complaint', 'work', 'fine', 'still', 'work', 'perfect', 'tear', 'wear', 'sign', 'refurbish', 'phone', 'complaint', 'work', 'fine', 'still', 'work', 'perfect', 'tear', 'wear', 'sign', 'refurbish', 'phone', 'complaint', 'work', 'fine', 'still', 'work', 'perfect', 'tear', 'wear', 'sign', 'refurbish', 'phone', 'complaint', 'work', 'fine', 'still', 'work', 'perfect', 'tear', 'wear', 'sign', 'refurbish', 'phone', 'complaint', 'work', 'fine', 'still', 'work', 'perfect', 'tear', 'wear', 'sign', 'refurbish', 'phone', 'complaint', 'work', 'fine', 'still', 'work', 'perfect', 'tear', 'wear', 'sign', 'refurbish', 'phone', 'complaint', 'work', 'fine', 'still', 'work', 'perfect', 'tear', 'wear', 'sign', 'refurbish', 'phone', 'complaint', 'work', 'fine', 'still', 'work', 'perfect', 'tear', 'wear', 'sign', 'refurbish', 'phone', 'complaint', 'work', 'fine', 'still', 'work', 'perfect', 'tear', 'wear', 'sign', 'refurbish', 'phone', 'complaint', 'work', 'fine', 'still', 'work', 'perfect', 'tear', 'wear', 'sign', 'refurbish', 'phone', 'complaint', 'work', 'fine', 'still', 'work', 'perfect', 'tear', 'wear', 'sign', 'refurbish', 'phone', 'complaint', 'work', 'fine', 'still', 'work', 'perfect', 'tear', 'wear', 'sign', 'refurbish', 'phone', 'complaint', 'work', 'fine', 'still', 'work', 'perfect', 'tear', 'wear', 'sign', 'refurbish', 'phone', 'complaint', 'work', 'fine', 'still', 'work', 'perfect', 'tear', 'wear', 'sign', 'refurbish', 'phone', 'complaint', 'work', 'fine', 'still', 'work', 'perfect', 'tear', 'wear', 'sign', 'refurbish', 'phone', 'complaint', 'work', 'fine', 'still', 'work', 'perfect', 'tear', 'wear', 'sign', 'refurbish', 'phone', 'complaint', 'work', 'fine', 'still', 'work', 'perfect', 'tear', 'wear', 'sign', 'refurbish', 'phone', 'complaint', 'work', 'fine', 'still', 'work', 'perfect', 'tear', 'wear', 'sign', 'refurbish', 'phone', 'complaint', 'work', 'fine', 'still', 'work', 'perfect', 'tear', 'wear', 'sign', 'refurbish', 'phone', 'complaint', 'work', 'fine', 'still', 'work', 'perfect', 'tear', 'wear', 'sign', 'refurbish', 'phone', 'complaint', 'work', 'fine', 'still', 'work', 'perfect', 'tear', 'wear', 'sign', 'refurbish', 'phone', 'complaint', 'work', 'fine', 'still', 'work', 'perfect', 'tear', 'wear', 'sign', 'refurbish', 'phone', 'complaint', 'work', 'fine', 'still', 'work', 'perfect', 'tear', 'wear', 'sign', 'refurbish', 'phone', 'complaint', 'work', 'fine', 'still', 'work', 'perfect', 'tear', 'wear', 'sign', 'refurbish', 'phone', 'complaint', 'work', 'fine', 'still', 'work', 'perfect', 'tear', 'wear', 'sign', 'refurbish', 'phone', 'complaint', 'work', 'fine', 'still', 'work', 'perfect', 'tear', 'wear', 'sign', 'refurbish', 'phone', 'complaint', 'work', 'fine', 'still', 'work', 'perfect', 'tear', 'wear', 'sign', 'refurbish', 'phone', 'complaint', 'work', 'fine', 'still', 'work', 'perfect', 'tear', 'wear', 'sign', 'refurbish', 'phone', 'complaint', 'work', 'fine', 'still', 'work', 'perfect', 'tear', 'wear', 'sign', 'refurbish', 'phone', 'complaint', 'work', 'fine', 'still', 'work', 'perfect', 'tear', 'wear', 'sign', 'refurbish', 'phone', 'complaint', 'work', 'fine', 'still', 'work', 'perfect', 'tear', 'wear', 'sign', 'refurbish', 'phone', 'complaint', 'work', 'fine', 'still', 'work', 'perfect', 'tear', 'wear', 'sign', 'refurbish', 'phone', 'complaint', 'work', 'fine', 'still', 'work', 'perfect', 'tear', 'wear', 'sign', 'refurbish', 'phone', 'complaint', 'work', 'fine', 'still', 'work', 'perfect', 'tear', 'wear', 'sign', 'refurbish', 'phone', 'complaint', 'work', 'fine', 'still', 'work', 'perfect', 'tear', 'wear', 'sign', 'refurbish', 'phone', 'complaint', 'work', 'fine', 'still', 'work', 'perfect', 'tear', 'wear', 'sign', 'refurbish', 'phone', 'complaint', 'work', 'fine', 'still', 'work', 'perfect', 'tear', 'wear', 'sign', 'refurbish', 'phone', 'complaint', 'work', 'fine', 'still', 'work', 'perfect', 'tear', 'wear', 'sign', 'refurbish', 'phone', 'complaint', 'work', 'fine', 'still', 'work', 'perfect', 'tear', 'wear', 'sign', 'refurbish', 'phone', 'complaint', 'work', 'fine', 'still', 'work', 'perfect', 'tear', 'wear', 'sign', 'refurbish', 'phone', 'complaint', 'work', 'fine', 'still', 'work', 'perfect', 'tear', 'wear', 'sign', 'refurbish', 'phone', 'complaint', 'work', 'fine', 'still', 'work', 'perfect', 'tear', 'wear', 'sign', 'refurbish', 'phone', 'complaint', 'work', 'fine', 'still', 'work', 'perfect', 'tear', 'wear', 'sign', 'refurbish', 'phone', 'complaint', 'work', 'fine', 'still', 'work', 'perfect', 'tear', 'wear', 'sign', 'refurbish', 'phone', 'complaint', 'work', 'fine', 'still', 'work', 'perfect', 'tear', 'wear', 'sign', 'refurbish', 'phone', 'complaint', 'work', 'fine', 'still', 'work', 'perfect', 'tear', 'wear', 'sign', 'refurbish', 'phone', 'complaint', 'work', 'fine', 'still', 'work', 'perfect', 'tear', 'wear', 'sign', 'refurbish', 'phone', 'complaint', 'work', 'fine', 'still', 'work', 'perfect', 'tear', 'wear', 'sign', 'refurbish', 'phone', 'complaint', 'work', 'fine', 'still', 'work', 'perfect', 'tear', 'wear', 'sign', 'refurbish', 'phone', 'complaint', 'work', 'fine', 'still', 'work', 'perfect', 'tear', 'wear', 'sign', 'refurbish', 'phone', 'complaint', 'work', 'fine', 'still', 'work', 'perfect', 'tear', 'wear', 'sign', 'refurbish', 'phone', 'complaint', 'work', 'fine', 'still', 'work', 'perfect', 'tear', 'wear', 'sign', 'refurbish', 'phone', 'complaint', 'work', 'fine', 'still', 'work', 'perfect', 'tear', 'wear', 'sign', 'refurbish', 'phone', 'complaint', 'work', 'fine', 'still', 'work', 'perfect', 'tear', 'wear', 'sign', 'refurbish', 'phone', 'complaint', 'work', 'fine', 'still', 'work', 'perfect', 'tear', 'wear', 'sign', 'refurbish', 'phone', 'complaint', 'work', 'fine', 'still', 'work', 'perfect', 'tear', 'wear', 'sign', 'refurbish', 'phone', 'complaint', 'work', 'fine', 'still', 'work', 'perfect', 'tear', 'wear', 'sign', 'refurbish', 'phone', 'complaint', 'work', 'fine', 'still', 'work', 'perfect', 'tear', 'wear', 'sign', 'refurbish', 'phone', 'complaint', 'work', 'fine', 'still', 'work', 'perfect', 'tear', 'wear', 'sign', 'refurbish', 'phone', 'complaint', 'work', 'fine', 'still', 'work', 'perfect', 'tear', 'wear', 'sign', 'refurbish', 'phone', 'complaint', 'work', 'fine', 'still', 'work', 'perfect', 'tear', 'wear', 'sign', 'refurbish', 'phone', 'complaint', 'work', 'fine', 'still', 'work', 'perfect', 'tear', 'wear', 'sign', 'refurbish', 'phone', 'complaint', 'work', 'fine', 'still', 'work', 'perfect', 'tear', 'wear', 'sign', 'refurbish', 'phone', 'complaint', 'work', 'fine', 'still', 'work', 'perfect', 'tear', 'wear', 'sign', 'refurbish', 'phone', 'complaint', 'work', 'fine', 'still', 'work', 'perfect', 'tear', 'wear', 'sign', 'refurbish', 'phone', 'complaint', 'work', 'fine', 'still', 'work', 'perfect', 'tear', 'wear', 'sign', 'refurbish', 'phone', 'complaint', 'work', 'fine', 'still', 'work', 'perfect', 'tear', 'wear', 'sign', 'refurbish', 'phone', 'complaint', 'work', 'fine', 'still', 'work', 'perfect', 'tear', 'wear', 'sign', 'refurbish', 'phone', 'complaint', 'work', 'fine', 'still', 'work', 'perfect', 'tear', 'wear', 'sign', 'refurbish', 'phone', 'complaint', 'work', 'fine', 'still', 'work', 'perfect', 'tear', 'wear', 'sign', 'refurbish', 'phone', 'complaint', 'work', 'fine', 'still', 'work', 'perfect', 'tear', 'wear', 'sign', 'refurbish', 'phone', 'complaint', 'work', 'fine', 'still', 'work', 'perfect', 'tear', 'wear', 'sign', 'refurbish', 'phone', 'complaint', 'work', 'fine', 'still', 'work', 'perfect', 'tear', 'wear', 'sign', 'refurbish', 'phone', 'complaint', 'work', 'fine', 'still', 'work', 'perfect', 'tear', 'wear', 'sign', 'refurbish', 'phone', 'complaint', 'work', 'fine', 'still', 'work', 'perfect', 'tear', 'wear', 'sign', 'refurbish', 'phone', 'complaint', 'work', 'fine', 'still', 'work', 'perfect', 'tear', 'wear', 'sign', 'refurbish', 'phone', 'complaint', 'work', 'fine', 'still', 'work', 'perfect', 'tear', 'wear', 'sign', 'refurbish', 'phone', 'complaint', 'work', 'fine', 'still', 'work', 'perfect', 'tear', 'wear', 'sign', 'refurbish', 'phone', 'complaint', 'work', 'fine', 'still', 'work', 'perfect', 'tear', 'wear', 'sign', 'refurbish', 'phone', 'complaint', 'work', 'fine', 'still', 'work', 'perfect', 'tear', 'wear', 'sign', 'refurbish', 'phone', 'complaint', 'work', 'fine', 'still', 'work', 'perfect', 'tear', 'wear', 'sign', 'refurbish', 'phone', 'complaint', 'work', 'fine', 'still', 'work', 'perfect', 'tear', 'wear', 'sign', 'refurbish', 'phone', 'complaint', 'work', 'fine', 'still', 'work', 'perfect', 'tear', 'wear', 'sign', 'refurbish', 'phone', 'complaint', 'work', 'fine', 'still', 'work', 'perfect', 'tear', 'wear', 'sign', 'refurbish', 'phone', 'complaint', 'work', 'fine', 'still', 'work', 'perfect', 'tear', 'wear', 'sign', 'refurbish', 'phone', 'complaint', 'work', 'fine', 'still', 'work', 'perfect', 'tear', 'wear', 'sign', 'refurbish', 'phone', 'complaint', 'work', 'fine', 'still', 'work', 'perfect', 'tear', 'wear', 'sign', 'refurbish', 'phone', 'complaint', 'work', 'fine', 'still', 'work', 'perfect', 'tear', 'wear', 'sign', 'refurbish', 'phone', 'complaint', 'work', 'fine', 'still', 'work', 'perfect', 'tear', 'wear', 'sign', 'refurbish', 'phone', 'complaint', 'work', 'fine', 'still', 'work', 'perfect', 'tear', 'wear', 'sign', 'refurbish', 'phone', 'complaint', 'work', 'fine', 'still', 'work', 'perfect', 'tear', 'wear', 'sign', 'refurbish', 'phone', 'complaint', 'work', 'fine', 'still', 'work', 'perfect', 'tear', 'wear', 'sign', 'refurbish', 'phone', 'complaint', 'work', 'fine', 'still', 'work', 'perfect', 'tear', 'wear', 'sign', 'refurbish', 'phone', 'complaint', 'work', 'fine', 'still', 'work', 'perfect', 'tear', 'wear', 'sign', 'refurbish', 'phone', 'complaint', 'work', 'fine', 'still', 'work', 'perfect', 'tear', 'wear', 'sign', 'refurbish', 'phone', 'complaint', 'work', 'fine', 'still', 'work', 'perfect', 'tear', 'wear', 'sign', 'refurbish', 'phone', 'complaint', 'work', 'fine', 'still', 'work', 'perfect', 'tear', 'wear', 'sign', 'refurbish', 'phone', 'complaint', 'work', 'fine', 'still', 'work', 'perfect', 'tear', 'wear', 'sign', 'refurbish', 'phone', 'complaint', 'work', 'fine', 'still', 'work', 'perfect', 'tear', 'wear', 'sign', 'refurbish', 'phone', 'complaint', 'work', 'fine', 'still', 'work', 'perfect', 'tear', 'wear', 'sign', 'refurbish', 'phone', 'complaint', 'work', 'fine', 'still', 'work', 'perfect', 'tear', 'wear', 'sign', 'refurbish', 'phone', 'complaint', 'work', 'fine', 'still', 'work', 'perfect', 'tear', 'wear', 'sign', 'refurbish', 'phone', 'complaint', 'work', 'fine', 'still', 'work', 'perfect', 'tear', 'wear', 'sign', 'refurbish', 'phone', 'complaint', 'work', 'fine', 'still', 'work', 'perfect', 'tear', 'wear', 'sign', 'refurbish', 'phone', 'complaint', 'work', 'fine', 'still', 'work', 'perfect', 'tear', 'wear', 'sign', 'refurbish', 'phone', 'complaint', 'work', 'fine', 'still', 'work', 'perfect', 'tear', 'wear', 'sign', 'refurbish', 'phone', 'complaint', 'work', 'fine', 'still', 'work', 'perfect', 'tear', 'wear', 'sign', 'refurbish', 'phone', 'complaint', 'work', 'fine', 'still', 'work', 'perfect', 'tear', 'wear', 'sign', 'refurbish', 'phone', 'complaint', 'work', 'fine', 'still', 'work', 'perfect', 'tear', 'wear', 'sign', 'refurbish', 'phone', 'complaint', 'work', 'fine', 'still', 'work', 'perfect', 'tear', 'wear', 'sign', 'refurbish', 'phone', 'complaint', 'work', 'fine', 'still', 'work', 'perfect', 'tear', 'wear', 'sign', 'refurbish', 'phone', 'complaint', 'work', 'fine', 'still', 'work', 'perfect', 'tear', 'wear', 'sign', 'refurbish', 'phone', 'complaint', 'work', 'fine', 'still', 'work', 'perfect', 'tear', 'wear', 'sign', 'refurbish', 'phone', 'complaint', 'work', 'fine', 'still', 'work', 'perfect', 'tear', 'wear', 'sign', 'refurbish', 'phone', 'complaint', 'work', 'fine', 'still', 'work', 'perfect', 'tear', 'wear', 'sign', 'refurbish', 'phone', 'complaint', 'work', 'fine', 'still', 'work', 'perfect', 'tear', 'wear', 'sign', 'refurbish', 'phone', 'complaint', 'work', 'fine', 'still', 'work', 'perfect', 'tear', 'wear', 'sign', 'refurbish', 'phone', 'complaint', 'work', 'fine', 'still', 'work', 'perfect', 'tear', 'wear', 'sign', 'refurbish', 'phone', 'complaint', 'work', 'fine', 'still', 'work', 'perfect', 'tear', 'wear', 'sign', 'refurbish', 'phone', 'complaint', 'work', 'fine', 'still', 'work', 'perfect', 'tear', 'wear', 'sign', 'refurbish', 'phone', 'complaint', 'work', 'fine', 'still', 'work', 'perfect', 'tear', 'wear', 'sign', 'refurbish', 'phone', 'complaint', 'work', 'fine', 'still', 'work', 'perfect', 'tear', 'wear', 'sign', 'refurbish', 'phone', 'complaint', 'work', 'fine', 'still', 'work', 'perfect', 'tear', 'wear', 'sign', 'refurbish', 'phone', 'complaint', 'work', 'fine', 'still', 'work', 'perfect', 'tear', 'wear', 'sign', 'refurbish', 'phone', 'complaint', 'work', 'fine', 'still', 'work', 'perfect', 'tear', 'wear', 'sign', 'refurbish', 'phone', 'complaint', 'work', 'fine', 'still', 'work', 'perfect', 'tear', 'wear', 'sign', 'refurbish', 'phone', 'complaint', 'work', 'fine', 'still', 'work', 'perfect', 'tear', 'wear', 'sign', 'refurbish', 'phone', 'complaint', 'work', 'fine', 'still', 'work', 'perfect', 'tear', 'wear', 'sign', 'refurbish', 'phone', 'complaint', 'work', 'fine', 'still', 'work', 'perfect', 'tear', 'wear', 'sign', 'refurbish', 'phone', 'complaint', 'work', 'fine', 'still', 'work', 'perfect', 'tear', 'wear', 'sign', 'refurbish', 'phone', 'complaint', 'work', 'fine', 'still', 'work', 'perfect', 'tear', 'wear', 'sign', 'refurbish', 'phone', 'complaint', 'work', 'fine', 'still', 'work', 'perfect', 'tear', 'wear', 'sign', 'refurbish', 'phone', 'complaint', 'work', 'fine', 'still', 'work', 'perfect', 'tear', 'wear', 'sign', 'refurbish', 'phone', 'complaint', 'work', 'fine', 'still', 'work', 'perfect', 'tear', 'wear', 'sign', 'refurbish', 'phone', 'complaint', 'work', 'fine', 'still', 'work', 'perfect', 'tear', 'wear', 'sign', 'refurbish', 'phone', 'complaint', 'work', 'fine', 'still', 'work', 'perfect', 'tear', 'wear', 'sign', 'refurbish', 'phone', 'complaint', 'work', 'fine', 'still', 'work', 'perfect', 'tear', 'wear', 'sign', 'refurbish', 'phone', 'complaint', 'work', 'fine', 'still', 'work', 'perfect', 'tear', 'wear', 'sign', 'refurbish', 'phone', 'complaint', 'work', 'fine', 'still', 'work', 'perfect', 'tear', 'wear', 'sign', 'refurbish', 'phone', 'complaint', 'work', 'fine', 'still', 'work', 'perfect', 'tear', 'wear', 'sign', 'refurbish', 'phone', 'complaint', 'work', 'fine', 'still', 'work', 'perfect', 'tear', 'wear', 'sign', 'refurbish', 'phone', 'complaint', 'work', 'fine', 'still', 'work', 'perfect', 'tear', 'wear', 'sign', 'refurbish', 'phone', 'complaint', 'work', 'fine', 'still', 'work', 'perfect', 'tear', 'wear', 'sign', 'refurbish', 'phone', 'complaint', 'work', 'fine', 'still', 'work', 'perfect', 'tear', 'wear', 'sign', 'refurbish', 'phone', 'complaint', 'work', 'fine', 'still', 'work', 'perfect', 'tear', 'wear', 'sign', 'refurbish', 'phone', 'complaint', 'work', 'fine', 'still', 'work', 'perfect', 'tear', 'wear', 'sign', 'refurbish', 'phone', 'complaint', 'work', 'fine', 'still', 'work', 'perfect', 'tear', 'wear', 'sign', 'refurbish', 'phone', 'complaint', 'work', 'fine', 'still', 'work', 'perfect', 'tear', 'wear', 'sign', 'refurbish', 'phone', 'complaint', 'work', 'fine', 'still', 'work', 'perfect', 'tear', 'wear', 'sign', 'refurbish', 'phone', 'complaint', 'work', 'fine', 'still', 'work', 'perfect', 'tear', 'wear', 'sign', 'refurbish', 'phone', 'complaint', 'work', 'fine', 'still', 'work', 'perfect', 'tear', 'wear', 'sign', 'refurbish', 'phone', 'complaint', 'work', 'fine', 'still', 'work', 'perfect', 'tear', 'wear', 'sign', 'refurbish', 'phone', 'complaint', 'work', 'fine', 'still', 'work', 'perfect', 'tear', 'wear', 'sign', 'refurbish', 'phone', 'complaint', 'work', 'fine', 'still', 'work', 'perfect', 'tear', 'wear', 'sign', 'refurbish', 'phone', 'complaint', 'work', 'fine', 'still', 'work', 'perfect', 'tear', 'wear', 'sign', 'refurbish', 'phone', 'complaint', 'work', 'fine', 'still', 'work', 'perfect', 'tear', 'wear', 'sign', 'refurbish', 'phone', 'complaint', 'work', 'fine', 'still', 'work', 'perfect', 'tear', 'wear', 'sign', 'refurbish', 'phone', 'complaint', 'work', 'fine', 'still', 'work', 'perfect', 'tear', 'wear', 'sign', 'refurbish', 'phone', 'complaint', 'work', 'fine', 'still', 'work', 'perfect', 'tear', 'wear', 'sign', 'refurbish', 'phone', 'complaint', 'work', 'fine', 'still', 'work', 'perfect', 'tear', 'wear', 'sign', 'refurbish', 'phone', 'complaint', 'work', 'fine', 'still', 'work', 'perfect', 'tear', 'wear', 'sign', 'refurbish', 'phone', 'complaint', 'work', 'fine', 'still', 'work', 'perfect', 'tear', 'wear', 'sign', 'refurbish', 'phone', 'complaint', 'work', 'fine', 'still', 'work', 'perfect', 'tear', 'wear', 'sign', 'refurbish', 'phone', 'complaint', 'work', 'fine', 'still', 'work', 'perfect', 'tear', 'wear', 'sign', 'refurbish', 'phone', 'complaint', 'work', 'fine', 'still', 'work', 'perfect', 'tear', 'wear', 'sign', 'refurbish', 'phone', 'complaint', 'work', 'fine', 'still', 'work', 'perfect', 'tear', 'wear', 'sign', 'refurbish', 'phone', 'complaint', 'work', 'fine', 'still', 'work', 'perfect', 'tear', 'wear', 'sign', 'refurbish', 'phone', 'complaint', 'work', 'fine', 'still', 'work', 'perfect', 'tear', 'wear', 'sign', 'refurbish', 'phone', 'complaint', 'work', 'fine', 'still', 'work', 'perfect', 'tear', 'wear', 'sign', 'refurbish', 'phone', 'complaint', 'work', 'fine', 'still', 'work', 'perfect', 'tear', 'wear', 'sign', 'refurbish', 'phone', 'complaint', 'work', 'fine', 'still', 'work', 'perfect', 'tear', 'wear', 'sign', 'refurbish', 'phone', 'complaint', 'work', 'fine', 'still', 'work', 'perfect', 'tear', 'wear', 'sign', 'refurbish', 'phone', 'complaint', 'work', 'fine', 'still', 'work', 'perfect', 'tear', 'wear', 'sign', 'refurbish', 'phone', 'complaint', 'work', 'fine', 'still', 'work', 'perfect', 'tear', 'wear', 'sign', 'refurbish', 'phone', 'complaint', 'work', 'fine', 'still', 'work', 'perfect', 'tear', 'wear', 'sign', 'refurbish', 'phone', 'complaint', 'work', 'fine', 'still', 'work', 'perfect', 'tear', 'wear', 'sign', 'refurbish', 'phone', 'complaint', 'work', 'fine', 'still', 'work', 'perfect', 'tear', 'wear', 'sign', 'refurbish', 'phone', 'complaint', 'work', 'fine', 'still', 'work', 'perfect', 'tear', 'wear', 'sign', 'refurbish', 'phone', 'complaint', 'work', 'fine', 'still', 'work', 'perfect', 'tear', 'wear', 'sign', 'refurbish', 'phone', 'complaint', 'work', 'fine', 'still', 'work', 'perfect', 'tear', 'wear', 'sign', 'refurbish', 'phone', 'complaint', 'work', 'fine', 'still', 'work', 'perfect', 'tear', 'wear', 'sign', 'refurbish', 'phone', 'complaint', 'work', 'fine', 'still', 'work', 'perfect', 'tear', 'wear', 'sign', 'refurbish', 'phone', 'complaint', 'work', 'fine', 'still', 'work', 'perfect', 'tear', 'wear', 'sign', 'refurbish', 'phone', 'complaint', 'work', 'fine', 'still', 'work', 'perfect', 'tear', 'wear', 'sign', 'refurbish', 'phone', 'complaint', 'work', 'fine', 'still', 'work', 'perfect', 'tear', 'wear', 'sign', 'refurbish', 'phone', 'complaint', 'work', 'fine', 'still', 'work', 'perfect', 'tear', 'wear', 'sign', 'refurbish', 'phone', 'complaint', 'work', 'fine', 'still', 'work', 'perfect', 'tear', 'wear', 'sign', 'refurbish', 'phone', 'complaint', 'work', 'fine', 'still', 'work', 'perfect', 'tear', 'wear', 'sign', 'refurbish', 'phone', 'complaint', 'work', 'fine', 'still', 'work', 'perfect', 'tear', 'wear', 'sign', 'refurbish', 'phone', 'complaint', 'work', 'fine', 'still', 'work', 'perfect', 'tear', 'wear', 'sign', 'refurbish', 'phone', 'complaint', 'work', 'fine', 'still', 'work', 'perfect', 'tear', 'wear', 'sign', 'refurbish', 'phone', 'complaint', 'work', 'fine', 'still', 'work', 'perfect', 'tear', 'wear', 'sign', 'refurbish', 'phone', 'complaint', 'work', 'fine', 'still', 'work', 'perfect', 'tear', 'wear', 'sign', 'refurbish', 'phone', 'complaint', 'work', 'fine', 'still', 'work', 'perfect', 'tear', 'wear', 'sign', 'refurbish', 'phone', 'complaint', 'work', 'fine', 'still', 'work', 'perfect', 'tear', 'wear', 'sign', 'refurbish', 'phone', 'complaint', 'work', 'fine', 'still', 'work', 'perfect', 'tear', 'wear', 'sign', 'refurbish', 'phone', 'complaint', 'work', 'fine', 'still', 'work', 'perfect', 'tear', 'wear', 'sign', 'refurbish', 'phone', 'complaint', 'work', 'fine', 'still', 'work', 'perfect', 'tear', 'wear', 'sign', 'refurbish', 'phone', 'complaint', 'work', 'fine', 'still', 'work', 'perfect', 'tear', 'wear', 'sign', 'refurbish', 'phone', 'complaint', 'work', 'fine', 'still', 'work', 'perfect', 'tear', 'wear', 'sign', 'refurbish', 'phone', 'complaint', 'work', 'fine', 'still', 'work', 'perfect', 'tear', 'wear', 'sign', 'refurbish', 'phone', 'complaint', 'work', 'fine', 'still', 'work', 'perfect', 'tear', 'wear', 'sign', 'refurbish', 'phone', 'complaint', 'work', 'fine', 'still', 'work', 'perfect', 'tear', 'wear', 'sign', 'refurbish', 'phone', 'complaint', 'work', 'fine', 'still', 'work', 'perfect', 'tear', 'wear', 'sign', 'refurbish', 'phone', 'complaint', 'work', 'fine', 'still', 'work', 'perfect', 'tear', 'wear', 'sign', 'refurbish', 'phone', 'complaint', 'work', 'fine', 'still', 'work', 'perfect', 'tear', 'wear', 'sign', 'refurbish', 'phone', 'complaint', 'work', 'fine', 'still', 'work', 'perfect', 'tear', 'wear', 'sign', 'refurbish', 'phone', 'complaint', 'work', 'fine', 'still', 'work', 'perfect', 'tear', 'wear', 'sign', 'refurbish', 'phone', 'complaint', 'work', 'fine', 'still', 'work', 'perfect', 'tear', 'wear', 'sign', 'refurbish', 'phone', 'complaint', 'work', 'fine', 'still', 'work', 'perfect', 'tear', 'wear', 'sign', 'refurbish', 'phone', 'complaint', 'work', 'fine', 'still', 'work', 'perfect', 'tear', 'wear', 'sign', 'refurbish', 'phone', 'complaint', 'work', 'fine', 'still', 'work', 'perfect', 'tear', 'wear', 'sign', 'refurbish', 'phone', 'complaint', 'work', 'fine', 'still', 'work', 'perfect', 'tear', 'wear', 'sign', 'refurbish', 'phone', 'complaint', 'work', 'fine', 'still', 'work', 'perfect', 'tear', 'wear', 'sign', 'refurbish', 'phone', 'complaint', 'work', 'fine', 'still', 'work', 'perfect', 'tear', 'wear', 'sign', 'refurbish', 'phone', 'complaint', 'work', 'fine', 'still', 'work', 'perfect', 'tear', 'wear', 'sign', 'refurbish', 'phone', 'complaint', 'work', 'fine', 'still', 'work', 'perfect', 'tear', 'wear', 'sign', 'refurbish', 'phone', 'complaint', 'work', 'fine', 'still', 'work', 'perfect', 'tear', 'wear', 'sign', 'refurbish', 'phone', 'complaint', 'work', 'fine', 'still', 'work', 'perfect', 'tear', 'wear', 'sign', 'refurbish', 'phone', 'complaint', 'work', 'fine', 'still', 'work', 'perfect', 'tear', 'wear', 'sign', 'refurbish', 'phone', 'complaint', 'work', 'fine', 'still', 'work', 'perfect', 'tear', 'wear', 'sign', 'refurbish', 'phone', 'complaint', 'work', 'fine', 'still', 'work', 'perfect', 'tear', 'wear', 'sign', 'refurbish', 'phone', 'complaint', 'work', 'fine', 'still', 'work', 'perfect', 'tear', 'wear', 'sign', 'refurbish', 'phone', 'complaint', 'work', 'fine', 'still', 'work', 'perfect', 'tear', 'wear', 'sign', 'refurbish', 'phone', 'complaint', 'work', 'fine', 'still', 'work', 'perfect', 'tear', 'wear', 'sign', 'refurbish', 'phone', 'complaint', 'work', 'fine', 'still', 'work', 'perfect', 'tear', 'wear', 'sign', 'refurbish', 'phone', 'complaint', 'work', 'fine', 'still', 'work', 'perfect', 'tear', 'wear', 'sign', 'refurbish', 'phone', 'complaint', 'work', 'fine', 'still', 'work', 'perfect', 'tear', 'wear', 'sign', 'refurbish', 'phone', 'complaint', 'work', 'fine', 'still', 'work', 'perfect', 'tear', 'wear', 'sign', 'refurbish', 'phone', 'complaint', 'work', 'fine', 'still', 'work', 'perfect', 'tear', 'wear', 'sign', 'refurbish', 'phone', 'complaint', 'work', 'fine', 'still', 'work', 'perfect', 'tear', 'wear', 'sign', 'refurbish', 'phone', 'complaint', 'work', 'fine', 'still', 'work', 'perfect', 'tear', 'wear', 'sign', 'refurbish', 'phone', 'complaint', 'work', 'fine', 'still', 'work', 'perfect', 'tear', 'wear', 'sign', 'refurbish', 'phone', 'complaint', 'work', 'fine', 'still', 'work', 'perfect', 'tear', 'wear', 'sign', 'refurbish', 'phone', 'complaint', 'work', 'fine', 'still', 'work', 'perfect', 'tear', 'wear', 'sign', 'refurbish', 'phone', 'complaint', 'work', 'fine', 'still', 'work', 'perfect', 'tear', 'wear', 'sign', 'refurbish', 'phone', 'complaint', 'work', 'fine', 'still', 'work', 'perfect', 'tear', 'wear', 'sign', 'refurbish', 'phone', 'complaint', 'work', 'fine', 'still', 'work', 'perfect', 'tear', 'wear', 'sign', 'refurbish', 'phone', 'complaint', 'work', 'fine', 'still', 'work', 'perfect', 'tear', 'wear', 'sign', 'refurbish', 'phone', 'complaint', 'work', 'fine', 'still', 'work', 'perfect', 'tear', 'wear', 'sign', 'refurbish', 'phone', 'complaint', 'work', 'fine', 'still', 'work', 'perfect', 'tear', 'wear', 'sign', 'refurbish', 'phone', 'complaint', 'work', 'fine', 'still', 'work', 'perfect', 'tear', 'wear', 'sign', 'refurbish', 'phone', 'complaint', 'work', 'fine', 'still', 'work', 'perfect', 'tear', 'wear', 'sign', 'refurbish', 'phone', 'complaint', 'work', 'fine', 'still', 'work', 'perfect', 'tear', 'wear', 'sign', 'refurbish', 'phone', 'complaint', 'work', 'fine', 'still', 'work', 'perfect', 'tear', 'wear', 'sign', 'refurbish', 'phone', 'complaint', 'work', 'fine', 'still', 'work', 'perfect', 'tear', 'wear', 'sign', 'refurbish', 'phone', 'complaint', 'work', 'fine', 'still', 'work', 'perfect', 'tear', 'wear', 'sign', 'refurbish', 'phone', 'complaint', 'work', 'fine', 'still', 'work', 'perfect', 'tear', 'wear', 'sign', 'refurbish', 'phone', 'complaint', 'work', 'fine', 'still', 'work', 'perfect', 'tear', 'wear', 'sign', 'refurbish', 'phone', 'complaint', 'work', 'fine', 'still', 'work', 'perfect', 'tear', 'wear', 'sign', 'refurbish', 'phone', 'complaint', 'work', 'fine', 'still', 'work', 'perfect', 'tear', 'wear', 'sign', 'refurbish', 'phone', 'complaint', 'work', 'fine', 'still', 'work', 'perfect', 'tear', 'wear', 'sign', 'refurbish', 'phone', 'complaint', 'work', 'fine', 'still', 'work', 'perfect', 'tear', 'wear', 'sign', 'refurbish', 'phone', 'complaint', 'work', 'fine', 'still', 'work', 'perfect', 'tear', 'wear', 'sign', 'refurbish', 'phone', 'complaint', 'work', 'fine', 'still', 'work', 'perfect', 'tear', 'wear', 'sign', 'refurbish', 'phone', 'complaint', 'work', 'fine', 'still', 'work', 'perfect', 'tear', 'wear', 'sign', 'refurbish', 'phone', 'complaint', 'work', 'fine', 'still', 'work', 'perfect', 'tear', 'wear', 'sign', 'refurbish', 'phone', 'complaint', 'work', 'fine', 'still', 'work', 'perfect', 'tear', 'wear', 'sign', 'refurbish', 'phone', 'complaint', 'work', 'fine', 'still', 'work', 'perfect', 'tear', 'wear', 'sign', 'refurbish', 'phone', 'complaint', 'work', 'fine', 'still', 'work', 'perfect', 'tear', 'wear', 'sign', 'refurbish', 'phone', 'complaint', 'work', 'fine', 'still', 'work', 'perfect', 'tear', 'wear', 'sign', 'refurbish', 'phone', 'complaint', 'work', 'fine', 'still', 'work', 'perfect', 'tear', 'wear', 'sign', 'refurbish', 'phone', 'complaint', 'work', 'fine', 'still', 'work', 'perfect', 'tear', 'wear', 'sign', 'refurbish', 'phone', 'complaint', 'work', 'fine', 'still', 'work', 'perfect', 'tear', 'wear', 'sign', 'refurbish', 'phone', 'complaint', 'work', 'fine', 'still', 'work', 'perfect', 'tear', 'wear', 'sign', 'refurbish', 'phone', 'complaint', 'work', 'fine', 'still', 'work', 'perfect', 'tear', 'wear', 'sign', 'refurbish', 'phone', 'complaint', 'work', 'fine', 'still', 'work', 'perfect', 'tear', 'wear', 'sign', 'refurbish', 'phone', 'complaint', 'work', 'fine', 'still', 'work', 'perfect', 'tear', 'wear', 'sign', 'refurbish', 'phone', 'complaint', 'work', 'fine', 'still', 'work', 'perfect', 'tear', 'wear', 'sign', 'refurbish', 'phone', 'complaint', 'work', 'fine', 'still', 'work', 'perfect', 'tear', 'wear', 'sign', 'refurbish', 'phone', 'complaint', 'work', 'fine', 'still', 'work', 'perfect', 'tear', 'wear', 'sign', 'refurbish', 'phone', 'complaint', 'work', 'fine', 'still', 'work', 'perfect', 'tear', 'wear', 'sign', 'refurbish', 'phone', 'complaint', 'work', 'fine', 'still', 'work', 'perfect', 'tear', 'wear', 'sign', 'refurbish', 'phone', 'complaint', 'work', 'fine', 'still', 'work', 'perfect', 'tear', 'wear', 'sign', 'refurbish', 'phone', 'complaint', 'work', 'fine', 'still', 'work', 'perfect', 'tear', 'wear', 'sign', 'refurbish', 'phone', 'complaint', 'work', 'fine', 'still', 'work', 'perfect', 'tear', 'wear', 'sign', 'refurbish', 'phone', 'complaint', 'work', 'fine', 'still', 'work', 'perfect', 'tear', 'wear', 'sign', 'refurbish', 'phone', 'complaint', 'work', 'fine', 'still', 'work', 'perfect', 'tear', 'wear', 'sign', 'refurbish', 'phone', 'complaint', 'work', 'fine', 'still', 'work', 'perfect', 'tear', 'wear', 'sign', 'refurbish', 'phone', 'complaint', 'work', 'fine', 'still', 'work', 'perfect', 'tear', 'wear', 'sign', 'refurbish', 'phone', 'complaint', 'work', 'fine', 'still', 'work', 'perfect', 'tear', 'wear', 'sign', 'refurbish', 'phone', 'complaint', 'work', 'fine', 'still', 'work', 'perfect', 'tear', 'wear', 'sign', 'refurbish', 'phone', 'complaint', 'work', 'fine', 'still', 'work', 'perfect', 'tear', 'wear', 'sign', 'refurbish', 'phone', 'complaint', 'work', 'fine', 'still', 'work', 'perfect', 'tear', 'wear', 'sign', 'refurbish', 'phone', 'complaint', 'work', 'fine', 'still', 'work', 'perfect', 'tear', 'wear', 'sign', 'refurbish', 'phone', 'complaint', 'work', 'fine', 'still', 'work', 'perfect', 'tear', 'wear', 'sign', 'refurbish', 'phone', 'complaint', 'work', 'fine', 'still', 'work', 'perfect', 'tear', 'wear', 'sign', 'refurbish', 'phone', 'complaint', 'work', 'fine', 'still', 'work', 'perfect', 'tear', 'wear', 'sign', 'refurbish', 'phone', 'complaint', 'work', 'fine', 'still', 'work', 'perfect', 'tear', 'wear', 'sign', 'refurbish', 'phone', 'complaint', 'work', 'fine', 'still', 'work', 'perfect', 'tear', 'wear', 'sign', 'refurbish', 'phone', 'complaint', 'work', 'fine', 'still', 'work', 'perfect', 'tear', 'wear', 'sign', 'refurbish', 'phone', 'complaint', 'work', 'fine', 'still', 'work', 'perfect', 'tear', 'wear', 'sign', 'refurbish', 'phone', 'complaint', 'work', 'fine', 'still', 'work', 'perfect', 'tear', 'wear', 'sign', 'refurbish', 'phone', 'complaint', 'work', 'fine', 'still', 'work', 'perfect', 'tear', 'wear', 'sign', 'refurbish', 'phone', 'complaint', 'work', 'fine', 'still', 'work', 'perfect', 'tear', 'wear', 'sign', 'refurbish', 'phone', 'complaint', 'work', 'fine', 'still', 'work', 'perfect', 'tear', 'wear', 'sign', 'refurbish', 'phone', 'complaint', 'work', 'fine', 'still', 'work', 'perfect', 'tear', 'wear', 'sign', 'refurbish', 'phone', 'complaint', 'work', 'fine', 'still', 'work', 'perfect', 'tear', 'wear', 'sign', 'refurbish', 'phone', 'complaint', 'work', 'fine', 'still', 'work', 'perfect', 'tear', 'wear', 'sign', 'refurbish', 'phone', 'complaint', 'work', 'fine', 'still', 'work', 'perfect', 'tear', 'wear', 'sign', 'refurbish', 'phone', 'complaint', 'work', 'fine', 'still', 'work', 'perfect', 'tear', 'wear', 'sign', 'refurbish', 'phone', 'complaint', 'work', 'fine', 'still', 'work', 'perfect', 'tear', 'wear', 'sign', 'refurbish', 'phone', 'complaint', 'work', 'fine', 'still', 'work', 'perfect', 'tear', 'wear', 'sign', 'refurbish', 'phone', 'complaint', 'work', 'fine', 'still', 'work', 'perfect', 'tear', 'wear', 'sign', 'refurbish', 'phone', 'complaint', 'work', 'fine', 'still', 'work', 'perfect', 'tear', 'wear', 'sign', 'refurbish', 'phone', 'complaint', 'work', 'fine', 'still', 'work', 'perfect', 'tear', 'wear', 'sign', 'refurbish', 'phone', 'complaint', 'work', 'fine', 'still', 'work', 'perfect', 'tear', 'wear', 'sign', 'refurbish', 'phone', 'complaint', 'work', 'fine', 'still', 'work', 'perfect', 'tear', 'wear', 'sign', 'refurbish', 'phone', 'complaint', 'work', 'fine', 'still', 'work', 'perfect', 'tear', 'wear', 'sign', 'refurbish', 'phone', 'complaint', 'work', 'fine', 'still', 'work', 'perfect', 'tear', 'wear', 'sign', 'refurbish', 'phone', 'complaint', 'work', 'fine', 'still', 'work', 'perfect', 'tear', 'wear', 'sign', 'refurbish', 'phone', 'complaint', 'work', 'fine', 'still', 'work', 'perfect', 'tear', 'wear', 'sign', 'refurbish', 'phone', 'complaint', 'work', 'fine', 'still', 'work', 'perfect', 'tear', 'wear', 'sign', 'refurbish', 'phone', 'complaint', 'work', 'fine', 'still', 'work', 'perfect', 'tear', 'wear', 'sign', 'refurbish', 'phone', 'complaint', 'work', 'fine', 'still', 'work', 'perfect', 'tear', 'wear', 'sign', 'refurbish', 'phone', 'complaint', 'work', 'fine', 'still', 'work', 'perfect', 'tear', 'wear', 'sign', 'refurbish', 'phone', 'complaint', 'work', 'fine', 'still', 'work', 'perfect', 'tear', 'wear', 'sign', 'refurbish', 'phone', 'complaint', 'work', 'fine', 'still', 'work', 'perfect', 'tear', 'wear', 'sign', 'refurbish', 'phone', 'complaint', 'work', 'fine', 'still', 'work', 'perfect', 'tear', 'wear', 'sign', 'refurbish', 'phone', 'complaint', 'work', 'fine', 'still', 'work', 'perfect', 'tear', 'wear', 'sign', 'refurbish', 'phone', 'complaint', 'work', 'fine', 'still', 'work', 'perfect', 'tear', 'wear', 'sign', 'refurbish', 'phone', 'complaint', 'work', 'fine', 'still', 'work', 'perfect', 'tear', 'wear', 'sign', 'refurbish', 'phone', 'complaint', 'work', 'fine', 'still', 'work', 'perfect', 'tear', 'wear', 'sign', 'refurbish', 'phone', 'complaint', 'work', 'fine', 'still', 'work', 'perfect', 'tear', 'wear', 'sign', 'refurbish', 'phone', 'complaint', 'work', 'fine', 'still', 'work', 'perfect', 'tear', 'wear', 'sign', 'refurbish', 'phone', 'complaint', 'work', 'fine', 'still', 'work', 'perfect', 'tear', 'wear', 'sign', 'refurbish', 'phone', 'complaint', 'work', 'fine', 'still', 'work', 'perfect', 'tear', 'wear', 'sign', 'refurbish', 'phone', 'complaint', 'work', 'fine', 'still', 'work', 'perfect', 'tear', 'wear', 'sign', 'refurbish', 'phone', 'complaint', 'work', 'fine', 'still', 'work', 'perfect', 'tear', 'wear', 'sign', 'refurbish', 'phone', 'complaint', 'work', 'fine', 'still', 'work', 'perfect', 'tear', 'wear', 'sign', 'refurbish', 'phone', 'complaint', 'work', 'fine', 'still', 'work', 'perfect', 'tear', 'wear', 'sign', 'refurbish', 'phone', 'complaint', 'work', 'fine', 'still', 'work', 'perfect', 'tear', 'wear', 'sign', 'refurbish', 'phone', 'complaint', 'work', 'fine', 'still', 'work', 'perfect', 'tear', 'wear', 'sign', 'refurbish', 'phone', 'complaint', 'work', 'fine', 'still', 'work', 'perfect', 'tear', 'wear', 'sign', 'refurbish', 'phone', 'complaint', 'work', 'fine', 'still', 'work', 'perfect', 'tear', 'wear', 'sign', 'refurbish', 'phone', 'complaint', 'work', 'fine', 'still', 'work', 'perfect', 'tear', 'wear', 'sign', 'refurbish', 'phone', 'complaint', 'work', 'fine', 'still', 'work', 'perfect', 'tear', 'wear', 'sign', 'refurbish', 'phone', 'complaint', 'work', 'fine', 'still', 'work', 'perfect', 'tear', 'wear', 'sign', 'refurbish', 'phone', 'complaint', 'work', 'fine', 'still', 'work', 'perfect', 'tear', 'wear', 'sign', 'refurbish', 'phone', 'complaint', 'work', 'fine', 'still', 'work', 'perfect', 'tear', 'wear', 'sign', 'refurbish', 'phone', 'complaint', 'work', 'fine', 'still', 'work', 'perfect', 'tear', 'wear', 'sign', 'refurbish', 'phone', 'complaint', 'work', 'fine', 'still', 'work', 'perfect', 'tear', 'wear', 'sign', 'refurbish', 'phone', 'complaint', 'work', 'fine', 'still', 'work', 'perfect', 'tear', 'wear', 'sign', 'refurbish', 'phone', 'complaint', 'work', 'fine', 'still', 'work', 'perfect', 'tear', 'wear', 'sign', 'refurbish', 'phone', 'complaint', 'work', 'fine', 'still', 'work', 'perfect', 'tear', 'wear', 'sign', 'refurbish', 'phone', 'complaint', 'work', 'fine', 'still', 'work', 'perfect', 'tear', 'wear', 'sign', 'refurbish', 'phone', 'complaint', 'work', 'fine', 'still', 'work', 'perfect', 'tear', 'wear', 'sign', 'refurbish', 'phone', 'complaint', 'work', 'fine', 'still', 'work', 'perfect', 'tear', 'wear', 'sign', 'refurbish', 'phone', 'complaint', 'work', 'fine', 'still', 'work', 'perfect', 'tear', 'wear', 'sign', 'refurbish', 'phone', 'complaint', 'work', 'fine', 'still', 'work', 'perfect', 'tear', 'wear', 'sign', 'refurbish', 'phone', 'complaint', 'work', 'fine', 'still', 'work', 'perfect', 'tear', 'wear', 'sign', 'refurbish', 'phone', 'complaint', 'work', 'fine', 'still', 'work', 'perfect', 'tear', 'wear', 'sign', 'refurbish', 'phone', 'complaint', 'work', 'fine', 'still', 'work', 'perfect', 'tear', 'wear', 'sign', 'refurbish', 'phone', 'complaint', 'work', 'fine', 'still', 'work', 'perfect', 'tear', 'wear', 'sign', 'refurbish', 'phone', 'complaint', 'work', 'fine', 'still', 'work', 'perfect', 'tear', 'wear', 'sign', 'refurbish', 'phone', 'complaint', 'work', 'fine', 'still', 'work', 'perfect', 'tear', 'wear', 'sign', 'refurbish', 'phone', 'complaint', 'work', 'fine', 'still', 'work', 'perfect', 'tear', 'wear', 'sign', 'refurbish', 'phone', 'complaint', 'work', 'fine', 'still', 'work', 'perfect', 'tear', 'wear', 'sign', 'refurbish', 'phone', 'complaint', 'work', 'fine', 'still', 'work', 'perfect', 'tear', 'wear', 'sign', 'refurbish', 'phone', 'complaint', 'work', 'fine', 'still', 'work', 'perfect', 'tear', 'wear', 'sign', 'refurbish', 'phone', 'complaint', 'work', 'fine', 'still', 'work', 'perfect', 'tear', 'wear', 'sign', 'refurbish', 'phone', 'complaint', 'work', 'fine', 'still', 'work', 'perfect', 'tear', 'wear', 'sign', 'refurbish', 'phone', 'complaint', 'work', 'fine', 'still', 'work', 'perfect', 'tear', 'wear', 'sign', 'refurbish', 'phone', 'complaint', 'work', 'fine', 'still', 'work', 'perfect', 'tear', 'wear', 'sign', 'refurbish', 'phone', 'complaint', 'work', 'fine', 'still', 'work', 'perfect', 'tear', 'wear', 'sign', 'refurbish', 'phone', 'complaint', 'work', 'fine', 'still', 'work', 'perfect', 'tear', 'wear', 'sign', 'refurbish', 'phone', 'complaint', 'work', 'fine', 'still', 'work', 'perfect', 'tear', 'wear', 'sign', 'refurbish', 'phone', 'complaint', 'work', 'fine', 'still', 'work', 'perfect', 'tear', 'wear', 'sign', 'refurbish', 'phone', 'complaint', 'work', 'fine', 'still', 'work', 'perfect', 'tear', 'wear', 'sign', 'refurbish', 'phone', 'complaint', 'work', 'fine', 'still', 'work', 'perfect', 'tear', 'wear', 'sign', 'refurbish', 'phone', 'complaint', 'work', 'fine', 'still', 'work', 'perfect', 'tear', 'wear', 'sign', 'refurbish', 'phone', 'complaint', 'work', 'fine', 'still', 'work', 'perfect', 'tear', 'wear', 'sign', 'refurbish', 'phone', 'complaint', 'work', 'fine', 'still', 'work', 'perfect', 'tear', 'wear', 'sign', 'refurbish', 'phone', 'complaint', 'work', 'fine', 'still', 'work', 'perfect', 'tear', 'wear', 'sign', 'refurbish', 'phone', 'complaint', 'work', 'fine', 'still', 'work', 'perfect', 'tear', 'wear', 'sign', 'refurbish', 'phone', 'complaint', 'work', 'fine', 'still', 'work', 'perfect', 'tear', 'wear', 'sign', 'refurbish', 'phone', 'complaint', 'work', 'fine', 'still', 'work', 'perfect', 'tear', 'wear', 'sign', 'refurbish', 'phone', 'complaint', 'work', 'fine', 'still', 'work', 'perfect', 'tear', 'wear', 'sign', 'refurbish', 'phone', 'complaint', 'work', 'fine', 'still', 'work', 'perfect', 'tear', 'wear', 'sign', 'refurbish', 'phone', 'complaint', 'work', 'fine', 'still', 'work', 'perfect', 'tear', 'wear', 'sign', 'refurbish', 'phone', 'complaint', 'work', 'fine', 'still', 'work', 'perfect', 'tear', 'wear', 'sign', 'refurbish', 'phone', 'complaint', 'work', 'fine', 'still', 'work', 'perfect', 'tear', 'wear', 'sign', 'refurbish', 'phone', 'complaint', 'work', 'fine', 'still', 'work', 'perfect', 'tear', 'wear', 'sign', 'refurbish', 'phone', 'complaint', 'work', 'fine', 'still', 'work', 'perfect', 'tear', 'wear', 'sign', 'refurbish', 'phone', 'complaint', 'work', 'fine', 'still', 'work', 'perfect', 'tear', 'wear', 'sign', 'refurbish', 'phone', 'complaint', 'work', 'fine', 'still', 'work', 'perfect', 'tear', 'wear', 'sign', 'refurbish', 'phone', 'complaint', 'work', 'fine', 'still', 'work', 'perfect', 'tear', 'wear', 'sign', 'refurbish', 'phone', 'complaint', 'work', 'fine', 'still', 'work', 'perfect', 'tear', 'wear', 'sign', 'refurbish', 'phone', 'complaint', 'work', 'fine', 'still', 'work', 'perfect', 'tear', 'wear', 'sign', 'refurbish', 'phone', 'complaint', 'work', 'fine', 'still', 'work', 'perfect', 'tear', 'wear', 'sign', 'refurbish', 'phone', 'complaint', 'work', 'fine', 'still', 'work', 'perfect', 'tear', 'wear', 'sign', 'refurbish', 'phone', 'complaint', 'work', 'fine', 'still', 'work', 'perfect', 'tear', 'wear', 'sign', 'refurbish', 'phone', 'complaint', 'work', 'fine', 'still', 'work', 'perfect', 'tear', 'wear', 'sign', 'refurbish', 'phone', 'complaint', 'work', 'fine', 'still', 'work', 'perfect', 'tear', 'wear', 'sign', 'refurbish', 'phone', 'complaint', 'work', 'fine', 'still', 'work', 'perfect', 'tear', 'wear', 'sign', 'refurbish', 'phone', 'complaint', 'work', 'fine', 'still', 'work', 'perfect', 'tear', 'wear', 'sign', 'refurbish', 'phone', 'complaint', 'work', 'fine', 'still', 'work', 'perfect', 'tear', 'wear', 'sign', 'refurbish', 'phone', 'complaint', 'work', 'fine', 'still', 'work', 'perfect', 'tear', 'wear', 'sign', 'refurbish', 'phone', 'complaint', 'work', 'fine', 'still', 'work', 'perfect', 'tear', 'wear', 'sign', 'refurbish', 'phone', 'complaint', 'work', 'fine', 'still', 'work', 'perfect', 'tear', 'wear', 'sign', 'refurbish', 'phone', 'complaint', 'work', 'fine', 'still', 'work', 'perfect', 'tear', 'wear', 'sign', 'refurbish', 'phone', 'complaint', 'work', 'fine', 'still', 'work', 'perfect', 'tear', 'wear', 'sign', 'refurbish', 'phone', 'complaint', 'work', 'fine', 'still', 'work', 'perfect', 'tear', 'wear', 'sign', 'refurbish', 'phone', 'complaint', 'work', 'fine', 'still', 'work', 'perfect', 'tear', 'wear', 'sign', 'refurbish', 'phone', 'complaint', 'work', 'fine', 'still', 'work', 'perfect', 'tear', 'wear', 'sign', 'refurbish', 'phone', 'complaint', 'work', 'fine', 'still', 'work', 'perfect', 'tear', 'wear', 'sign', 'refurbish', 'phone', 'complaint', 'work', 'fine', 'still', 'work', 'perfect', 'tear', 'wear', 'sign', 'refurbish', 'phone', 'complaint', 'work', 'fine', 'still', 'work', 'perfect', 'tear', 'wear', 'sign', 'refurbish', 'phone', 'complaint', 'work', 'fine', 'still', 'work', 'perfect', 'tear', 'wear', 'sign', 'refurbish', 'phone', 'complaint', 'work', 'fine', 'still', 'work', 'perfect', 'tear', 'wear', 'sign', 'refurbish', 'phone', 'complaint', 'work', 'fine', 'still', 'work', 'perfect', 'tear', 'wear', 'sign', 'refurbish', 'phone', 'complaint', 'work', 'fine', 'still', 'work', 'perfect', 'tear', 'wear', 'sign', 'refurbish', 'phone', 'complaint', 'work', 'fine', 'still', 'work', 'perfect', 'tear', 'wear', 'sign', 'refurbish', 'phone', 'complaint', 'work', 'fine', 'still', 'work', 'perfect', 'tear', 'wear', 'sign', 'refurbish', 'phone', 'complaint', 'work', 'fine', 'still', 'work', 'perfect', 'tear', 'wear', 'sign', 'refurbish', 'phone', 'complaint', 'work', 'fine', 'still', 'work', 'perfect', 'tear', 'wear', 'sign', 'refurbish', 'phone', 'complaint', 'work', 'fine', 'still', 'work', 'perfect', 'tear', 'wear', 'sign', 'refurbish', 'phone', 'complaint', 'work', 'fine', 'still', 'work', 'perfect', 'tear', 'wear', 'sign', 'refurbish', 'phone', 'complaint', 'work', 'fine', 'still', 'work', 'perfect', 'tear', 'wear', 'sign', 'refurbish', 'phone', 'complaint', 'work', 'fine', 'still', 'work', 'perfect', 'tear', 'wear', 'sign', 'refurbish', 'phone', 'complaint', 'work', 'fine', 'still', 'work', 'perfect', 'tear', 'wear', 'sign', 'refurbish', 'phone', 'complaint', 'work', 'fine', 'still', 'work', 'perfect', 'tear', 'wear', 'sign', 'refurbish', 'phone', 'complaint', 'work', 'fine', 'still', 'work', 'perfect', 'tear', 'wear', 'sign', 'refurbish', 'phone', 'complaint', 'work', 'fine', 'still', 'work', 'perfect', 'tear', 'wear', 'sign', 'refurbish', 'phone', 'complaint', 'work', 'fine', 'still', 'work', 'perfect', 'tear', 'wear', 'sign', 'refurbish', 'phone', 'complaint', 'work', 'fine', 'still', 'work', 'perfect', 'tear', 'wear', 'sign', 'refurbish', 'phone', 'complaint', 'work', 'fine', 'still', 'work', 'perfect', 'tear', 'wear', 'sign', 'refurbish', 'phone', 'complaint', 'work', 'fine', 'still', 'work', 'perfect', 'tear', 'wear', 'sign', 'refurbish', 'phone', 'complaint', 'work', 'fine', 'still', 'work', 'perfect', 'tear', 'wear', 'sign', 'refurbish', 'phone', 'complaint', 'work', 'fine', 'still', 'work', 'perfect', 'tear', 'wear', 'sign', 'refurbish', 'phone', 'complaint', 'work', 'fine', 'still', 'work', 'perfect', 'tear', 'wear', 'sign', 'refurbish', 'phone', 'complaint', 'work', 'fine', 'still', 'work', 'perfect', 'tear', 'wear', 'sign', 'refurbish', 'phone', 'complaint', 'work', 'fine', 'still', 'work', 'perfect', 'tear', 'wear', 'sign', 'refurbish', 'phone', 'complaint', 'work', 'fine', 'still', 'work', 'perfect', 'tear', 'wear', 'sign', 'refurbish', 'phone', 'complaint', 'work', 'fine', 'still', 'work', 'perfect', 'tear', 'wear', 'sign', 'refurbish', 'phone', 'complaint', 'work', 'fine', 'still', 'work', 'perfect', 'tear', 'wear', 'sign', 'refurbish', 'phone', 'complaint', 'work', 'fine', 'still', 'work', 'perfect', 'tear', 'wear', 'sign', 'refurbish', 'phone', 'complaint', 'work', 'fine', 'still', 'work', 'perfect', 'tear', 'wear', 'sign', 'refurbish', 'phone', 'complaint', 'work', 'fine', 'still', 'work', 'perfect', 'tear', 'wear', 'sign', 'refurbish', 'phone', 'complaint', 'work', 'fine', 'still', 'work', 'perfect', 'tear', 'wear', 'sign', 'refurbish', 'phone', 'complaint', 'work', 'fine', 'still', 'work', 'perfect', 'tear', 'wear', 'sign', 'refurbish', 'phone', 'complaint', 'work', 'fine', 'still', 'work', 'perfect', 'tear', 'wear', 'sign', 'refurbish', 'phone', 'complaint', 'work', 'fine', 'still', 'work', 'perfect', 'tear', 'wear', 'sign', 'refurbish', 'phone', 'complaint', 'work', 'fine', 'still', 'work', 'perfect', 'tear', 'wear', 'sign', 'refurbish', 'phone', 'complaint', 'work', 'fine', 'still', 'work', 'perfect', 'tear', 'wear', 'sign', 'refurbish', 'phone', 'complaint', 'work', 'fine', 'still', 'work', 'perfect', 'tear', 'wear', 'sign', 'refurbish', 'phone', 'complaint', 'work', 'fine', 'still', 'work', 'perfect', 'tear', 'wear', 'sign', 'refurbish', 'phone', 'complaint', 'work', 'fine', 'still', 'work', 'perfect', 'tear', 'wear', 'sign', 'refurbish', 'phone', 'complaint', 'work', 'fine', 'still', 'work', 'perfect', 'tear', 'wear', 'sign', 'refurbish', 'phone', 'complaint', 'work', 'fine', 'still', 'work', 'perfect', 'tear', 'wear', 'sign', 'refurbish', 'phone', 'complaint', 'work', 'fine', 'still', 'work', 'perfect', 'tear', 'wear', 'sign', 'refurbish', 'phone', 'complaint', 'work', 'fine', 'still', 'work', 'perfect', 'tear', 'wear', 'sign', 'refurbish', 'phone', 'complaint', 'work', 'fine', 'still', 'work', 'perfect', 'tear', 'wear', 'sign', 'refurbish', 'phone', 'complaint', 'work', 'fine', 'still', 'work', 'perfect', 'tear', 'wear', 'sign', 'refurbish', 'phone', 'complaint', 'work', 'fine', 'still', 'work', 'perfect', 'tear', 'wear', 'sign', 'refurbish', 'phone', 'complaint', 'work', 'fine', 'still', 'work', 'perfect', 'tear', 'wear', 'sign', 'refurbish', 'phone', 'complaint', 'work', 'fine', 'still', 'work', 'perfect', 'tear', 'wear', 'sign', 'refurbish', 'phone', 'complaint', 'work', 'fine', 'still', 'work', 'perfect', 'tear', 'wear', 'sign', 'refurbish', 'phone', 'complaint', 'work', 'fine', 'still', 'work', 'perfect', 'tear', 'wear', 'sign', 'refurbish', 'phone', 'complaint', 'work', 'fine', 'still', 'work', 'perfect', 'tear', 'wear', 'sign', 'refurbish', 'phone', 'complaint', 'work', 'fine', 'still', 'work', 'perfect', 'tear', 'wear', 'sign', 'refurbish', 'phone', 'complaint', 'work', 'fine', 'still', 'work', 'perfect', 'tear', 'wear', 'sign', 'refurbish', 'phone', 'complaint', 'work', 'fine', 'still', 'work', 'perfect', 'tear', 'wear', 'sign', 'refurbish', 'phone', 'complaint', 'work', 'fine', 'still', 'work', 'perfect', 'tear', 'wear', 'sign', 'refurbish', 'phone', 'complaint', 'work', 'fine', 'still', 'work', 'perfect', 'tear', 'wear', 'sign', 'refurbish', 'phone', 'complaint', 'work', 'fine', 'still', 'work', 'perfect', 'tear', 'wear', 'sign', 'refurbish', 'phone', 'complaint', 'work', 'fine', 'still', 'work', 'perfect', 'tear', 'wear', 'sign', 'refurbish', 'phone', 'complaint', 'work', 'fine', 'still', 'work', 'perfect', 'tear', 'wear', 'sign', 'refurbish', 'phone', 'complaint', 'work', 'fine', 'still', 'work', 'perfect', 'tear', 'wear', 'sign', 'refurbish', 'phone', 'complaint', 'work', 'fine', 'still', 'work', 'perfect', 'tear', 'wear', 'sign', 'refurbish', 'phone', 'complaint', 'work', 'fine', 'still', 'work', 'perfect', 'tear', 'wear', 'sign', 'refurbish', 'phone', 'complaint', 'work', 'fine', 'still', 'work', 'perfect', 'tear', 'wear', 'sign', 'refurbish', 'phone', 'complaint', 'work', 'fine', 'still', 'work', 'perfect', 'tear', 'wear', 'sign', 'refurbish', 'phone', 'complaint', 'work', 'fine', 'still', 'work', 'perfect', 'tear', 'wear', 'sign', 'refurbish', 'phone', 'complaint', 'work', 'fine', 'still', 'work', 'perfect', 'tear', 'wear', 'sign', 'refurbish', 'phone', 'complaint', 'work', 'fine', 'still', 'work', 'perfect', 'tear', 'wear', 'sign', 'refurbish', 'phone', 'complaint', 'work', 'fine', 'still', 'work', 'perfect', 'tear', 'wear', 'sign', 'refurbish', 'phone', 'complaint', 'work', 'fine', 'still', 'work', 'perfect', 'tear', 'wear', 'sign', 'refurbish', 'phone', 'complaint', 'work', 'fine', 'still', 'work', 'perfect', 'tear', 'wear', 'sign', 'refurbish', 'phone', 'complaint', 'work', 'fine', 'still', 'work', 'perfect', 'tear', 'wear', 'sign', 'refurbish', 'phone', 'complaint', 'work', 'fine', 'still', 'work', 'perfect', 'tear', 'wear', 'sign', 'refurbish', 'phone', 'complaint', 'work', 'fine', 'still', 'work', 'perfect', 'tear', 'wear', 'sign', 'refurbish', 'phone', 'complaint', 'work', 'fine', 'still', 'work', 'perfect', 'tear', 'wear', 'sign', 'refurbish', 'phone', 'complaint', 'work', 'fine', 'still', 'work', 'perfect', 'tear', 'wear', 'sign', 'refurbish', 'phone', 'complaint', 'work', 'fine', 'still', 'work', 'perfect', 'tear', 'wear', 'sign', 'refurbish', 'phone', 'complaint', 'work', 'fine', 'still', 'work', 'perfect', 'tear', 'wear', 'sign', 'refurbish', 'phone', 'complaint', 'work', 'fine', 'still', 'work', 'perfect', 'tear', 'wear', 'sign', 'refurbish', 'phone', 'complaint', 'work', 'fine', 'still', 'work', 'perfect', 'tear', 'wear', 'sign', 'refurbish', 'phone', 'complaint', 'work', 'fine', 'still', 'work', 'perfect', 'tear', 'wear', 'sign', 'refurbish', 'phone', 'complaint', 'work', 'fine', 'still', 'work', 'perfect', 'tear', 'wear', 'sign', 'refurbish', 'phone', 'complaint', 'work', 'fine', 'still', 'work', 'perfect', 'tear', 'wear', 'sign', 'refurbish', 'phone', 'complaint', 'work', 'fine', 'still', 'work', 'perfect', 'tear', 'wear', 'sign', 'refurbish', 'phone', 'complaint', 'work', 'fine', 'still', 'work', 'perfect', 'tear', 'wear', 'sign', 'refurbish', 'phone', 'complaint', 'work', 'fine', 'still', 'work', 'perfect', 'tear', 'wear', 'sign', 'refurbish', 'phone', 'complaint', 'work', 'fine', 'still', 'work', 'perfect', 'tear', 'wear', 'sign', 'refurbish', 'phone', 'complaint', 'work', 'fine', 'still', 'work', 'perfect', 'tear', 'wear', 'sign', 'refurbish', 'phone', 'complaint', 'work', 'fine', 'still', 'work', 'perfect', 'tear', 'wear', 'sign', 'refurbish', 'phone', 'complaint', 'work', 'fine', 'still', 'work', 'perfect', 'tear', 'wear', 'sign', 'refurbish', 'phone', 'complaint', 'work', 'fine', 'still', 'work', 'perfect', 'tear', 'wear', 'sign', 'refurbish', 'phone', 'complaint', 'work', 'fine', 'still', 'work', 'perfect', 'tear', 'wear', 'sign', 'refurbish', 'phone', 'complaint', 'work', 'fine', 'still', 'work', 'perfect', 'tear', 'wear', 'sign', 'refurbish', 'phone', 'complaint', 'work', 'fine', 'still', 'work', 'perfect', 'tear', 'wear', 'sign', 'refurbish', 'phone', 'complaint', 'work', 'fine', 'still', 'work', 'perfect', 'tear', 'wear', 'sign', 'refurbish', 'phone', 'complaint', 'work', 'fine', 'still', 'work', 'perfect', 'tear', 'wear', 'sign', 'refurbish', 'phone', 'complaint', 'work', 'fine', 'still', 'work', 'perfect', 'tear', 'wear', 'sign', 'refurbish', 'phone', 'complaint', 'work', 'fine', 'still', 'work', 'perfect', 'tear', 'wear', 'sign', 'refurbish', 'phone', 'complaint', 'work', 'fine', 'still', 'work', 'perfect', 'tear', 'wear', 'sign', 'refurbish', 'phone', 'complaint', 'work', 'fine', 'still', 'work', 'perfect', 'tear', 'wear', 'sign', 'refurbish', 'phone', 'complaint', 'work', 'fine', 'still', 'work', 'perfect', 'tear', 'wear', 'sign', 'refurbish', 'phone', 'complaint', 'work', 'fine', 'still', 'work', 'perfect', 'tear', 'wear', 'sign', 'refurbish', 'phone', 'complaint', 'work', 'fine', 'still', 'work', 'perfect', 'tear', 'wear', 'sign', 'refurbish', 'phone', 'complaint', 'work', 'fine', 'still', 'work', 'perfect', 'tear', 'wear', 'sign', 'refurbish', 'phone', 'complaint', 'work', 'fine', 'still', 'work', 'perfect', 'tear', 'wear', 'sign', 'refurbish', 'phone', 'complaint', 'work', 'fine', 'still', 'work', 'perfect', 'tear', 'wear', 'sign', 'refurbish', 'phone', 'complaint', 'work', 'fine', 'still', 'work', 'perfect', 'tear', 'wear', 'sign', 'refurbish', 'phone', 'complaint', 'work', 'fine', 'still', 'work', 'perfect', 'tear', 'wear', 'sign', 'refurbish', 'phone', 'complaint', 'work', 'fine', 'still', 'work', 'perfect', 'tear', 'wear', 'sign', 'refurbish', 'phone', 'complaint', 'work', 'fine', 'still', 'work', 'perfect', 'tear', 'wear', 'sign', 'refurbish', 'phone', 'complaint', 'work', 'fine', 'still', 'work', 'perfect', 'tear', 'wear', 'sign', 'refurbish', 'phone', 'complaint', 'work', 'fine', 'still', 'work', 'perfect', 'tear', 'wear', 'sign', 'refurbish', 'phone', 'complaint', 'work', 'fine', 'still', 'work', 'perfect', 'tear', 'wear', 'sign', 'refurbish', 'phone', 'complaint', 'work', 'fine', 'still', 'work', 'perfect', 'tear', 'wear', 'sign', 'refurbish', 'phone', 'complaint', 'work', 'fine', 'still', 'work', 'perfect', 'tear', 'wear', 'sign', 'refurbish', 'phone', 'complaint', 'work', 'fine', 'still', 'work', 'perfect', 'tear', 'wear', 'sign', 'refurbish', 'phone', 'complaint', 'work', 'fine', 'still', 'work', 'perfect', 'tear', 'wear', 'sign', 'refurbish', 'phone', 'complaint', 'work', 'fine', 'still', 'work', 'perfect', 'tear', 'wear', 'sign', 'refurbish', 'phone', 'complaint', 'work', 'fine', 'still', 'work', 'perfect', 'tear', 'wear', 'sign', 'refurbish', 'phone', 'complaint', 'work', 'fine', 'still', 'work', 'perfect', 'tear', 'wear', 'sign', 'refurbish', 'phone', 'complaint', 'work', 'fine', 'still', 'work', 'perfect', 'tear', 'wear', 'sign', 'refurbish', 'phone', 'complaint', 'work', 'fine', 'still', 'work', 'perfect', 'tear', 'wear', 'sign', 'refurbish', 'phone', 'complaint', 'work', 'fine', 'still', 'work', 'perfect', 'tear', 'wear', 'sign', 'refurbish', 'phone', 'complaint', 'work', 'fine', 'still', 'work', 'perfect', 'tear', 'wear', 'sign', 'refurbish', 'phone', 'complaint', 'work', 'fine', 'still', 'work', 'perfect', 'tear', 'wear', 'sign', 'refurbish', 'phone', 'complaint', 'work', 'fine', 'still', 'work', 'perfect', 'tear', 'wear', 'sign', 'refurbish', 'phone', 'complaint', 'work', 'fine', 'still', 'work', 'perfect', 'tear', 'wear', 'sign', 'refurbish', 'phone', 'complaint', 'work', 'fine', 'still', 'work', 'perfect', 'tear', 'wear', 'sign', 'refurbish', 'phone', 'complaint', 'work', 'fine', 'still', 'work', 'perfect', 'tear', 'wear', 'sign', 'refurbish', 'phone', 'complaint', 'work', 'fine', 'still', 'work', 'perfect', 'tear', 'wear', 'sign', 'refurbish', 'phone', 'complaint', 'work', 'fine', 'still', 'work', 'perfect', 'tear', 'wear', 'sign', 'refurbish', 'phone', 'complaint', 'work', 'fine', 'still', 'work', 'perfect', 'tear', 'wear', 'sign', 'refurbish', 'phone', 'complaint', 'work', 'fine', 'still', 'work', 'perfect', 'tear', 'wear', 'sign', 'refurbish', 'phone', 'complaint', 'work', 'fine', 'still', 'work', 'perfect', 'tear', 'wear', 'sign', 'refurbish', 'phone', 'complaint', 'work', 'fine', 'still', 'work', 'perfect', 'tear', 'wear', 'sign', 'refurbish', 'phone', 'complaint', 'work', 'fine', 'still', 'work', 'perfect', 'tear', 'wear', 'sign', 'refurbish', 'phone', 'complaint', 'work', 'fine', 'still', 'work', 'perfect', 'tear', 'wear', 'sign', 'refurbish', 'phone', 'complaint', 'work', 'fine', 'still', 'work', 'perfect', 'tear', 'wear', 'sign', 'refurbish', 'phone', 'complaint', 'work', 'fine', 'still', 'work', 'perfect', 'tear', 'wear', 'sign', 'refurbish', 'phone', 'complaint', 'work', 'fine', 'still', 'work', 'perfect', 'tear', 'wear', 'sign', 'refurbish', 'phone', 'complaint', 'work', 'fine', 'still', 'work', 'perfect', 'tear', 'wear', 'sign', 'refurbish', 'phone', 'complaint', 'work', 'fine', 'still', 'work', 'perfect', 'tear', 'wear', 'sign', 'refurbish', 'phone', 'complaint', 'work', 'fine', 'still', 'work', 'perfect', 'tear', 'wear', 'sign', 'refurbish', 'phone', 'complaint', 'work', 'fine', 'still', 'work', 'perfect', 'tear', 'wear', 'sign', 'refurbish', 'phone', 'complaint', 'work', 'fine', 'still', 'work', 'perfect', 'tear', 'wear', 'sign', 'refurbish', 'phone', 'complaint', 'work', 'fine', 'still', 'work', 'perfect', 'tear', 'wear', 'sign', 'refurbish', 'phone', 'complaint', 'work', 'fine', 'still', 'work', 'perfect', 'tear', 'wear', 'sign', 'refurbish', 'phone', 'complaint', 'work', 'fine', 'still', 'work', 'perfect', 'tear', 'wear', 'sign', 'refurbish', 'phone', 'complaint', 'work', 'fine', 'still', 'work', 'perfect', 'tear', 'wear', 'sign', 'refurbish', 'phone', 'complaint', 'work', 'fine', 'still', 'work', 'perfect', 'tear', 'wear', 'sign', 'refurbish', 'phone', 'complaint', 'work', 'fine', 'still', 'work', 'perfect', 'tear', 'wear', 'sign', 'refurbish', 'phone', 'complaint', 'work', 'fine', 'still', 'work', 'perfect', 'tear', 'wear', 'sign', 'refurbish', 'phone', 'complaint', 'work', 'fine', 'still', 'work', 'perfect', 'tear', 'wear', 'sign', 'refurbish', 'phone', 'complaint', 'work', 'fine', 'still', 'work', 'perfect', 'tear', 'wear', 'sign', 'refurbish', 'phone', 'complaint', 'work', 'fine', 'still', 'work', 'perfect', 'tear', 'wear', 'sign', 'refurbish', 'phone', 'complaint', 'work', 'fine', 'still', 'work', 'perfect', 'tear', 'wear', 'sign', 'refurbish', 'phone', 'complaint', 'work', 'fine', 'still', 'work', 'perfect', 'tear', 'wear', 'sign', 'refurbish', 'phone', 'complaint', 'work', 'fine', 'still', 'work', 'perfect', 'tear', 'wear', 'sign', 'refurbish', 'phone', 'complaint', 'work', 'fine', 'still', 'work', 'perfect', 'tear', 'wear', 'sign', 'refurbish', 'phone', 'complaint', 'work', 'fine', 'still', 'work', 'perfect', 'tear', 'wear', 'sign', 'refurbish', 'phone', 'complaint', 'work', 'fine', 'still', 'work', 'perfect', 'tear', 'wear', 'sign', 'refurbish', 'phone', 'complaint', 'work', 'fine', 'still', 'work', 'perfect', 'tear', 'wear', 'sign', 'refurbish', 'phone', 'complaint', 'work', 'fine', 'still', 'work', 'perfect', 'tear', 'wear', 'sign', 'refurbish', 'phone', 'complaint', 'work', 'fine', 'still', 'work', 'perfect', 'tear', 'wear', 'sign', 'refurbish', 'phone', 'complaint', 'work', 'fine', 'still', 'work', 'perfect', 'tear', 'wear', 'sign', 'refurbish', 'phone', 'complaint', 'work', 'fine', 'still', 'work', 'perfect', 'tear', 'wear', 'sign', 'refurbish', 'phone', 'complaint', 'work', 'fine', 'still', 'work', 'perfect', 'tear', 'wear', 'sign', 'refurbish', 'phone', 'complaint', 'work', 'fine', 'still', 'work', 'perfect', 'tear', 'wear', 'sign', 'refurbish', 'phone', 'complaint', 'work', 'fine', 'still', 'work', 'perfect', 'tear', 'wear', 'sign', 'refurbish', 'phone', 'complaint', 'work', 'fine', 'still', 'work', 'perfect', 'tear', 'wear', 'sign', 'refurbish', 'phone', 'complaint', 'work', 'fine', 'still', 'work', 'perfect', 'tear', 'wear', 'sign', 'refurbish', 'phone', 'complaint', 'work', 'fine', 'still', 'work', 'perfect', 'tear', 'wear', 'sign', 'refurbish', 'phone', 'complaint', 'work', 'fine', 'still', 'work', 'perfect', 'tear', 'wear', 'sign', 'refurbish', 'phone', 'complaint', 'work', 'fine', 'still', 'work', 'perfect', 'tear', 'wear', 'sign', 'refurbish', 'phone', 'complaint', 'work', 'fine', 'still', 'work', 'perfect', 'tear', 'wear', 'sign', 'refurbish', 'phone', 'complaint', 'work', 'fine', 'still', 'work', 'perfect', 'tear', 'wear', 'sign', 'refurbish', 'phone', 'complaint', 'work', 'fine', 'still', 'work', 'perfect', 'tear', 'wear', 'sign', 'refurbish', 'phone'], ['hello', 'name', 'emildr', 'tower', 'buy', 'phone', 'provid', 'one', 'get', 'bad', 'light', 'due', 'situcion', 'pass', 'countri', 'make', 'refund', 'howev', 'notifi', 'happen', 'greet', 'hello', 'name', 'emildr', 'tower', 'buy', 'phone', 'provid', 'one', 'get', 'bad', 'light', 'due', 'situcion', 'pass', 'countri', 'make', 'refund', 'howev', 'notifi', 'happen', 'greet', 'hello', 'name', 'emildr', 'tower', 'buy', 'phone', 'provid', 'one', 'get', 'bad', 'light', 'due', 'situcion', 'pass', 'countri', 'make', 'refund', 'howev', 'notifi', 'happen', 'greet', 'hello', 'name', 'emildr', 'tower', 'buy', 'phone', 'provid', 'one', 'get', 'bad', 'light', 'due', 'situcion', 'pass', 'countri', 'make', 'refund', 'howev', 'notifi', 'happen', 'greet', 'hello', 'name', 'emildr', 'tower', 'buy', 'phone', 'provid', 'one', 'get', 'bad', 'light', 'due', 'situcion', 'pass', 'countri', 'make', 'refund', 'howev', 'notifi', 'happen', 'greet', 'hello', 'name', 'emildr', 'tower', 'buy', 'phone', 'provid', 'one', 'get', 'bad', 'light', 'due', 'situcion', 'pass', 'countri', 'make', 'refund', 'howev', 'notifi', 'happen', 'greet', 'hello', 'name', 'emildr', 'tower', 'buy', 'phone', 'provid', 'one', 'get', 'bad', 'light', 'due', 'situcion', 'pass', 'countri', 'make', 'refund', 'howev', 'notifi', 'happen', 'greet', 'hello', 'name', 'emildr', 'tower', 'buy', 'phone', 'provid', 'one', 'get', 'bad', 'light', 'due', 'situcion', 'pass', 'countri', 'make', 'refund', 'howev', 'notifi', 'happen', 'greet', 'hello', 'name', 'emildr', 'tower', 'buy', 'phone', 'provid', 'one', 'get', 'bad', 'light', 'due', 'situcion', 'pass', 'countri', 'make', 'refund', 'howev', 'notifi', 'happen', 'greet', 'hello', 'name', 'emildr', 'tower', 'buy', 'phone', 'provid', 'one', 'get', 'bad', 'light', 'due', 'situcion', 'pass', 'countri', 'make', 'refund', 'howev', 'notifi', 'happen', 'greet', 'hello', 'name', 'emildr', 'tower', 'buy', 'phone', 'provid', 'one', 'get', 'bad', 'light', 'due', 'situcion', 'pass', 'countri', 'make', 'refund', 'howev', 'notifi', 'happen', 'greet', 'hello', 'name', 'emildr', 'tower', 'buy', 'phone', 'provid', 'one', 'get', 'bad', 'light', 'due', 'situcion', 'pass', 'countri', 'make', 'refund', 'howev', 'notifi', 'happen', 'greet', 'hello', 'name', 'emildr', 'tower', 'buy', 'phone', 'provid', 'one', 'get', 'bad', 'light', 'due', 'situcion', 'pass', 'countri', 'make', 'refund', 'howev', 'notifi', 'happen', 'greet', 'hello', 'name', 'emildr', 'tower', 'buy', 'phone', 'provid', 'one', 'get', 'bad', 'light', 'due', 'situcion', 'pass', 'countri', 'make', 'refund', 'howev', 'notifi', 'happen', 'greet', 'hello', 'name', 'emildr', 'tower', 'buy', 'phone', 'provid', 'one', 'get', 'bad', 'light', 'due', 'situcion', 'pass', 'countri', 'make', 'refund', 'howev', 'notifi', 'happen', 'greet', 'hello', 'name', 'emildr', 'tower', 'buy', 'phone', 'provid', 'one', 'get', 'bad', 'light', 'due', 'situcion', 'pass', 'countri', 'make', 'refund', 'howev', 'notifi', 'happen', 'greet', 'hello', 'name', 'emildr', 'tower', 'buy', 'phone', 'provid', 'one', 'get', 'bad', 'light', 'due', 'situcion', 'pass', 'countri', 'make', 'refund', 'howev', 'notifi', 'happen', 'greet', 'hello', 'name', 'emildr', 'tower', 'buy', 'phone', 'provid', 'one', 'get', 'bad', 'light', 'due', 'situcion', 'pass', 'countri', 'make', 'refund', 'howev', 'notifi', 'happen', 'greet', 'hello', 'name', 'emildr', 'tower', 'buy', 'phone', 'provid', 'one', 'get', 'bad', 'light', 'due', 'situcion', 'pass', 'countri', 'make', 'refund', 'howev', 'notifi', 'happen', 'greet', 'hello', 'name', 'emildr', 'tower', 'buy', 'phone', 'provid', 'one', 'get', 'bad', 'light', 'due', 'situcion', 'pass', 'countri', 'make', 'refund', 'howev', 'notifi', 'happen', 'greet', 'hello', 'name', 'emildr', 'tower', 'buy', 'phone', 'provid', 'one', 'get', 'bad', 'light', 'due', 'situcion', 'pass', 'countri', 'make', 'refund', 'howev', 'notifi', 'happen', 'greet', 'hello', 'name', 'emildr', 'tower', 'buy', 'phone', 'provid', 'one', 'get', 'bad', 'light', 'due', 'situcion', 'pass', 'countri', 'make', 'refund', 'howev', 'notifi', 'happen', 'greet', 'hello', 'name', 'emildr', 'tower', 'buy', 'phone', 'provid', 'one', 'get', 'bad', 'light', 'due', 'situcion', 'pass', 'countri', 'make', 'refund', 'howev', 'notifi', 'happen', 'greet', 'hello', 'name', 'emildr', 'tower', 'buy', 'phone', 'provid', 'one', 'get', 'bad', 'light', 'due', 'situcion', 'pass', 'countri', 'make', 'refund', 'howev', 'notifi', 'happen', 'greet', 'hello', 'name', 'emildr', 'tower', 'buy', 'phone', 'provid', 'one', 'get', 'bad', 'light', 'due', 'situcion', 'pass', 'countri', 'make', 'refund', 'howev', 'notifi', 'happen', 'greet', 'hello', 'name', 'emildr', 'tower', 'buy', 'phone', 'provid', 'one', 'get', 'bad', 'light', 'due', 'situcion', 'pass', 'countri', 'make', 'refund', 'howev', 'notifi', 'happen', 'greet', 'hello', 'name', 'emildr', 'tower', 'buy', 'phone', 'provid', 'one', 'get', 'bad', 'light', 'due', 'situcion', 'pass', 'countri', 'make', 'refund', 'howev', 'notifi', 'happen', 'greet', 'hello', 'name', 'emildr', 'tower', 'buy', 'phone', 'provid', 'one', 'get', 'bad', 'light', 'due', 'situcion', 'pass', 'countri', 'make', 'refund', 'howev', 'notifi', 'happen', 'greet', 'hello', 'name', 'emildr', 'tower', 'buy', 'phone', 'provid', 'one', 'get', 'bad', 'light', 'due', 'situcion', 'pass', 'countri', 'make', 'refund', 'howev', 'notifi', 'happen', 'greet', 'hello', 'name', 'emildr', 'tower', 'buy', 'phone', 'provid', 'one', 'get', 'bad', 'light', 'due', 'situcion', 'pass', 'countri', 'make', 'refund', 'howev', 'notifi', 'happen', 'greet', 'hello', 'name', 'emildr', 'tower', 'buy', 'phone', 'provid', 'one', 'get', 'bad', 'light', 'due', 'situcion', 'pass', 'countri', 'make', 'refund', 'howev', 'notifi', 'happen', 'greet', 'hello', 'name', 'emildr', 'tower', 'buy', 'phone', 'provid', 'one', 'get', 'bad', 'light', 'due', 'situcion', 'pass', 'countri', 'make', 'refund', 'howev', 'notifi', 'happen', 'greet', 'hello', 'name', 'emildr', 'tower', 'buy', 'phone', 'provid', 'one', 'get', 'bad', 'light', 'due', 'situcion', 'pass', 'countri', 'make', 'refund', 'howev', 'notifi', 'happen', 'greet', 'hello', 'name', 'emildr', 'tower', 'buy', 'phone', 'provid', 'one', 'get', 'bad', 'light', 'due', 'situcion', 'pass', 'countri', 'make', 'refund', 'howev', 'notifi', 'happen', 'greet', 'hello', 'name', 'emildr', 'tower', 'buy', 'phone', 'provid', 'one', 'get', 'bad', 'light', 'due', 'situcion', 'pass', 'countri', 'make', 'refund', 'howev', 'notifi', 'happen', 'greet', 'hello', 'name', 'emildr', 'tower', 'buy', 'phone', 'provid', 'one', 'get', 'bad', 'light', 'due', 'situcion', 'pass', 'countri', 'make', 'refund', 'howev', 'notifi', 'happen', 'greet', 'hello', 'name', 'emildr', 'tower', 'buy', 'phone', 'provid', 'one', 'get', 'bad', 'light', 'due', 'situcion', 'pass', 'countri', 'make', 'refund', 'howev', 'notifi', 'happen', 'greet', 'hello', 'name', 'emildr', 'tower', 'buy', 'phone', 'provid', 'one', 'get', 'bad', 'light', 'due', 'situcion', 'pass', 'countri', 'make', 'refund', 'howev', 'notifi', 'happen', 'greet', 'hello', 'name', 'emildr', 'tower', 'buy', 'phone', 'provid', 'one', 'get', 'bad', 'light', 'due', 'situcion', 'pass', 'countri', 'make', 'refund', 'howev', 'notifi', 'happen', 'greet', 'hello', 'name', 'emildr', 'tower', 'buy', 'phone', 'provid', 'one', 'get', 'bad', 'light', 'due', 'situcion', 'pass', 'countri', 'make', 'refund', 'howev', 'notifi', 'happen', 'greet', 'hello', 'name', 'emildr', 'tower', 'buy', 'phone', 'provid', 'one', 'get', 'bad', 'light', 'due', 'situcion', 'pass', 'countri', 'make', 'refund', 'howev', 'notifi', 'happen', 'greet', 'hello', 'name', 'emildr', 'tower', 'buy', 'phone', 'provid', 'one', 'get', 'bad', 'light', 'due', 'situcion', 'pass', 'countri', 'make', 'refund', 'howev', 'notifi', 'happen', 'greet', 'hello', 'name', 'emildr', 'tower', 'buy', 'phone', 'provid', 'one', 'get', 'bad', 'light', 'due', 'situcion', 'pass', 'countri', 'make', 'refund', 'howev', 'notifi', 'happen', 'greet', 'hello', 'name', 'emildr', 'tower', 'buy', 'phone', 'provid', 'one', 'get', 'bad', 'light', 'due', 'situcion', 'pass', 'countri', 'make', 'refund', 'howev', 'notifi', 'happen', 'greet', 'hello', 'name', 'emildr', 'tower', 'buy', 'phone', 'provid', 'one', 'get', 'bad', 'light', 'due', 'situcion', 'pass', 'countri', 'make', 'refund', 'howev', 'notifi', 'happen', 'greet', 'hello', 'name', 'emildr', 'tower', 'buy', 'phone', 'provid', 'one', 'get', 'bad', 'light', 'due', 'situcion', 'pass', 'countri', 'make', 'refund', 'howev', 'notifi', 'happen', 'greet', 'hello', 'name', 'emildr', 'tower', 'buy', 'phone', 'provid', 'one', 'get', 'bad', 'light', 'due', 'situcion', 'pass', 'countri', 'make', 'refund', 'howev', 'notifi', 'happen', 'greet', 'hello', 'name', 'emildr', 'tower', 'buy', 'phone', 'provid', 'one', 'get', 'bad', 'light', 'due', 'situcion', 'pass', 'countri', 'make', 'refund', 'howev', 'notifi', 'happen', 'greet', 'hello', 'name', 'emildr', 'tower', 'buy', 'phone', 'provid', 'one', 'get', 'bad', 'light', 'due', 'situcion', 'pass', 'countri', 'make', 'refund', 'howev', 'notifi', 'happen', 'greet', 'hello', 'name', 'emildr', 'tower', 'buy', 'phone', 'provid', 'one', 'get', 'bad', 'light', 'due', 'situcion', 'pass', 'countri', 'make', 'refund', 'howev', 'notifi', 'happen', 'greet', 'hello', 'name', 'emildr', 'tower', 'buy', 'phone', 'provid', 'one', 'get', 'bad', 'light', 'due', 'situcion', 'pass', 'countri', 'make', 'refund', 'howev', 'notifi', 'happen', 'greet', 'hello', 'name', 'emildr', 'tower', 'buy', 'phone', 'provid', 'one', 'get', 'bad', 'light', 'due', 'situcion', 'pass', 'countri', 'make', 'refund', 'howev', 'notifi', 'happen', 'greet', 'hello', 'name', 'emildr', 'tower', 'buy', 'phone', 'provid', 'one', 'get', 'bad', 'light', 'due', 'situcion', 'pass', 'countri', 'make', 'refund', 'howev', 'notifi', 'happen', 'greet', 'hello', 'name', 'emildr', 'tower', 'buy', 'phone', 'provid', 'one', 'get', 'bad', 'light', 'due', 'situcion', 'pass', 'countri', 'make', 'refund', 'howev', 'notifi', 'happen', 'greet', 'hello', 'name', 'emildr', 'tower', 'buy', 'phone', 'provid', 'one', 'get', 'bad', 'light', 'due', 'situcion', 'pass', 'countri', 'make', 'refund', 'howev', 'notifi', 'happen', 'greet', 'hello', 'name', 'emildr', 'tower', 'buy', 'phone', 'provid', 'one', 'get', 'bad', 'light', 'due', 'situcion', 'pass', 'countri', 'make', 'refund', 'howev', 'notifi', 'happen', 'greet', 'hello', 'name', 'emildr', 'tower', 'buy', 'phone', 'provid', 'one', 'get', 'bad', 'light', 'due', 'situcion', 'pass', 'countri', 'make', 'refund', 'howev', 'notifi', 'happen', 'greet', 'hello', 'name', 'emildr', 'tower', 'buy', 'phone', 'provid', 'one', 'get', 'bad', 'light', 'due', 'situcion', 'pass', 'countri', 'make', 'refund', 'howev', 'notifi', 'happen', 'greet', 'hello', 'name', 'emildr', 'tower', 'buy', 'phone', 'provid', 'one', 'get', 'bad', 'light', 'due', 'situcion', 'pass', 'countri', 'make', 'refund', 'howev', 'notifi', 'happen', 'greet', 'hello', 'name', 'emildr', 'tower', 'buy', 'phone', 'provid', 'one', 'get', 'bad', 'light', 'due', 'situcion', 'pass', 'countri', 'make', 'refund', 'howev', 'notifi', 'happen', 'greet', 'hello', 'name', 'emildr', 'tower', 'buy', 'phone', 'provid', 'one', 'get', 'bad', 'light', 'due', 'situcion', 'pass', 'countri', 'make', 'refund', 'howev', 'notifi', 'happen', 'greet', 'hello', 'name', 'emildr', 'tower', 'buy', 'phone', 'provid', 'one', 'get', 'bad', 'light', 'due', 'situcion', 'pass', 'countri', 'make', 'refund', 'howev', 'notifi', 'happen', 'greet', 'hello', 'name', 'emildr', 'tower', 'buy', 'phone', 'provid', 'one', 'get', 'bad', 'light', 'due', 'situcion', 'pass', 'countri', 'make', 'refund', 'howev', 'notifi', 'happen', 'greet', 'hello', 'name', 'emildr', 'tower', 'buy', 'phone', 'provid', 'one', 'get', 'bad', 'light', 'due', 'situcion', 'pass', 'countri', 'make', 'refund', 'howev', 'notifi', 'happen', 'greet', 'hello', 'name', 'emildr', 'tower', 'buy', 'phone', 'provid', 'one', 'get', 'bad', 'light', 'due', 'situcion', 'pass', 'countri', 'make', 'refund', 'howev', 'notifi', 'happen', 'greet', 'hello', 'name', 'emildr', 'tower', 'buy', 'phone', 'provid', 'one', 'get', 'bad', 'light', 'due', 'situcion', 'pass', 'countri', 'make', 'refund', 'howev', 'notifi', 'happen', 'greet', 'hello', 'name', 'emildr', 'tower', 'buy', 'phone', 'provid', 'one', 'get', 'bad', 'light', 'due', 'situcion', 'pass', 'countri', 'make', 'refund', 'howev', 'notifi', 'happen', 'greet', 'hello', 'name', 'emildr', 'tower', 'buy', 'phone', 'provid', 'one', 'get', 'bad', 'light', 'due', 'situcion', 'pass', 'countri', 'make', 'refund', 'howev', 'notifi', 'happen', 'greet', 'hello', 'name', 'emildr', 'tower', 'buy', 'phone', 'provid', 'one', 'get', 'bad', 'light', 'due', 'situcion', 'pass', 'countri', 'make', 'refund', 'howev', 'notifi', 'happen', 'greet', 'hello', 'name', 'emildr', 'tower', 'buy', 'phone', 'provid', 'one', 'get', 'bad', 'light', 'due', 'situcion', 'pass', 'countri', 'make', 'refund', 'howev', 'notifi', 'happen', 'greet', 'hello', 'name', 'emildr', 'tower', 'buy', 'phone', 'provid', 'one', 'get', 'bad', 'light', 'due', 'situcion', 'pass', 'countri', 'make', 'refund', 'howev', 'notifi', 'happen', 'greet', 'hello', 'name', 'emildr', 'tower', 'buy', 'phone', 'provid', 'one', 'get', 'bad', 'light', 'due', 'situcion', 'pass', 'countri', 'make', 'refund', 'howev', 'notifi', 'happen', 'greet', 'hello', 'name', 'emildr', 'tower', 'buy', 'phone', 'provid', 'one', 'get', 'bad', 'light', 'due', 'situcion', 'pass', 'countri', 'make', 'refund', 'howev', 'notifi', 'happen', 'greet', 'hello', 'name', 'emildr', 'tower', 'buy', 'phone', 'provid', 'one', 'get', 'bad', 'light', 'due', 'situcion', 'pass', 'countri', 'make', 'refund', 'howev', 'notifi', 'happen', 'greet', 'hello', 'name', 'emildr', 'tower', 'buy', 'phone', 'provid', 'one', 'get', 'bad', 'light', 'due', 'situcion', 'pass', 'countri', 'make', 'refund', 'howev', 'notifi', 'happen', 'greet', 'hello', 'name', 'emildr', 'tower', 'buy', 'phone', 'provid', 'one', 'get', 'bad', 'light', 'due', 'situcion', 'pass', 'countri', 'make', 'refund', 'howev', 'notifi', 'happen', 'greet', 'hello', 'name', 'emildr', 'tower', 'buy', 'phone', 'provid', 'one', 'get', 'bad', 'light', 'due', 'situcion', 'pass', 'countri', 'make', 'refund', 'howev', 'notifi', 'happen', 'greet', 'hello', 'name', 'emildr', 'tower', 'buy', 'phone', 'provid', 'one', 'get', 'bad', 'light', 'due', 'situcion', 'pass', 'countri', 'make', 'refund', 'howev', 'notifi', 'happen', 'greet', 'hello', 'name', 'emildr', 'tower', 'buy', 'phone', 'provid', 'one', 'get', 'bad', 'light', 'due', 'situcion', 'pass', 'countri', 'make', 'refund', 'howev', 'notifi', 'happen', 'greet', 'hello', 'name', 'emildr', 'tower', 'buy', 'phone', 'provid', 'one', 'get', 'bad', 'light', 'due', 'situcion', 'pass', 'countri', 'make', 'refund', 'howev', 'notifi', 'happen', 'greet', 'hello', 'name', 'emildr', 'tower', 'buy', 'phone', 'provid', 'one', 'get', 'bad', 'light', 'due', 'situcion', 'pass', 'countri', 'make', 'refund', 'howev', 'notifi', 'happen', 'greet', 'hello', 'name', 'emildr', 'tower', 'buy', 'phone', 'provid', 'one', 'get', 'bad', 'light', 'due', 'situcion', 'pass', 'countri', 'make', 'refund', 'howev', 'notifi', 'happen', 'greet', 'hello', 'name', 'emildr', 'tower', 'buy', 'phone', 'provid', 'one', 'get', 'bad', 'light', 'due', 'situcion', 'pass', 'countri', 'make', 'refund', 'howev', 'notifi', 'happen', 'greet', 'hello', 'name', 'emildr', 'tower', 'buy', 'phone', 'provid', 'one', 'get', 'bad', 'light', 'due', 'situcion', 'pass', 'countri', 'make', 'refund', 'howev', 'notifi', 'happen', 'greet', 'hello', 'name', 'emildr', 'tower', 'buy', 'phone', 'provid', 'one', 'get', 'bad', 'light', 'due', 'situcion', 'pass', 'countri', 'make', 'refund', 'howev', 'notifi', 'happen', 'greet', 'hello', 'name', 'emildr', 'tower', 'buy', 'phone', 'provid', 'one', 'get', 'bad', 'light', 'due', 'situcion', 'pass', 'countri', 'make', 'refund', 'howev', 'notifi', 'happen', 'greet', 'hello', 'name', 'emildr', 'tower', 'buy', 'phone', 'provid', 'one', 'get', 'bad', 'light', 'due', 'situcion', 'pass', 'countri', 'make', 'refund', 'howev', 'notifi', 'happen', 'greet', 'hello', 'name', 'emildr', 'tower', 'buy', 'phone', 'provid', 'one', 'get', 'bad', 'light', 'due', 'situcion', 'pass', 'countri', 'make', 'refund', 'howev', 'notifi', 'happen', 'greet', 'hello', 'name', 'emildr', 'tower', 'buy', 'phone', 'provid', 'one', 'get', 'bad', 'light', 'due', 'situcion', 'pass', 'countri', 'make', 'refund', 'howev', 'notifi', 'happen', 'greet', 'hello', 'name', 'emildr', 'tower', 'buy', 'phone', 'provid', 'one', 'get', 'bad', 'light', 'due', 'situcion', 'pass', 'countri', 'make', 'refund', 'howev', 'notifi', 'happen', 'greet', 'hello', 'name', 'emildr', 'tower', 'buy', 'phone', 'provid', 'one', 'get', 'bad', 'light', 'due', 'situcion', 'pass', 'countri', 'make', 'refund', 'howev', 'notifi', 'happen', 'greet', 'hello', 'name', 'emildr', 'tower', 'buy', 'phone', 'provid', 'one', 'get', 'bad', 'light', 'due', 'situcion', 'pass', 'countri', 'make', 'refund', 'howev', 'notifi', 'happen', 'greet', 'hello', 'name', 'emildr', 'tower', 'buy', 'phone', 'provid', 'one', 'get', 'bad', 'light', 'due', 'situcion', 'pass', 'countri', 'make', 'refund', 'howev', 'notifi', 'happen', 'greet', 'hello', 'name', 'emildr', 'tower', 'buy', 'phone', 'provid', 'one', 'get', 'bad', 'light', 'due', 'situcion', 'pass', 'countri', 'make', 'refund', 'howev', 'notifi', 'happen', 'greet', 'hello', 'name', 'emildr', 'tower', 'buy', 'phone', 'provid', 'one', 'get', 'bad', 'light', 'due', 'situcion', 'pass', 'countri', 'make', 'refund', 'howev', 'notifi', 'happen', 'greet', 'hello', 'name', 'emildr', 'tower', 'buy', 'phone', 'provid', 'one', 'get', 'bad', 'light', 'due', 'situcion', 'pass', 'countri', 'make', 'refund', 'howev', 'notifi', 'happen', 'greet', 'hello', 'name', 'emildr', 'tower', 'buy', 'phone', 'provid', 'one', 'get', 'bad', 'light', 'due', 'situcion', 'pass', 'countri', 'make', 'refund', 'howev', 'notifi', 'happen', 'greet', 'hello', 'name', 'emildr', 'tower', 'buy', 'phone', 'provid', 'one', 'get', 'bad', 'light', 'due', 'situcion', 'pass', 'countri', 'make', 'refund', 'howev', 'notifi', 'happen', 'greet', 'hello', 'name', 'emildr', 'tower', 'buy', 'phone', 'provid', 'one', 'get', 'bad', 'light', 'due', 'situcion', 'pass', 'countri', 'make', 'refund', 'howev', 'notifi', 'happen', 'greet', 'hello', 'name', 'emildr', 'tower', 'buy', 'phone', 'provid', 'one', 'get', 'bad', 'light', 'due', 'situcion', 'pass', 'countri', 'make', 'refund', 'howev', 'notifi', 'happen', 'greet', 'hello', 'name', 'emildr', 'tower', 'buy', 'phone', 'provid', 'one', 'get', 'bad', 'light', 'due', 'situcion', 'pass', 'countri', 'make', 'refund', 'howev', 'notifi', 'happen', 'greet', 'hello', 'name', 'emildr', 'tower', 'buy', 'phone', 'provid', 'one', 'get', 'bad', 'light', 'due', 'situcion', 'pass', 'countri', 'make', 'refund', 'howev', 'notifi', 'happen', 'greet', 'hello', 'name', 'emildr', 'tower', 'buy', 'phone', 'provid', 'one', 'get', 'bad', 'light', 'due', 'situcion', 'pass', 'countri', 'make', 'refund', 'howev', 'notifi', 'happen', 'greet', 'hello', 'name', 'emildr', 'tower', 'buy', 'phone', 'provid', 'one', 'get', 'bad', 'light', 'due', 'situcion', 'pass', 'countri', 'make', 'refund', 'howev', 'notifi', 'happen', 'greet', 'hello', 'name', 'emildr', 'tower', 'buy', 'phone', 'provid', 'one', 'get', 'bad', 'light', 'due', 'situcion', 'pass', 'countri', 'make', 'refund', 'howev', 'notifi', 'happen', 'greet', 'hello', 'name', 'emildr', 'tower', 'buy', 'phone', 'provid', 'one', 'get', 'bad', 'light', 'due', 'situcion', 'pass', 'countri', 'make', 'refund', 'howev', 'notifi', 'happen', 'greet', 'hello', 'name', 'emildr', 'tower', 'buy', 'phone', 'provid', 'one', 'get', 'bad', 'light', 'due', 'situcion', 'pass', 'countri', 'make', 'refund', 'howev', 'notifi', 'happen', 'greet', 'hello', 'name', 'emildr', 'tower', 'buy', 'phone', 'provid', 'one', 'get', 'bad', 'light', 'due', 'situcion', 'pass', 'countri', 'make', 'refund', 'howev', 'notifi', 'happen', 'greet', 'hello', 'name', 'emildr', 'tower', 'buy', 'phone', 'provid', 'one', 'get', 'bad', 'light', 'due', 'situcion', 'pass', 'countri', 'make', 'refund', 'howev', 'notifi', 'happen', 'greet', 'hello', 'name', 'emildr', 'tower', 'buy', 'phone', 'provid', 'one', 'get', 'bad', 'light', 'due', 'situcion', 'pass', 'countri', 'make', 'refund', 'howev', 'notifi', 'happen', 'greet', 'hello', 'name', 'emildr', 'tower', 'buy', 'phone', 'provid', 'one', 'get', 'bad', 'light', 'due', 'situcion', 'pass', 'countri', 'make', 'refund', 'howev', 'notifi', 'happen', 'greet', 'hello', 'name', 'emildr', 'tower', 'buy', 'phone', 'provid', 'one', 'get', 'bad', 'light', 'due', 'situcion', 'pass', 'countri', 'make', 'refund', 'howev', 'notifi', 'happen', 'greet', 'hello', 'name', 'emildr', 'tower', 'buy', 'phone', 'provid', 'one', 'get', 'bad', 'light', 'due', 'situcion', 'pass', 'countri', 'make', 'refund', 'howev', 'notifi', 'happen', 'greet', 'hello', 'name', 'emildr', 'tower', 'buy', 'phone', 'provid', 'one', 'get', 'bad', 'light', 'due', 'situcion', 'pass', 'countri', 'make', 'refund', 'howev', 'notifi', 'happen', 'greet', 'hello', 'name', 'emildr', 'tower', 'buy', 'phone', 'provid', 'one', 'get', 'bad', 'light', 'due', 'situcion', 'pass', 'countri', 'make', 'refund', 'howev', 'notifi', 'happen', 'greet', 'hello', 'name', 'emildr', 'tower', 'buy', 'phone', 'provid', 'one', 'get', 'bad', 'light', 'due', 'situcion', 'pass', 'countri', 'make', 'refund', 'howev', 'notifi', 'happen', 'greet', 'hello', 'name', 'emildr', 'tower', 'buy', 'phone', 'provid', 'one', 'get', 'bad', 'light', 'due', 'situcion', 'pass', 'countri', 'make', 'refund', 'howev', 'notifi', 'happen', 'greet', 'hello', 'name', 'emildr', 'tower', 'buy', 'phone', 'provid', 'one', 'get', 'bad', 'light', 'due', 'situcion', 'pass', 'countri', 'make', 'refund', 'howev', 'notifi', 'happen', 'greet', 'hello', 'name', 'emildr', 'tower', 'buy', 'phone', 'provid', 'one', 'get', 'bad', 'light', 'due', 'situcion', 'pass', 'countri', 'make', 'refund', 'howev', 'notifi', 'happen', 'greet', 'hello', 'name', 'emildr', 'tower', 'buy', 'phone', 'provid', 'one', 'get', 'bad', 'light', 'due', 'situcion', 'pass', 'countri', 'make', 'refund', 'howev', 'notifi', 'happen', 'greet', 'hello', 'name', 'emildr', 'tower', 'buy', 'phone', 'provid', 'one', 'get', 'bad', 'light', 'due', 'situcion', 'pass', 'countri', 'make', 'refund', 'howev', 'notifi', 'happen', 'greet', 'hello', 'name', 'emildr', 'tower', 'buy', 'phone', 'provid', 'one', 'get', 'bad', 'light', 'due', 'situcion', 'pass', 'countri', 'make', 'refund', 'howev', 'notifi', 'happen', 'greet', 'hello', 'name', 'emildr', 'tower', 'buy', 'phone', 'provid', 'one', 'get', 'bad', 'light', 'due', 'situcion', 'pass', 'countri', 'make', 'refund', 'howev', 'notifi', 'happen', 'greet', 'hello', 'name', 'emildr', 'tower', 'buy', 'phone', 'provid', 'one', 'get', 'bad', 'light', 'due', 'situcion', 'pass', 'countri', 'make', 'refund', 'howev', 'notifi', 'happen', 'greet', 'hello', 'name', 'emildr', 'tower', 'buy', 'phone', 'provid', 'one', 'get', 'bad', 'light', 'due', 'situcion', 'pass', 'countri', 'make', 'refund', 'howev', 'notifi', 'happen', 'greet', 'hello', 'name', 'emildr', 'tower', 'buy', 'phone', 'provid', 'one', 'get', 'bad', 'light', 'due', 'situcion', 'pass', 'countri', 'make', 'refund', 'howev', 'notifi', 'happen', 'greet', 'hello', 'name', 'emildr', 'tower', 'buy', 'phone', 'provid', 'one', 'get', 'bad', 'light', 'due', 'situcion', 'pass', 'countri', 'make', 'refund', 'howev', 'notifi', 'happen', 'greet', 'hello', 'name', 'emildr', 'tower', 'buy', 'phone', 'provid', 'one', 'get', 'bad', 'light', 'due', 'situcion', 'pass', 'countri', 'make', 'refund', 'howev', 'notifi', 'happen', 'greet', 'hello', 'name', 'emildr', 'tower', 'buy', 'phone', 'provid', 'one', 'get', 'bad', 'light', 'due', 'situcion', 'pass', 'countri', 'make', 'refund', 'howev', 'notifi', 'happen', 'greet', 'hello', 'name', 'emildr', 'tower', 'buy', 'phone', 'provid', 'one', 'get', 'bad', 'light', 'due', 'situcion', 'pass', 'countri', 'make', 'refund', 'howev', 'notifi', 'happen', 'greet', 'hello', 'name', 'emildr', 'tower', 'buy', 'phone', 'provid', 'one', 'get', 'bad', 'light', 'due', 'situcion', 'pass', 'countri', 'make', 'refund', 'howev', 'notifi', 'happen', 'greet', 'hello', 'name', 'emildr', 'tower', 'buy', 'phone', 'provid', 'one', 'get', 'bad', 'light', 'due', 'situcion', 'pass', 'countri', 'make', 'refund', 'howev', 'notifi', 'happen', 'greet', 'hello', 'name', 'emildr', 'tower', 'buy', 'phone', 'provid', 'one', 'get', 'bad', 'light', 'due', 'situcion', 'pass', 'countri', 'make', 'refund', 'howev', 'notifi', 'happen', 'greet', 'hello', 'name', 'emildr', 'tower', 'buy', 'phone', 'provid', 'one', 'get', 'bad', 'light', 'due', 'situcion', 'pass', 'countri', 'make', 'refund', 'howev', 'notifi', 'happen', 'greet', 'hello', 'name', 'emildr', 'tower', 'buy', 'phone', 'provid', 'one', 'get', 'bad', 'light', 'due', 'situcion', 'pass', 'countri', 'make', 'refund', 'howev', 'notifi', 'happen', 'greet', 'hello', 'name', 'emildr', 'tower', 'buy', 'phone', 'provid', 'one', 'get', 'bad', 'light', 'due', 'situcion', 'pass', 'countri', 'make', 'refund', 'howev', 'notifi', 'happen', 'greet', 'hello', 'name', 'emildr', 'tower', 'buy', 'phone', 'provid', 'one', 'get', 'bad', 'light', 'due', 'situcion', 'pass', 'countri', 'make', 'refund', 'howev', 'notifi', 'happen', 'greet', 'hello', 'name', 'emildr', 'tower', 'buy', 'phone', 'provid', 'one', 'get', 'bad', 'light', 'due', 'situcion', 'pass', 'countri', 'make', 'refund', 'howev', 'notifi', 'happen', 'greet', 'hello', 'name', 'emildr', 'tower', 'buy', 'phone', 'provid', 'one', 'get', 'bad', 'light', 'due', 'situcion', 'pass', 'countri', 'make', 'refund', 'howev', 'notifi', 'happen', 'greet', 'hello', 'name', 'emildr', 'tower', 'buy', 'phone', 'provid', 'one', 'get', 'bad', 'light', 'due', 'situcion', 'pass', 'countri', 'make', 'refund', 'howev', 'notifi', 'happen', 'greet', 'hello', 'name', 'emildr', 'tower', 'buy', 'phone', 'provid', 'one', 'get', 'bad', 'light', 'due', 'situcion', 'pass', 'countri', 'make', 'refund', 'howev', 'notifi', 'happen', 'greet', 'hello', 'name', 'emildr', 'tower', 'buy', 'phone', 'provid', 'one', 'get', 'bad', 'light', 'due', 'situcion', 'pass', 'countri', 'make', 'refund', 'howev', 'notifi', 'happen', 'greet', 'hello', 'name', 'emildr', 'tower', 'buy', 'phone', 'provid', 'one', 'get', 'bad', 'light', 'due', 'situcion', 'pass', 'countri', 'make', 'refund', 'howev', 'notifi', 'happen', 'greet', 'hello', 'name', 'emildr', 'tower', 'buy', 'phone', 'provid', 'one', 'get', 'bad', 'light', 'due', 'situcion', 'pass', 'countri', 'make', 'refund', 'howev', 'notifi', 'happen', 'greet', 'hello', 'name', 'emildr', 'tower', 'buy', 'phone', 'provid', 'one', 'get', 'bad', 'light', 'due', 'situcion', 'pass', 'countri', 'make', 'refund', 'howev', 'notifi', 'happen', 'greet', 'hello', 'name', 'emildr', 'tower', 'buy', 'phone', 'provid', 'one', 'get', 'bad', 'light', 'due', 'situcion', 'pass', 'countri', 'make', 'refund', 'howev', 'notifi', 'happen', 'greet', 'hello', 'name', 'emildr', 'tower', 'buy', 'phone', 'provid', 'one', 'get', 'bad', 'light', 'due', 'situcion', 'pass', 'countri', 'make', 'refund', 'howev', 'notifi', 'happen', 'greet', 'hello', 'name', 'emildr', 'tower', 'buy', 'phone', 'provid', 'one', 'get', 'bad', 'light', 'due', 'situcion', 'pass', 'countri', 'make', 'refund', 'howev', 'notifi', 'happen', 'greet', 'hello', 'name', 'emildr', 'tower', 'buy', 'phone', 'provid', 'one', 'get', 'bad', 'light', 'due', 'situcion', 'pass', 'countri', 'make', 'refund', 'howev', 'notifi', 'happen', 'greet', 'hello', 'name', 'emildr', 'tower', 'buy', 'phone', 'provid', 'one', 'get', 'bad', 'light', 'due', 'situcion', 'pass', 'countri', 'make', 'refund', 'howev', 'notifi', 'happen', 'greet', 'hello', 'name', 'emildr', 'tower', 'buy', 'phone', 'provid', 'one', 'get', 'bad', 'light', 'due', 'situcion', 'pass', 'countri', 'make', 'refund', 'howev', 'notifi', 'happen', 'greet', 'hello', 'name', 'emildr', 'tower', 'buy', 'phone', 'provid', 'one', 'get', 'bad', 'light', 'due', 'situcion', 'pass', 'countri', 'make', 'refund', 'howev', 'notifi', 'happen', 'greet', 'hello', 'name', 'emildr', 'tower', 'buy', 'phone', 'provid', 'one', 'get', 'bad', 'light', 'due', 'situcion', 'pass', 'countri', 'make', 'refund', 'howev', 'notifi', 'happen', 'greet', 'hello', 'name', 'emildr', 'tower', 'buy', 'phone', 'provid', 'one', 'get', 'bad', 'light', 'due', 'situcion', 'pass', 'countri', 'make', 'refund', 'howev', 'notifi', 'happen', 'greet', 'hello', 'name', 'emildr', 'tower', 'buy', 'phone', 'provid', 'one', 'get', 'bad', 'light', 'due', 'situcion', 'pass', 'countri', 'make', 'refund', 'howev', 'notifi', 'happen', 'greet', 'hello', 'name', 'emildr', 'tower', 'buy', 'phone', 'provid', 'one', 'get', 'bad', 'light', 'due', 'situcion', 'pass', 'countri', 'make', 'refund', 'howev', 'notifi', 'happen', 'greet', 'hello', 'name', 'emildr', 'tower', 'buy', 'phone', 'provid', 'one', 'get', 'bad', 'light', 'due', 'situcion', 'pass', 'countri', 'make', 'refund', 'howev', 'notifi', 'happen', 'greet', 'hello', 'name', 'emildr', 'tower', 'buy', 'phone', 'provid', 'one', 'get', 'bad', 'light', 'due', 'situcion', 'pass', 'countri', 'make', 'refund', 'howev', 'notifi', 'happen', 'greet', 'hello', 'name', 'emildr', 'tower', 'buy', 'phone', 'provid', 'one', 'get', 'bad', 'light', 'due', 'situcion', 'pass', 'countri', 'make', 'refund', 'howev', 'notifi', 'happen', 'greet', 'hello', 'name', 'emildr', 'tower', 'buy', 'phone', 'provid', 'one', 'get', 'bad', 'light', 'due', 'situcion', 'pass', 'countri', 'make', 'refund', 'howev', 'notifi', 'happen', 'greet', 'hello', 'name', 'emildr', 'tower', 'buy', 'phone', 'provid', 'one', 'get', 'bad', 'light', 'due', 'situcion', 'pass', 'countri', 'make', 'refund', 'howev', 'notifi', 'happen', 'greet', 'hello', 'name', 'emildr', 'tower', 'buy', 'phone', 'provid', 'one', 'get', 'bad', 'light', 'due', 'situcion', 'pass', 'countri', 'make', 'refund', 'howev', 'notifi', 'happen', 'greet', 'hello', 'name', 'emildr', 'tower', 'buy', 'phone', 'provid', 'one', 'get', 'bad', 'light', 'due', 'situcion', 'pass', 'countri', 'make', 'refund', 'howev', 'notifi', 'happen', 'greet', 'hello', 'name', 'emildr', 'tower', 'buy', 'phone', 'provid', 'one', 'get', 'bad', 'light', 'due', 'situcion', 'pass', 'countri', 'make', 'refund', 'howev', 'notifi', 'happen', 'greet', 'hello', 'name', 'emildr', 'tower', 'buy', 'phone', 'provid', 'one', 'get', 'bad', 'light', 'due', 'situcion', 'pass', 'countri', 'make', 'refund', 'howev', 'notifi', 'happen', 'greet', 'hello', 'name', 'emildr', 'tower', 'buy', 'phone', 'provid', 'one', 'get', 'bad', 'light', 'due', 'situcion', 'pass', 'countri', 'make', 'refund', 'howev', 'notifi', 'happen', 'greet', 'hello', 'name', 'emildr', 'tower', 'buy', 'phone', 'provid', 'one', 'get', 'bad', 'light', 'due', 'situcion', 'pass', 'countri', 'make', 'refund', 'howev', 'notifi', 'happen', 'greet', 'hello', 'name', 'emildr', 'tower', 'buy', 'phone', 'provid', 'one', 'get', 'bad', 'light', 'due', 'situcion', 'pass', 'countri', 'make', 'refund', 'howev', 'notifi', 'happen', 'greet', 'hello', 'name', 'emildr', 'tower', 'buy', 'phone', 'provid', 'one', 'get', 'bad', 'light', 'due', 'situcion', 'pass', 'countri', 'make', 'refund', 'howev', 'notifi', 'happen', 'greet', 'hello', 'name', 'emildr', 'tower', 'buy', 'phone', 'provid', 'one', 'get', 'bad', 'light', 'due', 'situcion', 'pass', 'countri', 'make', 'refund', 'howev', 'notifi', 'happen', 'greet', 'hello', 'name', 'emildr', 'tower', 'buy', 'phone', 'provid', 'one', 'get', 'bad', 'light', 'due', 'situcion', 'pass', 'countri', 'make', 'refund', 'howev', 'notifi', 'happen', 'greet', 'hello', 'name', 'emildr', 'tower', 'buy', 'phone', 'provid', 'one', 'get', 'bad', 'light', 'due', 'situcion', 'pass', 'countri', 'make', 'refund', 'howev', 'notifi', 'happen', 'greet', 'hello', 'name', 'emildr', 'tower', 'buy', 'phone', 'provid', 'one', 'get', 'bad', 'light', 'due', 'situcion', 'pass', 'countri', 'make', 'refund', 'howev', 'notifi', 'happen', 'greet', 'hello', 'name', 'emildr', 'tower', 'buy', 'phone', 'provid', 'one', 'get', 'bad', 'light', 'due', 'situcion', 'pass', 'countri', 'make', 'refund', 'howev', 'notifi', 'happen', 'greet', 'hello', 'name', 'emildr', 'tower', 'buy', 'phone', 'provid', 'one', 'get', 'bad', 'light', 'due', 'situcion', 'pass', 'countri', 'make', 'refund', 'howev', 'notifi', 'happen', 'greet', 'hello', 'name', 'emildr', 'tower', 'buy', 'phone', 'provid', 'one', 'get', 'bad', 'light', 'due', 'situcion', 'pass', 'countri', 'make', 'refund', 'howev', 'notifi', 'happen', 'greet', 'hello', 'name', 'emildr', 'tower', 'buy', 'phone', 'provid', 'one', 'get', 'bad', 'light', 'due', 'situcion', 'pass', 'countri', 'make', 'refund', 'howev', 'notifi', 'happen', 'greet', 'hello', 'name', 'emildr', 'tower', 'buy', 'phone', 'provid', 'one', 'get', 'bad', 'light', 'due', 'situcion', 'pass', 'countri', 'make', 'refund', 'howev', 'notifi', 'happen', 'greet', 'hello', 'name', 'emildr', 'tower', 'buy', 'phone', 'provid', 'one', 'get', 'bad', 'light', 'due', 'situcion', 'pass', 'countri', 'make', 'refund', 'howev', 'notifi', 'happen', 'greet', 'hello', 'name', 'emildr', 'tower', 'buy', 'phone', 'provid', 'one', 'get', 'bad', 'light', 'due', 'situcion', 'pass', 'countri', 'make', 'refund', 'howev', 'notifi', 'happen', 'greet', 'hello', 'name', 'emildr', 'tower', 'buy', 'phone', 'provid', 'one', 'get', 'bad', 'light', 'due', 'situcion', 'pass', 'countri', 'make', 'refund', 'howev', 'notifi', 'happen', 'greet', 'hello', 'name', 'emildr', 'tower', 'buy', 'phone', 'provid', 'one', 'get', 'bad', 'light', 'due', 'situcion', 'pass', 'countri', 'make', 'refund', 'howev', 'notifi', 'happen', 'greet', 'hello', 'name', 'emildr', 'tower', 'buy', 'phone', 'provid', 'one', 'get', 'bad', 'light', 'due', 'situcion', 'pass', 'countri', 'make', 'refund', 'howev', 'notifi', 'happen', 'greet', 'hello', 'name', 'emildr', 'tower', 'buy', 'phone', 'provid', 'one', 'get', 'bad', 'light', 'due', 'situcion', 'pass', 'countri', 'make', 'refund', 'howev', 'notifi', 'happen', 'greet', 'hello', 'name', 'emildr', 'tower', 'buy', 'phone', 'provid', 'one', 'get', 'bad', 'light', 'due', 'situcion', 'pass', 'countri', 'make', 'refund', 'howev', 'notifi', 'happen', 'greet', 'hello', 'name', 'emildr', 'tower', 'buy', 'phone', 'provid', 'one', 'get', 'bad', 'light', 'due', 'situcion', 'pass', 'countri', 'make', 'refund', 'howev', 'notifi', 'happen', 'greet', 'hello', 'name', 'emildr', 'tower', 'buy', 'phone', 'provid', 'one', 'get', 'bad', 'light', 'due', 'situcion', 'pass', 'countri', 'make', 'refund', 'howev', 'notifi', 'happen', 'greet', 'hello', 'name', 'emildr', 'tower', 'buy', 'phone', 'provid', 'one', 'get', 'bad', 'light', 'due', 'situcion', 'pass', 'countri', 'make', 'refund', 'howev', 'notifi', 'happen', 'greet', 'hello', 'name', 'emildr', 'tower', 'buy', 'phone', 'provid', 'one', 'get', 'bad', 'light', 'due', 'situcion', 'pass', 'countri', 'make', 'refund', 'howev', 'notifi', 'happen', 'greet', 'hello', 'name', 'emildr', 'tower', 'buy', 'phone', 'provid', 'one', 'get', 'bad', 'light', 'due', 'situcion', 'pass', 'countri', 'make', 'refund', 'howev', 'notifi', 'happen', 'greet', 'hello', 'name', 'emildr', 'tower', 'buy', 'phone', 'provid', 'one', 'get', 'bad', 'light', 'due', 'situcion', 'pass', 'countri', 'make', 'refund', 'howev', 'notifi', 'happen', 'greet', 'hello', 'name', 'emildr', 'tower', 'buy', 'phone', 'provid', 'one', 'get', 'bad', 'light', 'due', 'situcion', 'pass', 'countri', 'make', 'refund', 'howev', 'notifi', 'happen', 'greet', 'hello', 'name', 'emildr', 'tower', 'buy', 'phone', 'provid', 'one', 'get', 'bad', 'light', 'due', 'situcion', 'pass', 'countri', 'make', 'refund', 'howev', 'notifi', 'happen', 'greet', 'hello', 'name', 'emildr', 'tower', 'buy', 'phone', 'provid', 'one', 'get', 'bad', 'light', 'due', 'situcion', 'pass', 'countri', 'make', 'refund', 'howev', 'notifi', 'happen', 'greet', 'hello', 'name', 'emildr', 'tower', 'buy', 'phone', 'provid', 'one', 'get', 'bad', 'light', 'due', 'situcion', 'pass', 'countri', 'make', 'refund', 'howev', 'notifi', 'happen', 'greet', 'hello', 'name', 'emildr', 'tower', 'buy', 'phone', 'provid', 'one', 'get', 'bad', 'light', 'due', 'situcion', 'pass', 'countri', 'make', 'refund', 'howev', 'notifi', 'happen', 'greet', 'hello', 'name', 'emildr', 'tower', 'buy', 'phone', 'provid', 'one', 'get', 'bad', 'light', 'due', 'situcion', 'pass', 'countri', 'make', 'refund', 'howev', 'notifi', 'happen', 'greet', 'hello', 'name', 'emildr', 'tower', 'buy', 'phone', 'provid', 'one', 'get', 'bad', 'light', 'due', 'situcion', 'pass', 'countri', 'make', 'refund', 'howev', 'notifi', 'happen', 'greet', 'hello', 'name', 'emildr', 'tower', 'buy', 'phone', 'provid', 'one', 'get', 'bad', 'light', 'due', 'situcion', 'pass', 'countri', 'make', 'refund', 'howev', 'notifi', 'happen', 'greet', 'hello', 'name', 'emildr', 'tower', 'buy', 'phone', 'provid', 'one', 'get', 'bad', 'light', 'due', 'situcion', 'pass', 'countri', 'make', 'refund', 'howev', 'notifi', 'happen', 'greet', 'hello', 'name', 'emildr', 'tower', 'buy', 'phone', 'provid', 'one', 'get', 'bad', 'light', 'due', 'situcion', 'pass', 'countri', 'make', 'refund', 'howev', 'notifi', 'happen', 'greet', 'hello', 'name', 'emildr', 'tower', 'buy', 'phone', 'provid', 'one', 'get', 'bad', 'light', 'due', 'situcion', 'pass', 'countri', 'make', 'refund', 'howev', 'notifi', 'happen', 'greet', 'hello', 'name', 'emildr', 'tower', 'buy', 'phone', 'provid', 'one', 'get', 'bad', 'light', 'due', 'situcion', 'pass', 'countri', 'make', 'refund', 'howev', 'notifi', 'happen', 'greet', 'hello', 'name', 'emildr', 'tower', 'buy', 'phone', 'provid', 'one', 'get', 'bad', 'light', 'due', 'situcion', 'pass', 'countri', 'make', 'refund', 'howev', 'notifi', 'happen', 'greet', 'hello', 'name', 'emildr', 'tower', 'buy', 'phone', 'provid', 'one', 'get', 'bad', 'light', 'due', 'situcion', 'pass', 'countri', 'make', 'refund', 'howev', 'notifi', 'happen', 'greet', 'hello', 'name', 'emildr', 'tower', 'buy', 'phone', 'provid', 'one', 'get', 'bad', 'light', 'due', 'situcion', 'pass', 'countri', 'make', 'refund', 'howev', 'notifi', 'happen', 'greet', 'hello', 'name', 'emildr', 'tower', 'buy', 'phone', 'provid', 'one', 'get', 'bad', 'light', 'due', 'situcion', 'pass', 'countri', 'make', 'refund', 'howev', 'notifi', 'happen', 'greet', 'hello', 'name', 'emildr', 'tower', 'buy', 'phone', 'provid', 'one', 'get', 'bad', 'light', 'due', 'situcion', 'pass', 'countri', 'make', 'refund', 'howev', 'notifi', 'happen', 'greet', 'hello', 'name', 'emildr', 'tower', 'buy', 'phone', 'provid', 'one', 'get', 'bad', 'light', 'due', 'situcion', 'pass', 'countri', 'make', 'refund', 'howev', 'notifi', 'happen', 'greet', 'hello', 'name', 'emildr', 'tower', 'buy', 'phone', 'provid', 'one', 'get', 'bad', 'light', 'due', 'situcion', 'pass', 'countri', 'make', 'refund', 'howev', 'notifi', 'happen', 'greet', 'hello', 'name', 'emildr', 'tower', 'buy', 'phone', 'provid', 'one', 'get', 'bad', 'light', 'due', 'situcion', 'pass', 'countri', 'make', 'refund', 'howev', 'notifi', 'happen', 'greet', 'hello', 'name', 'emildr', 'tower', 'buy', 'phone', 'provid', 'one', 'get', 'bad', 'light', 'due', 'situcion', 'pass', 'countri', 'make', 'refund', 'howev', 'notifi', 'happen', 'greet', 'hello', 'name', 'emildr', 'tower', 'buy', 'phone', 'provid', 'one', 'get', 'bad', 'light', 'due', 'situcion', 'pass', 'countri', 'make', 'refund', 'howev', 'notifi', 'happen', 'greet', 'hello', 'name', 'emildr', 'tower', 'buy', 'phone', 'provid', 'one', 'get', 'bad', 'light', 'due', 'situcion', 'pass', 'countri', 'make', 'refund', 'howev', 'notifi', 'happen', 'greet', 'hello', 'name', 'emildr', 'tower', 'buy', 'phone', 'provid', 'one', 'get', 'bad', 'light', 'due', 'situcion', 'pass', 'countri', 'make', 'refund', 'howev', 'notifi', 'happen', 'greet', 'hello', 'name', 'emildr', 'tower', 'buy', 'phone', 'provid', 'one', 'get', 'bad', 'light', 'due', 'situcion', 'pass', 'countri', 'make', 'refund', 'howev', 'notifi', 'happen', 'greet', 'hello', 'name', 'emildr', 'tower', 'buy', 'phone', 'provid', 'one', 'get', 'bad', 'light', 'due', 'situcion', 'pass', 'countri', 'make', 'refund', 'howev', 'notifi', 'happen', 'greet', 'hello', 'name', 'emildr', 'tower', 'buy', 'phone', 'provid', 'one', 'get', 'bad', 'light', 'due', 'situcion', 'pass', 'countri', 'make', 'refund', 'howev', 'notifi', 'happen', 'greet', 'hello', 'name', 'emildr', 'tower', 'buy', 'phone', 'provid', 'one', 'get', 'bad', 'light', 'due', 'situcion', 'pass', 'countri', 'make', 'refund', 'howev', 'notifi', 'happen', 'greet', 'hello', 'name', 'emildr', 'tower', 'buy', 'phone', 'provid', 'one', 'get', 'bad', 'light', 'due', 'situcion', 'pass', 'countri', 'make', 'refund', 'howev', 'notifi', 'happen', 'greet', 'hello', 'name', 'emildr', 'tower', 'buy', 'phone', 'provid', 'one', 'get', 'bad', 'light', 'due', 'situcion', 'pass', 'countri', 'make', 'refund', 'howev', 'notifi', 'happen', 'greet', 'hello', 'name', 'emildr', 'tower', 'buy', 'phone', 'provid', 'one', 'get', 'bad', 'light', 'due', 'situcion', 'pass', 'countri', 'make', 'refund', 'howev', 'notifi', 'happen', 'greet', 'hello', 'name', 'emildr', 'tower', 'buy', 'phone', 'provid', 'one', 'get', 'bad', 'light', 'due', 'situcion', 'pass', 'countri', 'make', 'refund', 'howev', 'notifi', 'happen', 'greet', 'hello', 'name', 'emildr', 'tower', 'buy', 'phone', 'provid', 'one', 'get', 'bad', 'light', 'due', 'situcion', 'pass', 'countri', 'make', 'refund', 'howev', 'notifi', 'happen', 'greet', 'hello', 'name', 'emildr', 'tower', 'buy', 'phone', 'provid', 'one', 'get', 'bad', 'light', 'due', 'situcion', 'pass', 'countri', 'make', 'refund', 'howev', 'notifi', 'happen', 'greet', 'hello', 'name', 'emildr', 'tower', 'buy', 'phone', 'provid', 'one', 'get', 'bad', 'light', 'due', 'situcion', 'pass', 'countri', 'make', 'refund', 'howev', 'notifi', 'happen', 'greet', 'hello', 'name', 'emildr', 'tower', 'buy', 'phone', 'provid', 'one', 'get', 'bad', 'light', 'due', 'situcion', 'pass', 'countri', 'make', 'refund', 'howev', 'notifi', 'happen', 'greet', 'hello', 'name', 'emildr', 'tower', 'buy', 'phone', 'provid', 'one', 'get', 'bad', 'light', 'due', 'situcion', 'pass', 'countri', 'make', 'refund', 'howev', 'notifi', 'happen', 'greet', 'hello', 'name', 'emildr', 'tower', 'buy', 'phone', 'provid', 'one', 'get', 'bad', 'light', 'due', 'situcion', 'pass', 'countri', 'make', 'refund', 'howev', 'notifi', 'happen', 'greet', 'hello', 'name', 'emildr', 'tower', 'buy', 'phone', 'provid', 'one', 'get', 'bad', 'light', 'due', 'situcion', 'pass', 'countri', 'make', 'refund', 'howev', 'notifi', 'happen', 'greet', 'hello', 'name', 'emildr', 'tower', 'buy', 'phone', 'provid', 'one', 'get', 'bad', 'light', 'due', 'situcion', 'pass', 'countri', 'make', 'refund', 'howev', 'notifi', 'happen', 'greet', 'hello', 'name', 'emildr', 'tower', 'buy', 'phone', 'provid', 'one', 'get', 'bad', 'light', 'due', 'situcion', 'pass', 'countri', 'make', 'refund', 'howev', 'notifi', 'happen', 'greet', 'hello', 'name', 'emildr', 'tower', 'buy', 'phone', 'provid', 'one', 'get', 'bad', 'light', 'due', 'situcion', 'pass', 'countri', 'make', 'refund', 'howev', 'notifi', 'happen', 'greet', 'hello', 'name', 'emildr', 'tower', 'buy', 'phone', 'provid', 'one', 'get', 'bad', 'light', 'due', 'situcion', 'pass', 'countri', 'make', 'refund', 'howev', 'notifi', 'happen', 'greet', 'hello', 'name', 'emildr', 'tower', 'buy', 'phone', 'provid', 'one', 'get', 'bad', 'light', 'due', 'situcion', 'pass', 'countri', 'make', 'refund', 'howev', 'notifi', 'happen', 'greet', 'hello', 'name', 'emildr', 'tower', 'buy', 'phone', 'provid', 'one', 'get', 'bad', 'light', 'due', 'situcion', 'pass', 'countri', 'make', 'refund', 'howev', 'notifi', 'happen', 'greet', 'hello', 'name', 'emildr', 'tower', 'buy', 'phone', 'provid', 'one', 'get', 'bad', 'light', 'due', 'situcion', 'pass', 'countri', 'make', 'refund', 'howev', 'notifi', 'happen', 'greet', 'hello', 'name', 'emildr', 'tower', 'buy', 'phone', 'provid', 'one', 'get', 'bad', 'light', 'due', 'situcion', 'pass', 'countri', 'make', 'refund', 'howev', 'notifi', 'happen', 'greet', 'hello', 'name', 'emildr', 'tower', 'buy', 'phone', 'provid', 'one', 'get', 'bad', 'light', 'due', 'situcion', 'pass', 'countri', 'make', 'refund', 'howev', 'notifi', 'happen', 'greet', 'hello', 'name', 'emildr', 'tower', 'buy', 'phone', 'provid', 'one', 'get', 'bad', 'light', 'due', 'situcion', 'pass', 'countri', 'make', 'refund', 'howev', 'notifi', 'happen', 'greet', 'hello', 'name', 'emildr', 'tower', 'buy', 'phone', 'provid', 'one', 'get', 'bad', 'light', 'due', 'situcion', 'pass', 'countri', 'make', 'refund', 'howev', 'notifi', 'happen', 'greet', 'hello', 'name', 'emildr', 'tower', 'buy', 'phone', 'provid', 'one', 'get', 'bad', 'light', 'due', 'situcion', 'pass', 'countri', 'make', 'refund', 'howev', 'notifi', 'happen', 'greet', 'hello', 'name', 'emildr', 'tower', 'buy', 'phone', 'provid', 'one', 'get', 'bad', 'light', 'due', 'situcion', 'pass', 'countri', 'make', 'refund', 'howev', 'notifi', 'happen', 'greet', 'hello', 'name', 'emildr', 'tower', 'buy', 'phone', 'provid', 'one', 'get', 'bad', 'light', 'due', 'situcion', 'pass', 'countri', 'make', 'refund', 'howev', 'notifi', 'happen', 'greet', 'hello', 'name', 'emildr', 'tower', 'buy', 'phone', 'provid', 'one', 'get', 'bad', 'light', 'due', 'situcion', 'pass', 'countri', 'make', 'refund', 'howev', 'notifi', 'happen', 'greet', 'hello', 'name', 'emildr', 'tower', 'buy', 'phone', 'provid', 'one', 'get', 'bad', 'light', 'due', 'situcion', 'pass', 'countri', 'make', 'refund', 'howev', 'notifi', 'happen', 'greet', 'hello', 'name', 'emildr', 'tower', 'buy', 'phone', 'provid', 'one', 'get', 'bad', 'light', 'due', 'situcion', 'pass', 'countri', 'make', 'refund', 'howev', 'notifi', 'happen', 'greet', 'hello', 'name', 'emildr', 'tower', 'buy', 'phone', 'provid', 'one', 'get', 'bad', 'light', 'due', 'situcion', 'pass', 'countri', 'make', 'refund', 'howev', 'notifi', 'happen', 'greet', 'hello', 'name', 'emildr', 'tower', 'buy', 'phone', 'provid', 'one', 'get', 'bad', 'light', 'due', 'situcion', 'pass', 'countri', 'make', 'refund', 'howev', 'notifi', 'happen', 'greet', 'hello', 'name', 'emildr', 'tower', 'buy', 'phone', 'provid', 'one', 'get', 'bad', 'light', 'due', 'situcion', 'pass', 'countri', 'make', 'refund', 'howev', 'notifi', 'happen', 'greet', 'hello', 'name', 'emildr', 'tower', 'buy', 'phone', 'provid', 'one', 'get', 'bad', 'light', 'due', 'situcion', 'pass', 'countri', 'make', 'refund', 'howev', 'notifi', 'happen', 'greet', 'hello', 'name', 'emildr', 'tower', 'buy', 'phone', 'provid', 'one', 'get', 'bad', 'light', 'due', 'situcion', 'pass', 'countri', 'make', 'refund', 'howev', 'notifi', 'happen', 'greet', 'hello', 'name', 'emildr', 'tower', 'buy', 'phone', 'provid', 'one', 'get', 'bad', 'light', 'due', 'situcion', 'pass', 'countri', 'make', 'refund', 'howev', 'notifi', 'happen', 'greet', 'hello', 'name', 'emildr', 'tower', 'buy', 'phone', 'provid', 'one', 'get', 'bad', 'light', 'due', 'situcion', 'pass', 'countri', 'make', 'refund', 'howev', 'notifi', 'happen', 'greet', 'hello', 'name', 'emildr', 'tower', 'buy', 'phone', 'provid', 'one', 'get', 'bad', 'light', 'due', 'situcion', 'pass', 'countri', 'make', 'refund', 'howev', 'notifi', 'happen', 'greet', 'hello', 'name', 'emildr', 'tower', 'buy', 'phone', 'provid', 'one', 'get', 'bad', 'light', 'due', 'situcion', 'pass', 'countri', 'make', 'refund', 'howev', 'notifi', 'happen', 'greet', 'hello', 'name', 'emildr', 'tower', 'buy', 'phone', 'provid', 'one', 'get', 'bad', 'light', 'due', 'situcion', 'pass', 'countri', 'make', 'refund', 'howev', 'notifi', 'happen', 'greet', 'hello', 'name', 'emildr', 'tower', 'buy', 'phone', 'provid', 'one', 'get', 'bad', 'light', 'due', 'situcion', 'pass', 'countri', 'make', 'refund', 'howev', 'notifi', 'happen', 'greet', 'hello', 'name', 'emildr', 'tower', 'buy', 'phone', 'provid', 'one', 'get', 'bad', 'light', 'due', 'situcion', 'pass', 'countri', 'make', 'refund', 'howev', 'notifi', 'happen', 'greet', 'hello', 'name', 'emildr', 'tower', 'buy', 'phone', 'provid', 'one', 'get', 'bad', 'light', 'due', 'situcion', 'pass', 'countri', 'make', 'refund', 'howev', 'notifi', 'happen', 'greet', 'hello', 'name', 'emildr', 'tower', 'buy', 'phone', 'provid', 'one', 'get', 'bad', 'light', 'due', 'situcion', 'pass', 'countri', 'make', 'refund', 'howev', 'notifi', 'happen', 'greet', 'hello', 'name', 'emildr', 'tower', 'buy', 'phone', 'provid', 'one', 'get', 'bad', 'light', 'due', 'situcion', 'pass', 'countri', 'make', 'refund', 'howev', 'notifi', 'happen', 'greet', 'hello', 'name', 'emildr', 'tower', 'buy', 'phone', 'provid', 'one', 'get', 'bad', 'light', 'due', 'situcion', 'pass', 'countri', 'make', 'refund', 'howev', 'notifi', 'happen', 'greet', 'hello', 'name', 'emildr', 'tower', 'buy', 'phone', 'provid', 'one', 'get', 'bad', 'light', 'due', 'situcion', 'pass', 'countri', 'make', 'refund', 'howev', 'notifi', 'happen', 'greet', 'hello', 'name', 'emildr', 'tower', 'buy', 'phone', 'provid', 'one', 'get', 'bad', 'light', 'due', 'situcion', 'pass', 'countri', 'make', 'refund', 'howev', 'notifi', 'happen', 'greet', 'hello', 'name', 'emildr', 'tower', 'buy', 'phone', 'provid', 'one', 'get', 'bad', 'light', 'due', 'situcion', 'pass', 'countri', 'make', 'refund', 'howev', 'notifi', 'happen', 'greet', 'hello', 'name', 'emildr', 'tower', 'buy', 'phone', 'provid', 'one', 'get', 'bad', 'light', 'due', 'situcion', 'pass', 'countri', 'make', 'refund', 'howev', 'notifi', 'happen', 'greet', 'hello', 'name', 'emildr', 'tower', 'buy', 'phone', 'provid', 'one', 'get', 'bad', 'light', 'due', 'situcion', 'pass', 'countri', 'make', 'refund', 'howev', 'notifi', 'happen', 'greet', 'hello', 'name', 'emildr', 'tower', 'buy', 'phone', 'provid', 'one', 'get', 'bad', 'light', 'due', 'situcion', 'pass', 'countri', 'make', 'refund', 'howev', 'notifi', 'happen', 'greet', 'hello', 'name', 'emildr', 'tower', 'buy', 'phone', 'provid', 'one', 'get', 'bad', 'light', 'due', 'situcion', 'pass', 'countri', 'make', 'refund', 'howev', 'notifi', 'happen', 'greet', 'hello', 'name', 'emildr', 'tower', 'buy', 'phone', 'provid', 'one', 'get', 'bad', 'light', 'due', 'situcion', 'pass', 'countri', 'make', 'refund', 'howev', 'notifi', 'happen', 'greet', 'hello', 'name', 'emildr', 'tower', 'buy', 'phone', 'provid', 'one', 'get', 'bad', 'light', 'due', 'situcion', 'pass', 'countri', 'make', 'refund', 'howev', 'notifi', 'happen', 'greet', 'hello', 'name', 'emildr', 'tower', 'buy', 'phone', 'provid', 'one', 'get', 'bad', 'light', 'due', 'situcion', 'pass', 'countri', 'make', 'refund', 'howev', 'notifi', 'happen', 'greet', 'hello', 'name', 'emildr', 'tower', 'buy', 'phone', 'provid', 'one', 'get', 'bad', 'light', 'due', 'situcion', 'pass', 'countri', 'make', 'refund', 'howev', 'notifi', 'happen', 'greet', 'hello', 'name', 'emildr', 'tower', 'buy', 'phone', 'provid', 'one', 'get', 'bad', 'light', 'due', 'situcion', 'pass', 'countri', 'make', 'refund', 'howev', 'notifi', 'happen', 'greet', 'hello', 'name', 'emildr', 'tower', 'buy', 'phone', 'provid', 'one', 'get', 'bad', 'light', 'due', 'situcion', 'pass', 'countri', 'make', 'refund', 'howev', 'notifi', 'happen', 'greet', 'hello', 'name', 'emildr', 'tower', 'buy', 'phone', 'provid', 'one', 'get', 'bad', 'light', 'due', 'situcion', 'pass', 'countri', 'make', 'refund', 'howev', 'notifi', 'happen', 'greet', 'hello', 'name', 'emildr', 'tower', 'buy', 'phone', 'provid', 'one', 'get', 'bad', 'light', 'due', 'situcion', 'pass', 'countri', 'make', 'refund', 'howev', 'notifi', 'happen', 'greet', 'hello', 'name', 'emildr', 'tower', 'buy', 'phone', 'provid', 'one', 'get', 'bad', 'light', 'due', 'situcion', 'pass', 'countri', 'make', 'refund', 'howev', 'notifi', 'happen', 'greet', 'hello', 'name', 'emildr', 'tower', 'buy', 'phone', 'provid', 'one', 'get', 'bad', 'light', 'due', 'situcion', 'pass', 'countri', 'make', 'refund', 'howev', 'notifi', 'happen', 'greet', 'hello', 'name', 'emildr', 'tower', 'buy', 'phone', 'provid', 'one', 'get', 'bad', 'light', 'due', 'situcion', 'pass', 'countri', 'make', 'refund', 'howev', 'notifi', 'happen', 'greet', 'hello', 'name', 'emildr', 'tower', 'buy', 'phone', 'provid', 'one', 'get', 'bad', 'light', 'due', 'situcion', 'pass', 'countri', 'make', 'refund', 'howev', 'notifi', 'happen', 'greet', 'hello', 'name', 'emildr', 'tower', 'buy', 'phone', 'provid', 'one', 'get', 'bad', 'light', 'due', 'situcion', 'pass', 'countri', 'make', 'refund', 'howev', 'notifi', 'happen', 'greet', 'hello', 'name', 'emildr', 'tower', 'buy', 'phone', 'provid', 'one', 'get', 'bad', 'light', 'due', 'situcion', 'pass', 'countri', 'make', 'refund', 'howev', 'notifi', 'happen', 'greet', 'hello', 'name', 'emildr', 'tower', 'buy', 'phone', 'provid', 'one', 'get', 'bad', 'light', 'due', 'situcion', 'pass', 'countri', 'make', 'refund', 'howev', 'notifi', 'happen', 'greet', 'hello', 'name', 'emildr', 'tower', 'buy', 'phone', 'provid', 'one', 'get', 'bad', 'light', 'due', 'situcion', 'pass', 'countri', 'make', 'refund', 'howev', 'notifi', 'happen', 'greet', 'hello', 'name', 'emildr', 'tower', 'buy', 'phone', 'provid', 'one', 'get', 'bad', 'light', 'due', 'situcion', 'pass', 'countri', 'make', 'refund', 'howev', 'notifi', 'happen', 'greet', 'hello', 'name', 'emildr', 'tower', 'buy', 'phone', 'provid', 'one', 'get', 'bad', 'light', 'due', 'situcion', 'pass', 'countri', 'make', 'refund', 'howev', 'notifi', 'happen', 'greet', 'hello', 'name', 'emildr', 'tower', 'buy', 'phone', 'provid', 'one', 'get', 'bad', 'light', 'due', 'situcion', 'pass', 'countri', 'make', 'refund', 'howev', 'notifi', 'happen', 'greet', 'hello', 'name', 'emildr', 'tower', 'buy', 'phone', 'provid', 'one', 'get', 'bad', 'light', 'due', 'situcion', 'pass', 'countri', 'make', 'refund', 'howev', 'notifi', 'happen', 'greet', 'hello', 'name', 'emildr', 'tower', 'buy', 'phone', 'provid', 'one', 'get', 'bad', 'light', 'due', 'situcion', 'pass', 'countri', 'make', 'refund', 'howev', 'notifi', 'happen', 'greet', 'hello', 'name', 'emildr', 'tower', 'buy', 'phone', 'provid', 'one', 'get', 'bad', 'light', 'due', 'situcion', 'pass', 'countri', 'make', 'refund', 'howev', 'notifi', 'happen', 'greet', 'hello', 'name', 'emildr', 'tower', 'buy', 'phone', 'provid', 'one', 'get', 'bad', 'light', 'due', 'situcion', 'pass', 'countri', 'make', 'refund', 'howev', 'notifi', 'happen', 'greet', 'hello', 'name', 'emildr', 'tower', 'buy', 'phone', 'provid', 'one', 'get', 'bad', 'light', 'due', 'situcion', 'pass', 'countri', 'make', 'refund', 'howev', 'notifi', 'happen', 'greet', 'hello', 'name', 'emildr', 'tower', 'buy', 'phone', 'provid', 'one', 'get', 'bad', 'light', 'due', 'situcion', 'pass', 'countri', 'make', 'refund', 'howev', 'notifi', 'happen', 'greet', 'hello', 'name', 'emildr', 'tower', 'buy', 'phone', 'provid', 'one', 'get', 'bad', 'light', 'due', 'situcion', 'pass', 'countri', 'make', 'refund', 'howev', 'notifi', 'happen', 'greet', 'hello', 'name', 'emildr', 'tower', 'buy', 'phone', 'provid', 'one', 'get', 'bad', 'light', 'due', 'situcion', 'pass', 'countri', 'make', 'refund', 'howev', 'notifi', 'happen', 'greet', 'hello', 'name', 'emildr', 'tower', 'buy', 'phone', 'provid', 'one', 'get', 'bad', 'light', 'due', 'situcion', 'pass', 'countri', 'make', 'refund', 'howev', 'notifi', 'happen', 'greet', 'hello', 'name', 'emildr', 'tower', 'buy', 'phone', 'provid', 'one', 'get', 'bad', 'light', 'due', 'situcion', 'pass', 'countri', 'make', 'refund', 'howev', 'notifi', 'happen', 'greet', 'hello', 'name', 'emildr', 'tower', 'buy', 'phone', 'provid', 'one', 'get', 'bad', 'light', 'due', 'situcion', 'pass', 'countri', 'make', 'refund', 'howev', 'notifi', 'happen', 'greet', 'hello', 'name', 'emildr', 'tower', 'buy', 'phone', 'provid', 'one', 'get', 'bad', 'light', 'due', 'situcion', 'pass', 'countri', 'make', 'refund', 'howev', 'notifi', 'happen', 'greet', 'hello', 'name', 'emildr', 'tower', 'buy', 'phone', 'provid', 'one', 'get', 'bad', 'light', 'due', 'situcion', 'pass', 'countri', 'make', 'refund', 'howev', 'notifi', 'happen', 'greet', 'hello', 'name', 'emildr', 'tower', 'buy', 'phone', 'provid', 'one', 'get', 'bad', 'light', 'due', 'situcion', 'pass', 'countri', 'make', 'refund', 'howev', 'notifi', 'happen', 'greet', 'hello', 'name', 'emildr', 'tower', 'buy', 'phone', 'provid', 'one', 'get', 'bad', 'light', 'due', 'situcion', 'pass', 'countri', 'make', 'refund', 'howev', 'notifi', 'happen', 'greet', 'hello', 'name', 'emildr', 'tower', 'buy', 'phone', 'provid', 'one', 'get', 'bad', 'light', 'due', 'situcion', 'pass', 'countri', 'make', 'refund', 'howev', 'notifi', 'happen', 'greet', 'hello', 'name', 'emildr', 'tower', 'buy', 'phone', 'provid', 'one', 'get', 'bad', 'light', 'due', 'situcion', 'pass', 'countri', 'make', 'refund', 'howev', 'notifi', 'happen', 'greet', 'hello', 'name', 'emildr', 'tower', 'buy', 'phone', 'provid', 'one', 'get', 'bad', 'light', 'due', 'situcion', 'pass', 'countri', 'make', 'refund', 'howev', 'notifi', 'happen', 'greet', 'hello', 'name', 'emildr', 'tower', 'buy', 'phone', 'provid', 'one', 'get', 'bad', 'light', 'due', 'situcion', 'pass', 'countri', 'make', 'refund', 'howev', 'notifi', 'happen', 'greet', 'hello', 'name', 'emildr', 'tower', 'buy', 'phone', 'provid', 'one', 'get', 'bad', 'light', 'due', 'situcion', 'pass', 'countri', 'make', 'refund', 'howev', 'notifi', 'happen', 'greet', 'hello', 'name', 'emildr', 'tower', 'buy', 'phone', 'provid', 'one', 'get', 'bad', 'light', 'due', 'situcion', 'pass', 'countri', 'make', 'refund', 'howev', 'notifi', 'happen', 'greet', 'hello', 'name', 'emildr', 'tower', 'buy', 'phone', 'provid', 'one', 'get', 'bad', 'light', 'due', 'situcion', 'pass', 'countri', 'make', 'refund', 'howev', 'notifi', 'happen', 'greet', 'hello', 'name', 'emildr', 'tower', 'buy', 'phone', 'provid', 'one', 'get', 'bad', 'light', 'due', 'situcion', 'pass', 'countri', 'make', 'refund', 'howev', 'notifi', 'happen', 'greet', 'hello', 'name', 'emildr', 'tower', 'buy', 'phone', 'provid', 'one', 'get', 'bad', 'light', 'due', 'situcion', 'pass', 'countri', 'make', 'refund', 'howev', 'notifi', 'happen', 'greet', 'hello', 'name', 'emildr', 'tower', 'buy', 'phone', 'provid', 'one', 'get', 'bad', 'light', 'due', 'situcion', 'pass', 'countri', 'make', 'refund', 'howev', 'notifi', 'happen', 'greet', 'hello', 'name', 'emildr', 'tower', 'buy', 'phone', 'provid', 'one', 'get', 'bad', 'light', 'due', 'situcion', 'pass', 'countri', 'make', 'refund', 'howev', 'notifi', 'happen', 'greet', 'hello', 'name', 'emildr', 'tower', 'buy', 'phone', 'provid', 'one', 'get', 'bad', 'light', 'due', 'situcion', 'pass', 'countri', 'make', 'refund', 'howev', 'notifi', 'happen', 'greet', 'hello', 'name', 'emildr', 'tower', 'buy', 'phone', 'provid', 'one', 'get', 'bad', 'light', 'due', 'situcion', 'pass', 'countri', 'make', 'refund', 'howev', 'notifi', 'happen', 'greet', 'hello', 'name', 'emildr', 'tower', 'buy', 'phone', 'provid', 'one', 'get', 'bad', 'light', 'due', 'situcion', 'pass', 'countri', 'make', 'refund', 'howev', 'notifi', 'happen', 'greet', 'hello', 'name', 'emildr', 'tower', 'buy', 'phone', 'provid', 'one', 'get', 'bad', 'light', 'due', 'situcion', 'pass', 'countri', 'make', 'refund', 'howev', 'notifi', 'happen', 'greet', 'hello', 'name', 'emildr', 'tower', 'buy', 'phone', 'provid', 'one', 'get', 'bad', 'light', 'due', 'situcion', 'pass', 'countri', 'make', 'refund', 'howev', 'notifi', 'happen', 'greet', 'hello', 'name', 'emildr', 'tower', 'buy', 'phone', 'provid', 'one', 'get', 'bad', 'light', 'due', 'situcion', 'pass', 'countri', 'make', 'refund', 'howev', 'notifi', 'happen', 'greet', 'hello', 'name', 'emildr', 'tower', 'buy', 'phone', 'provid', 'one', 'get', 'bad', 'light', 'due', 'situcion', 'pass', 'countri', 'make', 'refund', 'howev', 'notifi', 'happen', 'greet', 'hello', 'name', 'emildr', 'tower', 'buy', 'phone', 'provid', 'one', 'get', 'bad', 'light', 'due', 'situcion', 'pass', 'countri', 'make', 'refund', 'howev', 'notifi', 'happen', 'greet', 'hello', 'name', 'emildr', 'tower', 'buy', 'phone', 'provid', 'one', 'get', 'bad', 'light', 'due', 'situcion', 'pass', 'countri', 'make', 'refund', 'howev', 'notifi', 'happen', 'greet', 'hello', 'name', 'emildr', 'tower', 'buy', 'phone', 'provid', 'one', 'get', 'bad', 'light', 'due', 'situcion', 'pass', 'countri', 'make', 'refund', 'howev', 'notifi', 'happen', 'greet', 'hello', 'name', 'emildr', 'tower', 'buy', 'phone', 'provid', 'one', 'get', 'bad', 'light', 'due', 'situcion', 'pass', 'countri', 'make', 'refund', 'howev', 'notifi', 'happen', 'greet', 'hello', 'name', 'emildr', 'tower', 'buy', 'phone', 'provid', 'one', 'get', 'bad', 'light', 'due', 'situcion', 'pass', 'countri', 'make', 'refund', 'howev', 'notifi', 'happen', 'greet', 'hello', 'name', 'emildr', 'tower', 'buy', 'phone', 'provid', 'one', 'get', 'bad', 'light', 'due', 'situcion', 'pass', 'countri', 'make', 'refund', 'howev', 'notifi', 'happen', 'greet', 'hello', 'name', 'emildr', 'tower', 'buy', 'phone', 'provid', 'one', 'get', 'bad', 'light', 'due', 'situcion', 'pass', 'countri', 'make', 'refund', 'howev', 'notifi', 'happen', 'greet', 'hello', 'name', 'emildr', 'tower', 'buy', 'phone', 'provid', 'one', 'get', 'bad', 'light', 'due', 'situcion', 'pass', 'countri', 'make', 'refund', 'howev', 'notifi', 'happen', 'greet', 'hello', 'name', 'emildr', 'tower', 'buy', 'phone', 'provid', 'one', 'get', 'bad', 'light', 'due', 'situcion', 'pass', 'countri', 'make', 'refund', 'howev', 'notifi', 'happen', 'greet', 'hello', 'name', 'emildr', 'tower', 'buy', 'phone', 'provid', 'one', 'get', 'bad', 'light', 'due', 'situcion', 'pass', 'countri', 'make', 'refund', 'howev', 'notifi', 'happen', 'greet', 'hello', 'name', 'emildr', 'tower', 'buy', 'phone', 'provid', 'one', 'get', 'bad', 'light', 'due', 'situcion', 'pass', 'countri', 'make', 'refund', 'howev', 'notifi', 'happen', 'greet', 'hello', 'name', 'emildr', 'tower', 'buy', 'phone', 'provid', 'one', 'get', 'bad', 'light', 'due', 'situcion', 'pass', 'countri', 'make', 'refund', 'howev', 'notifi', 'happen', 'greet', 'hello', 'name', 'emildr', 'tower', 'buy', 'phone', 'provid', 'one', 'get', 'bad', 'light', 'due', 'situcion', 'pass', 'countri', 'make', 'refund', 'howev', 'notifi', 'happen', 'greet', 'hello', 'name', 'emildr', 'tower', 'buy', 'phone', 'provid', 'one', 'get', 'bad', 'light', 'due', 'situcion', 'pass', 'countri', 'make', 'refund', 'howev', 'notifi', 'happen', 'greet', 'hello', 'name', 'emildr', 'tower', 'buy', 'phone', 'provid', 'one', 'get', 'bad', 'light', 'due', 'situcion', 'pass', 'countri', 'make', 'refund', 'howev', 'notifi', 'happen', 'greet', 'hello', 'name', 'emildr', 'tower', 'buy', 'phone', 'provid', 'one', 'get', 'bad', 'light', 'due', 'situcion', 'pass', 'countri', 'make', 'refund', 'howev', 'notifi', 'happen', 'greet', 'hello', 'name', 'emildr', 'tower', 'buy', 'phone', 'provid', 'one', 'get', 'bad', 'light', 'due', 'situcion', 'pass', 'countri', 'make', 'refund', 'howev', 'notifi', 'happen', 'greet', 'hello', 'name', 'emildr', 'tower', 'buy', 'phone', 'provid', 'one', 'get', 'bad', 'light', 'due', 'situcion', 'pass', 'countri', 'make', 'refund', 'howev', 'notifi', 'happen', 'greet', 'hello', 'name', 'emildr', 'tower', 'buy', 'phone', 'provid', 'one', 'get', 'bad', 'light', 'due', 'situcion', 'pass', 'countri', 'make', 'refund', 'howev', 'notifi', 'happen', 'greet', 'hello', 'name', 'emildr', 'tower', 'buy', 'phone', 'provid', 'one', 'get', 'bad', 'light', 'due', 'situcion', 'pass', 'countri', 'make', 'refund', 'howev', 'notifi', 'happen', 'greet', 'hello', 'name', 'emildr', 'tower', 'buy', 'phone', 'provid', 'one', 'get', 'bad', 'light', 'due', 'situcion', 'pass', 'countri', 'make', 'refund', 'howev', 'notifi', 'happen', 'greet', 'hello', 'name', 'emildr', 'tower', 'buy', 'phone', 'provid', 'one', 'get', 'bad', 'light', 'due', 'situcion', 'pass', 'countri', 'make', 'refund', 'howev', 'notifi', 'happen', 'greet', 'hello', 'name', 'emildr', 'tower', 'buy', 'phone', 'provid', 'one', 'get', 'bad', 'light', 'due', 'situcion', 'pass', 'countri', 'make', 'refund', 'howev', 'notifi', 'happen', 'greet', 'hello', 'name', 'emildr', 'tower', 'buy', 'phone', 'provid', 'one', 'get', 'bad', 'light', 'due', 'situcion', 'pass', 'countri', 'make', 'refund', 'howev', 'notifi', 'happen', 'greet', 'hello', 'name', 'emildr', 'tower', 'buy', 'phone', 'provid', 'one', 'get', 'bad', 'light', 'due', 'situcion', 'pass', 'countri', 'make', 'refund', 'howev', 'notifi', 'happen', 'greet', 'hello', 'name', 'emildr', 'tower', 'buy', 'phone', 'provid', 'one', 'get', 'bad', 'light', 'due', 'situcion', 'pass', 'countri', 'make', 'refund', 'howev', 'notifi', 'happen', 'greet', 'hello', 'name', 'emildr', 'tower', 'buy', 'phone', 'provid', 'one', 'get', 'bad', 'light', 'due', 'situcion', 'pass', 'countri', 'make', 'refund', 'howev', 'notifi', 'happen', 'greet', 'hello', 'name', 'emildr', 'tower', 'buy', 'phone', 'provid', 'one', 'get', 'bad', 'light', 'due', 'situcion', 'pass', 'countri', 'make', 'refund', 'howev', 'notifi', 'happen', 'greet', 'hello', 'name', 'emildr', 'tower', 'buy', 'phone', 'provid', 'one', 'get', 'bad', 'light', 'due', 'situcion', 'pass', 'countri', 'make', 'refund', 'howev', 'notifi', 'happen', 'greet', 'hello', 'name', 'emildr', 'tower', 'buy', 'phone', 'provid', 'one', 'get', 'bad', 'light', 'due', 'situcion', 'pass', 'countri', 'make', 'refund', 'howev', 'notifi', 'happen', 'greet', 'hello', 'name', 'emildr', 'tower', 'buy', 'phone', 'provid', 'one', 'get', 'bad', 'light', 'due', 'situcion', 'pass', 'countri', 'make', 'refund', 'howev', 'notifi', 'happen', 'greet', 'hello', 'name', 'emildr', 'tower', 'buy', 'phone', 'provid', 'one', 'get', 'bad', 'light', 'due', 'situcion', 'pass', 'countri', 'make', 'refund', 'howev', 'notifi', 'happen', 'greet', 'hello', 'name', 'emildr', 'tower', 'buy', 'phone', 'provid', 'one', 'get', 'bad', 'light', 'due', 'situcion', 'pass', 'countri', 'make', 'refund', 'howev', 'notifi', 'happen', 'greet', 'hello', 'name', 'emildr', 'tower', 'buy', 'phone', 'provid', 'one', 'get', 'bad', 'light', 'due', 'situcion', 'pass', 'countri', 'make', 'refund', 'howev', 'notifi', 'happen', 'greet', 'hello', 'name', 'emildr', 'tower', 'buy', 'phone', 'provid', 'one', 'get', 'bad', 'light', 'due', 'situcion', 'pass', 'countri', 'make', 'refund', 'howev', 'notifi', 'happen', 'greet', 'hello', 'name', 'emildr', 'tower', 'buy', 'phone', 'provid', 'one', 'get', 'bad', 'light', 'due', 'situcion', 'pass', 'countri', 'make', 'refund', 'howev', 'notifi', 'happen', 'greet', 'hello', 'name', 'emildr', 'tower', 'buy', 'phone', 'provid', 'one', 'get', 'bad', 'light', 'due', 'situcion', 'pass', 'countri', 'make', 'refund', 'howev', 'notifi', 'happen', 'greet', 'hello', 'name', 'emildr', 'tower', 'buy', 'phone', 'provid', 'one', 'get', 'bad', 'light', 'due', 'situcion', 'pass', 'countri', 'make', 'refund', 'howev', 'notifi', 'happen', 'greet', 'hello', 'name', 'emildr', 'tower', 'buy', 'phone', 'provid', 'one', 'get', 'bad', 'light', 'due', 'situcion', 'pass', 'countri', 'make', 'refund', 'howev', 'notifi', 'happen', 'greet', 'hello', 'name', 'emildr', 'tower', 'buy', 'phone', 'provid', 'one', 'get', 'bad', 'light', 'due', 'situcion', 'pass', 'countri', 'make', 'refund', 'howev', 'notifi', 'happen', 'greet', 'hello', 'name', 'emildr', 'tower', 'buy', 'phone', 'provid', 'one', 'get', 'bad', 'light', 'due', 'situcion', 'pass', 'countri', 'make', 'refund', 'howev', 'notifi', 'happen', 'greet', 'hello', 'name', 'emildr', 'tower', 'buy', 'phone', 'provid', 'one', 'get', 'bad', 'light', 'due', 'situcion', 'pass', 'countri', 'make', 'refund', 'howev', 'notifi', 'happen', 'greet', 'hello', 'name', 'emildr', 'tower', 'buy', 'phone', 'provid', 'one', 'get', 'bad', 'light', 'due', 'situcion', 'pass', 'countri', 'make', 'refund', 'howev', 'notifi', 'happen', 'greet', 'hello', 'name', 'emildr', 'tower', 'buy', 'phone', 'provid', 'one', 'get', 'bad', 'light', 'due', 'situcion', 'pass', 'countri', 'make', 'refund', 'howev', 'notifi', 'happen', 'greet', 'hello', 'name', 'emildr', 'tower', 'buy', 'phone', 'provid', 'one', 'get', 'bad', 'light', 'due', 'situcion', 'pass', 'countri', 'make', 'refund', 'howev', 'notifi', 'happen', 'greet', 'hello', 'name', 'emildr', 'tower', 'buy', 'phone', 'provid', 'one', 'get', 'bad', 'light', 'due', 'situcion', 'pass', 'countri', 'make', 'refund', 'howev', 'notifi', 'happen', 'greet', 'hello', 'name', 'emildr', 'tower', 'buy', 'phone', 'provid', 'one', 'get', 'bad', 'light', 'due', 'situcion', 'pass', 'countri', 'make', 'refund', 'howev', 'notifi', 'happen', 'greet', 'hello', 'name', 'emildr', 'tower', 'buy', 'phone', 'provid', 'one', 'get', 'bad', 'light', 'due', 'situcion', 'pass', 'countri', 'make', 'refund', 'howev', 'notifi', 'happen', 'greet', 'hello', 'name', 'emildr', 'tower', 'buy', 'phone', 'provid', 'one', 'get', 'bad', 'light', 'due', 'situcion', 'pass', 'countri', 'make', 'refund', 'howev', 'notifi', 'happen', 'greet', 'hello', 'name', 'emildr', 'tower', 'buy', 'phone', 'provid', 'one', 'get', 'bad', 'light', 'due', 'situcion', 'pass', 'countri', 'make', 'refund', 'howev', 'notifi', 'happen', 'greet', 'hello', 'name', 'emildr', 'tower', 'buy', 'phone', 'provid', 'one', 'get', 'bad', 'light', 'due', 'situcion', 'pass', 'countri', 'make', 'refund', 'howev', 'notifi', 'happen', 'greet', 'hello', 'name', 'emildr', 'tower', 'buy', 'phone', 'provid', 'one', 'get', 'bad', 'light', 'due', 'situcion', 'pass', 'countri', 'make', 'refund', 'howev', 'notifi', 'happen', 'greet', 'hello', 'name', 'emildr', 'tower', 'buy', 'phone', 'provid', 'one', 'get', 'bad', 'light', 'due', 'situcion', 'pass', 'countri', 'make', 'refund', 'howev', 'notifi', 'happen', 'greet', 'hello', 'name', 'emildr', 'tower', 'buy', 'phone', 'provid', 'one', 'get', 'bad', 'light', 'due', 'situcion', 'pass', 'countri', 'make', 'refund', 'howev', 'notifi', 'happen', 'greet', 'hello', 'name', 'emildr', 'tower', 'buy', 'phone', 'provid', 'one', 'get', 'bad', 'light', 'due', 'situcion', 'pass', 'countri', 'make', 'refund', 'howev', 'notifi', 'happen', 'greet', 'hello', 'name', 'emildr', 'tower', 'buy', 'phone', 'provid', 'one', 'get', 'bad', 'light', 'due', 'situcion', 'pass', 'countri', 'make', 'refund', 'howev', 'notifi', 'happen', 'greet', 'hello', 'name', 'emildr', 'tower', 'buy', 'phone', 'provid', 'one', 'get', 'bad', 'light', 'due', 'situcion', 'pass', 'countri', 'make', 'refund', 'howev', 'notifi', 'happen', 'greet', 'hello', 'name', 'emildr', 'tower', 'buy', 'phone', 'provid', 'one', 'get', 'bad', 'light', 'due', 'situcion', 'pass', 'countri', 'make', 'refund', 'howev', 'notifi', 'happen', 'greet', 'hello', 'name', 'emildr', 'tower', 'buy', 'phone', 'provid', 'one', 'get', 'bad', 'light', 'due', 'situcion', 'pass', 'countri', 'make', 'refund', 'howev', 'notifi', 'happen', 'greet', 'hello', 'name', 'emildr', 'tower', 'buy', 'phone', 'provid', 'one', 'get', 'bad', 'light', 'due', 'situcion', 'pass', 'countri', 'make', 'refund', 'howev', 'notifi', 'happen', 'greet', 'hello', 'name', 'emildr', 'tower', 'buy', 'phone', 'provid', 'one', 'get', 'bad', 'light', 'due', 'situcion', 'pass', 'countri', 'make', 'refund', 'howev', 'notifi', 'happen', 'greet', 'hello', 'name', 'emildr', 'tower', 'buy', 'phone', 'provid', 'one', 'get', 'bad', 'light', 'due', 'situcion', 'pass', 'countri', 'make', 'refund', 'howev', 'notifi', 'happen', 'greet', 'hello', 'name', 'emildr', 'tower', 'buy', 'phone', 'provid', 'one', 'get', 'bad', 'light', 'due', 'situcion', 'pass', 'countri', 'make', 'refund', 'howev', 'notifi', 'happen', 'greet', 'hello', 'name', 'emildr', 'tower', 'buy', 'phone', 'provid', 'one', 'get', 'bad', 'light', 'due', 'situcion', 'pass', 'countri', 'make', 'refund', 'howev', 'notifi', 'happen', 'greet', 'hello', 'name', 'emildr', 'tower', 'buy', 'phone', 'provid', 'one', 'get', 'bad', 'light', 'due', 'situcion', 'pass', 'countri', 'make', 'refund', 'howev', 'notifi', 'happen', 'greet', 'hello', 'name', 'emildr', 'tower', 'buy', 'phone', 'provid', 'one', 'get', 'bad', 'light', 'due', 'situcion', 'pass', 'countri', 'make', 'refund', 'howev', 'notifi', 'happen', 'greet', 'hello', 'name', 'emildr', 'tower', 'buy', 'phone', 'provid', 'one', 'get', 'bad', 'light', 'due', 'situcion', 'pass', 'countri', 'make', 'refund', 'howev', 'notifi', 'happen', 'greet', 'hello', 'name', 'emildr', 'tower', 'buy', 'phone', 'provid', 'one', 'get', 'bad', 'light', 'due', 'situcion', 'pass', 'countri', 'make', 'refund', 'howev', 'notifi', 'happen', 'greet', 'hello', 'name', 'emildr', 'tower', 'buy', 'phone', 'provid', 'one', 'get', 'bad', 'light', 'due', 'situcion', 'pass', 'countri', 'make', 'refund', 'howev', 'notifi', 'happen', 'greet', 'hello', 'name', 'emildr', 'tower', 'buy', 'phone', 'provid', 'one', 'get', 'bad', 'light', 'due', 'situcion', 'pass', 'countri', 'make', 'refund', 'howev', 'notifi', 'happen', 'greet', 'hello', 'name', 'emildr', 'tower', 'buy', 'phone', 'provid', 'one', 'get', 'bad', 'light', 'due', 'situcion', 'pass', 'countri', 'make', 'refund', 'howev', 'notifi', 'happen', 'greet', 'hello', 'name', 'emildr', 'tower', 'buy', 'phone', 'provid', 'one', 'get', 'bad', 'light', 'due', 'situcion', 'pass', 'countri', 'make', 'refund', 'howev', 'notifi', 'happen', 'greet', 'hello', 'name', 'emildr', 'tower', 'buy', 'phone', 'provid', 'one', 'get', 'bad', 'light', 'due', 'situcion', 'pass', 'countri', 'make', 'refund', 'howev', 'notifi', 'happen', 'greet', 'hello', 'name', 'emildr', 'tower', 'buy', 'phone', 'provid', 'one', 'get', 'bad', 'light', 'due', 'situcion', 'pass', 'countri', 'make', 'refund', 'howev', 'notifi', 'happen', 'greet', 'hello', 'name', 'emildr', 'tower', 'buy', 'phone', 'provid', 'one', 'get', 'bad', 'light', 'due', 'situcion', 'pass', 'countri', 'make', 'refund', 'howev', 'notifi', 'happen', 'greet', 'hello', 'name', 'emildr', 'tower', 'buy', 'phone', 'provid', 'one', 'get', 'bad', 'light', 'due', 'situcion', 'pass', 'countri', 'make', 'refund', 'howev', 'notifi', 'happen', 'greet', 'hello', 'name', 'emildr', 'tower', 'buy', 'phone', 'provid', 'one', 'get', 'bad', 'light', 'due', 'situcion', 'pass', 'countri', 'make', 'refund', 'howev', 'notifi', 'happen', 'greet', 'hello', 'name', 'emildr', 'tower', 'buy', 'phone', 'provid', 'one', 'get', 'bad', 'light', 'due', 'situcion', 'pass', 'countri', 'make', 'refund', 'howev', 'notifi', 'happen', 'greet', 'hello', 'name', 'emildr', 'tower', 'buy', 'phone', 'provid', 'one', 'get', 'bad', 'light', 'due', 'situcion', 'pass', 'countri', 'make', 'refund', 'howev', 'notifi', 'happen', 'greet', 'hello', 'name', 'emildr', 'tower', 'buy', 'phone', 'provid', 'one', 'get', 'bad', 'light', 'due', 'situcion', 'pass', 'countri', 'make', 'refund', 'howev', 'notifi', 'happen', 'greet', 'hello', 'name', 'emildr', 'tower', 'buy', 'phone', 'provid', 'one', 'get', 'bad', 'light', 'due', 'situcion', 'pass', 'countri', 'make', 'refund', 'howev', 'notifi', 'happen', 'greet', 'hello', 'name', 'emildr', 'tower', 'buy', 'phone', 'provid', 'one', 'get', 'bad', 'light', 'due', 'situcion', 'pass', 'countri', 'make', 'refund', 'howev', 'notifi', 'happen', 'greet', 'hello', 'name', 'emildr', 'tower', 'buy', 'phone', 'provid', 'one', 'get', 'bad', 'light', 'due', 'situcion', 'pass', 'countri', 'make', 'refund', 'howev', 'notifi', 'happen', 'greet', 'hello', 'name', 'emildr', 'tower', 'buy', 'phone', 'provid', 'one', 'get', 'bad', 'light', 'due', 'situcion', 'pass', 'countri', 'make', 'refund', 'howev', 'notifi', 'happen', 'greet', 'hello', 'name', 'emildr', 'tower', 'buy', 'phone', 'provid', 'one', 'get', 'bad', 'light', 'due', 'situcion', 'pass', 'countri', 'make', 'refund', 'howev', 'notifi', 'happen', 'greet', 'hello', 'name', 'emildr', 'tower', 'buy', 'phone', 'provid', 'one', 'get', 'bad', 'light', 'due', 'situcion', 'pass', 'countri', 'make', 'refund', 'howev', 'notifi', 'happen', 'greet', 'hello', 'name', 'emildr', 'tower', 'buy', 'phone', 'provid', 'one', 'get', 'bad', 'light', 'due', 'situcion', 'pass', 'countri', 'make', 'refund', 'howev', 'notifi', 'happen', 'greet', 'hello', 'name', 'emildr', 'tower', 'buy', 'phone', 'provid', 'one', 'get', 'bad', 'light', 'due', 'situcion', 'pass', 'countri', 'make', 'refund', 'howev', 'notifi', 'happen', 'greet', 'hello', 'name', 'emildr', 'tower', 'buy', 'phone', 'provid', 'one', 'get', 'bad', 'light', 'due', 'situcion', 'pass', 'countri', 'make', 'refund', 'howev', 'notifi', 'happen', 'greet', 'hello', 'name', 'emildr', 'tower', 'buy', 'phone', 'provid', 'one', 'get', 'bad', 'light', 'due', 'situcion', 'pass', 'countri', 'make', 'refund', 'howev', 'notifi', 'happen', 'greet', 'hello', 'name', 'emildr', 'tower', 'buy', 'phone', 'provid', 'one', 'get', 'bad', 'light', 'due', 'situcion', 'pass', 'countri', 'make', 'refund', 'howev', 'notifi', 'happen', 'greet', 'hello', 'name', 'emildr', 'tower', 'buy', 'phone', 'provid', 'one', 'get', 'bad', 'light', 'due', 'situcion', 'pass', 'countri', 'make', 'refund', 'howev', 'notifi', 'happen', 'greet', 'hello', 'name', 'emildr', 'tower', 'buy', 'phone', 'provid', 'one', 'get', 'bad', 'light', 'due', 'situcion', 'pass', 'countri', 'make', 'refund', 'howev', 'notifi', 'happen', 'greet', 'hello', 'name', 'emildr', 'tower', 'buy', 'phone', 'provid', 'one', 'get', 'bad', 'light', 'due', 'situcion', 'pass', 'countri', 'make', 'refund', 'howev', 'notifi', 'happen', 'greet', 'hello', 'name', 'emildr', 'tower', 'buy', 'phone', 'provid', 'one', 'get', 'bad', 'light', 'due', 'situcion', 'pass', 'countri', 'make', 'refund', 'howev', 'notifi', 'happen', 'greet', 'hello', 'name', 'emildr', 'tower', 'buy', 'phone', 'provid', 'one', 'get', 'bad', 'light', 'due', 'situcion', 'pass', 'countri', 'make', 'refund', 'howev', 'notifi', 'happen', 'greet', 'hello', 'name', 'emildr', 'tower', 'buy', 'phone', 'provid', 'one', 'get', 'bad', 'light', 'due', 'situcion', 'pass', 'countri', 'make', 'refund', 'howev', 'notifi', 'happen', 'greet', 'hello', 'name', 'emildr', 'tower', 'buy', 'phone', 'provid', 'one', 'get', 'bad', 'light', 'due', 'situcion', 'pass', 'countri', 'make', 'refund', 'howev', 'notifi', 'happen', 'greet', 'hello', 'name', 'emildr', 'tower', 'buy', 'phone', 'provid', 'one', 'get', 'bad', 'light', 'due', 'situcion', 'pass', 'countri', 'make', 'refund', 'howev', 'notifi', 'happen', 'greet', 'hello', 'name', 'emildr', 'tower', 'buy', 'phone', 'provid', 'one', 'get', 'bad', 'light', 'due', 'situcion', 'pass', 'countri', 'make', 'refund', 'howev', 'notifi', 'happen', 'greet', 'hello', 'name', 'emildr', 'tower', 'buy', 'phone', 'provid', 'one', 'get', 'bad', 'light', 'due', 'situcion', 'pass', 'countri', 'make', 'refund', 'howev', 'notifi', 'happen', 'greet', 'hello', 'name', 'emildr', 'tower', 'buy', 'phone', 'provid', 'one', 'get', 'bad', 'light', 'due', 'situcion', 'pass', 'countri', 'make', 'refund', 'howev', 'notifi', 'happen', 'greet', 'hello', 'name', 'emildr', 'tower', 'buy', 'phone', 'provid', 'one', 'get', 'bad', 'light', 'due', 'situcion', 'pass', 'countri', 'make', 'refund', 'howev', 'notifi', 'happen', 'greet', 'hello', 'name', 'emildr', 'tower', 'buy', 'phone', 'provid', 'one', 'get', 'bad', 'light', 'due', 'situcion', 'pass', 'countri', 'make', 'refund', 'howev', 'notifi', 'happen', 'greet', 'hello', 'name', 'emildr', 'tower', 'buy', 'phone', 'provid', 'one', 'get', 'bad', 'light', 'due', 'situcion', 'pass', 'countri', 'make', 'refund', 'howev', 'notifi', 'happen', 'greet', 'hello', 'name', 'emildr', 'tower', 'buy', 'phone', 'provid', 'one', 'get', 'bad', 'light', 'due', 'situcion', 'pass', 'countri', 'make', 'refund', 'howev', 'notifi', 'happen', 'greet', 'hello', 'name', 'emildr', 'tower', 'buy', 'phone', 'provid', 'one', 'get', 'bad', 'light', 'due', 'situcion', 'pass', 'countri', 'make', 'refund', 'howev', 'notifi', 'happen', 'greet', 'hello', 'name', 'emildr', 'tower', 'buy', 'phone', 'provid', 'one', 'get', 'bad', 'light', 'due', 'situcion', 'pass', 'countri', 'make', 'refund', 'howev', 'notifi', 'happen', 'greet', 'hello', 'name', 'emildr', 'tower', 'buy', 'phone', 'provid', 'one', 'get', 'bad', 'light', 'due', 'situcion', 'pass', 'countri', 'make', 'refund', 'howev', 'notifi', 'happen', 'greet', 'hello', 'name', 'emildr', 'tower', 'buy', 'phone', 'provid', 'one', 'get', 'bad', 'light', 'due', 'situcion', 'pass', 'countri', 'make', 'refund', 'howev', 'notifi', 'happen', 'greet', 'hello', 'name', 'emildr', 'tower', 'buy', 'phone', 'provid', 'one', 'get', 'bad', 'light', 'due', 'situcion', 'pass', 'countri', 'make', 'refund', 'howev', 'notifi', 'happen', 'greet', 'hello', 'name', 'emildr', 'tower', 'buy', 'phone', 'provid', 'one', 'get', 'bad', 'light', 'due', 'situcion', 'pass', 'countri', 'make', 'refund', 'howev', 'notifi', 'happen', 'greet', 'hello', 'name', 'emildr', 'tower', 'buy', 'phone', 'provid', 'one', 'get', 'bad', 'light', 'due', 'situcion', 'pass', 'countri', 'make', 'refund', 'howev', 'notifi', 'happen', 'greet', 'hello', 'name', 'emildr', 'tower', 'buy', 'phone', 'provid', 'one', 'get', 'bad', 'light', 'due', 'situcion', 'pass', 'countri', 'make', 'refund', 'howev', 'notifi', 'happen', 'greet', 'hello', 'name', 'emildr', 'tower', 'buy', 'phone', 'provid', 'one', 'get', 'bad', 'light', 'due', 'situcion', 'pass', 'countri', 'make', 'refund', 'howev', 'notifi', 'happen', 'greet', 'hello', 'name', 'emildr', 'tower', 'buy', 'phone', 'provid', 'one', 'get', 'bad', 'light', 'due', 'situcion', 'pass', 'countri', 'make', 'refund', 'howev', 'notifi', 'happen', 'greet', 'hello', 'name', 'emildr', 'tower', 'buy', 'phone', 'provid', 'one', 'get', 'bad', 'light', 'due', 'situcion', 'pass', 'countri', 'make', 'refund', 'howev', 'notifi', 'happen', 'greet', 'hello', 'name', 'emildr', 'tower', 'buy', 'phone', 'provid', 'one', 'get', 'bad', 'light', 'due', 'situcion', 'pass', 'countri', 'make', 'refund', 'howev', 'notifi', 'happen', 'greet', 'hello', 'name', 'emildr', 'tower', 'buy', 'phone', 'provid', 'one', 'get', 'bad', 'light', 'due', 'situcion', 'pass', 'countri', 'make', 'refund', 'howev', 'notifi', 'happen', 'greet', 'hello', 'name', 'emildr', 'tower', 'buy', 'phone', 'provid', 'one', 'get', 'bad', 'light', 'due', 'situcion', 'pass', 'countri', 'make', 'refund', 'howev', 'notifi', 'happen', 'greet', 'hello', 'name', 'emildr', 'tower', 'buy', 'phone', 'provid', 'one', 'get', 'bad', 'light', 'due', 'situcion', 'pass', 'countri', 'make', 'refund', 'howev', 'notifi', 'happen', 'greet', 'hello', 'name', 'emildr', 'tower', 'buy', 'phone', 'provid', 'one', 'get', 'bad', 'light', 'due', 'situcion', 'pass', 'countri', 'make', 'refund', 'howev', 'notifi', 'happen', 'greet', 'hello', 'name', 'emildr', 'tower', 'buy', 'phone', 'provid', 'one', 'get', 'bad', 'light', 'due', 'situcion', 'pass', 'countri', 'make', 'refund', 'howev', 'notifi', 'happen', 'greet', 'hello', 'name', 'emildr', 'tower', 'buy', 'phone', 'provid', 'one', 'get', 'bad', 'light', 'due', 'situcion', 'pass', 'countri', 'make', 'refund', 'howev', 'notifi', 'happen', 'greet', 'hello', 'name', 'emildr', 'tower', 'buy', 'phone', 'provid', 'one', 'get', 'bad', 'light', 'due', 'situcion', 'pass', 'countri', 'make', 'refund', 'howev', 'notifi', 'happen', 'greet', 'hello', 'name', 'emildr', 'tower', 'buy', 'phone', 'provid', 'one', 'get', 'bad', 'light', 'due', 'situcion', 'pass', 'countri', 'make', 'refund', 'howev', 'notifi', 'happen', 'greet', 'hello', 'name', 'emildr', 'tower', 'buy', 'phone', 'provid', 'one', 'get', 'bad', 'light', 'due', 'situcion', 'pass', 'countri', 'make', 'refund', 'howev', 'notifi', 'happen', 'greet', 'hello', 'name', 'emildr', 'tower', 'buy', 'phone', 'provid', 'one', 'get', 'bad', 'light', 'due', 'situcion', 'pass', 'countri', 'make', 'refund', 'howev', 'notifi', 'happen', 'greet', 'hello', 'name', 'emildr', 'tower', 'buy', 'phone', 'provid', 'one', 'get', 'bad', 'light', 'due', 'situcion', 'pass', 'countri', 'make', 'refund', 'howev', 'notifi', 'happen', 'greet', 'hello', 'name', 'emildr', 'tower', 'buy', 'phone', 'provid', 'one', 'get', 'bad', 'light', 'due', 'situcion', 'pass', 'countri', 'make', 'refund', 'howev', 'notifi', 'happen', 'greet', 'hello', 'name', 'emildr', 'tower', 'buy', 'phone', 'provid', 'one', 'get', 'bad', 'light', 'due', 'situcion', 'pass', 'countri', 'make', 'refund', 'howev', 'notifi', 'happen', 'greet', 'hello', 'name', 'emildr', 'tower', 'buy', 'phone', 'provid', 'one', 'get', 'bad', 'light', 'due', 'situcion', 'pass', 'countri', 'make', 'refund', 'howev', 'notifi', 'happen', 'greet', 'hello', 'name', 'emildr', 'tower', 'buy', 'phone', 'provid', 'one', 'get', 'bad', 'light', 'due', 'situcion', 'pass', 'countri', 'make', 'refund', 'howev', 'notifi', 'happen', 'greet', 'hello', 'name', 'emildr', 'tower', 'buy', 'phone', 'provid', 'one', 'get', 'bad', 'light', 'due', 'situcion', 'pass', 'countri', 'make', 'refund', 'howev', 'notifi', 'happen', 'greet', 'hello', 'name', 'emildr', 'tower', 'buy', 'phone', 'provid', 'one', 'get', 'bad', 'light', 'due', 'situcion', 'pass', 'countri', 'make', 'refund', 'howev', 'notifi', 'happen', 'greet', 'hello', 'name', 'emildr', 'tower', 'buy', 'phone', 'provid', 'one', 'get', 'bad', 'light', 'due', 'situcion', 'pass', 'countri', 'make', 'refund', 'howev', 'notifi', 'happen', 'greet', 'hello', 'name', 'emildr', 'tower', 'buy', 'phone', 'provid', 'one', 'get', 'bad', 'light', 'due', 'situcion', 'pass', 'countri', 'make', 'refund', 'howev', 'notifi', 'happen', 'greet', 'hello', 'name', 'emildr', 'tower', 'buy', 'phone', 'provid', 'one', 'get', 'bad', 'light', 'due', 'situcion', 'pass', 'countri', 'make', 'refund', 'howev', 'notifi', 'happen', 'greet', 'hello', 'name', 'emildr', 'tower', 'buy', 'phone', 'provid', 'one', 'get', 'bad', 'light', 'due', 'situcion', 'pass', 'countri', 'make', 'refund', 'howev', 'notifi', 'happen', 'greet', 'hello', 'name', 'emildr', 'tower', 'buy', 'phone', 'provid', 'one', 'get', 'bad', 'light', 'due', 'situcion', 'pass', 'countri', 'make', 'refund', 'howev', 'notifi', 'happen', 'greet', 'hello', 'name', 'emildr', 'tower', 'buy', 'phone', 'provid', 'one', 'get', 'bad', 'light', 'due', 'situcion', 'pass', 'countri', 'make', 'refund', 'howev', 'notifi', 'happen', 'greet', 'hello', 'name', 'emildr', 'tower', 'buy', 'phone', 'provid', 'one', 'get', 'bad', 'light', 'due', 'situcion', 'pass', 'countri', 'make', 'refund', 'howev', 'notifi', 'happen', 'greet', 'hello', 'name', 'emildr', 'tower', 'buy', 'phone', 'provid', 'one', 'get', 'bad', 'light', 'due', 'situcion', 'pass', 'countri', 'make', 'refund', 'howev', 'notifi', 'happen', 'greet', 'hello', 'name', 'emildr', 'tower', 'buy', 'phone', 'provid', 'one', 'get', 'bad', 'light', 'due', 'situcion', 'pass', 'countri', 'make', 'refund', 'howev', 'notifi', 'happen', 'greet', 'hello', 'name', 'emildr', 'tower', 'buy', 'phone', 'provid', 'one', 'get', 'bad', 'light', 'due', 'situcion', 'pass', 'countri', 'make', 'refund', 'howev', 'notifi', 'happen', 'greet', 'hello', 'name', 'emildr', 'tower', 'buy', 'phone', 'provid', 'one', 'get', 'bad', 'light', 'due', 'situcion', 'pass', 'countri', 'make', 'refund', 'howev', 'notifi', 'happen', 'greet', 'hello', 'name', 'emildr', 'tower', 'buy', 'phone', 'provid', 'one', 'get', 'bad', 'light', 'due', 'situcion', 'pass', 'countri', 'make', 'refund', 'howev', 'notifi', 'happen', 'greet', 'hello', 'name', 'emildr', 'tower', 'buy', 'phone', 'provid', 'one', 'get', 'bad', 'light', 'due', 'situcion', 'pass', 'countri', 'make', 'refund', 'howev', 'notifi', 'happen', 'greet', 'hello', 'name', 'emildr', 'tower', 'buy', 'phone', 'provid', 'one', 'get', 'bad', 'light', 'due', 'situcion', 'pass', 'countri', 'make', 'refund', 'howev', 'notifi', 'happen', 'greet', 'hello', 'name', 'emildr', 'tower', 'buy', 'phone', 'provid', 'one', 'get', 'bad', 'light', 'due', 'situcion', 'pass', 'countri', 'make', 'refund', 'howev', 'notifi', 'happen', 'greet', 'hello', 'name', 'emildr', 'tower', 'buy', 'phone', 'provid', 'one', 'get', 'bad', 'light', 'due', 'situcion', 'pass', 'countri', 'make', 'refund', 'howev', 'notifi', 'happen', 'greet', 'hello', 'name', 'emildr', 'tower', 'buy', 'phone', 'provid', 'one', 'get', 'bad', 'light', 'due', 'situcion', 'pass', 'countri', 'make', 'refund', 'howev', 'notifi', 'happen', 'greet', 'hello', 'name', 'emildr', 'tower', 'buy', 'phone', 'provid', 'one', 'get', 'bad', 'light', 'due', 'situcion', 'pass', 'countri', 'make', 'refund', 'howev', 'notifi', 'happen', 'greet', 'hello', 'name', 'emildr', 'tower', 'buy', 'phone', 'provid', 'one', 'get', 'bad', 'light', 'due', 'situcion', 'pass', 'countri', 'make', 'refund', 'howev', 'notifi', 'happen', 'greet', 'hello', 'name', 'emildr', 'tower', 'buy', 'phone', 'provid', 'one', 'get', 'bad', 'light', 'due', 'situcion', 'pass', 'countri', 'make', 'refund', 'howev', 'notifi', 'happen', 'greet', 'hello', 'name', 'emildr', 'tower', 'buy', 'phone', 'provid', 'one', 'get', 'bad', 'light', 'due', 'situcion', 'pass', 'countri', 'make', 'refund', 'howev', 'notifi', 'happen', 'greet', 'hello', 'name', 'emildr', 'tower', 'buy', 'phone', 'provid', 'one', 'get', 'bad', 'light', 'due', 'situcion', 'pass', 'countri', 'make', 'refund', 'howev', 'notifi', 'happen', 'greet', 'hello', 'name', 'emildr', 'tower', 'buy', 'phone', 'provid', 'one', 'get', 'bad', 'light', 'due', 'situcion', 'pass', 'countri', 'make', 'refund', 'howev', 'notifi', 'happen', 'greet', 'hello', 'name', 'emildr', 'tower', 'buy', 'phone', 'provid', 'one', 'get', 'bad', 'light', 'due', 'situcion', 'pass', 'countri', 'make', 'refund', 'howev', 'notifi', 'happen', 'greet'], ['disappoint', 'bought', 'phone', 'mom', 'one', 'hard', 'hear', 'phone', 'ring', 'extrem', 'faint', 'ring', 'volum', 'cannot', 'increas', 'guess', 'get', 'pay', 'disappoint', 'bought', 'phone', 'mom', 'one', 'hard', 'hear', 'phone', 'ring', 'extrem', 'faint', 'ring', 'volum', 'cannot', 'increas', 'guess', 'get', 'pay', 'disappoint', 'bought', 'phone', 'mom', 'one', 'hard', 'hear', 'phone', 'ring', 'extrem', 'faint', 'ring', 'volum', 'cannot', 'increas', 'guess', 'get', 'pay', 'disappoint', 'bought', 'phone', 'mom', 'one', 'hard', 'hear', 'phone', 'ring', 'extrem', 'faint', 'ring', 'volum', 'cannot', 'increas', 'guess', 'get', 'pay', 'disappoint', 'bought', 'phone', 'mom', 'one', 'hard', 'hear', 'phone', 'ring', 'extrem', 'faint', 'ring', 'volum', 'cannot', 'increas', 'guess', 'get', 'pay', 'disappoint', 'bought', 'phone', 'mom', 'one', 'hard', 'hear', 'phone', 'ring', 'extrem', 'faint', 'ring', 'volum', 'cannot', 'increas', 'guess', 'get', 'pay', 'disappoint', 'bought', 'phone', 'mom', 'one', 'hard', 'hear', 'phone', 'ring', 'extrem', 'faint', 'ring', 'volum', 'cannot', 'increas', 'guess', 'get', 'pay', 'disappoint', 'bought', 'phone', 'mom', 'one', 'hard', 'hear', 'phone', 'ring', 'extrem', 'faint', 'ring', 'volum', 'cannot', 'increas', 'guess', 'get', 'pay', 'disappoint', 'bought', 'phone', 'mom', 'one', 'hard', 'hear', 'phone', 'ring', 'extrem', 'faint', 'ring', 'volum', 'cannot', 'increas', 'guess', 'get', 'pay', 'disappoint', 'bought', 'phone', 'mom', 'one', 'hard', 'hear', 'phone', 'ring', 'extrem', 'faint', 'ring', 'volum', 'cannot', 'increas', 'guess', 'get', 'pay', 'disappoint', 'bought', 'phone', 'mom', 'one', 'hard', 'hear', 'phone', 'ring', 'extrem', 'faint', 'ring', 'volum', 'cannot', 'increas', 'guess', 'get', 'pay', 'disappoint', 'bought', 'phone', 'mom', 'one', 'hard', 'hear', 'phone', 'ring', 'extrem', 'faint', 'ring', 'volum', 'cannot', 'increas', 'guess', 'get', 'pay', 'disappoint', 'bought', 'phone', 'mom', 'one', 'hard', 'hear', 'phone', 'ring', 'extrem', 'faint', 'ring', 'volum', 'cannot', 'increas', 'guess', 'get', 'pay', 'disappoint', 'bought', 'phone', 'mom', 'one', 'hard', 'hear', 'phone', 'ring', 'extrem', 'faint', 'ring', 'volum', 'cannot', 'increas', 'guess', 'get', 'pay', 'disappoint', 'bought', 'phone', 'mom', 'one', 'hard', 'hear', 'phone', 'ring', 'extrem', 'faint', 'ring', 'volum', 'cannot', 'increas', 'guess', 'get', 'pay', 'disappoint', 'bought', 'phone', 'mom', 'one', 'hard', 'hear', 'phone', 'ring', 'extrem', 'faint', 'ring', 'volum', 'cannot', 'increas', 'guess', 'get', 'pay', 'disappoint', 'bought', 'phone', 'mom', 'one', 'hard', 'hear', 'phone', 'ring', 'extrem', 'faint', 'ring', 'volum', 'cannot', 'increas', 'guess', 'get', 'pay', 'disappoint', 'bought', 'phone', 'mom', 'one', 'hard', 'hear', 'phone', 'ring', 'extrem', 'faint', 'ring', 'volum', 'cannot', 'increas', 'guess', 'get', 'pay', 'disappoint', 'bought', 'phone', 'mom', 'one', 'hard', 'hear', 'phone', 'ring', 'extrem', 'faint', 'ring', 'volum', 'cannot', 'increas', 'guess', 'get', 'pay', 'disappoint', 'bought', 'phone', 'mom', 'one', 'hard', 'hear', 'phone', 'ring', 'extrem', 'faint', 'ring', 'volum', 'cannot', 'increas', 'guess', 'get', 'pay', 'disappoint', 'bought', 'phone', 'mom', 'one', 'hard', 'hear', 'phone', 'ring', 'extrem', 'faint', 'ring', 'volum', 'cannot', 'increas', 'guess', 'get', 'pay', 'disappoint', 'bought', 'phone', 'mom', 'one', 'hard', 'hear', 'phone', 'ring', 'extrem', 'faint', 'ring', 'volum', 'cannot', 'increas', 'guess', 'get', 'pay', 'disappoint', 'bought', 'phone', 'mom', 'one', 'hard', 'hear', 'phone', 'ring', 'extrem', 'faint', 'ring', 'volum', 'cannot', 'increas', 'guess', 'get', 'pay', 'disappoint', 'bought', 'phone', 'mom', 'one', 'hard', 'hear', 'phone', 'ring', 'extrem', 'faint', 'ring', 'volum', 'cannot', 'increas', 'guess', 'get', 'pay', 'disappoint', 'bought', 'phone', 'mom', 'one', 'hard', 'hear', 'phone', 'ring', 'extrem', 'faint', 'ring', 'volum', 'cannot', 'increas', 'guess', 'get', 'pay', 'disappoint', 'bought', 'phone', 'mom', 'one', 'hard', 'hear', 'phone', 'ring', 'extrem', 'faint', 'ring', 'volum', 'cannot', 'increas', 'guess', 'get', 'pay', 'disappoint', 'bought', 'phone', 'mom', 'one', 'hard', 'hear', 'phone', 'ring', 'extrem', 'faint', 'ring', 'volum', 'cannot', 'increas', 'guess', 'get', 'pay', 'disappoint', 'bought', 'phone', 'mom', 'one', 'hard', 'hear', 'phone', 'ring', 'extrem', 'faint', 'ring', 'volum', 'cannot', 'increas', 'guess', 'get', 'pay', 'disappoint', 'bought', 'phone', 'mom', 'one', 'hard', 'hear', 'phone', 'ring', 'extrem', 'faint', 'ring', 'volum', 'cannot', 'increas', 'guess', 'get', 'pay', 'disappoint', 'bought', 'phone', 'mom', 'one', 'hard', 'hear', 'phone', 'ring', 'extrem', 'faint', 'ring', 'volum', 'cannot', 'increas', 'guess', 'get', 'pay', 'disappoint', 'bought', 'phone', 'mom', 'one', 'hard', 'hear', 'phone', 'ring', 'extrem', 'faint', 'ring', 'volum', 'cannot', 'increas', 'guess', 'get', 'pay', 'disappoint', 'bought', 'phone', 'mom', 'one', 'hard', 'hear', 'phone', 'ring', 'extrem', 'faint', 'ring', 'volum', 'cannot', 'increas', 'guess', 'get', 'pay', 'disappoint', 'bought', 'phone', 'mom', 'one', 'hard', 'hear', 'phone', 'ring', 'extrem', 'faint', 'ring', 'volum', 'cannot', 'increas', 'guess', 'get', 'pay', 'disappoint', 'bought', 'phone', 'mom', 'one', 'hard', 'hear', 'phone', 'ring', 'extrem', 'faint', 'ring', 'volum', 'cannot', 'increas', 'guess', 'get', 'pay', 'disappoint', 'bought', 'phone', 'mom', 'one', 'hard', 'hear', 'phone', 'ring', 'extrem', 'faint', 'ring', 'volum', 'cannot', 'increas', 'guess', 'get', 'pay', 'disappoint', 'bought', 'phone', 'mom', 'one', 'hard', 'hear', 'phone', 'ring', 'extrem', 'faint', 'ring', 'volum', 'cannot', 'increas', 'guess', 'get', 'pay', 'disappoint', 'bought', 'phone', 'mom', 'one', 'hard', 'hear', 'phone', 'ring', 'extrem', 'faint', 'ring', 'volum', 'cannot', 'increas', 'guess', 'get', 'pay', 'disappoint', 'bought', 'phone', 'mom', 'one', 'hard', 'hear', 'phone', 'ring', 'extrem', 'faint', 'ring', 'volum', 'cannot', 'increas', 'guess', 'get', 'pay', 'disappoint', 'bought', 'phone', 'mom', 'one', 'hard', 'hear', 'phone', 'ring', 'extrem', 'faint', 'ring', 'volum', 'cannot', 'increas', 'guess', 'get', 'pay', 'disappoint', 'bought', 'phone', 'mom', 'one', 'hard', 'hear', 'phone', 'ring', 'extrem', 'faint', 'ring', 'volum', 'cannot', 'increas', 'guess', 'get', 'pay', 'disappoint', 'bought', 'phone', 'mom', 'one', 'hard', 'hear', 'phone', 'ring', 'extrem', 'faint', 'ring', 'volum', 'cannot', 'increas', 'guess', 'get', 'pay', 'disappoint', 'bought', 'phone', 'mom', 'one', 'hard', 'hear', 'phone', 'ring', 'extrem', 'faint', 'ring', 'volum', 'cannot', 'increas', 'guess', 'get', 'pay', 'disappoint', 'bought', 'phone', 'mom', 'one', 'hard', 'hear', 'phone', 'ring', 'extrem', 'faint', 'ring', 'volum', 'cannot', 'increas', 'guess', 'get', 'pay', 'disappoint', 'bought', 'phone', 'mom', 'one', 'hard', 'hear', 'phone', 'ring', 'extrem', 'faint', 'ring', 'volum', 'cannot', 'increas', 'guess', 'get', 'pay', 'disappoint', 'bought', 'phone', 'mom', 'one', 'hard', 'hear', 'phone', 'ring', 'extrem', 'faint', 'ring', 'volum', 'cannot', 'increas', 'guess', 'get', 'pay', 'disappoint', 'bought', 'phone', 'mom', 'one', 'hard', 'hear', 'phone', 'ring', 'extrem', 'faint', 'ring', 'volum', 'cannot', 'increas', 'guess', 'get', 'pay', 'disappoint', 'bought', 'phone', 'mom', 'one', 'hard', 'hear', 'phone', 'ring', 'extrem', 'faint', 'ring', 'volum', 'cannot', 'increas', 'guess', 'get', 'pay', 'disappoint', 'bought', 'phone', 'mom', 'one', 'hard', 'hear', 'phone', 'ring', 'extrem', 'faint', 'ring', 'volum', 'cannot', 'increas', 'guess', 'get', 'pay', 'disappoint', 'bought', 'phone', 'mom', 'one', 'hard', 'hear', 'phone', 'ring', 'extrem', 'faint', 'ring', 'volum', 'cannot', 'increas', 'guess', 'get', 'pay', 'disappoint', 'bought', 'phone', 'mom', 'one', 'hard', 'hear', 'phone', 'ring', 'extrem', 'faint', 'ring', 'volum', 'cannot', 'increas', 'guess', 'get', 'pay', 'disappoint', 'bought', 'phone', 'mom', 'one', 'hard', 'hear', 'phone', 'ring', 'extrem', 'faint', 'ring', 'volum', 'cannot', 'increas', 'guess', 'get', 'pay', 'disappoint', 'bought', 'phone', 'mom', 'one', 'hard', 'hear', 'phone', 'ring', 'extrem', 'faint', 'ring', 'volum', 'cannot', 'increas', 'guess', 'get', 'pay', 'disappoint', 'bought', 'phone', 'mom', 'one', 'hard', 'hear', 'phone', 'ring', 'extrem', 'faint', 'ring', 'volum', 'cannot', 'increas', 'guess', 'get', 'pay', 'disappoint', 'bought', 'phone', 'mom', 'one', 'hard', 'hear', 'phone', 'ring', 'extrem', 'faint', 'ring', 'volum', 'cannot', 'increas', 'guess', 'get', 'pay', 'disappoint', 'bought', 'phone', 'mom', 'one', 'hard', 'hear', 'phone', 'ring', 'extrem', 'faint', 'ring', 'volum', 'cannot', 'increas', 'guess', 'get', 'pay', 'disappoint', 'bought', 'phone', 'mom', 'one', 'hard', 'hear', 'phone', 'ring', 'extrem', 'faint', 'ring', 'volum', 'cannot', 'increas', 'guess', 'get', 'pay', 'disappoint', 'bought', 'phone', 'mom', 'one', 'hard', 'hear', 'phone', 'ring', 'extrem', 'faint', 'ring', 'volum', 'cannot', 'increas', 'guess', 'get', 'pay', 'disappoint', 'bought', 'phone', 'mom', 'one', 'hard', 'hear', 'phone', 'ring', 'extrem', 'faint', 'ring', 'volum', 'cannot', 'increas', 'guess', 'get', 'pay', 'disappoint', 'bought', 'phone', 'mom', 'one', 'hard', 'hear', 'phone', 'ring', 'extrem', 'faint', 'ring', 'volum', 'cannot', 'increas', 'guess', 'get', 'pay', 'disappoint', 'bought', 'phone', 'mom', 'one', 'hard', 'hear', 'phone', 'ring', 'extrem', 'faint', 'ring', 'volum', 'cannot', 'increas', 'guess', 'get', 'pay', 'disappoint', 'bought', 'phone', 'mom', 'one', 'hard', 'hear', 'phone', 'ring', 'extrem', 'faint', 'ring', 'volum', 'cannot', 'increas', 'guess', 'get', 'pay', 'disappoint', 'bought', 'phone', 'mom', 'one', 'hard', 'hear', 'phone', 'ring', 'extrem', 'faint', 'ring', 'volum', 'cannot', 'increas', 'guess', 'get', 'pay', 'disappoint', 'bought', 'phone', 'mom', 'one', 'hard', 'hear', 'phone', 'ring', 'extrem', 'faint', 'ring', 'volum', 'cannot', 'increas', 'guess', 'get', 'pay', 'disappoint', 'bought', 'phone', 'mom', 'one', 'hard', 'hear', 'phone', 'ring', 'extrem', 'faint', 'ring', 'volum', 'cannot', 'increas', 'guess', 'get', 'pay', 'disappoint', 'bought', 'phone', 'mom', 'one', 'hard', 'hear', 'phone', 'ring', 'extrem', 'faint', 'ring', 'volum', 'cannot', 'increas', 'guess', 'get', 'pay', 'disappoint', 'bought', 'phone', 'mom', 'one', 'hard', 'hear', 'phone', 'ring', 'extrem', 'faint', 'ring', 'volum', 'cannot', 'increas', 'guess', 'get', 'pay', 'disappoint', 'bought', 'phone', 'mom', 'one', 'hard', 'hear', 'phone', 'ring', 'extrem', 'faint', 'ring', 'volum', 'cannot', 'increas', 'guess', 'get', 'pay', 'disappoint', 'bought', 'phone', 'mom', 'one', 'hard', 'hear', 'phone', 'ring', 'extrem', 'faint', 'ring', 'volum', 'cannot', 'increas', 'guess', 'get', 'pay', 'disappoint', 'bought', 'phone', 'mom', 'one', 'hard', 'hear', 'phone', 'ring', 'extrem', 'faint', 'ring', 'volum', 'cannot', 'increas', 'guess', 'get', 'pay', 'disappoint', 'bought', 'phone', 'mom', 'one', 'hard', 'hear', 'phone', 'ring', 'extrem', 'faint', 'ring', 'volum', 'cannot', 'increas', 'guess', 'get', 'pay', 'disappoint', 'bought', 'phone', 'mom', 'one', 'hard', 'hear', 'phone', 'ring', 'extrem', 'faint', 'ring', 'volum', 'cannot', 'increas', 'guess', 'get', 'pay', 'disappoint', 'bought', 'phone', 'mom', 'one', 'hard', 'hear', 'phone', 'ring', 'extrem', 'faint', 'ring', 'volum', 'cannot', 'increas', 'guess', 'get', 'pay', 'disappoint', 'bought', 'phone', 'mom', 'one', 'hard', 'hear', 'phone', 'ring', 'extrem', 'faint', 'ring', 'volum', 'cannot', 'increas', 'guess', 'get', 'pay', 'disappoint', 'bought', 'phone', 'mom', 'one', 'hard', 'hear', 'phone', 'ring', 'extrem', 'faint', 'ring', 'volum', 'cannot', 'increas', 'guess', 'get', 'pay', 'disappoint', 'bought', 'phone', 'mom', 'one', 'hard', 'hear', 'phone', 'ring', 'extrem', 'faint', 'ring', 'volum', 'cannot', 'increas', 'guess', 'get', 'pay', 'disappoint', 'bought', 'phone', 'mom', 'one', 'hard', 'hear', 'phone', 'ring', 'extrem', 'faint', 'ring', 'volum', 'cannot', 'increas', 'guess', 'get', 'pay', 'disappoint', 'bought', 'phone', 'mom', 'one', 'hard', 'hear', 'phone', 'ring', 'extrem', 'faint', 'ring', 'volum', 'cannot', 'increas', 'guess', 'get', 'pay', 'disappoint', 'bought', 'phone', 'mom', 'one', 'hard', 'hear', 'phone', 'ring', 'extrem', 'faint', 'ring', 'volum', 'cannot', 'increas', 'guess', 'get', 'pay', 'disappoint', 'bought', 'phone', 'mom', 'one', 'hard', 'hear', 'phone', 'ring', 'extrem', 'faint', 'ring', 'volum', 'cannot', 'increas', 'guess', 'get', 'pay', 'disappoint', 'bought', 'phone', 'mom', 'one', 'hard', 'hear', 'phone', 'ring', 'extrem', 'faint', 'ring', 'volum', 'cannot', 'increas', 'guess', 'get', 'pay', 'disappoint', 'bought', 'phone', 'mom', 'one', 'hard', 'hear', 'phone', 'ring', 'extrem', 'faint', 'ring', 'volum', 'cannot', 'increas', 'guess', 'get', 'pay', 'disappoint', 'bought', 'phone', 'mom', 'one', 'hard', 'hear', 'phone', 'ring', 'extrem', 'faint', 'ring', 'volum', 'cannot', 'increas', 'guess', 'get', 'pay', 'disappoint', 'bought', 'phone', 'mom', 'one', 'hard', 'hear', 'phone', 'ring', 'extrem', 'faint', 'ring', 'volum', 'cannot', 'increas', 'guess', 'get', 'pay', 'disappoint', 'bought', 'phone', 'mom', 'one', 'hard', 'hear', 'phone', 'ring', 'extrem', 'faint', 'ring', 'volum', 'cannot', 'increas', 'guess', 'get', 'pay', 'disappoint', 'bought', 'phone', 'mom', 'one', 'hard', 'hear', 'phone', 'ring', 'extrem', 'faint', 'ring', 'volum', 'cannot', 'increas', 'guess', 'get', 'pay', 'disappoint', 'bought', 'phone', 'mom', 'one', 'hard', 'hear', 'phone', 'ring', 'extrem', 'faint', 'ring', 'volum', 'cannot', 'increas', 'guess', 'get', 'pay', 'disappoint', 'bought', 'phone', 'mom', 'one', 'hard', 'hear', 'phone', 'ring', 'extrem', 'faint', 'ring', 'volum', 'cannot', 'increas', 'guess', 'get', 'pay', 'disappoint', 'bought', 'phone', 'mom', 'one', 'hard', 'hear', 'phone', 'ring', 'extrem', 'faint', 'ring', 'volum', 'cannot', 'increas', 'guess', 'get', 'pay', 'disappoint', 'bought', 'phone', 'mom', 'one', 'hard', 'hear', 'phone', 'ring', 'extrem', 'faint', 'ring', 'volum', 'cannot', 'increas', 'guess', 'get', 'pay', 'disappoint', 'bought', 'phone', 'mom', 'one', 'hard', 'hear', 'phone', 'ring', 'extrem', 'faint', 'ring', 'volum', 'cannot', 'increas', 'guess', 'get', 'pay', 'disappoint', 'bought', 'phone', 'mom', 'one', 'hard', 'hear', 'phone', 'ring', 'extrem', 'faint', 'ring', 'volum', 'cannot', 'increas', 'guess', 'get', 'pay', 'disappoint', 'bought', 'phone', 'mom', 'one', 'hard', 'hear', 'phone', 'ring', 'extrem', 'faint', 'ring', 'volum', 'cannot', 'increas', 'guess', 'get', 'pay', 'disappoint', 'bought', 'phone', 'mom', 'one', 'hard', 'hear', 'phone', 'ring', 'extrem', 'faint', 'ring', 'volum', 'cannot', 'increas', 'guess', 'get', 'pay', 'disappoint', 'bought', 'phone', 'mom', 'one', 'hard', 'hear', 'phone', 'ring', 'extrem', 'faint', 'ring', 'volum', 'cannot', 'increas', 'guess', 'get', 'pay', 'disappoint', 'bought', 'phone', 'mom', 'one', 'hard', 'hear', 'phone', 'ring', 'extrem', 'faint', 'ring', 'volum', 'cannot', 'increas', 'guess', 'get', 'pay', 'disappoint', 'bought', 'phone', 'mom', 'one', 'hard', 'hear', 'phone', 'ring', 'extrem', 'faint', 'ring', 'volum', 'cannot', 'increas', 'guess', 'get', 'pay', 'disappoint', 'bought', 'phone', 'mom', 'one', 'hard', 'hear', 'phone', 'ring', 'extrem', 'faint', 'ring', 'volum', 'cannot', 'increas', 'guess', 'get', 'pay', 'disappoint', 'bought', 'phone', 'mom', 'one', 'hard', 'hear', 'phone', 'ring', 'extrem', 'faint', 'ring', 'volum', 'cannot', 'increas', 'guess', 'get', 'pay', 'disappoint', 'bought', 'phone', 'mom', 'one', 'hard', 'hear', 'phone', 'ring', 'extrem', 'faint', 'ring', 'volum', 'cannot', 'increas', 'guess', 'get', 'pay', 'disappoint', 'bought', 'phone', 'mom', 'one', 'hard', 'hear', 'phone', 'ring', 'extrem', 'faint', 'ring', 'volum', 'cannot', 'increas', 'guess', 'get', 'pay', 'disappoint', 'bought', 'phone', 'mom', 'one', 'hard', 'hear', 'phone', 'ring', 'extrem', 'faint', 'ring', 'volum', 'cannot', 'increas', 'guess', 'get', 'pay', 'disappoint', 'bought', 'phone', 'mom', 'one', 'hard', 'hear', 'phone', 'ring', 'extrem', 'faint', 'ring', 'volum', 'cannot', 'increas', 'guess', 'get', 'pay', 'disappoint', 'bought', 'phone', 'mom', 'one', 'hard', 'hear', 'phone', 'ring', 'extrem', 'faint', 'ring', 'volum', 'cannot', 'increas', 'guess', 'get', 'pay', 'disappoint', 'bought', 'phone', 'mom', 'one', 'hard', 'hear', 'phone', 'ring', 'extrem', 'faint', 'ring', 'volum', 'cannot', 'increas', 'guess', 'get', 'pay', 'disappoint', 'bought', 'phone', 'mom', 'one', 'hard', 'hear', 'phone', 'ring', 'extrem', 'faint', 'ring', 'volum', 'cannot', 'increas', 'guess', 'get', 'pay', 'disappoint', 'bought', 'phone', 'mom', 'one', 'hard', 'hear', 'phone', 'ring', 'extrem', 'faint', 'ring', 'volum', 'cannot', 'increas', 'guess', 'get', 'pay', 'disappoint', 'bought', 'phone', 'mom', 'one', 'hard', 'hear', 'phone', 'ring', 'extrem', 'faint', 'ring', 'volum', 'cannot', 'increas', 'guess', 'get', 'pay', 'disappoint', 'bought', 'phone', 'mom', 'one', 'hard', 'hear', 'phone', 'ring', 'extrem', 'faint', 'ring', 'volum', 'cannot', 'increas', 'guess', 'get', 'pay', 'disappoint', 'bought', 'phone', 'mom', 'one', 'hard', 'hear', 'phone', 'ring', 'extrem', 'faint', 'ring', 'volum', 'cannot', 'increas', 'guess', 'get', 'pay', 'disappoint', 'bought', 'phone', 'mom', 'one', 'hard', 'hear', 'phone', 'ring', 'extrem', 'faint', 'ring', 'volum', 'cannot', 'increas', 'guess', 'get', 'pay', 'disappoint', 'bought', 'phone', 'mom', 'one', 'hard', 'hear', 'phone', 'ring', 'extrem', 'faint', 'ring', 'volum', 'cannot', 'increas', 'guess', 'get', 'pay', 'disappoint', 'bought', 'phone', 'mom', 'one', 'hard', 'hear', 'phone', 'ring', 'extrem', 'faint', 'ring', 'volum', 'cannot', 'increas', 'guess', 'get', 'pay', 'disappoint', 'bought', 'phone', 'mom', 'one', 'hard', 'hear', 'phone', 'ring', 'extrem', 'faint', 'ring', 'volum', 'cannot', 'increas', 'guess', 'get', 'pay', 'disappoint', 'bought', 'phone', 'mom', 'one', 'hard', 'hear', 'phone', 'ring', 'extrem', 'faint', 'ring', 'volum', 'cannot', 'increas', 'guess', 'get', 'pay', 'disappoint', 'bought', 'phone', 'mom', 'one', 'hard', 'hear', 'phone', 'ring', 'extrem', 'faint', 'ring', 'volum', 'cannot', 'increas', 'guess', 'get', 'pay', 'disappoint', 'bought', 'phone', 'mom', 'one', 'hard', 'hear', 'phone', 'ring', 'extrem', 'faint', 'ring', 'volum', 'cannot', 'increas', 'guess', 'get', 'pay', 'disappoint', 'bought', 'phone', 'mom', 'one', 'hard', 'hear', 'phone', 'ring', 'extrem', 'faint', 'ring', 'volum', 'cannot', 'increas', 'guess', 'get', 'pay', 'disappoint', 'bought', 'phone', 'mom', 'one', 'hard', 'hear', 'phone', 'ring', 'extrem', 'faint', 'ring', 'volum', 'cannot', 'increas', 'guess', 'get', 'pay', 'disappoint', 'bought', 'phone', 'mom', 'one', 'hard', 'hear', 'phone', 'ring', 'extrem', 'faint', 'ring', 'volum', 'cannot', 'increas', 'guess', 'get', 'pay', 'disappoint', 'bought', 'phone', 'mom', 'one', 'hard', 'hear', 'phone', 'ring', 'extrem', 'faint', 'ring', 'volum', 'cannot', 'increas', 'guess', 'get', 'pay', 'disappoint', 'bought', 'phone', 'mom', 'one', 'hard', 'hear', 'phone', 'ring', 'extrem', 'faint', 'ring', 'volum', 'cannot', 'increas', 'guess', 'get', 'pay', 'disappoint', 'bought', 'phone', 'mom', 'one', 'hard', 'hear', 'phone', 'ring', 'extrem', 'faint', 'ring', 'volum', 'cannot', 'increas', 'guess', 'get', 'pay', 'disappoint', 'bought', 'phone', 'mom', 'one', 'hard', 'hear', 'phone', 'ring', 'extrem', 'faint', 'ring', 'volum', 'cannot', 'increas', 'guess', 'get', 'pay', 'disappoint', 'bought', 'phone', 'mom', 'one', 'hard', 'hear', 'phone', 'ring', 'extrem', 'faint', 'ring', 'volum', 'cannot', 'increas', 'guess', 'get', 'pay', 'disappoint', 'bought', 'phone', 'mom', 'one', 'hard', 'hear', 'phone', 'ring', 'extrem', 'faint', 'ring', 'volum', 'cannot', 'increas', 'guess', 'get', 'pay', 'disappoint', 'bought', 'phone', 'mom', 'one', 'hard', 'hear', 'phone', 'ring', 'extrem', 'faint', 'ring', 'volum', 'cannot', 'increas', 'guess', 'get', 'pay', 'disappoint', 'bought', 'phone', 'mom', 'one', 'hard', 'hear', 'phone', 'ring', 'extrem', 'faint', 'ring', 'volum', 'cannot', 'increas', 'guess', 'get', 'pay', 'disappoint', 'bought', 'phone', 'mom', 'one', 'hard', 'hear', 'phone', 'ring', 'extrem', 'faint', 'ring', 'volum', 'cannot', 'increas', 'guess', 'get', 'pay', 'disappoint', 'bought', 'phone', 'mom', 'one', 'hard', 'hear', 'phone', 'ring', 'extrem', 'faint', 'ring', 'volum', 'cannot', 'increas', 'guess', 'get', 'pay', 'disappoint', 'bought', 'phone', 'mom', 'one', 'hard', 'hear', 'phone', 'ring', 'extrem', 'faint', 'ring', 'volum', 'cannot', 'increas', 'guess', 'get', 'pay', 'disappoint', 'bought', 'phone', 'mom', 'one', 'hard', 'hear', 'phone', 'ring', 'extrem', 'faint', 'ring', 'volum', 'cannot', 'increas', 'guess', 'get', 'pay', 'disappoint', 'bought', 'phone', 'mom', 'one', 'hard', 'hear', 'phone', 'ring', 'extrem', 'faint', 'ring', 'volum', 'cannot', 'increas', 'guess', 'get', 'pay', 'disappoint', 'bought', 'phone', 'mom', 'one', 'hard', 'hear', 'phone', 'ring', 'extrem', 'faint', 'ring', 'volum', 'cannot', 'increas', 'guess', 'get', 'pay', 'disappoint', 'bought', 'phone', 'mom', 'one', 'hard', 'hear', 'phone', 'ring', 'extrem', 'faint', 'ring', 'volum', 'cannot', 'increas', 'guess', 'get', 'pay', 'disappoint', 'bought', 'phone', 'mom', 'one', 'hard', 'hear', 'phone', 'ring', 'extrem', 'faint', 'ring', 'volum', 'cannot', 'increas', 'guess', 'get', 'pay', 'disappoint', 'bought', 'phone', 'mom', 'one', 'hard', 'hear', 'phone', 'ring', 'extrem', 'faint', 'ring', 'volum', 'cannot', 'increas', 'guess', 'get', 'pay', 'disappoint', 'bought', 'phone', 'mom', 'one', 'hard', 'hear', 'phone', 'ring', 'extrem', 'faint', 'ring', 'volum', 'cannot', 'increas', 'guess', 'get', 'pay', 'disappoint', 'bought', 'phone', 'mom', 'one', 'hard', 'hear', 'phone', 'ring', 'extrem', 'faint', 'ring', 'volum', 'cannot', 'increas', 'guess', 'get', 'pay', 'disappoint', 'bought', 'phone', 'mom', 'one', 'hard', 'hear', 'phone', 'ring', 'extrem', 'faint', 'ring', 'volum', 'cannot', 'increas', 'guess', 'get', 'pay', 'disappoint', 'bought', 'phone', 'mom', 'one', 'hard', 'hear', 'phone', 'ring', 'extrem', 'faint', 'ring', 'volum', 'cannot', 'increas', 'guess', 'get', 'pay', 'disappoint', 'bought', 'phone', 'mom', 'one', 'hard', 'hear', 'phone', 'ring', 'extrem', 'faint', 'ring', 'volum', 'cannot', 'increas', 'guess', 'get', 'pay', 'disappoint', 'bought', 'phone', 'mom', 'one', 'hard', 'hear', 'phone', 'ring', 'extrem', 'faint', 'ring', 'volum', 'cannot', 'increas', 'guess', 'get', 'pay', 'disappoint', 'bought', 'phone', 'mom', 'one', 'hard', 'hear', 'phone', 'ring', 'extrem', 'faint', 'ring', 'volum', 'cannot', 'increas', 'guess', 'get', 'pay', 'disappoint', 'bought', 'phone', 'mom', 'one', 'hard', 'hear', 'phone', 'ring', 'extrem', 'faint', 'ring', 'volum', 'cannot', 'increas', 'guess', 'get', 'pay', 'disappoint', 'bought', 'phone', 'mom', 'one', 'hard', 'hear', 'phone', 'ring', 'extrem', 'faint', 'ring', 'volum', 'cannot', 'increas', 'guess', 'get', 'pay', 'disappoint', 'bought', 'phone', 'mom', 'one', 'hard', 'hear', 'phone', 'ring', 'extrem', 'faint', 'ring', 'volum', 'cannot', 'increas', 'guess', 'get', 'pay', 'disappoint', 'bought', 'phone', 'mom', 'one', 'hard', 'hear', 'phone', 'ring', 'extrem', 'faint', 'ring', 'volum', 'cannot', 'increas', 'guess', 'get', 'pay', 'disappoint', 'bought', 'phone', 'mom', 'one', 'hard', 'hear', 'phone', 'ring', 'extrem', 'faint', 'ring', 'volum', 'cannot', 'increas', 'guess', 'get', 'pay', 'disappoint', 'bought', 'phone', 'mom', 'one', 'hard', 'hear', 'phone', 'ring', 'extrem', 'faint', 'ring', 'volum', 'cannot', 'increas', 'guess', 'get', 'pay', 'disappoint', 'bought', 'phone', 'mom', 'one', 'hard', 'hear', 'phone', 'ring', 'extrem', 'faint', 'ring', 'volum', 'cannot', 'increas', 'guess', 'get', 'pay', 'disappoint', 'bought', 'phone', 'mom', 'one', 'hard', 'hear', 'phone', 'ring', 'extrem', 'faint', 'ring', 'volum', 'cannot', 'increas', 'guess', 'get', 'pay', 'disappoint', 'bought', 'phone', 'mom', 'one', 'hard', 'hear', 'phone', 'ring', 'extrem', 'faint', 'ring', 'volum', 'cannot', 'increas', 'guess', 'get', 'pay', 'disappoint', 'bought', 'phone', 'mom', 'one', 'hard', 'hear', 'phone', 'ring', 'extrem', 'faint', 'ring', 'volum', 'cannot', 'increas', 'guess', 'get', 'pay', 'disappoint', 'bought', 'phone', 'mom', 'one', 'hard', 'hear', 'phone', 'ring', 'extrem', 'faint', 'ring', 'volum', 'cannot', 'increas', 'guess', 'get', 'pay', 'disappoint', 'bought', 'phone', 'mom', 'one', 'hard', 'hear', 'phone', 'ring', 'extrem', 'faint', 'ring', 'volum', 'cannot', 'increas', 'guess', 'get', 'pay', 'disappoint', 'bought', 'phone', 'mom', 'one', 'hard', 'hear', 'phone', 'ring', 'extrem', 'faint', 'ring', 'volum', 'cannot', 'increas', 'guess', 'get', 'pay', 'disappoint', 'bought', 'phone', 'mom', 'one', 'hard', 'hear', 'phone', 'ring', 'extrem', 'faint', 'ring', 'volum', 'cannot', 'increas', 'guess', 'get', 'pay', 'disappoint', 'bought', 'phone', 'mom', 'one', 'hard', 'hear', 'phone', 'ring', 'extrem', 'faint', 'ring', 'volum', 'cannot', 'increas', 'guess', 'get', 'pay', 'disappoint', 'bought', 'phone', 'mom', 'one', 'hard', 'hear', 'phone', 'ring', 'extrem', 'faint', 'ring', 'volum', 'cannot', 'increas', 'guess', 'get', 'pay', 'disappoint', 'bought', 'phone', 'mom', 'one', 'hard', 'hear', 'phone', 'ring', 'extrem', 'faint', 'ring', 'volum', 'cannot', 'increas', 'guess', 'get', 'pay', 'disappoint', 'bought', 'phone', 'mom', 'one', 'hard', 'hear', 'phone', 'ring', 'extrem', 'faint', 'ring', 'volum', 'cannot', 'increas', 'guess', 'get', 'pay', 'disappoint', 'bought', 'phone', 'mom', 'one', 'hard', 'hear', 'phone', 'ring', 'extrem', 'faint', 'ring', 'volum', 'cannot', 'increas', 'guess', 'get', 'pay', 'disappoint', 'bought', 'phone', 'mom', 'one', 'hard', 'hear', 'phone', 'ring', 'extrem', 'faint', 'ring', 'volum', 'cannot', 'increas', 'guess', 'get', 'pay', 'disappoint', 'bought', 'phone', 'mom', 'one', 'hard', 'hear', 'phone', 'ring', 'extrem', 'faint', 'ring', 'volum', 'cannot', 'increas', 'guess', 'get', 'pay', 'disappoint', 'bought', 'phone', 'mom', 'one', 'hard', 'hear', 'phone', 'ring', 'extrem', 'faint', 'ring', 'volum', 'cannot', 'increas', 'guess', 'get', 'pay', 'disappoint', 'bought', 'phone', 'mom', 'one', 'hard', 'hear', 'phone', 'ring', 'extrem', 'faint', 'ring', 'volum', 'cannot', 'increas', 'guess', 'get', 'pay', 'disappoint', 'bought', 'phone', 'mom', 'one', 'hard', 'hear', 'phone', 'ring', 'extrem', 'faint', 'ring', 'volum', 'cannot', 'increas', 'guess', 'get', 'pay', 'disappoint', 'bought', 'phone', 'mom', 'one', 'hard', 'hear', 'phone', 'ring', 'extrem', 'faint', 'ring', 'volum', 'cannot', 'increas', 'guess', 'get', 'pay', 'disappoint', 'bought', 'phone', 'mom', 'one', 'hard', 'hear', 'phone', 'ring', 'extrem', 'faint', 'ring', 'volum', 'cannot', 'increas', 'guess', 'get', 'pay', 'disappoint', 'bought', 'phone', 'mom', 'one', 'hard', 'hear', 'phone', 'ring', 'extrem', 'faint', 'ring', 'volum', 'cannot', 'increas', 'guess', 'get', 'pay', 'disappoint', 'bought', 'phone', 'mom', 'one', 'hard', 'hear', 'phone', 'ring', 'extrem', 'faint', 'ring', 'volum', 'cannot', 'increas', 'guess', 'get', 'pay', 'disappoint', 'bought', 'phone', 'mom', 'one', 'hard', 'hear', 'phone', 'ring', 'extrem', 'faint', 'ring', 'volum', 'cannot', 'increas', 'guess', 'get', 'pay', 'disappoint', 'bought', 'phone', 'mom', 'one', 'hard', 'hear', 'phone', 'ring', 'extrem', 'faint', 'ring', 'volum', 'cannot', 'increas', 'guess', 'get', 'pay', 'disappoint', 'bought', 'phone', 'mom', 'one', 'hard', 'hear', 'phone', 'ring', 'extrem', 'faint', 'ring', 'volum', 'cannot', 'increas', 'guess', 'get', 'pay', 'disappoint', 'bought', 'phone', 'mom', 'one', 'hard', 'hear', 'phone', 'ring', 'extrem', 'faint', 'ring', 'volum', 'cannot', 'increas', 'guess', 'get', 'pay', 'disappoint', 'bought', 'phone', 'mom', 'one', 'hard', 'hear', 'phone', 'ring', 'extrem', 'faint', 'ring', 'volum', 'cannot', 'increas', 'guess', 'get', 'pay', 'disappoint', 'bought', 'phone', 'mom', 'one', 'hard', 'hear', 'phone', 'ring', 'extrem', 'faint', 'ring', 'volum', 'cannot', 'increas', 'guess', 'get', 'pay', 'disappoint', 'bought', 'phone', 'mom', 'one', 'hard', 'hear', 'phone', 'ring', 'extrem', 'faint', 'ring', 'volum', 'cannot', 'increas', 'guess', 'get', 'pay', 'disappoint', 'bought', 'phone', 'mom', 'one', 'hard', 'hear', 'phone', 'ring', 'extrem', 'faint', 'ring', 'volum', 'cannot', 'increas', 'guess', 'get', 'pay', 'disappoint', 'bought', 'phone', 'mom', 'one', 'hard', 'hear', 'phone', 'ring', 'extrem', 'faint', 'ring', 'volum', 'cannot', 'increas', 'guess', 'get', 'pay', 'disappoint', 'bought', 'phone', 'mom', 'one', 'hard', 'hear', 'phone', 'ring', 'extrem', 'faint', 'ring', 'volum', 'cannot', 'increas', 'guess', 'get', 'pay', 'disappoint', 'bought', 'phone', 'mom', 'one', 'hard', 'hear', 'phone', 'ring', 'extrem', 'faint', 'ring', 'volum', 'cannot', 'increas', 'guess', 'get', 'pay', 'disappoint', 'bought', 'phone', 'mom', 'one', 'hard', 'hear', 'phone', 'ring', 'extrem', 'faint', 'ring', 'volum', 'cannot', 'increas', 'guess', 'get', 'pay', 'disappoint', 'bought', 'phone', 'mom', 'one', 'hard', 'hear', 'phone', 'ring', 'extrem', 'faint', 'ring', 'volum', 'cannot', 'increas', 'guess', 'get', 'pay', 'disappoint', 'bought', 'phone', 'mom', 'one', 'hard', 'hear', 'phone', 'ring', 'extrem', 'faint', 'ring', 'volum', 'cannot', 'increas', 'guess', 'get', 'pay', 'disappoint', 'bought', 'phone', 'mom', 'one', 'hard', 'hear', 'phone', 'ring', 'extrem', 'faint', 'ring', 'volum', 'cannot', 'increas', 'guess', 'get', 'pay', 'disappoint', 'bought', 'phone', 'mom', 'one', 'hard', 'hear', 'phone', 'ring', 'extrem', 'faint', 'ring', 'volum', 'cannot', 'increas', 'guess', 'get', 'pay', 'disappoint', 'bought', 'phone', 'mom', 'one', 'hard', 'hear', 'phone', 'ring', 'extrem', 'faint', 'ring', 'volum', 'cannot', 'increas', 'guess', 'get', 'pay', 'disappoint', 'bought', 'phone', 'mom', 'one', 'hard', 'hear', 'phone', 'ring', 'extrem', 'faint', 'ring', 'volum', 'cannot', 'increas', 'guess', 'get', 'pay', 'disappoint', 'bought', 'phone', 'mom', 'one', 'hard', 'hear', 'phone', 'ring', 'extrem', 'faint', 'ring', 'volum', 'cannot', 'increas', 'guess', 'get', 'pay', 'disappoint', 'bought', 'phone', 'mom', 'one', 'hard', 'hear', 'phone', 'ring', 'extrem', 'faint', 'ring', 'volum', 'cannot', 'increas', 'guess', 'get', 'pay', 'disappoint', 'bought', 'phone', 'mom', 'one', 'hard', 'hear', 'phone', 'ring', 'extrem', 'faint', 'ring', 'volum', 'cannot', 'increas', 'guess', 'get', 'pay', 'disappoint', 'bought', 'phone', 'mom', 'one', 'hard', 'hear', 'phone', 'ring', 'extrem', 'faint', 'ring', 'volum', 'cannot', 'increas', 'guess', 'get', 'pay', 'disappoint', 'bought', 'phone', 'mom', 'one', 'hard', 'hear', 'phone', 'ring', 'extrem', 'faint', 'ring', 'volum', 'cannot', 'increas', 'guess', 'get', 'pay', 'disappoint', 'bought', 'phone', 'mom', 'one', 'hard', 'hear', 'phone', 'ring', 'extrem', 'faint', 'ring', 'volum', 'cannot', 'increas', 'guess', 'get', 'pay', 'disappoint', 'bought', 'phone', 'mom', 'one', 'hard', 'hear', 'phone', 'ring', 'extrem', 'faint', 'ring', 'volum', 'cannot', 'increas', 'guess', 'get', 'pay', 'disappoint', 'bought', 'phone', 'mom', 'one', 'hard', 'hear', 'phone', 'ring', 'extrem', 'faint', 'ring', 'volum', 'cannot', 'increas', 'guess', 'get', 'pay', 'disappoint', 'bought', 'phone', 'mom', 'one', 'hard', 'hear', 'phone', 'ring', 'extrem', 'faint', 'ring', 'volum', 'cannot', 'increas', 'guess', 'get', 'pay', 'disappoint', 'bought', 'phone', 'mom', 'one', 'hard', 'hear', 'phone', 'ring', 'extrem', 'faint', 'ring', 'volum', 'cannot', 'increas', 'guess', 'get', 'pay', 'disappoint', 'bought', 'phone', 'mom', 'one', 'hard', 'hear', 'phone', 'ring', 'extrem', 'faint', 'ring', 'volum', 'cannot', 'increas', 'guess', 'get', 'pay', 'disappoint', 'bought', 'phone', 'mom', 'one', 'hard', 'hear', 'phone', 'ring', 'extrem', 'faint', 'ring', 'volum', 'cannot', 'increas', 'guess', 'get', 'pay', 'disappoint', 'bought', 'phone', 'mom', 'one', 'hard', 'hear', 'phone', 'ring', 'extrem', 'faint', 'ring', 'volum', 'cannot', 'increas', 'guess', 'get', 'pay', 'disappoint', 'bought', 'phone', 'mom', 'one', 'hard', 'hear', 'phone', 'ring', 'extrem', 'faint', 'ring', 'volum', 'cannot', 'increas', 'guess', 'get', 'pay', 'disappoint', 'bought', 'phone', 'mom', 'one', 'hard', 'hear', 'phone', 'ring', 'extrem', 'faint', 'ring', 'volum', 'cannot', 'increas', 'guess', 'get', 'pay', 'disappoint', 'bought', 'phone', 'mom', 'one', 'hard', 'hear', 'phone', 'ring', 'extrem', 'faint', 'ring', 'volum', 'cannot', 'increas', 'guess', 'get', 'pay', 'disappoint', 'bought', 'phone', 'mom', 'one', 'hard', 'hear', 'phone', 'ring', 'extrem', 'faint', 'ring', 'volum', 'cannot', 'increas', 'guess', 'get', 'pay', 'disappoint', 'bought', 'phone', 'mom', 'one', 'hard', 'hear', 'phone', 'ring', 'extrem', 'faint', 'ring', 'volum', 'cannot', 'increas', 'guess', 'get', 'pay', 'disappoint', 'bought', 'phone', 'mom', 'one', 'hard', 'hear', 'phone', 'ring', 'extrem', 'faint', 'ring', 'volum', 'cannot', 'increas', 'guess', 'get', 'pay', 'disappoint', 'bought', 'phone', 'mom', 'one', 'hard', 'hear', 'phone', 'ring', 'extrem', 'faint', 'ring', 'volum', 'cannot', 'increas', 'guess', 'get', 'pay', 'disappoint', 'bought', 'phone', 'mom', 'one', 'hard', 'hear', 'phone', 'ring', 'extrem', 'faint', 'ring', 'volum', 'cannot', 'increas', 'guess', 'get', 'pay', 'disappoint', 'bought', 'phone', 'mom', 'one', 'hard', 'hear', 'phone', 'ring', 'extrem', 'faint', 'ring', 'volum', 'cannot', 'increas', 'guess', 'get', 'pay', 'disappoint', 'bought', 'phone', 'mom', 'one', 'hard', 'hear', 'phone', 'ring', 'extrem', 'faint', 'ring', 'volum', 'cannot', 'increas', 'guess', 'get', 'pay', 'disappoint', 'bought', 'phone', 'mom', 'one', 'hard', 'hear', 'phone', 'ring', 'extrem', 'faint', 'ring', 'volum', 'cannot', 'increas', 'guess', 'get', 'pay', 'disappoint', 'bought', 'phone', 'mom', 'one', 'hard', 'hear', 'phone', 'ring', 'extrem', 'faint', 'ring', 'volum', 'cannot', 'increas', 'guess', 'get', 'pay', 'disappoint', 'bought', 'phone', 'mom', 'one', 'hard', 'hear', 'phone', 'ring', 'extrem', 'faint', 'ring', 'volum', 'cannot', 'increas', 'guess', 'get', 'pay', 'disappoint', 'bought', 'phone', 'mom', 'one', 'hard', 'hear', 'phone', 'ring', 'extrem', 'faint', 'ring', 'volum', 'cannot', 'increas', 'guess', 'get', 'pay', 'disappoint', 'bought', 'phone', 'mom', 'one', 'hard', 'hear', 'phone', 'ring', 'extrem', 'faint', 'ring', 'volum', 'cannot', 'increas', 'guess', 'get', 'pay', 'disappoint', 'bought', 'phone', 'mom', 'one', 'hard', 'hear', 'phone', 'ring', 'extrem', 'faint', 'ring', 'volum', 'cannot', 'increas', 'guess', 'get', 'pay', 'disappoint', 'bought', 'phone', 'mom', 'one', 'hard', 'hear', 'phone', 'ring', 'extrem', 'faint', 'ring', 'volum', 'cannot', 'increas', 'guess', 'get', 'pay', 'disappoint', 'bought', 'phone', 'mom', 'one', 'hard', 'hear', 'phone', 'ring', 'extrem', 'faint', 'ring', 'volum', 'cannot', 'increas', 'guess', 'get', 'pay', 'disappoint', 'bought', 'phone', 'mom', 'one', 'hard', 'hear', 'phone', 'ring', 'extrem', 'faint', 'ring', 'volum', 'cannot', 'increas', 'guess', 'get', 'pay', 'disappoint', 'bought', 'phone', 'mom', 'one', 'hard', 'hear', 'phone', 'ring', 'extrem', 'faint', 'ring', 'volum', 'cannot', 'increas', 'guess', 'get', 'pay', 'disappoint', 'bought', 'phone', 'mom', 'one', 'hard', 'hear', 'phone', 'ring', 'extrem', 'faint', 'ring', 'volum', 'cannot', 'increas', 'guess', 'get', 'pay', 'disappoint', 'bought', 'phone', 'mom', 'one', 'hard', 'hear', 'phone', 'ring', 'extrem', 'faint', 'ring', 'volum', 'cannot', 'increas', 'guess', 'get', 'pay', 'disappoint', 'bought', 'phone', 'mom', 'one', 'hard', 'hear', 'phone', 'ring', 'extrem', 'faint', 'ring', 'volum', 'cannot', 'increas', 'guess', 'get', 'pay', 'disappoint', 'bought', 'phone', 'mom', 'one', 'hard', 'hear', 'phone', 'ring', 'extrem', 'faint', 'ring', 'volum', 'cannot', 'increas', 'guess', 'get', 'pay', 'disappoint', 'bought', 'phone', 'mom', 'one', 'hard', 'hear', 'phone', 'ring', 'extrem', 'faint', 'ring', 'volum', 'cannot', 'increas', 'guess', 'get', 'pay', 'disappoint', 'bought', 'phone', 'mom', 'one', 'hard', 'hear', 'phone', 'ring', 'extrem', 'faint', 'ring', 'volum', 'cannot', 'increas', 'guess', 'get', 'pay', 'disappoint', 'bought', 'phone', 'mom', 'one', 'hard', 'hear', 'phone', 'ring', 'extrem', 'faint', 'ring', 'volum', 'cannot', 'increas', 'guess', 'get', 'pay', 'disappoint', 'bought', 'phone', 'mom', 'one', 'hard', 'hear', 'phone', 'ring', 'extrem', 'faint', 'ring', 'volum', 'cannot', 'increas', 'guess', 'get', 'pay', 'disappoint', 'bought', 'phone', 'mom', 'one', 'hard', 'hear', 'phone', 'ring', 'extrem', 'faint', 'ring', 'volum', 'cannot', 'increas', 'guess', 'get', 'pay', 'disappoint', 'bought', 'phone', 'mom', 'one', 'hard', 'hear', 'phone', 'ring', 'extrem', 'faint', 'ring', 'volum', 'cannot', 'increas', 'guess', 'get', 'pay', 'disappoint', 'bought', 'phone', 'mom', 'one', 'hard', 'hear', 'phone', 'ring', 'extrem', 'faint', 'ring', 'volum', 'cannot', 'increas', 'guess', 'get', 'pay', 'disappoint', 'bought', 'phone', 'mom', 'one', 'hard', 'hear', 'phone', 'ring', 'extrem', 'faint', 'ring', 'volum', 'cannot', 'increas', 'guess', 'get', 'pay', 'disappoint', 'bought', 'phone', 'mom', 'one', 'hard', 'hear', 'phone', 'ring', 'extrem', 'faint', 'ring', 'volum', 'cannot', 'increas', 'guess', 'get', 'pay', 'disappoint', 'bought', 'phone', 'mom', 'one', 'hard', 'hear', 'phone', 'ring', 'extrem', 'faint', 'ring', 'volum', 'cannot', 'increas', 'guess', 'get', 'pay', 'disappoint', 'bought', 'phone', 'mom', 'one', 'hard', 'hear', 'phone', 'ring', 'extrem', 'faint', 'ring', 'volum', 'cannot', 'increas', 'guess', 'get', 'pay', 'disappoint', 'bought', 'phone', 'mom', 'one', 'hard', 'hear', 'phone', 'ring', 'extrem', 'faint', 'ring', 'volum', 'cannot', 'increas', 'guess', 'get', 'pay', 'disappoint', 'bought', 'phone', 'mom', 'one', 'hard', 'hear', 'phone', 'ring', 'extrem', 'faint', 'ring', 'volum', 'cannot', 'increas', 'guess', 'get', 'pay', 'disappoint', 'bought', 'phone', 'mom', 'one', 'hard', 'hear', 'phone', 'ring', 'extrem', 'faint', 'ring', 'volum', 'cannot', 'increas', 'guess', 'get', 'pay', 'disappoint', 'bought', 'phone', 'mom', 'one', 'hard', 'hear', 'phone', 'ring', 'extrem', 'faint', 'ring', 'volum', 'cannot', 'increas', 'guess', 'get', 'pay', 'disappoint', 'bought', 'phone', 'mom', 'one', 'hard', 'hear', 'phone', 'ring', 'extrem', 'faint', 'ring', 'volum', 'cannot', 'increas', 'guess', 'get', 'pay', 'disappoint', 'bought', 'phone', 'mom', 'one', 'hard', 'hear', 'phone', 'ring', 'extrem', 'faint', 'ring', 'volum', 'cannot', 'increas', 'guess', 'get', 'pay', 'disappoint', 'bought', 'phone', 'mom', 'one', 'hard', 'hear', 'phone', 'ring', 'extrem', 'faint', 'ring', 'volum', 'cannot', 'increas', 'guess', 'get', 'pay', 'disappoint', 'bought', 'phone', 'mom', 'one', 'hard', 'hear', 'phone', 'ring', 'extrem', 'faint', 'ring', 'volum', 'cannot', 'increas', 'guess', 'get', 'pay', 'disappoint', 'bought', 'phone', 'mom', 'one', 'hard', 'hear', 'phone', 'ring', 'extrem', 'faint', 'ring', 'volum', 'cannot', 'increas', 'guess', 'get', 'pay', 'disappoint', 'bought', 'phone', 'mom', 'one', 'hard', 'hear', 'phone', 'ring', 'extrem', 'faint', 'ring', 'volum', 'cannot', 'increas', 'guess', 'get', 'pay', 'disappoint', 'bought', 'phone', 'mom', 'one', 'hard', 'hear', 'phone', 'ring', 'extrem', 'faint', 'ring', 'volum', 'cannot', 'increas', 'guess', 'get', 'pay', 'disappoint', 'bought', 'phone', 'mom', 'one', 'hard', 'hear', 'phone', 'ring', 'extrem', 'faint', 'ring', 'volum', 'cannot', 'increas', 'guess', 'get', 'pay', 'disappoint', 'bought', 'phone', 'mom', 'one', 'hard', 'hear', 'phone', 'ring', 'extrem', 'faint', 'ring', 'volum', 'cannot', 'increas', 'guess', 'get', 'pay', 'disappoint', 'bought', 'phone', 'mom', 'one', 'hard', 'hear', 'phone', 'ring', 'extrem', 'faint', 'ring', 'volum', 'cannot', 'increas', 'guess', 'get', 'pay', 'disappoint', 'bought', 'phone', 'mom', 'one', 'hard', 'hear', 'phone', 'ring', 'extrem', 'faint', 'ring', 'volum', 'cannot', 'increas', 'guess', 'get', 'pay', 'disappoint', 'bought', 'phone', 'mom', 'one', 'hard', 'hear', 'phone', 'ring', 'extrem', 'faint', 'ring', 'volum', 'cannot', 'increas', 'guess', 'get', 'pay', 'disappoint', 'bought', 'phone', 'mom', 'one', 'hard', 'hear', 'phone', 'ring', 'extrem', 'faint', 'ring', 'volum', 'cannot', 'increas', 'guess', 'get', 'pay', 'disappoint', 'bought', 'phone', 'mom', 'one', 'hard', 'hear', 'phone', 'ring', 'extrem', 'faint', 'ring', 'volum', 'cannot', 'increas', 'guess', 'get', 'pay', 'disappoint', 'bought', 'phone', 'mom', 'one', 'hard', 'hear', 'phone', 'ring', 'extrem', 'faint', 'ring', 'volum', 'cannot', 'increas', 'guess', 'get', 'pay', 'disappoint', 'bought', 'phone', 'mom', 'one', 'hard', 'hear', 'phone', 'ring', 'extrem', 'faint', 'ring', 'volum', 'cannot', 'increas', 'guess', 'get', 'pay', 'disappoint', 'bought', 'phone', 'mom', 'one', 'hard', 'hear', 'phone', 'ring', 'extrem', 'faint', 'ring', 'volum', 'cannot', 'increas', 'guess', 'get', 'pay', 'disappoint', 'bought', 'phone', 'mom', 'one', 'hard', 'hear', 'phone', 'ring', 'extrem', 'faint', 'ring', 'volum', 'cannot', 'increas', 'guess', 'get', 'pay', 'disappoint', 'bought', 'phone', 'mom', 'one', 'hard', 'hear', 'phone', 'ring', 'extrem', 'faint', 'ring', 'volum', 'cannot', 'increas', 'guess', 'get', 'pay', 'disappoint', 'bought', 'phone', 'mom', 'one', 'hard', 'hear', 'phone', 'ring', 'extrem', 'faint', 'ring', 'volum', 'cannot', 'increas', 'guess', 'get', 'pay', 'disappoint', 'bought', 'phone', 'mom', 'one', 'hard', 'hear', 'phone', 'ring', 'extrem', 'faint', 'ring', 'volum', 'cannot', 'increas', 'guess', 'get', 'pay', 'disappoint', 'bought', 'phone', 'mom', 'one', 'hard', 'hear', 'phone', 'ring', 'extrem', 'faint', 'ring', 'volum', 'cannot', 'increas', 'guess', 'get', 'pay', 'disappoint', 'bought', 'phone', 'mom', 'one', 'hard', 'hear', 'phone', 'ring', 'extrem', 'faint', 'ring', 'volum', 'cannot', 'increas', 'guess', 'get', 'pay', 'disappoint', 'bought', 'phone', 'mom', 'one', 'hard', 'hear', 'phone', 'ring', 'extrem', 'faint', 'ring', 'volum', 'cannot', 'increas', 'guess', 'get', 'pay', 'disappoint', 'bought', 'phone', 'mom', 'one', 'hard', 'hear', 'phone', 'ring', 'extrem', 'faint', 'ring', 'volum', 'cannot', 'increas', 'guess', 'get', 'pay', 'disappoint', 'bought', 'phone', 'mom', 'one', 'hard', 'hear', 'phone', 'ring', 'extrem', 'faint', 'ring', 'volum', 'cannot', 'increas', 'guess', 'get', 'pay', 'disappoint', 'bought', 'phone', 'mom', 'one', 'hard', 'hear', 'phone', 'ring', 'extrem', 'faint', 'ring', 'volum', 'cannot', 'increas', 'guess', 'get', 'pay', 'disappoint', 'bought', 'phone', 'mom', 'one', 'hard', 'hear', 'phone', 'ring', 'extrem', 'faint', 'ring', 'volum', 'cannot', 'increas', 'guess', 'get', 'pay', 'disappoint', 'bought', 'phone', 'mom', 'one', 'hard', 'hear', 'phone', 'ring', 'extrem', 'faint', 'ring', 'volum', 'cannot', 'increas', 'guess', 'get', 'pay', 'disappoint', 'bought', 'phone', 'mom', 'one', 'hard', 'hear', 'phone', 'ring', 'extrem', 'faint', 'ring', 'volum', 'cannot', 'increas', 'guess', 'get', 'pay', 'disappoint', 'bought', 'phone', 'mom', 'one', 'hard', 'hear', 'phone', 'ring', 'extrem', 'faint', 'ring', 'volum', 'cannot', 'increas', 'guess', 'get', 'pay', 'disappoint', 'bought', 'phone', 'mom', 'one', 'hard', 'hear', 'phone', 'ring', 'extrem', 'faint', 'ring', 'volum', 'cannot', 'increas', 'guess', 'get', 'pay', 'disappoint', 'bought', 'phone', 'mom', 'one', 'hard', 'hear', 'phone', 'ring', 'extrem', 'faint', 'ring', 'volum', 'cannot', 'increas', 'guess', 'get', 'pay', 'disappoint', 'bought', 'phone', 'mom', 'one', 'hard', 'hear', 'phone', 'ring', 'extrem', 'faint', 'ring', 'volum', 'cannot', 'increas', 'guess', 'get', 'pay', 'disappoint', 'bought', 'phone', 'mom', 'one', 'hard', 'hear', 'phone', 'ring', 'extrem', 'faint', 'ring', 'volum', 'cannot', 'increas', 'guess', 'get', 'pay', 'disappoint', 'bought', 'phone', 'mom', 'one', 'hard', 'hear', 'phone', 'ring', 'extrem', 'faint', 'ring', 'volum', 'cannot', 'increas', 'guess', 'get', 'pay', 'disappoint', 'bought', 'phone', 'mom', 'one', 'hard', 'hear', 'phone', 'ring', 'extrem', 'faint', 'ring', 'volum', 'cannot', 'increas', 'guess', 'get', 'pay', 'disappoint', 'bought', 'phone', 'mom', 'one', 'hard', 'hear', 'phone', 'ring', 'extrem', 'faint', 'ring', 'volum', 'cannot', 'increas', 'guess', 'get', 'pay', 'disappoint', 'bought', 'phone', 'mom', 'one', 'hard', 'hear', 'phone', 'ring', 'extrem', 'faint', 'ring', 'volum', 'cannot', 'increas', 'guess', 'get', 'pay', 'disappoint', 'bought', 'phone', 'mom', 'one', 'hard', 'hear', 'phone', 'ring', 'extrem', 'faint', 'ring', 'volum', 'cannot', 'increas', 'guess', 'get', 'pay', 'disappoint', 'bought', 'phone', 'mom', 'one', 'hard', 'hear', 'phone', 'ring', 'extrem', 'faint', 'ring', 'volum', 'cannot', 'increas', 'guess', 'get', 'pay', 'disappoint', 'bought', 'phone', 'mom', 'one', 'hard', 'hear', 'phone', 'ring', 'extrem', 'faint', 'ring', 'volum', 'cannot', 'increas', 'guess', 'get', 'pay', 'disappoint', 'bought', 'phone', 'mom', 'one', 'hard', 'hear', 'phone', 'ring', 'extrem', 'faint', 'ring', 'volum', 'cannot', 'increas', 'guess', 'get', 'pay', 'disappoint', 'bought', 'phone', 'mom', 'one', 'hard', 'hear', 'phone', 'ring', 'extrem', 'faint', 'ring', 'volum', 'cannot', 'increas', 'guess', 'get', 'pay', 'disappoint', 'bought', 'phone', 'mom', 'one', 'hard', 'hear', 'phone', 'ring', 'extrem', 'faint', 'ring', 'volum', 'cannot', 'increas', 'guess', 'get', 'pay', 'disappoint', 'bought', 'phone', 'mom', 'one', 'hard', 'hear', 'phone', 'ring', 'extrem', 'faint', 'ring', 'volum', 'cannot', 'increas', 'guess', 'get', 'pay', 'disappoint', 'bought', 'phone', 'mom', 'one', 'hard', 'hear', 'phone', 'ring', 'extrem', 'faint', 'ring', 'volum', 'cannot', 'increas', 'guess', 'get', 'pay', 'disappoint', 'bought', 'phone', 'mom', 'one', 'hard', 'hear', 'phone', 'ring', 'extrem', 'faint', 'ring', 'volum', 'cannot', 'increas', 'guess', 'get', 'pay', 'disappoint', 'bought', 'phone', 'mom', 'one', 'hard', 'hear', 'phone', 'ring', 'extrem', 'faint', 'ring', 'volum', 'cannot', 'increas', 'guess', 'get', 'pay', 'disappoint', 'bought', 'phone', 'mom', 'one', 'hard', 'hear', 'phone', 'ring', 'extrem', 'faint', 'ring', 'volum', 'cannot', 'increas', 'guess', 'get', 'pay', 'disappoint', 'bought', 'phone', 'mom', 'one', 'hard', 'hear', 'phone', 'ring', 'extrem', 'faint', 'ring', 'volum', 'cannot', 'increas', 'guess', 'get', 'pay', 'disappoint', 'bought', 'phone', 'mom', 'one', 'hard', 'hear', 'phone', 'ring', 'extrem', 'faint', 'ring', 'volum', 'cannot', 'increas', 'guess', 'get', 'pay', 'disappoint', 'bought', 'phone', 'mom', 'one', 'hard', 'hear', 'phone', 'ring', 'extrem', 'faint', 'ring', 'volum', 'cannot', 'increas', 'guess', 'get', 'pay', 'disappoint', 'bought', 'phone', 'mom', 'one', 'hard', 'hear', 'phone', 'ring', 'extrem', 'faint', 'ring', 'volum', 'cannot', 'increas', 'guess', 'get', 'pay', 'disappoint', 'bought', 'phone', 'mom', 'one', 'hard', 'hear', 'phone', 'ring', 'extrem', 'faint', 'ring', 'volum', 'cannot', 'increas', 'guess', 'get', 'pay', 'disappoint', 'bought', 'phone', 'mom', 'one', 'hard', 'hear', 'phone', 'ring', 'extrem', 'faint', 'ring', 'volum', 'cannot', 'increas', 'guess', 'get', 'pay', 'disappoint', 'bought', 'phone', 'mom', 'one', 'hard', 'hear', 'phone', 'ring', 'extrem', 'faint', 'ring', 'volum', 'cannot', 'increas', 'guess', 'get', 'pay', 'disappoint', 'bought', 'phone', 'mom', 'one', 'hard', 'hear', 'phone', 'ring', 'extrem', 'faint', 'ring', 'volum', 'cannot', 'increas', 'guess', 'get', 'pay', 'disappoint', 'bought', 'phone', 'mom', 'one', 'hard', 'hear', 'phone', 'ring', 'extrem', 'faint', 'ring', 'volum', 'cannot', 'increas', 'guess', 'get', 'pay', 'disappoint', 'bought', 'phone', 'mom', 'one', 'hard', 'hear', 'phone', 'ring', 'extrem', 'faint', 'ring', 'volum', 'cannot', 'increas', 'guess', 'get', 'pay', 'disappoint', 'bought', 'phone', 'mom', 'one', 'hard', 'hear', 'phone', 'ring', 'extrem', 'faint', 'ring', 'volum', 'cannot', 'increas', 'guess', 'get', 'pay', 'disappoint', 'bought', 'phone', 'mom', 'one', 'hard', 'hear', 'phone', 'ring', 'extrem', 'faint', 'ring', 'volum', 'cannot', 'increas', 'guess', 'get', 'pay', 'disappoint', 'bought', 'phone', 'mom', 'one', 'hard', 'hear', 'phone', 'ring', 'extrem', 'faint', 'ring', 'volum', 'cannot', 'increas', 'guess', 'get', 'pay', 'disappoint', 'bought', 'phone', 'mom', 'one', 'hard', 'hear', 'phone', 'ring', 'extrem', 'faint', 'ring', 'volum', 'cannot', 'increas', 'guess', 'get', 'pay', 'disappoint', 'bought', 'phone', 'mom', 'one', 'hard', 'hear', 'phone', 'ring', 'extrem', 'faint', 'ring', 'volum', 'cannot', 'increas', 'guess', 'get', 'pay', 'disappoint', 'bought', 'phone', 'mom', 'one', 'hard', 'hear', 'phone', 'ring', 'extrem', 'faint', 'ring', 'volum', 'cannot', 'increas', 'guess', 'get', 'pay', 'disappoint', 'bought', 'phone', 'mom', 'one', 'hard', 'hear', 'phone', 'ring', 'extrem', 'faint', 'ring', 'volum', 'cannot', 'increas', 'guess', 'get', 'pay', 'disappoint', 'bought', 'phone', 'mom', 'one', 'hard', 'hear', 'phone', 'ring', 'extrem', 'faint', 'ring', 'volum', 'cannot', 'increas', 'guess', 'get', 'pay', 'disappoint', 'bought', 'phone', 'mom', 'one', 'hard', 'hear', 'phone', 'ring', 'extrem', 'faint', 'ring', 'volum', 'cannot', 'increas', 'guess', 'get', 'pay', 'disappoint', 'bought', 'phone', 'mom', 'one', 'hard', 'hear', 'phone', 'ring', 'extrem', 'faint', 'ring', 'volum', 'cannot', 'increas', 'guess', 'get', 'pay', 'disappoint', 'bought', 'phone', 'mom', 'one', 'hard', 'hear', 'phone', 'ring', 'extrem', 'faint', 'ring', 'volum', 'cannot', 'increas', 'guess', 'get', 'pay', 'disappoint', 'bought', 'phone', 'mom', 'one', 'hard', 'hear', 'phone', 'ring', 'extrem', 'faint', 'ring', 'volum', 'cannot', 'increas', 'guess', 'get', 'pay', 'disappoint', 'bought', 'phone', 'mom', 'one', 'hard', 'hear', 'phone', 'ring', 'extrem', 'faint', 'ring', 'volum', 'cannot', 'increas', 'guess', 'get', 'pay', 'disappoint', 'bought', 'phone', 'mom', 'one', 'hard', 'hear', 'phone', 'ring', 'extrem', 'faint', 'ring', 'volum', 'cannot', 'increas', 'guess', 'get', 'pay', 'disappoint', 'bought', 'phone', 'mom', 'one', 'hard', 'hear', 'phone', 'ring', 'extrem', 'faint', 'ring', 'volum', 'cannot', 'increas', 'guess', 'get', 'pay', 'disappoint', 'bought', 'phone', 'mom', 'one', 'hard', 'hear', 'phone', 'ring', 'extrem', 'faint', 'ring', 'volum', 'cannot', 'increas', 'guess', 'get', 'pay', 'disappoint', 'bought', 'phone', 'mom', 'one', 'hard', 'hear', 'phone', 'ring', 'extrem', 'faint', 'ring', 'volum', 'cannot', 'increas', 'guess', 'get', 'pay', 'disappoint', 'bought', 'phone', 'mom', 'one', 'hard', 'hear', 'phone', 'ring', 'extrem', 'faint', 'ring', 'volum', 'cannot', 'increas', 'guess', 'get', 'pay', 'disappoint', 'bought', 'phone', 'mom', 'one', 'hard', 'hear', 'phone', 'ring', 'extrem', 'faint', 'ring', 'volum', 'cannot', 'increas', 'guess', 'get', 'pay', 'disappoint', 'bought', 'phone', 'mom', 'one', 'hard', 'hear', 'phone', 'ring', 'extrem', 'faint', 'ring', 'volum', 'cannot', 'increas', 'guess', 'get', 'pay', 'disappoint', 'bought', 'phone', 'mom', 'one', 'hard', 'hear', 'phone', 'ring', 'extrem', 'faint', 'ring', 'volum', 'cannot', 'increas', 'guess', 'get', 'pay', 'disappoint', 'bought', 'phone', 'mom', 'one', 'hard', 'hear', 'phone', 'ring', 'extrem', 'faint', 'ring', 'volum', 'cannot', 'increas', 'guess', 'get', 'pay', 'disappoint', 'bought', 'phone', 'mom', 'one', 'hard', 'hear', 'phone', 'ring', 'extrem', 'faint', 'ring', 'volum', 'cannot', 'increas', 'guess', 'get', 'pay', 'disappoint', 'bought', 'phone', 'mom', 'one', 'hard', 'hear', 'phone', 'ring', 'extrem', 'faint', 'ring', 'volum', 'cannot', 'increas', 'guess', 'get', 'pay', 'disappoint', 'bought', 'phone', 'mom', 'one', 'hard', 'hear', 'phone', 'ring', 'extrem', 'faint', 'ring', 'volum', 'cannot', 'increas', 'guess', 'get', 'pay', 'disappoint', 'bought', 'phone', 'mom', 'one', 'hard', 'hear', 'phone', 'ring', 'extrem', 'faint', 'ring', 'volum', 'cannot', 'increas', 'guess', 'get', 'pay', 'disappoint', 'bought', 'phone', 'mom', 'one', 'hard', 'hear', 'phone', 'ring', 'extrem', 'faint', 'ring', 'volum', 'cannot', 'increas', 'guess', 'get', 'pay', 'disappoint', 'bought', 'phone', 'mom', 'one', 'hard', 'hear', 'phone', 'ring', 'extrem', 'faint', 'ring', 'volum', 'cannot', 'increas', 'guess', 'get', 'pay', 'disappoint', 'bought', 'phone', 'mom', 'one', 'hard', 'hear', 'phone', 'ring', 'extrem', 'faint', 'ring', 'volum', 'cannot', 'increas', 'guess', 'get', 'pay', 'disappoint', 'bought', 'phone', 'mom', 'one', 'hard', 'hear', 'phone', 'ring', 'extrem', 'faint', 'ring', 'volum', 'cannot', 'increas', 'guess', 'get', 'pay', 'disappoint', 'bought', 'phone', 'mom', 'one', 'hard', 'hear', 'phone', 'ring', 'extrem', 'faint', 'ring', 'volum', 'cannot', 'increas', 'guess', 'get', 'pay', 'disappoint', 'bought', 'phone', 'mom', 'one', 'hard', 'hear', 'phone', 'ring', 'extrem', 'faint', 'ring', 'volum', 'cannot', 'increas', 'guess', 'get', 'pay', 'disappoint', 'bought', 'phone', 'mom', 'one', 'hard', 'hear', 'phone', 'ring', 'extrem', 'faint', 'ring', 'volum', 'cannot', 'increas', 'guess', 'get', 'pay', 'disappoint', 'bought', 'phone', 'mom', 'one', 'hard', 'hear', 'phone', 'ring', 'extrem', 'faint', 'ring', 'volum', 'cannot', 'increas', 'guess', 'get', 'pay', 'disappoint', 'bought', 'phone', 'mom', 'one', 'hard', 'hear', 'phone', 'ring', 'extrem', 'faint', 'ring', 'volum', 'cannot', 'increas', 'guess', 'get', 'pay', 'disappoint', 'bought', 'phone', 'mom', 'one', 'hard', 'hear', 'phone', 'ring', 'extrem', 'faint', 'ring', 'volum', 'cannot', 'increas', 'guess', 'get', 'pay', 'disappoint', 'bought', 'phone', 'mom', 'one', 'hard', 'hear', 'phone', 'ring', 'extrem', 'faint', 'ring', 'volum', 'cannot', 'increas', 'guess', 'get', 'pay', 'disappoint', 'bought', 'phone', 'mom', 'one', 'hard', 'hear', 'phone', 'ring', 'extrem', 'faint', 'ring', 'volum', 'cannot', 'increas', 'guess', 'get', 'pay', 'disappoint', 'bought', 'phone', 'mom', 'one', 'hard', 'hear', 'phone', 'ring', 'extrem', 'faint', 'ring', 'volum', 'cannot', 'increas', 'guess', 'get', 'pay', 'disappoint', 'bought', 'phone', 'mom', 'one', 'hard', 'hear', 'phone', 'ring', 'extrem', 'faint', 'ring', 'volum', 'cannot', 'increas', 'guess', 'get', 'pay', 'disappoint', 'bought', 'phone', 'mom', 'one', 'hard', 'hear', 'phone', 'ring', 'extrem', 'faint', 'ring', 'volum', 'cannot', 'increas', 'guess', 'get', 'pay', 'disappoint', 'bought', 'phone', 'mom', 'one', 'hard', 'hear', 'phone', 'ring', 'extrem', 'faint', 'ring', 'volum', 'cannot', 'increas', 'guess', 'get', 'pay', 'disappoint', 'bought', 'phone', 'mom', 'one', 'hard', 'hear', 'phone', 'ring', 'extrem', 'faint', 'ring', 'volum', 'cannot', 'increas', 'guess', 'get', 'pay', 'disappoint', 'bought', 'phone', 'mom', 'one', 'hard', 'hear', 'phone', 'ring', 'extrem', 'faint', 'ring', 'volum', 'cannot', 'increas', 'guess', 'get', 'pay', 'disappoint', 'bought', 'phone', 'mom', 'one', 'hard', 'hear', 'phone', 'ring', 'extrem', 'faint', 'ring', 'volum', 'cannot', 'increas', 'guess', 'get', 'pay', 'disappoint', 'bought', 'phone', 'mom', 'one', 'hard', 'hear', 'phone', 'ring', 'extrem', 'faint', 'ring', 'volum', 'cannot', 'increas', 'guess', 'get', 'pay', 'disappoint', 'bought', 'phone', 'mom', 'one', 'hard', 'hear', 'phone', 'ring', 'extrem', 'faint', 'ring', 'volum', 'cannot', 'increas', 'guess', 'get', 'pay', 'disappoint', 'bought', 'phone', 'mom', 'one', 'hard', 'hear', 'phone', 'ring', 'extrem', 'faint', 'ring', 'volum', 'cannot', 'increas', 'guess', 'get', 'pay', 'disappoint', 'bought', 'phone', 'mom', 'one', 'hard', 'hear', 'phone', 'ring', 'extrem', 'faint', 'ring', 'volum', 'cannot', 'increas', 'guess', 'get', 'pay', 'disappoint', 'bought', 'phone', 'mom', 'one', 'hard', 'hear', 'phone', 'ring', 'extrem', 'faint', 'ring', 'volum', 'cannot', 'increas', 'guess', 'get', 'pay', 'disappoint', 'bought', 'phone', 'mom', 'one', 'hard', 'hear', 'phone', 'ring', 'extrem', 'faint', 'ring', 'volum', 'cannot', 'increas', 'guess', 'get', 'pay', 'disappoint', 'bought', 'phone', 'mom', 'one', 'hard', 'hear', 'phone', 'ring', 'extrem', 'faint', 'ring', 'volum', 'cannot', 'increas', 'guess', 'get', 'pay', 'disappoint', 'bought', 'phone', 'mom', 'one', 'hard', 'hear', 'phone', 'ring', 'extrem', 'faint', 'ring', 'volum', 'cannot', 'increas', 'guess', 'get', 'pay', 'disappoint', 'bought', 'phone', 'mom', 'one', 'hard', 'hear', 'phone', 'ring', 'extrem', 'faint', 'ring', 'volum', 'cannot', 'increas', 'guess', 'get', 'pay', 'disappoint', 'bought', 'phone', 'mom', 'one', 'hard', 'hear', 'phone', 'ring', 'extrem', 'faint', 'ring', 'volum', 'cannot', 'increas', 'guess', 'get', 'pay', 'disappoint', 'bought', 'phone', 'mom', 'one', 'hard', 'hear', 'phone', 'ring', 'extrem', 'faint', 'ring', 'volum', 'cannot', 'increas', 'guess', 'get', 'pay', 'disappoint', 'bought', 'phone', 'mom', 'one', 'hard', 'hear', 'phone', 'ring', 'extrem', 'faint', 'ring', 'volum', 'cannot', 'increas', 'guess', 'get', 'pay', 'disappoint', 'bought', 'phone', 'mom', 'one', 'hard', 'hear', 'phone', 'ring', 'extrem', 'faint', 'ring', 'volum', 'cannot', 'increas', 'guess', 'get', 'pay', 'disappoint', 'bought', 'phone', 'mom', 'one', 'hard', 'hear', 'phone', 'ring', 'extrem', 'faint', 'ring', 'volum', 'cannot', 'increas', 'guess', 'get', 'pay', 'disappoint', 'bought', 'phone', 'mom', 'one', 'hard', 'hear', 'phone', 'ring', 'extrem', 'faint', 'ring', 'volum', 'cannot', 'increas', 'guess', 'get', 'pay', 'disappoint', 'bought', 'phone', 'mom', 'one', 'hard', 'hear', 'phone', 'ring', 'extrem', 'faint', 'ring', 'volum', 'cannot', 'increas', 'guess', 'get', 'pay', 'disappoint', 'bought', 'phone', 'mom', 'one', 'hard', 'hear', 'phone', 'ring', 'extrem', 'faint', 'ring', 'volum', 'cannot', 'increas', 'guess', 'get', 'pay', 'disappoint', 'bought', 'phone', 'mom', 'one', 'hard', 'hear', 'phone', 'ring', 'extrem', 'faint', 'ring', 'volum', 'cannot', 'increas', 'guess', 'get', 'pay', 'disappoint', 'bought', 'phone', 'mom', 'one', 'hard', 'hear', 'phone', 'ring', 'extrem', 'faint', 'ring', 'volum', 'cannot', 'increas', 'guess', 'get', 'pay', 'disappoint', 'bought', 'phone', 'mom', 'one', 'hard', 'hear', 'phone', 'ring', 'extrem', 'faint', 'ring', 'volum', 'cannot', 'increas', 'guess', 'get', 'pay', 'disappoint', 'bought', 'phone', 'mom', 'one', 'hard', 'hear', 'phone', 'ring', 'extrem', 'faint', 'ring', 'volum', 'cannot', 'increas', 'guess', 'get', 'pay', 'disappoint', 'bought', 'phone', 'mom', 'one', 'hard', 'hear', 'phone', 'ring', 'extrem', 'faint', 'ring', 'volum', 'cannot', 'increas', 'guess', 'get', 'pay', 'disappoint', 'bought', 'phone', 'mom', 'one', 'hard', 'hear', 'phone', 'ring', 'extrem', 'faint', 'ring', 'volum', 'cannot', 'increas', 'guess', 'get', 'pay', 'disappoint', 'bought', 'phone', 'mom', 'one', 'hard', 'hear', 'phone', 'ring', 'extrem', 'faint', 'ring', 'volum', 'cannot', 'increas', 'guess', 'get', 'pay', 'disappoint', 'bought', 'phone', 'mom', 'one', 'hard', 'hear', 'phone', 'ring', 'extrem', 'faint', 'ring', 'volum', 'cannot', 'increas', 'guess', 'get', 'pay', 'disappoint', 'bought', 'phone', 'mom', 'one', 'hard', 'hear', 'phone', 'ring', 'extrem', 'faint', 'ring', 'volum', 'cannot', 'increas', 'guess', 'get', 'pay', 'disappoint', 'bought', 'phone', 'mom', 'one', 'hard', 'hear', 'phone', 'ring', 'extrem', 'faint', 'ring', 'volum', 'cannot', 'increas', 'guess', 'get', 'pay', 'disappoint', 'bought', 'phone', 'mom', 'one', 'hard', 'hear', 'phone', 'ring', 'extrem', 'faint', 'ring', 'volum', 'cannot', 'increas', 'guess', 'get', 'pay', 'disappoint', 'bought', 'phone', 'mom', 'one', 'hard', 'hear', 'phone', 'ring', 'extrem', 'faint', 'ring', 'volum', 'cannot', 'increas', 'guess', 'get', 'pay', 'disappoint', 'bought', 'phone', 'mom', 'one', 'hard', 'hear', 'phone', 'ring', 'extrem', 'faint', 'ring', 'volum', 'cannot', 'increas', 'guess', 'get', 'pay', 'disappoint', 'bought', 'phone', 'mom', 'one', 'hard', 'hear', 'phone', 'ring', 'extrem', 'faint', 'ring', 'volum', 'cannot', 'increas', 'guess', 'get', 'pay', 'disappoint', 'bought', 'phone', 'mom', 'one', 'hard', 'hear', 'phone', 'ring', 'extrem', 'faint', 'ring', 'volum', 'cannot', 'increas', 'guess', 'get', 'pay', 'disappoint', 'bought', 'phone', 'mom', 'one', 'hard', 'hear', 'phone', 'ring', 'extrem', 'faint', 'ring', 'volum', 'cannot', 'increas', 'guess', 'get', 'pay', 'disappoint', 'bought', 'phone', 'mom', 'one', 'hard', 'hear', 'phone', 'ring', 'extrem', 'faint', 'ring', 'volum', 'cannot', 'increas', 'guess', 'get', 'pay', 'disappoint', 'bought', 'phone', 'mom', 'one', 'hard', 'hear', 'phone', 'ring', 'extrem', 'faint', 'ring', 'volum', 'cannot', 'increas', 'guess', 'get', 'pay', 'disappoint', 'bought', 'phone', 'mom', 'one', 'hard', 'hear', 'phone', 'ring', 'extrem', 'faint', 'ring', 'volum', 'cannot', 'increas', 'guess', 'get', 'pay', 'disappoint', 'bought', 'phone', 'mom', 'one', 'hard', 'hear', 'phone', 'ring', 'extrem', 'faint', 'ring', 'volum', 'cannot', 'increas', 'guess', 'get', 'pay', 'disappoint', 'bought', 'phone', 'mom', 'one', 'hard', 'hear', 'phone', 'ring', 'extrem', 'faint', 'ring', 'volum', 'cannot', 'increas', 'guess', 'get', 'pay', 'disappoint', 'bought', 'phone', 'mom', 'one', 'hard', 'hear', 'phone', 'ring', 'extrem', 'faint', 'ring', 'volum', 'cannot', 'increas', 'guess', 'get', 'pay', 'disappoint', 'bought', 'phone', 'mom', 'one', 'hard', 'hear', 'phone', 'ring', 'extrem', 'faint', 'ring', 'volum', 'cannot', 'increas', 'guess', 'get', 'pay', 'disappoint', 'bought', 'phone', 'mom', 'one', 'hard', 'hear', 'phone', 'ring', 'extrem', 'faint', 'ring', 'volum', 'cannot', 'increas', 'guess', 'get', 'pay', 'disappoint', 'bought', 'phone', 'mom', 'one', 'hard', 'hear', 'phone', 'ring', 'extrem', 'faint', 'ring', 'volum', 'cannot', 'increas', 'guess', 'get', 'pay', 'disappoint', 'bought', 'phone', 'mom', 'one', 'hard', 'hear', 'phone', 'ring', 'extrem', 'faint', 'ring', 'volum', 'cannot', 'increas', 'guess', 'get', 'pay', 'disappoint', 'bought', 'phone', 'mom', 'one', 'hard', 'hear', 'phone', 'ring', 'extrem', 'faint', 'ring', 'volum', 'cannot', 'increas', 'guess', 'get', 'pay', 'disappoint', 'bought', 'phone', 'mom', 'one', 'hard', 'hear', 'phone', 'ring', 'extrem', 'faint', 'ring', 'volum', 'cannot', 'increas', 'guess', 'get', 'pay', 'disappoint', 'bought', 'phone', 'mom', 'one', 'hard', 'hear', 'phone', 'ring', 'extrem', 'faint', 'ring', 'volum', 'cannot', 'increas', 'guess', 'get', 'pay', 'disappoint', 'bought', 'phone', 'mom', 'one', 'hard', 'hear', 'phone', 'ring', 'extrem', 'faint', 'ring', 'volum', 'cannot', 'increas', 'guess', 'get', 'pay', 'disappoint', 'bought', 'phone', 'mom', 'one', 'hard', 'hear', 'phone', 'ring', 'extrem', 'faint', 'ring', 'volum', 'cannot', 'increas', 'guess', 'get', 'pay', 'disappoint', 'bought', 'phone', 'mom', 'one', 'hard', 'hear', 'phone', 'ring', 'extrem', 'faint', 'ring', 'volum', 'cannot', 'increas', 'guess', 'get', 'pay', 'disappoint', 'bought', 'phone', 'mom', 'one', 'hard', 'hear', 'phone', 'ring', 'extrem', 'faint', 'ring', 'volum', 'cannot', 'increas', 'guess', 'get', 'pay', 'disappoint', 'bought', 'phone', 'mom', 'one', 'hard', 'hear', 'phone', 'ring', 'extrem', 'faint', 'ring', 'volum', 'cannot', 'increas', 'guess', 'get', 'pay', 'disappoint', 'bought', 'phone', 'mom', 'one', 'hard', 'hear', 'phone', 'ring', 'extrem', 'faint', 'ring', 'volum', 'cannot', 'increas', 'guess', 'get', 'pay', 'disappoint', 'bought', 'phone', 'mom', 'one', 'hard', 'hear', 'phone', 'ring', 'extrem', 'faint', 'ring', 'volum', 'cannot', 'increas', 'guess', 'get', 'pay', 'disappoint', 'bought', 'phone', 'mom', 'one', 'hard', 'hear', 'phone', 'ring', 'extrem', 'faint', 'ring', 'volum', 'cannot', 'increas', 'guess', 'get', 'pay', 'disappoint', 'bought', 'phone', 'mom', 'one', 'hard', 'hear', 'phone', 'ring', 'extrem', 'faint', 'ring', 'volum', 'cannot', 'increas', 'guess', 'get', 'pay', 'disappoint', 'bought', 'phone', 'mom', 'one', 'hard', 'hear', 'phone', 'ring', 'extrem', 'faint', 'ring', 'volum', 'cannot', 'increas', 'guess', 'get', 'pay', 'disappoint', 'bought', 'phone', 'mom', 'one', 'hard', 'hear', 'phone', 'ring', 'extrem', 'faint', 'ring', 'volum', 'cannot', 'increas', 'guess', 'get', 'pay', 'disappoint', 'bought', 'phone', 'mom', 'one', 'hard', 'hear', 'phone', 'ring', 'extrem', 'faint', 'ring', 'volum', 'cannot', 'increas', 'guess', 'get', 'pay', 'disappoint', 'bought', 'phone', 'mom', 'one', 'hard', 'hear', 'phone', 'ring', 'extrem', 'faint', 'ring', 'volum', 'cannot', 'increas', 'guess', 'get', 'pay', 'disappoint', 'bought', 'phone', 'mom', 'one', 'hard', 'hear', 'phone', 'ring', 'extrem', 'faint', 'ring', 'volum', 'cannot', 'increas', 'guess', 'get', 'pay', 'disappoint', 'bought', 'phone', 'mom', 'one', 'hard', 'hear', 'phone', 'ring', 'extrem', 'faint', 'ring', 'volum', 'cannot', 'increas', 'guess', 'get', 'pay', 'disappoint', 'bought', 'phone', 'mom', 'one', 'hard', 'hear', 'phone', 'ring', 'extrem', 'faint', 'ring', 'volum', 'cannot', 'increas', 'guess', 'get', 'pay', 'disappoint', 'bought', 'phone', 'mom', 'one', 'hard', 'hear', 'phone', 'ring', 'extrem', 'faint', 'ring', 'volum', 'cannot', 'increas', 'guess', 'get', 'pay', 'disappoint', 'bought', 'phone', 'mom', 'one', 'hard', 'hear', 'phone', 'ring', 'extrem', 'faint', 'ring', 'volum', 'cannot', 'increas', 'guess', 'get', 'pay', 'disappoint', 'bought', 'phone', 'mom', 'one', 'hard', 'hear', 'phone', 'ring', 'extrem', 'faint', 'ring', 'volum', 'cannot', 'increas', 'guess', 'get', 'pay', 'disappoint', 'bought', 'phone', 'mom', 'one', 'hard', 'hear', 'phone', 'ring', 'extrem', 'faint', 'ring', 'volum', 'cannot', 'increas', 'guess', 'get', 'pay', 'disappoint', 'bought', 'phone', 'mom', 'one', 'hard', 'hear', 'phone', 'ring', 'extrem', 'faint', 'ring', 'volum', 'cannot', 'increas', 'guess', 'get', 'pay', 'disappoint', 'bought', 'phone', 'mom', 'one', 'hard', 'hear', 'phone', 'ring', 'extrem', 'faint', 'ring', 'volum', 'cannot', 'increas', 'guess', 'get', 'pay', 'disappoint', 'bought', 'phone', 'mom', 'one', 'hard', 'hear', 'phone', 'ring', 'extrem', 'faint', 'ring', 'volum', 'cannot', 'increas', 'guess', 'get', 'pay', 'disappoint', 'bought', 'phone', 'mom', 'one', 'hard', 'hear', 'phone', 'ring', 'extrem', 'faint', 'ring', 'volum', 'cannot', 'increas', 'guess', 'get', 'pay', 'disappoint', 'bought', 'phone', 'mom', 'one', 'hard', 'hear', 'phone', 'ring', 'extrem', 'faint', 'ring', 'volum', 'cannot', 'increas', 'guess', 'get', 'pay', 'disappoint', 'bought', 'phone', 'mom', 'one', 'hard', 'hear', 'phone', 'ring', 'extrem', 'faint', 'ring', 'volum', 'cannot', 'increas', 'guess', 'get', 'pay', 'disappoint', 'bought', 'phone', 'mom', 'one', 'hard', 'hear', 'phone', 'ring', 'extrem', 'faint', 'ring', 'volum', 'cannot', 'increas', 'guess', 'get', 'pay', 'disappoint', 'bought', 'phone', 'mom', 'one', 'hard', 'hear', 'phone', 'ring', 'extrem', 'faint', 'ring', 'volum', 'cannot', 'increas', 'guess', 'get', 'pay', 'disappoint', 'bought', 'phone', 'mom', 'one', 'hard', 'hear', 'phone', 'ring', 'extrem', 'faint', 'ring', 'volum', 'cannot', 'increas', 'guess', 'get', 'pay', 'disappoint', 'bought', 'phone', 'mom', 'one', 'hard', 'hear', 'phone', 'ring', 'extrem', 'faint', 'ring', 'volum', 'cannot', 'increas', 'guess', 'get', 'pay', 'disappoint', 'bought', 'phone', 'mom', 'one', 'hard', 'hear', 'phone', 'ring', 'extrem', 'faint', 'ring', 'volum', 'cannot', 'increas', 'guess', 'get', 'pay', 'disappoint', 'bought', 'phone', 'mom', 'one', 'hard', 'hear', 'phone', 'ring', 'extrem', 'faint', 'ring', 'volum', 'cannot', 'increas', 'guess', 'get', 'pay', 'disappoint', 'bought', 'phone', 'mom', 'one', 'hard', 'hear', 'phone', 'ring', 'extrem', 'faint', 'ring', 'volum', 'cannot', 'increas', 'guess', 'get', 'pay', 'disappoint', 'bought', 'phone', 'mom', 'one', 'hard', 'hear', 'phone', 'ring', 'extrem', 'faint', 'ring', 'volum', 'cannot', 'increas', 'guess', 'get', 'pay', 'disappoint', 'bought', 'phone', 'mom', 'one', 'hard', 'hear', 'phone', 'ring', 'extrem', 'faint', 'ring', 'volum', 'cannot', 'increas', 'guess', 'get', 'pay', 'disappoint', 'bought', 'phone', 'mom', 'one', 'hard', 'hear', 'phone', 'ring', 'extrem', 'faint', 'ring', 'volum', 'cannot', 'increas', 'guess', 'get', 'pay', 'disappoint', 'bought', 'phone', 'mom', 'one', 'hard', 'hear', 'phone', 'ring', 'extrem', 'faint', 'ring', 'volum', 'cannot', 'increas', 'guess', 'get', 'pay', 'disappoint', 'bought', 'phone', 'mom', 'one', 'hard', 'hear', 'phone', 'ring', 'extrem', 'faint', 'ring', 'volum', 'cannot', 'increas', 'guess', 'get', 'pay', 'disappoint', 'bought', 'phone', 'mom', 'one', 'hard', 'hear', 'phone', 'ring', 'extrem', 'faint', 'ring', 'volum', 'cannot', 'increas', 'guess', 'get', 'pay', 'disappoint', 'bought', 'phone', 'mom', 'one', 'hard', 'hear', 'phone', 'ring', 'extrem', 'faint', 'ring', 'volum', 'cannot', 'increas', 'guess', 'get', 'pay', 'disappoint', 'bought', 'phone', 'mom', 'one', 'hard', 'hear', 'phone', 'ring', 'extrem', 'faint', 'ring', 'volum', 'cannot', 'increas', 'guess', 'get', 'pay', 'disappoint', 'bought', 'phone', 'mom', 'one', 'hard', 'hear', 'phone', 'ring', 'extrem', 'faint', 'ring', 'volum', 'cannot', 'increas', 'guess', 'get', 'pay', 'disappoint', 'bought', 'phone', 'mom', 'one', 'hard', 'hear', 'phone', 'ring', 'extrem', 'faint', 'ring', 'volum', 'cannot', 'increas', 'guess', 'get', 'pay', 'disappoint', 'bought', 'phone', 'mom', 'one', 'hard', 'hear', 'phone', 'ring', 'extrem', 'faint', 'ring', 'volum', 'cannot', 'increas', 'guess', 'get', 'pay', 'disappoint', 'bought', 'phone', 'mom', 'one', 'hard', 'hear', 'phone', 'ring', 'extrem', 'faint', 'ring', 'volum', 'cannot', 'increas', 'guess', 'get', 'pay', 'disappoint', 'bought', 'phone', 'mom', 'one', 'hard', 'hear', 'phone', 'ring', 'extrem', 'faint', 'ring', 'volum', 'cannot', 'increas', 'guess', 'get', 'pay', 'disappoint', 'bought', 'phone', 'mom', 'one', 'hard', 'hear', 'phone', 'ring', 'extrem', 'faint', 'ring', 'volum', 'cannot', 'increas', 'guess', 'get', 'pay', 'disappoint', 'bought', 'phone', 'mom', 'one', 'hard', 'hear', 'phone', 'ring', 'extrem', 'faint', 'ring', 'volum', 'cannot', 'increas', 'guess', 'get', 'pay', 'disappoint', 'bought', 'phone', 'mom', 'one', 'hard', 'hear', 'phone', 'ring', 'extrem', 'faint', 'ring', 'volum', 'cannot', 'increas', 'guess', 'get', 'pay', 'disappoint', 'bought', 'phone', 'mom', 'one', 'hard', 'hear', 'phone', 'ring', 'extrem', 'faint', 'ring', 'volum', 'cannot', 'increas', 'guess', 'get', 'pay', 'disappoint', 'bought', 'phone', 'mom', 'one', 'hard', 'hear', 'phone', 'ring', 'extrem', 'faint', 'ring', 'volum', 'cannot', 'increas', 'guess', 'get', 'pay', 'disappoint', 'bought', 'phone', 'mom', 'one', 'hard', 'hear', 'phone', 'ring', 'extrem', 'faint', 'ring', 'volum', 'cannot', 'increas', 'guess', 'get', 'pay', 'disappoint', 'bought', 'phone', 'mom', 'one', 'hard', 'hear', 'phone', 'ring', 'extrem', 'faint', 'ring', 'volum', 'cannot', 'increas', 'guess', 'get', 'pay', 'disappoint', 'bought', 'phone', 'mom', 'one', 'hard', 'hear', 'phone', 'ring', 'extrem', 'faint', 'ring', 'volum', 'cannot', 'increas', 'guess', 'get', 'pay', 'disappoint', 'bought', 'phone', 'mom', 'one', 'hard', 'hear', 'phone', 'ring', 'extrem', 'faint', 'ring', 'volum', 'cannot', 'increas', 'guess', 'get', 'pay', 'disappoint', 'bought', 'phone', 'mom', 'one', 'hard', 'hear', 'phone', 'ring', 'extrem', 'faint', 'ring', 'volum', 'cannot', 'increas', 'guess', 'get', 'pay', 'disappoint', 'bought', 'phone', 'mom', 'one', 'hard', 'hear', 'phone', 'ring', 'extrem', 'faint', 'ring', 'volum', 'cannot', 'increas', 'guess', 'get', 'pay', 'disappoint', 'bought', 'phone', 'mom', 'one', 'hard', 'hear', 'phone', 'ring', 'extrem', 'faint', 'ring', 'volum', 'cannot', 'increas', 'guess', 'get', 'pay', 'disappoint', 'bought', 'phone', 'mom', 'one', 'hard', 'hear', 'phone', 'ring', 'extrem', 'faint', 'ring', 'volum', 'cannot', 'increas', 'guess', 'get', 'pay', 'disappoint', 'bought', 'phone', 'mom', 'one', 'hard', 'hear', 'phone', 'ring', 'extrem', 'faint', 'ring', 'volum', 'cannot', 'increas', 'guess', 'get', 'pay', 'disappoint', 'bought', 'phone', 'mom', 'one', 'hard', 'hear', 'phone', 'ring', 'extrem', 'faint', 'ring', 'volum', 'cannot', 'increas', 'guess', 'get', 'pay', 'disappoint', 'bought', 'phone', 'mom', 'one', 'hard', 'hear', 'phone', 'ring', 'extrem', 'faint', 'ring', 'volum', 'cannot', 'increas', 'guess', 'get', 'pay', 'disappoint', 'bought', 'phone', 'mom', 'one', 'hard', 'hear', 'phone', 'ring', 'extrem', 'faint', 'ring', 'volum', 'cannot', 'increas', 'guess', 'get', 'pay', 'disappoint', 'bought', 'phone', 'mom', 'one', 'hard', 'hear', 'phone', 'ring', 'extrem', 'faint', 'ring', 'volum', 'cannot', 'increas', 'guess', 'get', 'pay', 'disappoint', 'bought', 'phone', 'mom', 'one', 'hard', 'hear', 'phone', 'ring', 'extrem', 'faint', 'ring', 'volum', 'cannot', 'increas', 'guess', 'get', 'pay', 'disappoint', 'bought', 'phone', 'mom', 'one', 'hard', 'hear', 'phone', 'ring', 'extrem', 'faint', 'ring', 'volum', 'cannot', 'increas', 'guess', 'get', 'pay', 'disappoint', 'bought', 'phone', 'mom', 'one', 'hard', 'hear', 'phone', 'ring', 'extrem', 'faint', 'ring', 'volum', 'cannot', 'increas', 'guess', 'get', 'pay', 'disappoint', 'bought', 'phone', 'mom', 'one', 'hard', 'hear', 'phone', 'ring', 'extrem', 'faint', 'ring', 'volum', 'cannot', 'increas', 'guess', 'get', 'pay', 'disappoint', 'bought', 'phone', 'mom', 'one', 'hard', 'hear', 'phone', 'ring', 'extrem', 'faint', 'ring', 'volum', 'cannot', 'increas', 'guess', 'get', 'pay', 'disappoint', 'bought', 'phone', 'mom', 'one', 'hard', 'hear', 'phone', 'ring', 'extrem', 'faint', 'ring', 'volum', 'cannot', 'increas', 'guess', 'get', 'pay', 'disappoint', 'bought', 'phone', 'mom', 'one', 'hard', 'hear', 'phone', 'ring', 'extrem', 'faint', 'ring', 'volum', 'cannot', 'increas', 'guess', 'get', 'pay', 'disappoint', 'bought', 'phone', 'mom', 'one', 'hard', 'hear', 'phone', 'ring', 'extrem', 'faint', 'ring', 'volum', 'cannot', 'increas', 'guess', 'get', 'pay', 'disappoint', 'bought', 'phone', 'mom', 'one', 'hard', 'hear', 'phone', 'ring', 'extrem', 'faint', 'ring', 'volum', 'cannot', 'increas', 'guess', 'get', 'pay', 'disappoint', 'bought', 'phone', 'mom', 'one', 'hard', 'hear', 'phone', 'ring', 'extrem', 'faint', 'ring', 'volum', 'cannot', 'increas', 'guess', 'get', 'pay', 'disappoint', 'bought', 'phone', 'mom', 'one', 'hard', 'hear', 'phone', 'ring', 'extrem', 'faint', 'ring', 'volum', 'cannot', 'increas', 'guess', 'get', 'pay', 'disappoint', 'bought', 'phone', 'mom', 'one', 'hard', 'hear', 'phone', 'ring', 'extrem', 'faint', 'ring', 'volum', 'cannot', 'increas', 'guess', 'get', 'pay', 'disappoint', 'bought', 'phone', 'mom', 'one', 'hard', 'hear', 'phone', 'ring', 'extrem', 'faint', 'ring', 'volum', 'cannot', 'increas', 'guess', 'get', 'pay', 'disappoint', 'bought', 'phone', 'mom', 'one', 'hard', 'hear', 'phone', 'ring', 'extrem', 'faint', 'ring', 'volum', 'cannot', 'increas', 'guess', 'get', 'pay', 'disappoint', 'bought', 'phone', 'mom', 'one', 'hard', 'hear', 'phone', 'ring', 'extrem', 'faint', 'ring', 'volum', 'cannot', 'increas', 'guess', 'get', 'pay', 'disappoint', 'bought', 'phone', 'mom', 'one', 'hard', 'hear', 'phone', 'ring', 'extrem', 'faint', 'ring', 'volum', 'cannot', 'increas', 'guess', 'get', 'pay', 'disappoint', 'bought', 'phone', 'mom', 'one', 'hard', 'hear', 'phone', 'ring', 'extrem', 'faint', 'ring', 'volum', 'cannot', 'increas', 'guess', 'get', 'pay', 'disappoint', 'bought', 'phone', 'mom', 'one', 'hard', 'hear', 'phone', 'ring', 'extrem', 'faint', 'ring', 'volum', 'cannot', 'increas', 'guess', 'get', 'pay', 'disappoint', 'bought', 'phone', 'mom', 'one', 'hard', 'hear', 'phone', 'ring', 'extrem', 'faint', 'ring', 'volum', 'cannot', 'increas', 'guess', 'get', 'pay', 'disappoint', 'bought', 'phone', 'mom', 'one', 'hard', 'hear', 'phone', 'ring', 'extrem', 'faint', 'ring', 'volum', 'cannot', 'increas', 'guess', 'get', 'pay', 'disappoint', 'bought', 'phone', 'mom', 'one', 'hard', 'hear', 'phone', 'ring', 'extrem', 'faint', 'ring', 'volum', 'cannot', 'increas', 'guess', 'get', 'pay', 'disappoint', 'bought', 'phone', 'mom', 'one', 'hard', 'hear', 'phone', 'ring', 'extrem', 'faint', 'ring', 'volum', 'cannot', 'increas', 'guess', 'get', 'pay', 'disappoint', 'bought', 'phone', 'mom', 'one', 'hard', 'hear', 'phone', 'ring', 'extrem', 'faint', 'ring', 'volum', 'cannot', 'increas', 'guess', 'get', 'pay', 'disappoint', 'bought', 'phone', 'mom', 'one', 'hard', 'hear', 'phone', 'ring', 'extrem', 'faint', 'ring', 'volum', 'cannot', 'increas', 'guess', 'get', 'pay', 'disappoint', 'bought', 'phone', 'mom', 'one', 'hard', 'hear', 'phone', 'ring', 'extrem', 'faint', 'ring', 'volum', 'cannot', 'increas', 'guess', 'get', 'pay', 'disappoint', 'bought', 'phone', 'mom', 'one', 'hard', 'hear', 'phone', 'ring', 'extrem', 'faint', 'ring', 'volum', 'cannot', 'increas', 'guess', 'get', 'pay', 'disappoint', 'bought', 'phone', 'mom', 'one', 'hard', 'hear', 'phone', 'ring', 'extrem', 'faint', 'ring', 'volum', 'cannot', 'increas', 'guess', 'get', 'pay', 'disappoint', 'bought', 'phone', 'mom', 'one', 'hard', 'hear', 'phone', 'ring', 'extrem', 'faint', 'ring', 'volum', 'cannot', 'increas', 'guess', 'get', 'pay', 'disappoint', 'bought', 'phone', 'mom', 'one', 'hard', 'hear', 'phone', 'ring', 'extrem', 'faint', 'ring', 'volum', 'cannot', 'increas', 'guess', 'get', 'pay', 'disappoint', 'bought', 'phone', 'mom', 'one', 'hard', 'hear', 'phone', 'ring', 'extrem', 'faint', 'ring', 'volum', 'cannot', 'increas', 'guess', 'get', 'pay', 'disappoint', 'bought', 'phone', 'mom', 'one', 'hard', 'hear', 'phone', 'ring', 'extrem', 'faint', 'ring', 'volum', 'cannot', 'increas', 'guess', 'get', 'pay', 'disappoint', 'bought', 'phone', 'mom', 'one', 'hard', 'hear', 'phone', 'ring', 'extrem', 'faint', 'ring', 'volum', 'cannot', 'increas', 'guess', 'get', 'pay', 'disappoint', 'bought', 'phone', 'mom', 'one', 'hard', 'hear', 'phone', 'ring', 'extrem', 'faint', 'ring', 'volum', 'cannot', 'increas', 'guess', 'get', 'pay', 'disappoint', 'bought', 'phone', 'mom', 'one', 'hard', 'hear', 'phone', 'ring', 'extrem', 'faint', 'ring', 'volum', 'cannot', 'increas', 'guess', 'get', 'pay', 'disappoint', 'bought', 'phone', 'mom', 'one', 'hard', 'hear', 'phone', 'ring', 'extrem', 'faint', 'ring', 'volum', 'cannot', 'increas', 'guess', 'get', 'pay', 'disappoint', 'bought', 'phone', 'mom', 'one', 'hard', 'hear', 'phone', 'ring', 'extrem', 'faint', 'ring', 'volum', 'cannot', 'increas', 'guess', 'get', 'pay', 'disappoint', 'bought', 'phone', 'mom', 'one', 'hard', 'hear', 'phone', 'ring', 'extrem', 'faint', 'ring', 'volum', 'cannot', 'increas', 'guess', 'get', 'pay', 'disappoint', 'bought', 'phone', 'mom', 'one', 'hard', 'hear', 'phone', 'ring', 'extrem', 'faint', 'ring', 'volum', 'cannot', 'increas', 'guess', 'get', 'pay', 'disappoint', 'bought', 'phone', 'mom', 'one', 'hard', 'hear', 'phone', 'ring', 'extrem', 'faint', 'ring', 'volum', 'cannot', 'increas', 'guess', 'get', 'pay', 'disappoint', 'bought', 'phone', 'mom', 'one', 'hard', 'hear', 'phone', 'ring', 'extrem', 'faint', 'ring', 'volum', 'cannot', 'increas', 'guess', 'get', 'pay', 'disappoint', 'bought', 'phone', 'mom', 'one', 'hard', 'hear', 'phone', 'ring', 'extrem', 'faint', 'ring', 'volum', 'cannot', 'increas', 'guess', 'get', 'pay', 'disappoint', 'bought', 'phone', 'mom', 'one', 'hard', 'hear', 'phone', 'ring', 'extrem', 'faint', 'ring', 'volum', 'cannot', 'increas', 'guess', 'get', 'pay', 'disappoint', 'bought', 'phone', 'mom', 'one', 'hard', 'hear', 'phone', 'ring', 'extrem', 'faint', 'ring', 'volum', 'cannot', 'increas', 'guess', 'get', 'pay', 'disappoint', 'bought', 'phone', 'mom', 'one', 'hard', 'hear', 'phone', 'ring', 'extrem', 'faint', 'ring', 'volum', 'cannot', 'increas', 'guess', 'get', 'pay', 'disappoint', 'bought', 'phone', 'mom', 'one', 'hard', 'hear', 'phone', 'ring', 'extrem', 'faint', 'ring', 'volum', 'cannot', 'increas', 'guess', 'get', 'pay', 'disappoint', 'bought', 'phone', 'mom', 'one', 'hard', 'hear', 'phone', 'ring', 'extrem', 'faint', 'ring', 'volum', 'cannot', 'increas', 'guess', 'get', 'pay', 'disappoint', 'bought', 'phone', 'mom', 'one', 'hard', 'hear', 'phone', 'ring', 'extrem', 'faint', 'ring', 'volum', 'cannot', 'increas', 'guess', 'get', 'pay', 'disappoint', 'bought', 'phone', 'mom', 'one', 'hard', 'hear', 'phone', 'ring', 'extrem', 'faint', 'ring', 'volum', 'cannot', 'increas', 'guess', 'get', 'pay', 'disappoint', 'bought', 'phone', 'mom', 'one', 'hard', 'hear', 'phone', 'ring', 'extrem', 'faint', 'ring', 'volum', 'cannot', 'increas', 'guess', 'get', 'pay', 'disappoint', 'bought', 'phone', 'mom', 'one', 'hard', 'hear', 'phone', 'ring', 'extrem', 'faint', 'ring', 'volum', 'cannot', 'increas', 'guess', 'get', 'pay', 'disappoint', 'bought', 'phone', 'mom', 'one', 'hard', 'hear', 'phone', 'ring', 'extrem', 'faint', 'ring', 'volum', 'cannot', 'increas', 'guess', 'get', 'pay', 'disappoint', 'bought', 'phone', 'mom', 'one', 'hard', 'hear', 'phone', 'ring', 'extrem', 'faint', 'ring', 'volum', 'cannot', 'increas', 'guess', 'get', 'pay', 'disappoint', 'bought', 'phone', 'mom', 'one', 'hard', 'hear', 'phone', 'ring', 'extrem', 'faint', 'ring', 'volum', 'cannot', 'increas', 'guess', 'get', 'pay', 'disappoint', 'bought', 'phone', 'mom', 'one', 'hard', 'hear', 'phone', 'ring', 'extrem', 'faint', 'ring', 'volum', 'cannot', 'increas', 'guess', 'get', 'pay', 'disappoint', 'bought', 'phone', 'mom', 'one', 'hard', 'hear', 'phone', 'ring', 'extrem', 'faint', 'ring', 'volum', 'cannot', 'increas', 'guess', 'get', 'pay', 'disappoint', 'bought', 'phone', 'mom', 'one', 'hard', 'hear', 'phone', 'ring', 'extrem', 'faint', 'ring', 'volum', 'cannot', 'increas', 'guess', 'get', 'pay', 'disappoint', 'bought', 'phone', 'mom', 'one', 'hard', 'hear', 'phone', 'ring', 'extrem', 'faint', 'ring', 'volum', 'cannot', 'increas', 'guess', 'get', 'pay', 'disappoint', 'bought', 'phone', 'mom', 'one', 'hard', 'hear', 'phone', 'ring', 'extrem', 'faint', 'ring', 'volum', 'cannot', 'increas', 'guess', 'get', 'pay', 'disappoint', 'bought', 'phone', 'mom', 'one', 'hard', 'hear', 'phone', 'ring', 'extrem', 'faint', 'ring', 'volum', 'cannot', 'increas', 'guess', 'get', 'pay', 'disappoint', 'bought', 'phone', 'mom', 'one', 'hard', 'hear', 'phone', 'ring', 'extrem', 'faint', 'ring', 'volum', 'cannot', 'increas', 'guess', 'get', 'pay', 'disappoint', 'bought', 'phone', 'mom', 'one', 'hard', 'hear', 'phone', 'ring', 'extrem', 'faint', 'ring', 'volum', 'cannot', 'increas', 'guess', 'get', 'pay', 'disappoint', 'bought', 'phone', 'mom', 'one', 'hard', 'hear', 'phone', 'ring', 'extrem', 'faint', 'ring', 'volum', 'cannot', 'increas', 'guess', 'get', 'pay', 'disappoint', 'bought', 'phone', 'mom', 'one', 'hard', 'hear', 'phone', 'ring', 'extrem', 'faint', 'ring', 'volum', 'cannot', 'increas', 'guess', 'get', 'pay', 'disappoint', 'bought', 'phone', 'mom', 'one', 'hard', 'hear', 'phone', 'ring', 'extrem', 'faint', 'ring', 'volum', 'cannot', 'increas', 'guess', 'get', 'pay', 'disappoint', 'bought', 'phone', 'mom', 'one', 'hard', 'hear', 'phone', 'ring', 'extrem', 'faint', 'ring', 'volum', 'cannot', 'increas', 'guess', 'get', 'pay', 'disappoint', 'bought', 'phone', 'mom', 'one', 'hard', 'hear', 'phone', 'ring', 'extrem', 'faint', 'ring', 'volum', 'cannot', 'increas', 'guess', 'get', 'pay', 'disappoint', 'bought', 'phone', 'mom', 'one', 'hard', 'hear', 'phone', 'ring', 'extrem', 'faint', 'ring', 'volum', 'cannot', 'increas', 'guess', 'get', 'pay', 'disappoint', 'bought', 'phone', 'mom', 'one', 'hard', 'hear', 'phone', 'ring', 'extrem', 'faint', 'ring', 'volum', 'cannot', 'increas', 'guess', 'get', 'pay', 'disappoint', 'bought', 'phone', 'mom', 'one', 'hard', 'hear', 'phone', 'ring', 'extrem', 'faint', 'ring', 'volum', 'cannot', 'increas', 'guess', 'get', 'pay', 'disappoint', 'bought', 'phone', 'mom', 'one', 'hard', 'hear', 'phone', 'ring', 'extrem', 'faint', 'ring', 'volum', 'cannot', 'increas', 'guess', 'get', 'pay', 'disappoint', 'bought', 'phone', 'mom', 'one', 'hard', 'hear', 'phone', 'ring', 'extrem', 'faint', 'ring', 'volum', 'cannot', 'increas', 'guess', 'get', 'pay', 'disappoint', 'bought', 'phone', 'mom', 'one', 'hard', 'hear', 'phone', 'ring', 'extrem', 'faint', 'ring', 'volum', 'cannot', 'increas', 'guess', 'get', 'pay', 'disappoint', 'bought', 'phone', 'mom', 'one', 'hard', 'hear', 'phone', 'ring', 'extrem', 'faint', 'ring', 'volum', 'cannot', 'increas', 'guess', 'get', 'pay', 'disappoint', 'bought', 'phone', 'mom', 'one', 'hard', 'hear', 'phone', 'ring', 'extrem', 'faint', 'ring', 'volum', 'cannot', 'increas', 'guess', 'get', 'pay', 'disappoint', 'bought', 'phone', 'mom', 'one', 'hard', 'hear', 'phone', 'ring', 'extrem', 'faint', 'ring', 'volum', 'cannot', 'increas', 'guess', 'get', 'pay', 'disappoint', 'bought', 'phone', 'mom', 'one', 'hard', 'hear', 'phone', 'ring', 'extrem', 'faint', 'ring', 'volum', 'cannot', 'increas', 'guess', 'get', 'pay', 'disappoint', 'bought', 'phone', 'mom', 'one', 'hard', 'hear', 'phone', 'ring', 'extrem', 'faint', 'ring', 'volum', 'cannot', 'increas', 'guess', 'get', 'pay', 'disappoint', 'bought', 'phone', 'mom', 'one', 'hard', 'hear', 'phone', 'ring', 'extrem', 'faint', 'ring', 'volum', 'cannot', 'increas', 'guess', 'get', 'pay', 'disappoint', 'bought', 'phone', 'mom', 'one', 'hard', 'hear', 'phone', 'ring', 'extrem', 'faint', 'ring', 'volum', 'cannot', 'increas', 'guess', 'get', 'pay', 'disappoint', 'bought', 'phone', 'mom', 'one', 'hard', 'hear', 'phone', 'ring', 'extrem', 'faint', 'ring', 'volum', 'cannot', 'increas', 'guess', 'get', 'pay', 'disappoint', 'bought', 'phone', 'mom', 'one', 'hard', 'hear', 'phone', 'ring', 'extrem', 'faint', 'ring', 'volum', 'cannot', 'increas', 'guess', 'get', 'pay', 'disappoint', 'bought', 'phone', 'mom', 'one', 'hard', 'hear', 'phone', 'ring', 'extrem', 'faint', 'ring', 'volum', 'cannot', 'increas', 'guess', 'get', 'pay', 'disappoint', 'bought', 'phone', 'mom', 'one', 'hard', 'hear', 'phone', 'ring', 'extrem', 'faint', 'ring', 'volum', 'cannot', 'increas', 'guess', 'get', 'pay', 'disappoint', 'bought', 'phone', 'mom', 'one', 'hard', 'hear', 'phone', 'ring', 'extrem', 'faint', 'ring', 'volum', 'cannot', 'increas', 'guess', 'get', 'pay', 'disappoint', 'bought', 'phone', 'mom', 'one', 'hard', 'hear', 'phone', 'ring', 'extrem', 'faint', 'ring', 'volum', 'cannot', 'increas', 'guess', 'get', 'pay', 'disappoint', 'bought', 'phone', 'mom', 'one', 'hard', 'hear', 'phone', 'ring', 'extrem', 'faint', 'ring', 'volum', 'cannot', 'increas', 'guess', 'get', 'pay', 'disappoint', 'bought', 'phone', 'mom', 'one', 'hard', 'hear', 'phone', 'ring', 'extrem', 'faint', 'ring', 'volum', 'cannot', 'increas', 'guess', 'get', 'pay', 'disappoint', 'bought', 'phone', 'mom', 'one', 'hard', 'hear', 'phone', 'ring', 'extrem', 'faint', 'ring', 'volum', 'cannot', 'increas', 'guess', 'get', 'pay', 'disappoint', 'bought', 'phone', 'mom', 'one', 'hard', 'hear', 'phone', 'ring', 'extrem', 'faint', 'ring', 'volum', 'cannot', 'increas', 'guess', 'get', 'pay', 'disappoint', 'bought', 'phone', 'mom', 'one', 'hard', 'hear', 'phone', 'ring', 'extrem', 'faint', 'ring', 'volum', 'cannot', 'increas', 'guess', 'get', 'pay', 'disappoint', 'bought', 'phone', 'mom', 'one', 'hard', 'hear', 'phone', 'ring', 'extrem', 'faint', 'ring', 'volum', 'cannot', 'increas', 'guess', 'get', 'pay', 'disappoint', 'bought', 'phone', 'mom', 'one', 'hard', 'hear', 'phone', 'ring', 'extrem', 'faint', 'ring', 'volum', 'cannot', 'increas', 'guess', 'get', 'pay', 'disappoint', 'bought', 'phone', 'mom', 'one', 'hard', 'hear', 'phone', 'ring', 'extrem', 'faint', 'ring', 'volum', 'cannot', 'increas', 'guess', 'get', 'pay', 'disappoint', 'bought', 'phone', 'mom', 'one', 'hard', 'hear', 'phone', 'ring', 'extrem', 'faint', 'ring', 'volum', 'cannot', 'increas', 'guess', 'get', 'pay', 'disappoint', 'bought', 'phone', 'mom', 'one', 'hard', 'hear', 'phone', 'ring', 'extrem', 'faint', 'ring', 'volum', 'cannot', 'increas', 'guess', 'get', 'pay', 'disappoint', 'bought', 'phone', 'mom', 'one', 'hard', 'hear', 'phone', 'ring', 'extrem', 'faint', 'ring', 'volum', 'cannot', 'increas', 'guess', 'get', 'pay', 'disappoint', 'bought', 'phone', 'mom', 'one', 'hard', 'hear', 'phone', 'ring', 'extrem', 'faint', 'ring', 'volum', 'cannot', 'increas', 'guess', 'get', 'pay', 'disappoint', 'bought', 'phone', 'mom', 'one', 'hard', 'hear', 'phone', 'ring', 'extrem', 'faint', 'ring', 'volum', 'cannot', 'increas', 'guess', 'get', 'pay', 'disappoint', 'bought', 'phone', 'mom', 'one', 'hard', 'hear', 'phone', 'ring', 'extrem', 'faint', 'ring', 'volum', 'cannot', 'increas', 'guess', 'get', 'pay', 'disappoint', 'bought', 'phone', 'mom', 'one', 'hard', 'hear', 'phone', 'ring', 'extrem', 'faint', 'ring', 'volum', 'cannot', 'increas', 'guess', 'get', 'pay', 'disappoint', 'bought', 'phone', 'mom', 'one', 'hard', 'hear', 'phone', 'ring', 'extrem', 'faint', 'ring', 'volum', 'cannot', 'increas', 'guess', 'get', 'pay', 'disappoint', 'bought', 'phone', 'mom', 'one', 'hard', 'hear', 'phone', 'ring', 'extrem', 'faint', 'ring', 'volum', 'cannot', 'increas', 'guess', 'get', 'pay'], ['perfect'], ['punto', 'excelent', 'punto', 'excelent', 'punto', 'excelent', 'punto', 'excelent', 'punto', 'excelent', 'punto', 'excelent', 'punto', 'excelent', 'punto', 'excelent', 'punto', 'excelent', 'punto', 'excelent', 'punto', 'excelent', 'punto', 'excelent', 'punto', 'excelent', 'punto', 'excelent', 'punto', 'excelent', 'punto', 'excelent', 'punto', 'excelent', 'punto', 'excelent'], ['good']]\n"
          ]
        }
      ]
    },
    {
      "cell_type": "code",
      "source": [
        "import gensim\n",
        "w2v_model=gensim.models.Word2Vec(list_of_sent_train,size=100, workers=4)"
      ],
      "metadata": {
        "id": "8PgwaxEURazh"
      },
      "execution_count": 37,
      "outputs": []
    },
    {
      "cell_type": "code",
      "source": [
        "import numpy as np\n",
        "sent_vectors = []; # the avg-w2v for each sentence/review is stored in this train\n",
        "for sent in list_of_sent_train: # for each review/sentence\n",
        "    sent_vec = np.zeros(100) # as word vectors are of zero length\n",
        "    cnt_words =0; # num of words with a valid vector in the sentence/review\n",
        "    for word in sent: # for each word in a review/sentence\n",
        "        try:\n",
        "            vec = w2v_model.wv[word]\n",
        "            sent_vec += vec\n",
        "            cnt_words += 1\n",
        "        except:\n",
        "            pass\n",
        "    sent_vec /= cnt_words\n",
        "    sent_vectors.append(sent_vec)\n",
        "sent_vectors = np.array(sent_vectors)\n",
        "sent_vectors = np.nan_to_num(sent_vectors)\n",
        "sent_vectors.shape"
      ],
      "metadata": {
        "colab": {
          "base_uri": "https://localhost:8080/"
        },
        "id": "N1OcKQsuRa2O",
        "outputId": "5d6a141d-a4bf-49c6-9911-5c7f3c3d7adc"
      },
      "execution_count": 38,
      "outputs": [
        {
          "output_type": "stream",
          "name": "stderr",
          "text": [
            "/usr/local/lib/python3.7/dist-packages/ipykernel_launcher.py:13: RuntimeWarning: invalid value encountered in true_divide\n",
            "  del sys.path[0]\n"
          ]
        },
        {
          "output_type": "execute_result",
          "data": {
            "text/plain": [
              "(1000, 100)"
            ]
          },
          "metadata": {},
          "execution_count": 38
        }
      ]
    },
    {
      "cell_type": "code",
      "source": [
        "#K-Means Clustering\n",
        "num_clus = [x for x in range(3,11)]\n",
        "num_clus"
      ],
      "metadata": {
        "colab": {
          "base_uri": "https://localhost:8080/"
        },
        "id": "Bi0cNmf5Ra5D",
        "outputId": "a72dc61c-6ebb-42a6-dd4f-fe0b48b43926"
      },
      "execution_count": 39,
      "outputs": [
        {
          "output_type": "execute_result",
          "data": {
            "text/plain": [
              "[3, 4, 5, 6, 7, 8, 9, 10]"
            ]
          },
          "metadata": {},
          "execution_count": 39
        }
      ]
    },
    {
      "cell_type": "code",
      "source": [
        "# Choosing the best cluster using Elbow Method.\n",
        "# source credit,few parts of min squred loss info is taken from different parts of the stakoverflow answers.\n",
        "# this is used to understand to find the optimal clusters in differen way rather than used in BOW, TFIDF\n",
        "squared_errors = []\n",
        "for cluster in num_clus:\n",
        "  # Train Cluster\n",
        "    kmeans = KMeans(n_clusters = cluster).fit(sent_vectors) \n",
        "    # Appending the squared loss obtained in the list\n",
        "    squared_errors.append(kmeans.inertia_) \n",
        "# As argmin return the index of minimum loss.    \n",
        "optimal_clusters = np.argmin(squared_errors) + 2  \n",
        "plt.plot(num_clus, squared_errors)\n",
        "plt.title(\"Elbow Curve to find the no. of clusters.\")\n",
        "plt.xlabel(\"Number of clusters.\")\n",
        "plt.ylabel(\"Squared Loss.\")\n",
        "xy = (optimal_clusters, min(squared_errors))\n",
        "plt.annotate('(%s, %s)' % xy, xy = xy, textcoords='data')\n",
        "plt.show()\n",
        "\n",
        "print (\"The optimal number of clusters obtained is - \", optimal_clusters)\n",
        "print (\"The loss for optimal cluster is - \", min(squared_errors))"
      ],
      "metadata": {
        "colab": {
          "base_uri": "https://localhost:8080/",
          "height": 330
        },
        "id": "zGj9F1Q9Ra7x",
        "outputId": "d6bbf05e-921e-46cc-cee5-3ca6308dc830"
      },
      "execution_count": 40,
      "outputs": [
        {
          "output_type": "display_data",
          "data": {
            "text/plain": [
              "<Figure size 432x288 with 1 Axes>"
            ],
            "image/png": "[encoded data removed]"
          },
          "metadata": {
            "needs_background": "light"
          }
        },
        {
          "output_type": "stream",
          "name": "stdout",
          "text": [
            "The optimal number of clusters obtained is -  9\n",
            "The loss for optimal cluster is -  105792.49475741411\n"
          ]
        }
      ]
    },
    {
      "cell_type": "code",
      "source": [
        "from sklearn.cluster import KMeans\n",
        "model2 = KMeans(n_clusters = optimal_clusters)\n",
        "model2.fit(sent_vectors)"
      ],
      "metadata": {
        "colab": {
          "base_uri": "https://localhost:8080/"
        },
        "id": "SkHO7nfsRa-k",
        "outputId": "cb7b9936-d93d-4f06-ed01-2035410ab22d"
      },
      "execution_count": 41,
      "outputs": [
        {
          "output_type": "execute_result",
          "data": {
            "text/plain": [
              "KMeans(n_clusters=9)"
            ]
          },
          "metadata": {},
          "execution_count": 41
        }
      ]
    },
    {
      "cell_type": "code",
      "source": [
        "word_cluster_pred=model2.predict(sent_vectors)\n",
        "word_cluster_pred_2=model2.labels_\n",
        "word_cluster_center=model2.cluster_centers_\n",
        "word_cluster_center[1:2]"
      ],
      "metadata": {
        "colab": {
          "base_uri": "https://localhost:8080/"
        },
        "id": "8sJaYdEJRbBa",
        "outputId": "5de5d749-e403-4078-d37e-8db04fdc7dfd"
      },
      "execution_count": 42,
      "outputs": [
        {
          "output_type": "execute_result",
          "data": {
            "text/plain": [
              "array([[-2.13482849, -0.3570196 ,  0.54155233, -0.65098648,  1.14078608,\n",
              "        -0.04697078,  0.37929704,  0.03424704,  0.41120321,  0.1552955 ,\n",
              "        -1.0169518 ,  0.49669112,  0.53067247, -0.71260032,  0.04411953,\n",
              "         0.31281058, -0.58119186, -0.82866544,  0.36799142, -1.40135068,\n",
              "         0.66489992,  0.2594063 ,  0.47263774,  0.11961372,  0.3704816 ,\n",
              "         0.43564111, -0.29495752, -0.4626926 , -0.65990168, -0.18719746,\n",
              "         1.52332383,  0.41087675,  1.3656254 ,  0.75897637, -0.16104065,\n",
              "        -0.96232334,  0.01860333,  0.22062808, -0.07958454, -0.63235149,\n",
              "        -0.97634383,  0.04204826, -0.65909108,  0.54697776, -0.85326863,\n",
              "         1.53264461, -0.07840586,  0.71314309, -0.62527999, -0.25607986,\n",
              "        -0.62411237, -0.50192787, -0.61777583,  0.99218298,  0.74777383,\n",
              "         0.05697139, -0.08882744, -0.44034034,  0.40397282,  0.25134202,\n",
              "        -0.16016197,  0.01096026,  0.05043573,  0.74243494, -0.45282703,\n",
              "        -0.2305602 ,  0.22740682, -0.29313998,  0.52924232,  0.01347095,\n",
              "         0.91123484, -0.38350232,  1.08070828, -0.03005188,  0.57767559,\n",
              "        -0.86051738,  0.44260626, -0.56020469, -0.89686677,  0.69261314,\n",
              "         0.38458237,  0.49772465,  0.07092109, -1.03462744,  1.25115118,\n",
              "        -0.08246187,  0.48174968,  1.0423171 ,  0.71010028,  0.21676246,\n",
              "        -0.99688989,  0.06047893,  1.56396701, -0.5361547 , -0.88981478,\n",
              "        -0.44749859, -1.62834837, -0.25080348,  0.98147422, -0.09354022]])"
            ]
          },
          "metadata": {},
          "execution_count": 42
        }
      ]
    },
    {
      "cell_type": "code",
      "source": [
        "dafrmea = dafrme1\n",
        "dafrmea['AVG-W2V Clus Label'] = model2.labels_\n",
        "dafrmea.head(2)"
      ],
      "metadata": {
        "colab": {
          "base_uri": "https://localhost:8080/",
          "height": 208
        },
        "id": "mvNkdLlXRbED",
        "outputId": "dab67d6a-2e12-4b98-a4c0-811693546561"
      },
      "execution_count": 43,
      "outputs": [
        {
          "output_type": "execute_result",
          "data": {
            "text/plain": [
              "                                             Product Name   Brand Name  \\\n",
              "103270  BLU Advance 4.0L Unlocked Smartphone -Global G...          BLU   \n",
              "297857  POSH MOBILE MICRO X, The Smallest Smartphone i...  Posh Mobile   \n",
              "\n",
              "         Price  Rating                                            Reviews  \\\n",
              "103270  149.99       4  Had it for 1 year, can't really complain. Gave...   \n",
              "297857   49.99       5                                    Perfect, thanks   \n",
              "\n",
              "       Review Votes RatingTransformed  \\\n",
              "103270          0.0          positive   \n",
              "297857          1.0          positive   \n",
              "\n",
              "                                              CleanedText  Bow Clus Label  \\\n",
              "103270  year cant realli complain gave teenag replac w...               2   \n",
              "297857                        perfect thank perfect thank               2   \n",
              "\n",
              "        Tfidf Clus Label  AVG-W2V Clus Label  \n",
              "103270                 7                   3  \n",
              "297857                 3                   6  "
            ],
            "text/html": [
              "\n",
              "  <div id=\"df-c39135ca-371a-4f95-8c37-a8992501a536\">\n",
              "    <div class=\"colab-df-container\">\n",
              "      <div>\n",
              "<style scoped>\n",
              "    .dataframe tbody tr th:only-of-type {\n",
              "        vertical-align: middle;\n",
              "    }\n",
              "\n",
              "    .dataframe tbody tr th {\n",
              "        vertical-align: top;\n",
              "    }\n",
              "\n",
              "    .dataframe thead th {\n",
              "        text-align: right;\n",
              "    }\n",
              "</style>\n",
              "<table border=\"1\" class=\"dataframe\">\n",
              "  <thead>\n",
              "    <tr style=\"text-align: right;\">\n",
              "      <th></th>\n",
              "      <th>Product Name</th>\n",
              "      <th>Brand Name</th>\n",
              "      <th>Price</th>\n",
              "      <th>Rating</th>\n",
              "      <th>Reviews</th>\n",
              "      <th>Review Votes</th>\n",
              "      <th>RatingTransformed</th>\n",
              "      <th>CleanedText</th>\n",
              "      <th>Bow Clus Label</th>\n",
              "      <th>Tfidf Clus Label</th>\n",
              "      <th>AVG-W2V Clus Label</th>\n",
              "    </tr>\n",
              "  </thead>\n",
              "  <tbody>\n",
              "    <tr>\n",
              "      <th>103270</th>\n",
              "      <td>BLU Advance 4.0L Unlocked Smartphone -Global G...</td>\n",
              "      <td>BLU</td>\n",
              "      <td>149.99</td>\n",
              "      <td>4</td>\n",
              "      <td>Had it for 1 year, can't really complain. Gave...</td>\n",
              "      <td>0.0</td>\n",
              "      <td>positive</td>\n",
              "      <td>year cant realli complain gave teenag replac w...</td>\n",
              "      <td>2</td>\n",
              "      <td>7</td>\n",
              "      <td>3</td>\n",
              "    </tr>\n",
              "    <tr>\n",
              "      <th>297857</th>\n",
              "      <td>POSH MOBILE MICRO X, The Smallest Smartphone i...</td>\n",
              "      <td>Posh Mobile</td>\n",
              "      <td>49.99</td>\n",
              "      <td>5</td>\n",
              "      <td>Perfect, thanks</td>\n",
              "      <td>1.0</td>\n",
              "      <td>positive</td>\n",
              "      <td>perfect thank perfect thank</td>\n",
              "      <td>2</td>\n",
              "      <td>3</td>\n",
              "      <td>6</td>\n",
              "    </tr>\n",
              "  </tbody>\n",
              "</table>\n",
              "</div>\n",
              "      <button class=\"colab-df-convert\" onclick=\"convertToInteractive('df-c39135ca-371a-4f95-8c37-a8992501a536')\"\n",
              "              title=\"Convert this dataframe to an interactive table.\"\n",
              "              style=\"display:none;\">\n",
              "        \n",
              "  <svg xmlns=\"http://www.w3.org/2000/svg\" height=\"24px\"viewBox=\"0 0 24 24\"\n",
              "       width=\"24px\">\n",
              "    <path d=\"M0 0h24v24H0V0z\" fill=\"none\"/>\n",
              "    <path d=\"M18.56 5.44l.94 2.06.94-2.06 2.06-.94-2.06-.94-.94-2.06-.94 2.06-2.06.94zm-11 1L8.5 8.5l.94-2.06 2.06-.94-2.06-.94L8.5 2.5l-.94 2.06-2.06.94zm10 10l.94 2.06.94-2.06 2.06-.94-2.06-.94-.94-2.06-.94 2.06-2.06.94z\"/><path d=\"M17.41 7.96l-1.37-1.37c-.4-.4-.92-.59-1.43-.59-.52 0-1.04.2-1.43.59L10.3 9.45l-7.72 7.72c-.78.78-.78 2.05 0 2.83L4 21.41c.39.39.9.59 1.41.59.51 0 1.02-.2 1.41-.59l7.78-7.78 2.81-2.81c.8-.78.8-2.07 0-2.86zM5.41 20L4 18.59l7.72-7.72 1.47 1.35L5.41 20z\"/>\n",
              "  </svg>\n",
              "      </button>\n",
              "      \n",
              "  <style>\n",
              "    .colab-df-container {\n",
              "      display:flex;\n",
              "      flex-wrap:wrap;\n",
              "      gap: 12px;\n",
              "    }\n",
              "\n",
              "    .colab-df-convert {\n",
              "      background-color: #E8F0FE;\n",
              "      border: none;\n",
              "      border-radius: 50%;\n",
              "      cursor: pointer;\n",
              "      display: none;\n",
              "      fill: #1967D2;\n",
              "      height: 32px;\n",
              "      padding: 0 0 0 0;\n",
              "      width: 32px;\n",
              "    }\n",
              "\n",
              "    .colab-df-convert:hover {\n",
              "      background-color: #E2EBFA;\n",
              "      box-shadow: 0px 1px 2px rgba(60, 64, 67, 0.3), 0px 1px 3px 1px rgba(60, 64, 67, 0.15);\n",
              "      fill: #174EA6;\n",
              "    }\n",
              "\n",
              "    [theme=dark] .colab-df-convert {\n",
              "      background-color: #3B4455;\n",
              "      fill: #D2E3FC;\n",
              "    }\n",
              "\n",
              "    [theme=dark] .colab-df-convert:hover {\n",
              "      background-color: #434B5C;\n",
              "      box-shadow: 0px 1px 3px 1px rgba(0, 0, 0, 0.15);\n",
              "      filter: drop-shadow(0px 1px 2px rgba(0, 0, 0, 0.3));\n",
              "      fill: #FFFFFF;\n",
              "    }\n",
              "  </style>\n",
              "\n",
              "      <script>\n",
              "        const buttonEl =\n",
              "          document.querySelector('#df-c39135ca-371a-4f95-8c37-a8992501a536 button.colab-df-convert');\n",
              "        buttonEl.style.display =\n",
              "          google.colab.kernel.accessAllowed ? 'block' : 'none';\n",
              "\n",
              "        async function convertToInteractive(key) {\n",
              "          const element = document.querySelector('#df-c39135ca-371a-4f95-8c37-a8992501a536');\n",
              "          const dataTable =\n",
              "            await google.colab.kernel.invokeFunction('convertToInteractive',\n",
              "                                                     [key], {});\n",
              "          if (!dataTable) return;\n",
              "\n",
              "          const docLinkHtml = 'Like what you see? Visit the ' +\n",
              "            '<a target=\"_blank\" href=https://colab.research.google.com/notebooks/data_table.ipynb>data table notebook</a>'\n",
              "            + ' to learn more about interactive tables.';\n",
              "          element.innerHTML = '';\n",
              "          dataTable['output_type'] = 'display_data';\n",
              "          await google.colab.output.renderOutput(dataTable, element);\n",
              "          const docLink = document.createElement('div');\n",
              "          docLink.innerHTML = docLinkHtml;\n",
              "          element.appendChild(docLink);\n",
              "        }\n",
              "      </script>\n",
              "    </div>\n",
              "  </div>\n",
              "  "
            ]
          },
          "metadata": {},
          "execution_count": 43
        }
      ]
    },
    {
      "cell_type": "code",
      "source": [
        "dafrmea.groupby(['AVG-W2V Clus Label'])['Reviews'].count()"
      ],
      "metadata": {
        "colab": {
          "base_uri": "https://localhost:8080/"
        },
        "id": "rEvsO577RbGo",
        "outputId": "9155453c-cb18-47db-c8a0-2188d2af4442"
      },
      "execution_count": 44,
      "outputs": [
        {
          "output_type": "execute_result",
          "data": {
            "text/plain": [
              "AVG-W2V Clus Label\n",
              "0     23\n",
              "1    320\n",
              "2     32\n",
              "3    311\n",
              "4     24\n",
              "5     24\n",
              "6     31\n",
              "7    232\n",
              "8      3\n",
              "Name: Reviews, dtype: int64"
            ]
          },
          "metadata": {},
          "execution_count": 44
        }
      ]
    },
    {
      "cell_type": "code",
      "source": [
        "#DBSCAN \n",
        "from sklearn.cluster import DBSCAN\n",
        "\n",
        "\n",
        "# Computing 200th Nearest neighbour distance\n",
        "min_Pts = 2 * 100\n",
        "# The function returns the no in the array which is  greater than or equal to itself.\n",
        "def lower_bound(nums, target): \n",
        "    l, r = 0, len(nums) - 1\n",
        "    # Binary searching.\n",
        "    while l <= r: \n",
        "        mid_term = int(l + (r - l) / 2)\n",
        "        if nums[mid_term] >= target:\n",
        "            r = mid_term - 1\n",
        "        else:\n",
        "            l = mid_term + 1\n",
        "    return l\n",
        " # Returns the dist of 200th nearest neighbour.\n",
        "def compute200thnearestneighbour(x, data):\n",
        "    dists = []\n",
        "    for val in data:\n",
        "      # computing distances.\n",
        "        dist = np.sum((x - val) **2 ) \n",
        "        # If dist is more than current largest distance found.\n",
        "        if(len(dists) == 200 and dists[199] > dist): \n",
        "          # Using the lower bound function to get the right position.\n",
        "            l = int(lower_bound(dists, dist)) \n",
        "            if l < 200 and l >= 0 and dists[l] > dist:\n",
        "                dists[l] = dist\n",
        "        else:\n",
        "            dists.append(dist)\n",
        "            dists.sort()\n",
        "    \n",
        "    return dists[199]"
      ],
      "metadata": {
        "id": "AmynLc7rRbKE"
      },
      "execution_count": 45,
      "outputs": []
    },
    {
      "cell_type": "code",
      "source": [
        "twohundrethneigh = []\n",
        "for val in sent_vectors[:1500]:\n",
        "    twohundrethneigh.append( compute200thnearestneighbour(val, sent_vectors[:1500]) )\n",
        "twohundrethneigh.sort()"
      ],
      "metadata": {
        "id": "qFVEqOGVRFq9"
      },
      "execution_count": 46,
      "outputs": []
    },
    {
      "cell_type": "code",
      "source": [
        "plt.figure(figsize=(14,4))\n",
        "plt.title(\"Elbow Method for Finding the right Eps hyperparameter\")\n",
        "plt.plot([x for x in range(len(twohundrethneigh))], twohundrethneigh)\n",
        "plt.xlabel(\"Number of points\")\n",
        "plt.ylabel(\"Distance of 200th Nearest Neighbour\")\n",
        "plt.show()"
      ],
      "metadata": {
        "colab": {
          "base_uri": "https://localhost:8080/",
          "height": 295
        },
        "id": "_cBnujRRSGb-",
        "outputId": "75ee232e-1632-4bc5-c641-53ba42fb032d"
      },
      "execution_count": 47,
      "outputs": [
        {
          "output_type": "display_data",
          "data": {
            "text/plain": [
              "<Figure size 1008x288 with 1 Axes>"
            ],
            "image/png": "[encoded data removed]"
          },
          "metadata": {
            "needs_background": "light"
          }
        }
      ]
    },
    {
      "cell_type": "code",
      "source": [
        "# Training DBSCAN :\n",
        "minPts = 2 * 100\n",
        "model = DBSCAN(eps = 5, min_samples = minPts, n_jobs=-1)\n",
        "model.fit(sent_vectors)"
      ],
      "metadata": {
        "colab": {
          "base_uri": "https://localhost:8080/"
        },
        "id": "NBbJ50_RSGec",
        "outputId": "0003b003-7063-4f19-c51d-890537265eef"
      },
      "execution_count": 48,
      "outputs": [
        {
          "output_type": "execute_result",
          "data": {
            "text/plain": [
              "DBSCAN(eps=5, min_samples=200, n_jobs=-1)"
            ]
          },
          "metadata": {},
          "execution_count": 48
        }
      ]
    },
    {
      "cell_type": "code",
      "source": [
        "dfdb = dafrmea\n",
        "dfdb['AVG-W2V Clus Label'] = model.labels_\n",
        "dfdb.head(2)"
      ],
      "metadata": {
        "colab": {
          "base_uri": "https://localhost:8080/",
          "height": 208
        },
        "id": "BFCpV22ASGhA",
        "outputId": "0bf7aa82-a836-4636-9be6-c447d057fcd1"
      },
      "execution_count": 49,
      "outputs": [
        {
          "output_type": "execute_result",
          "data": {
            "text/plain": [
              "                                             Product Name   Brand Name  \\\n",
              "103270  BLU Advance 4.0L Unlocked Smartphone -Global G...          BLU   \n",
              "297857  POSH MOBILE MICRO X, The Smallest Smartphone i...  Posh Mobile   \n",
              "\n",
              "         Price  Rating                                            Reviews  \\\n",
              "103270  149.99       4  Had it for 1 year, can't really complain. Gave...   \n",
              "297857   49.99       5                                    Perfect, thanks   \n",
              "\n",
              "       Review Votes RatingTransformed  \\\n",
              "103270          0.0          positive   \n",
              "297857          1.0          positive   \n",
              "\n",
              "                                              CleanedText  Bow Clus Label  \\\n",
              "103270  year cant realli complain gave teenag replac w...               2   \n",
              "297857                        perfect thank perfect thank               2   \n",
              "\n",
              "        Tfidf Clus Label  AVG-W2V Clus Label  \n",
              "103270                 7                  -1  \n",
              "297857                 3                  -1  "
            ],
            "text/html": [
              "\n",
              "  <div id=\"df-1c5206b5-4611-4ad0-a8b8-8486216f5710\">\n",
              "    <div class=\"colab-df-container\">\n",
              "      <div>\n",
              "<style scoped>\n",
              "    .dataframe tbody tr th:only-of-type {\n",
              "        vertical-align: middle;\n",
              "    }\n",
              "\n",
              "    .dataframe tbody tr th {\n",
              "        vertical-align: top;\n",
              "    }\n",
              "\n",
              "    .dataframe thead th {\n",
              "        text-align: right;\n",
              "    }\n",
              "</style>\n",
              "<table border=\"1\" class=\"dataframe\">\n",
              "  <thead>\n",
              "    <tr style=\"text-align: right;\">\n",
              "      <th></th>\n",
              "      <th>Product Name</th>\n",
              "      <th>Brand Name</th>\n",
              "      <th>Price</th>\n",
              "      <th>Rating</th>\n",
              "      <th>Reviews</th>\n",
              "      <th>Review Votes</th>\n",
              "      <th>RatingTransformed</th>\n",
              "      <th>CleanedText</th>\n",
              "      <th>Bow Clus Label</th>\n",
              "      <th>Tfidf Clus Label</th>\n",
              "      <th>AVG-W2V Clus Label</th>\n",
              "    </tr>\n",
              "  </thead>\n",
              "  <tbody>\n",
              "    <tr>\n",
              "      <th>103270</th>\n",
              "      <td>BLU Advance 4.0L Unlocked Smartphone -Global G...</td>\n",
              "      <td>BLU</td>\n",
              "      <td>149.99</td>\n",
              "      <td>4</td>\n",
              "      <td>Had it for 1 year, can't really complain. Gave...</td>\n",
              "      <td>0.0</td>\n",
              "      <td>positive</td>\n",
              "      <td>year cant realli complain gave teenag replac w...</td>\n",
              "      <td>2</td>\n",
              "      <td>7</td>\n",
              "      <td>-1</td>\n",
              "    </tr>\n",
              "    <tr>\n",
              "      <th>297857</th>\n",
              "      <td>POSH MOBILE MICRO X, The Smallest Smartphone i...</td>\n",
              "      <td>Posh Mobile</td>\n",
              "      <td>49.99</td>\n",
              "      <td>5</td>\n",
              "      <td>Perfect, thanks</td>\n",
              "      <td>1.0</td>\n",
              "      <td>positive</td>\n",
              "      <td>perfect thank perfect thank</td>\n",
              "      <td>2</td>\n",
              "      <td>3</td>\n",
              "      <td>-1</td>\n",
              "    </tr>\n",
              "  </tbody>\n",
              "</table>\n",
              "</div>\n",
              "      <button class=\"colab-df-convert\" onclick=\"convertToInteractive('df-1c5206b5-4611-4ad0-a8b8-8486216f5710')\"\n",
              "              title=\"Convert this dataframe to an interactive table.\"\n",
              "              style=\"display:none;\">\n",
              "        \n",
              "  <svg xmlns=\"http://www.w3.org/2000/svg\" height=\"24px\"viewBox=\"0 0 24 24\"\n",
              "       width=\"24px\">\n",
              "    <path d=\"M0 0h24v24H0V0z\" fill=\"none\"/>\n",
              "    <path d=\"M18.56 5.44l.94 2.06.94-2.06 2.06-.94-2.06-.94-.94-2.06-.94 2.06-2.06.94zm-11 1L8.5 8.5l.94-2.06 2.06-.94-2.06-.94L8.5 2.5l-.94 2.06-2.06.94zm10 10l.94 2.06.94-2.06 2.06-.94-2.06-.94-.94-2.06-.94 2.06-2.06.94z\"/><path d=\"M17.41 7.96l-1.37-1.37c-.4-.4-.92-.59-1.43-.59-.52 0-1.04.2-1.43.59L10.3 9.45l-7.72 7.72c-.78.78-.78 2.05 0 2.83L4 21.41c.39.39.9.59 1.41.59.51 0 1.02-.2 1.41-.59l7.78-7.78 2.81-2.81c.8-.78.8-2.07 0-2.86zM5.41 20L4 18.59l7.72-7.72 1.47 1.35L5.41 20z\"/>\n",
              "  </svg>\n",
              "      </button>\n",
              "      \n",
              "  <style>\n",
              "    .colab-df-container {\n",
              "      display:flex;\n",
              "      flex-wrap:wrap;\n",
              "      gap: 12px;\n",
              "    }\n",
              "\n",
              "    .colab-df-convert {\n",
              "      background-color: #E8F0FE;\n",
              "      border: none;\n",
              "      border-radius: 50%;\n",
              "      cursor: pointer;\n",
              "      display: none;\n",
              "      fill: #1967D2;\n",
              "      height: 32px;\n",
              "      padding: 0 0 0 0;\n",
              "      width: 32px;\n",
              "    }\n",
              "\n",
              "    .colab-df-convert:hover {\n",
              "      background-color: #E2EBFA;\n",
              "      box-shadow: 0px 1px 2px rgba(60, 64, 67, 0.3), 0px 1px 3px 1px rgba(60, 64, 67, 0.15);\n",
              "      fill: #174EA6;\n",
              "    }\n",
              "\n",
              "    [theme=dark] .colab-df-convert {\n",
              "      background-color: #3B4455;\n",
              "      fill: #D2E3FC;\n",
              "    }\n",
              "\n",
              "    [theme=dark] .colab-df-convert:hover {\n",
              "      background-color: #434B5C;\n",
              "      box-shadow: 0px 1px 3px 1px rgba(0, 0, 0, 0.15);\n",
              "      filter: drop-shadow(0px 1px 2px rgba(0, 0, 0, 0.3));\n",
              "      fill: #FFFFFF;\n",
              "    }\n",
              "  </style>\n",
              "\n",
              "      <script>\n",
              "        const buttonEl =\n",
              "          document.querySelector('#df-1c5206b5-4611-4ad0-a8b8-8486216f5710 button.colab-df-convert');\n",
              "        buttonEl.style.display =\n",
              "          google.colab.kernel.accessAllowed ? 'block' : 'none';\n",
              "\n",
              "        async function convertToInteractive(key) {\n",
              "          const element = document.querySelector('#df-1c5206b5-4611-4ad0-a8b8-8486216f5710');\n",
              "          const dataTable =\n",
              "            await google.colab.kernel.invokeFunction('convertToInteractive',\n",
              "                                                     [key], {});\n",
              "          if (!dataTable) return;\n",
              "\n",
              "          const docLinkHtml = 'Like what you see? Visit the ' +\n",
              "            '<a target=\"_blank\" href=https://colab.research.google.com/notebooks/data_table.ipynb>data table notebook</a>'\n",
              "            + ' to learn more about interactive tables.';\n",
              "          element.innerHTML = '';\n",
              "          dataTable['output_type'] = 'display_data';\n",
              "          await google.colab.output.renderOutput(dataTable, element);\n",
              "          const docLink = document.createElement('div');\n",
              "          docLink.innerHTML = docLinkHtml;\n",
              "          element.appendChild(docLink);\n",
              "        }\n",
              "      </script>\n",
              "    </div>\n",
              "  </div>\n",
              "  "
            ]
          },
          "metadata": {},
          "execution_count": 49
        }
      ]
    },
    {
      "cell_type": "code",
      "source": [
        "dfdb.groupby(['AVG-W2V Clus Label'])['Reviews'].count()"
      ],
      "metadata": {
        "colab": {
          "base_uri": "https://localhost:8080/"
        },
        "id": "T4CWs4z9SGjl",
        "outputId": "ee5efbb8-e02e-41e9-805d-738fb9d42596"
      },
      "execution_count": 50,
      "outputs": [
        {
          "output_type": "execute_result",
          "data": {
            "text/plain": [
              "AVG-W2V Clus Label\n",
              "-1    1000\n",
              "Name: Reviews, dtype: int64"
            ]
          },
          "metadata": {},
          "execution_count": 50
        }
      ]
    },
    {
      "cell_type": "code",
      "source": [
        "import scipy\n",
        "from scipy.cluster import hierarchy\n",
        "dendro=hierarchy.dendrogram(hierarchy.linkage(sent_vectors,method='ward'))\n",
        "plt.axhline(y=35)"
      ],
      "metadata": {
        "colab": {
          "base_uri": "https://localhost:8080/",
          "height": 282
        },
        "id": "vXqIsHkySGmK",
        "outputId": "0e7cca87-89de-414b-fc92-bc2c1a2cfd03"
      },
      "execution_count": 51,
      "outputs": [
        {
          "output_type": "execute_result",
          "data": {
            "text/plain": [
              "<matplotlib.lines.Line2D at 0x7fa88f61a690>"
            ]
          },
          "metadata": {},
          "execution_count": 51
        },
        {
          "output_type": "display_data",
          "data": {
            "text/plain": [
              "<Figure size 432x288 with 1 Axes>"
            ],
            "image/png": "[encoded data removed]"
          },
          "metadata": {
            "needs_background": "light"
          }
        }
      ]
    },
    {
      "cell_type": "code",
      "source": [
        "from sklearn.cluster import AgglomerativeClustering\n",
        "\n",
        "cluster = AgglomerativeClustering(n_clusters=5, affinity='euclidean', linkage='ward')  #took n=5 from dendrogram curve \n",
        "Agg=cluster.fit_predict(sent_vectors)"
      ],
      "metadata": {
        "id": "AXaH_m2rSGoi"
      },
      "execution_count": 52,
      "outputs": []
    },
    {
      "cell_type": "code",
      "source": [
        "aggdfa = dfdb\n",
        "aggdfa['AVG-W2V Clus Label'] = cluster.labels_\n",
        "aggdfa.head(2)"
      ],
      "metadata": {
        "colab": {
          "base_uri": "https://localhost:8080/",
          "height": 208
        },
        "id": "E-TYywCgSGsE",
        "outputId": "a4dc9898-075a-4d38-ef43-07d85b35821a"
      },
      "execution_count": 53,
      "outputs": [
        {
          "output_type": "execute_result",
          "data": {
            "text/plain": [
              "                                             Product Name   Brand Name  \\\n",
              "103270  BLU Advance 4.0L Unlocked Smartphone -Global G...          BLU   \n",
              "297857  POSH MOBILE MICRO X, The Smallest Smartphone i...  Posh Mobile   \n",
              "\n",
              "         Price  Rating                                            Reviews  \\\n",
              "103270  149.99       4  Had it for 1 year, can't really complain. Gave...   \n",
              "297857   49.99       5                                    Perfect, thanks   \n",
              "\n",
              "       Review Votes RatingTransformed  \\\n",
              "103270          0.0          positive   \n",
              "297857          1.0          positive   \n",
              "\n",
              "                                              CleanedText  Bow Clus Label  \\\n",
              "103270  year cant realli complain gave teenag replac w...               2   \n",
              "297857                        perfect thank perfect thank               2   \n",
              "\n",
              "        Tfidf Clus Label  AVG-W2V Clus Label  \n",
              "103270                 7                   2  \n",
              "297857                 3                   0  "
            ],
            "text/html": [
              "\n",
              "  <div id=\"df-45fbdc97-2f99-4560-b162-7ac81fd155d2\">\n",
              "    <div class=\"colab-df-container\">\n",
              "      <div>\n",
              "<style scoped>\n",
              "    .dataframe tbody tr th:only-of-type {\n",
              "        vertical-align: middle;\n",
              "    }\n",
              "\n",
              "    .dataframe tbody tr th {\n",
              "        vertical-align: top;\n",
              "    }\n",
              "\n",
              "    .dataframe thead th {\n",
              "        text-align: right;\n",
              "    }\n",
              "</style>\n",
              "<table border=\"1\" class=\"dataframe\">\n",
              "  <thead>\n",
              "    <tr style=\"text-align: right;\">\n",
              "      <th></th>\n",
              "      <th>Product Name</th>\n",
              "      <th>Brand Name</th>\n",
              "      <th>Price</th>\n",
              "      <th>Rating</th>\n",
              "      <th>Reviews</th>\n",
              "      <th>Review Votes</th>\n",
              "      <th>RatingTransformed</th>\n",
              "      <th>CleanedText</th>\n",
              "      <th>Bow Clus Label</th>\n",
              "      <th>Tfidf Clus Label</th>\n",
              "      <th>AVG-W2V Clus Label</th>\n",
              "    </tr>\n",
              "  </thead>\n",
              "  <tbody>\n",
              "    <tr>\n",
              "      <th>103270</th>\n",
              "      <td>BLU Advance 4.0L Unlocked Smartphone -Global G...</td>\n",
              "      <td>BLU</td>\n",
              "      <td>149.99</td>\n",
              "      <td>4</td>\n",
              "      <td>Had it for 1 year, can't really complain. Gave...</td>\n",
              "      <td>0.0</td>\n",
              "      <td>positive</td>\n",
              "      <td>year cant realli complain gave teenag replac w...</td>\n",
              "      <td>2</td>\n",
              "      <td>7</td>\n",
              "      <td>2</td>\n",
              "    </tr>\n",
              "    <tr>\n",
              "      <th>297857</th>\n",
              "      <td>POSH MOBILE MICRO X, The Smallest Smartphone i...</td>\n",
              "      <td>Posh Mobile</td>\n",
              "      <td>49.99</td>\n",
              "      <td>5</td>\n",
              "      <td>Perfect, thanks</td>\n",
              "      <td>1.0</td>\n",
              "      <td>positive</td>\n",
              "      <td>perfect thank perfect thank</td>\n",
              "      <td>2</td>\n",
              "      <td>3</td>\n",
              "      <td>0</td>\n",
              "    </tr>\n",
              "  </tbody>\n",
              "</table>\n",
              "</div>\n",
              "      <button class=\"colab-df-convert\" onclick=\"convertToInteractive('df-45fbdc97-2f99-4560-b162-7ac81fd155d2')\"\n",
              "              title=\"Convert this dataframe to an interactive table.\"\n",
              "              style=\"display:none;\">\n",
              "        \n",
              "  <svg xmlns=\"http://www.w3.org/2000/svg\" height=\"24px\"viewBox=\"0 0 24 24\"\n",
              "       width=\"24px\">\n",
              "    <path d=\"M0 0h24v24H0V0z\" fill=\"none\"/>\n",
              "    <path d=\"M18.56 5.44l.94 2.06.94-2.06 2.06-.94-2.06-.94-.94-2.06-.94 2.06-2.06.94zm-11 1L8.5 8.5l.94-2.06 2.06-.94-2.06-.94L8.5 2.5l-.94 2.06-2.06.94zm10 10l.94 2.06.94-2.06 2.06-.94-2.06-.94-.94-2.06-.94 2.06-2.06.94z\"/><path d=\"M17.41 7.96l-1.37-1.37c-.4-.4-.92-.59-1.43-.59-.52 0-1.04.2-1.43.59L10.3 9.45l-7.72 7.72c-.78.78-.78 2.05 0 2.83L4 21.41c.39.39.9.59 1.41.59.51 0 1.02-.2 1.41-.59l7.78-7.78 2.81-2.81c.8-.78.8-2.07 0-2.86zM5.41 20L4 18.59l7.72-7.72 1.47 1.35L5.41 20z\"/>\n",
              "  </svg>\n",
              "      </button>\n",
              "      \n",
              "  <style>\n",
              "    .colab-df-container {\n",
              "      display:flex;\n",
              "      flex-wrap:wrap;\n",
              "      gap: 12px;\n",
              "    }\n",
              "\n",
              "    .colab-df-convert {\n",
              "      background-color: #E8F0FE;\n",
              "      border: none;\n",
              "      border-radius: 50%;\n",
              "      cursor: pointer;\n",
              "      display: none;\n",
              "      fill: #1967D2;\n",
              "      height: 32px;\n",
              "      padding: 0 0 0 0;\n",
              "      width: 32px;\n",
              "    }\n",
              "\n",
              "    .colab-df-convert:hover {\n",
              "      background-color: #E2EBFA;\n",
              "      box-shadow: 0px 1px 2px rgba(60, 64, 67, 0.3), 0px 1px 3px 1px rgba(60, 64, 67, 0.15);\n",
              "      fill: #174EA6;\n",
              "    }\n",
              "\n",
              "    [theme=dark] .colab-df-convert {\n",
              "      background-color: #3B4455;\n",
              "      fill: #D2E3FC;\n",
              "    }\n",
              "\n",
              "    [theme=dark] .colab-df-convert:hover {\n",
              "      background-color: #434B5C;\n",
              "      box-shadow: 0px 1px 3px 1px rgba(0, 0, 0, 0.15);\n",
              "      filter: drop-shadow(0px 1px 2px rgba(0, 0, 0, 0.3));\n",
              "      fill: #FFFFFF;\n",
              "    }\n",
              "  </style>\n",
              "\n",
              "      <script>\n",
              "        const buttonEl =\n",
              "          document.querySelector('#df-45fbdc97-2f99-4560-b162-7ac81fd155d2 button.colab-df-convert');\n",
              "        buttonEl.style.display =\n",
              "          google.colab.kernel.accessAllowed ? 'block' : 'none';\n",
              "\n",
              "        async function convertToInteractive(key) {\n",
              "          const element = document.querySelector('#df-45fbdc97-2f99-4560-b162-7ac81fd155d2');\n",
              "          const dataTable =\n",
              "            await google.colab.kernel.invokeFunction('convertToInteractive',\n",
              "                                                     [key], {});\n",
              "          if (!dataTable) return;\n",
              "\n",
              "          const docLinkHtml = 'Like what you see? Visit the ' +\n",
              "            '<a target=\"_blank\" href=https://colab.research.google.com/notebooks/data_table.ipynb>data table notebook</a>'\n",
              "            + ' to learn more about interactive tables.';\n",
              "          element.innerHTML = '';\n",
              "          dataTable['output_type'] = 'display_data';\n",
              "          await google.colab.output.renderOutput(dataTable, element);\n",
              "          const docLink = document.createElement('div');\n",
              "          docLink.innerHTML = docLinkHtml;\n",
              "          element.appendChild(docLink);\n",
              "        }\n",
              "      </script>\n",
              "    </div>\n",
              "  </div>\n",
              "  "
            ]
          },
          "metadata": {},
          "execution_count": 53
        }
      ]
    },
    {
      "cell_type": "code",
      "source": [
        "aggdfa.groupby(['AVG-W2V Clus Label'])['Reviews'].count()"
      ],
      "metadata": {
        "colab": {
          "base_uri": "https://localhost:8080/"
        },
        "id": "L0cUq7aVSWcP",
        "outputId": "69e7d2ef-ff73-46ca-83ed-aa80c5594184"
      },
      "execution_count": 54,
      "outputs": [
        {
          "output_type": "execute_result",
          "data": {
            "text/plain": [
              "AVG-W2V Clus Label\n",
              "0    188\n",
              "1    208\n",
              "2    560\n",
              "3     22\n",
              "4     22\n",
              "Name: Reviews, dtype: int64"
            ]
          },
          "metadata": {},
          "execution_count": 54
        }
      ]
    },
    {
      "cell_type": "markdown",
      "metadata": {
        "id": "iPjfd38M0syH"
      },
      "source": [
        "In one paragraph, please compare K means, DBSCAN and Hierarchical clustering."
      ]
    },
    {
      "cell_type": "code",
      "source": [
        "# You can write you answer here. (No code needed)\n"
      ],
      "metadata": {
        "id": "QaobVuMIoGEw"
      },
      "execution_count": null,
      "outputs": []
    },
    {
      "cell_type": "markdown",
      "source": [
        "K-means clustering is based on the distance between the data points and the centroids of the clusters themselves. DBSCAN is used to perform clustering that is based on density. Here the areas where the points are concetrated the most are found and are segregated from empty space. Hierarchical clustering, as the name suggests involves clustering in layers. It begins with considering each data point as a seperate cluster and then finds the two clusters that are closer to each other. In machine learning, clustering techniques like as K-means and DBScan are widely used. In K-means clusters must have the same feature size when compared to DBScan it may not have the same feature size. K-means clusters are sensitive to the specified number of clusters. In DBScan no need to specify the number of clusters.K-means clustering is efficient for large data sets but DBScan can not handle high dimensional datasets.K-means has one parameter which is the number of clusters and DBScan has two parameters which are radius and minimum points"
      ],
      "metadata": {
        "id": "zDUUkz02nu2T"
      }
    },
    {
      "cell_type": "code",
      "source": [],
      "metadata": {
        "id": "h_uUYmpwn9rQ"
      },
      "execution_count": null,
      "outputs": []
    }
  ],
  "metadata": {
    "kernelspec": {
      "display_name": "Python 3 (ipykernel)",
      "language": "python",
      "name": "python3"
    },
    "language_info": {
      "codemirror_mode": {
        "name": "ipython",
        "version": 3
      },
      "file_extension": ".py",
      "mimetype": "text/x-python",
      "name": "python",
      "nbconvert_exporter": "python",
      "pygments_lexer": "ipython3",
      "version": "3.9.12"
    },
    "colab": {
      "provenance": [],
      "include_colab_link": true
    },
    "accelerator": "GPU",
    "gpuClass": "standard"
  },
  "nbformat": 4,
  "nbformat_minor": 0
}