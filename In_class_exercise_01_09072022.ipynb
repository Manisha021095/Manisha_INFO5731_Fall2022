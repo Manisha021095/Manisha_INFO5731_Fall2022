{
  "cells": [
    {
      "cell_type": "markdown",
      "metadata": {
        "id": "view-in-github",
        "colab_type": "text"
      },
      "source": [
        "<a href=\"https://colab.research.google.com/github/Manisha021095/Manisha_INFO5731_Fall2022/blob/main/In_class_exercise_01_09072022.ipynb\" target=\"_parent\"><img src=\"https://colab.research.google.com/assets/colab-badge.svg\" alt=\"Open In Colab\"/></a>"
      ]
    },
    {
      "cell_type": "markdown",
      "metadata": {
        "id": "DymRJbxDBCnf"
      },
      "source": [
        "# **The first In-class-exercise (09/07/2022, 40 points in total)**"
      ]
    },
    {
      "cell_type": "markdown",
      "metadata": {
        "id": "03jb4GZsBkBS"
      },
      "source": [
        "(1) Write a Python program to calculate the length of a string. (4 points)"
      ]
    },
    {
      "cell_type": "code",
      "execution_count": null,
      "metadata": {
        "id": "YaGLbSHHB8Ej",
        "outputId": "e1df9cc2-b05a-42ea-920a-6f173e28424a"
      },
      "outputs": [
        {
          "data": {
            "text/plain": [
              "27"
            ]
          },
          "execution_count": 1,
          "metadata": {},
          "output_type": "execute_result"
        }
      ],
      "source": [
        "# write your answer here\n",
        "str = \"The first In-class-exercise\"\n",
        "len(str)"
      ]
    },
    {
      "cell_type": "code",
      "execution_count": null,
      "metadata": {
        "id": "kdIpg7jWz-OJ",
        "outputId": "137bae5f-f2e6-48d9-c8de-ae8e43ae849a"
      },
      "outputs": [
        {
          "name": "stdout",
          "output_type": "stream",
          "text": [
            "Enter a string: The first In-class-exercise\n",
            "Length of the input string is: 27\n"
          ]
        }
      ],
      "source": [
        "str = input(\"Enter a string: \")\n",
        "\n",
        "c = 0\n",
        "for s in str:\n",
        "      c = c+1\n",
        "print(\"Length of the input string is:\", c)"
      ]
    },
    {
      "cell_type": "markdown",
      "metadata": {
        "id": "jJDe71iLB616"
      },
      "source": [
        "(2) Write a Python program to count the number of characters in a string. (4 points)\n",
        "\n",
        "Sample String : 'google.com‘, \n",
        "\n",
        "Expected Result : {'o': 3, 'g': 2, '.': 1, 'e': 1, 'l': 1, 'm': 1, 'c': 1}"
      ]
    },
    {
      "cell_type": "code",
      "execution_count": null,
      "metadata": {
        "id": "Adnpv-d1z-OK",
        "outputId": "b344d401-b2d4-447a-a72e-0c5e9a65ca85"
      },
      "outputs": [
        {
          "data": {
            "text/plain": [
              "{'e': 1, 'c': 1, 'l': 1, 'm': 1, 'g': 2, 'o': 3, '.': 1}"
            ]
          },
          "execution_count": 3,
          "metadata": {},
          "output_type": "execute_result"
        }
      ],
      "source": [
        "# write your answer here\n",
        "def string_counter(string):  \n",
        "    req_dict = {}  \n",
        "    string_list = list(string)\n",
        "    for i in set(string_list):  \n",
        "        req_dict[i] = string_list.count(i)\n",
        "    return req_dict\n",
        "string_counter(\"google.com\")"
      ]
    },
    {
      "cell_type": "markdown",
      "metadata": {
        "id": "55W9AMdXCSpV"
      },
      "source": [
        "(3) Write a Python program to sum all the items in a list. (4 points)"
      ]
    },
    {
      "cell_type": "code",
      "execution_count": null,
      "metadata": {
        "id": "I57NXsauCec2",
        "outputId": "601c540d-b922-4ba8-9c82-3ee316710330"
      },
      "outputs": [
        {
          "name": "stdout",
          "output_type": "stream",
          "text": [
            "200\n"
          ]
        }
      ],
      "source": [
        "# write your answer here\n",
        "def Total_list(numbers):\n",
        "    sum_numbers = 0\n",
        "    for n in numbers:\n",
        "        sum_numbers += n\n",
        "    return sum_numbers\n",
        "print(Total_list([2,11,92,95]))"
      ]
    },
    {
      "cell_type": "markdown",
      "metadata": {
        "id": "4ulBZ6yhCi9F"
      },
      "source": [
        "(4) Write a Python program to get a string from a given string where all occurrences of its first char have been changed to '\\$', except the first char itself. (4 points)\n",
        "\n",
        "Sample String : 'restart‘, \n",
        "\n",
        "Expected Result : 'resta\\$t'"
      ]
    },
    {
      "cell_type": "code",
      "execution_count": null,
      "metadata": {
        "id": "Fj0XhwbBCw2o",
        "outputId": "848e9416-364f-4152-9073-8fae11d9948c"
      },
      "outputs": [
        {
          "name": "stdout",
          "output_type": "stream",
          "text": [
            "resta$t\n"
          ]
        }
      ],
      "source": [
        "# write your answer here\n",
        "def char_change(string):  \n",
        "    c = string[0]  \n",
        "    length = len(string) \n",
        "    string = string.replace(c, '$')  \n",
        "    string = c + string[1:]  \n",
        "    return string  \n",
        "  \n",
        "print(char_change('restart')) "
      ]
    },
    {
      "cell_type": "markdown",
      "metadata": {
        "id": "_bIP7s1MCzue"
      },
      "source": [
        "(5) Write a program with python which could accept two parameter a and b to calculate and output the result of S, where \n",
        "\n",
        "$\\ S=3.14*(1+a/b)^3$ (4 points)\n",
        "\n"
      ]
    },
    {
      "cell_type": "code",
      "execution_count": null,
      "metadata": {
        "id": "w79QilHXD3Mg",
        "outputId": "c6648e6e-8eea-4991-b0fc-93f48f5c9e27"
      },
      "outputs": [
        {
          "data": {
            "text/plain": [
              "49.087385212340514"
            ]
          },
          "execution_count": 6,
          "metadata": {},
          "output_type": "execute_result"
        }
      ],
      "source": [
        "# write your answer here\n",
        "import math\n",
        "def calculate(a, b):\n",
        "    S= math.pi * math.pow(1+(a/b),3)\n",
        "    return S\n",
        "calculate(3, 2)"
      ]
    },
    {
      "cell_type": "markdown",
      "metadata": {
        "id": "xCa2bK9aD4Q3"
      },
      "source": [
        "(6) Write a Python program to concatenate following dictionaries to create a new one. (4 points)\n",
        "\n",
        "Sample Dictionary : dic1={1:10, 2:20}, dic2={3:30, 4:40}, dic3={5:50,6:60}, \n",
        "\n",
        "Expected Result : {1: 10, 2: 20, 3: 30, 4: 40, 5: 50, 6: 60}\n"
      ]
    },
    {
      "cell_type": "code",
      "execution_count": null,
      "metadata": {
        "id": "_z4aLqAbEET1",
        "outputId": "79350605-c7ca-450f-9f91-15b88b91bdf2"
      },
      "outputs": [
        {
          "name": "stdout",
          "output_type": "stream",
          "text": [
            "{1: 10, 2: 20, 3: 30, 4: 40, 5: 50, 6: 60}\n"
          ]
        }
      ],
      "source": [
        "# write your answer here\n",
        "dic1={1:10, 2:20}\n",
        "dic2={3:30, 4:40}\n",
        "dic3={5:50,6:60}\n",
        "dic4 = {}\n",
        "for d in (dic1, dic2, dic3): dic4.update(d)\n",
        "print(dic4)"
      ]
    },
    {
      "cell_type": "markdown",
      "metadata": {
        "id": "0v48Vqa7FrQh"
      },
      "source": [
        "(7) Write a Python program to check whether an element exists within a tuple. (4 points)"
      ]
    },
    {
      "cell_type": "code",
      "execution_count": null,
      "metadata": {
        "id": "7WEmgq-DF2P1",
        "outputId": "75eee60e-d64f-4265-a139-f5a5e494166b"
      },
      "outputs": [
        {
          "name": "stdout",
          "output_type": "stream",
          "text": [
            "False\n",
            "True\n"
          ]
        }
      ],
      "source": [
        "# write your answer here\n",
        "tuple = (\"M\", \"a\", \"N\", \"i\", \"S\", \"h\", \"A\")\n",
        "print(\"m\" in tuple)\n",
        "print(\"M\" in tuple)"
      ]
    },
    {
      "cell_type": "markdown",
      "metadata": {
        "id": "vD5PYLMuGga_"
      },
      "source": [
        "(8) Write a Python program to find maximum and the minimum value in a set. (4 points)"
      ]
    },
    {
      "cell_type": "code",
      "execution_count": null,
      "metadata": {
        "id": "t0D5kdJUGjjw",
        "outputId": "57b4c4b8-fe24-493e-b2a0-199b27661afb"
      },
      "outputs": [
        {
          "name": "stdout",
          "output_type": "stream",
          "text": [
            "Original set elements:\n",
            "{1, 2, 5, 11, 16, 30}\n",
            "\n",
            "Maximum value of the said set: 30\n",
            "\n",
            "Minimum value of the said set: 1\n"
          ]
        }
      ],
      "source": [
        "# write your answer here\n",
        "\n",
        "setn = {16, 11, 2, 30, 1, 5}\n",
        "print(\"Original set elements:\")\n",
        "print(setn)\n",
        "print(\"\\nMaximum value of the said set:\", max(setn))\n",
        "print(\"\\nMinimum value of the said set:\", min(setn))"
      ]
    },
    {
      "cell_type": "markdown",
      "metadata": {
        "id": "uHkd-y5VhVWC"
      },
      "source": [
        "(9) Write a Python program to randomly divide the students in this class into six groups for term projects, each group should have at least 4 students but no more than 6 students (including 6). Here is the students list: (4 points)\n",
        "\n",
        "studnet_list = ['ja0964','sa1198','sb1357','vb0218','sc1229','kg0569','kg0470','sg1297','bg0320','fh0141','jl1252','sk1386',\n",
        "           'ak0956','sk1390','sk1458','sk1313','ak0934','vm0377','nm0618','sm1640','sm1907','gn0108','pr0353','dr0609','ms1500','aos0040','ds0814', 'av0659','nv0234','hy0232']"
      ]
    },
    {
      "cell_type": "code",
      "execution_count": null,
      "metadata": {
        "id": "3iGbmcOBhTwy",
        "outputId": "20e5046a-2505-41e6-ddc9-d2cf75c694d4"
      },
      "outputs": [
        {
          "name": "stdout",
          "output_type": "stream",
          "text": [
            "[['vb0218', 'kg0569', 'sg1297', 'sb1357'], ['sk1390', 'ms1500', 'ja0964', 'kg0470', 'ds0814'], ['fh0141', 'nv0234', 'vm0377', 'dr0609', 'bg0320', 'aos0040'], ['sm1640', 'av0659', 'sk1313', 'gn0108', 'jl1252'], ['sc1229', 'sk1386', 'nm0618', 'ak0956', 'sa1198', 'sm1907'], ['ak0934', 'pr0353', 'sk1458', 'hy0232']]\n"
          ]
        }
      ],
      "source": [
        "# write your answer here\n",
        "import random\n",
        "\n",
        "def divideStudents(students):\n",
        "    groups = [[], [], [], [], [], []]\n",
        "    for group in groups:\n",
        "        for i in range(0, random.choice([4,5,6])):\n",
        "            if(len(students) > 0):\n",
        "                random_pick = random.choice(students)\n",
        "                students.remove(random_pick)\n",
        "                group.append(random_pick)\n",
        "                \n",
        "  \n",
        "    print(groups)\n",
        "\n",
        "divideStudents(['ja0964','sa1198','sb1357','vb0218','sc1229','kg0569','kg0470','sg1297','bg0320','fh0141','jl1252','sk1386', \n",
        "                'ak0956','sk1390','sk1458','sk1313','ak0934','vm0377','nm0618','sm1640','sm1907','gn0108','pr0353','dr0609',\n",
        "                'ms1500','aos0040','ds0814', 'av0659','nv0234','hy0232'])"
      ]
    },
    {
      "cell_type": "markdown",
      "metadata": {
        "id": "JwEUjDnmz-OQ"
      },
      "source": [
        "(10) Write a Python program to find the duplicate elements in a given array of integers. Return -1 If there are no such elements. (4 points)"
      ]
    },
    {
      "cell_type": "code",
      "execution_count": null,
      "metadata": {
        "id": "dJ2IVW_0z-OQ",
        "outputId": "884dbf27-93e2-405a-9cdf-476a604b03d5"
      },
      "outputs": [
        {
          "name": "stdout",
          "output_type": "stream",
          "text": [
            "Duplicate element in an array :  [5, 9]\n"
          ]
        }
      ],
      "source": [
        "# write your answer here\n",
        "array = [6, 7, 5, 3, 1, 9, 9, 5]\n",
        "def find(array):\n",
        "    duplicate_element_array = []\n",
        "    \n",
        "    for i in array:\n",
        "        if array.count(i) > 1 and i not in duplicate_element_array:\n",
        "            duplicate_element_array.append(i)\n",
        "\n",
        "   \n",
        "    \n",
        "    if len(duplicate_element_array) == 0:\n",
        "        return -1\n",
        "    else:\n",
        "         print(\"Duplicate element in an array : \", duplicate_element_array)\n",
        "        \n",
        "find(array)"
      ]
    },
    {
      "cell_type": "markdown",
      "metadata": {
        "id": "aAqGsmM1z-OQ"
      },
      "source": [
        "(11) Write a Python program to select all the Sundays of a specified year. (4 extra points)"
      ]
    },
    {
      "cell_type": "code",
      "execution_count": null,
      "metadata": {
        "id": "LnOGUHgYz-OQ",
        "outputId": "56754e1a-6a0d-47ad-8e78-fef472a4fffb"
      },
      "outputs": [
        {
          "name": "stdout",
          "output_type": "stream",
          "text": [
            "2022-01-02\n",
            "2022-01-09\n",
            "2022-01-16\n",
            "2022-01-23\n",
            "2022-01-30\n",
            "2022-02-06\n",
            "2022-02-13\n",
            "2022-02-20\n",
            "2022-02-27\n",
            "2022-03-06\n",
            "2022-03-13\n",
            "2022-03-20\n",
            "2022-03-27\n",
            "2022-04-03\n",
            "2022-04-10\n",
            "2022-04-17\n",
            "2022-04-24\n",
            "2022-05-01\n",
            "2022-05-08\n",
            "2022-05-15\n",
            "2022-05-22\n",
            "2022-05-29\n",
            "2022-06-05\n",
            "2022-06-12\n",
            "2022-06-19\n",
            "2022-06-26\n",
            "2022-07-03\n",
            "2022-07-10\n",
            "2022-07-17\n",
            "2022-07-24\n",
            "2022-07-31\n",
            "2022-08-07\n",
            "2022-08-14\n",
            "2022-08-21\n",
            "2022-08-28\n",
            "2022-09-04\n",
            "2022-09-11\n",
            "2022-09-18\n",
            "2022-09-25\n",
            "2022-10-02\n",
            "2022-10-09\n",
            "2022-10-16\n",
            "2022-10-23\n",
            "2022-10-30\n",
            "2022-11-06\n",
            "2022-11-13\n",
            "2022-11-20\n",
            "2022-11-27\n",
            "2022-12-04\n",
            "2022-12-11\n",
            "2022-12-18\n",
            "2022-12-25\n"
          ]
        }
      ],
      "source": [
        "# write your answer here\n",
        "from datetime import date, timedelta\n",
        "\n",
        "def Total_Sundays(year):\n",
        "    dt = date(year, 1, 1) \n",
        "    dt += timedelta(days = 6 - dt.weekday()) \n",
        "    while dt.year == year:\n",
        "        yield dt\n",
        "        dt += timedelta(days = 7)\n",
        "for s in Total_Sundays(2022):\n",
        "    print(s)"
      ]
    },
    {
      "cell_type": "code",
      "execution_count": null,
      "metadata": {
        "id": "4Zq5XhvTz-OQ"
      },
      "outputs": [],
      "source": []
    },
    {
      "cell_type": "code",
      "execution_count": null,
      "metadata": {
        "id": "eU4frrGZz-OQ"
      },
      "outputs": [],
      "source": []
    }
  ],
  "metadata": {
    "colab": {
      "collapsed_sections": [],
      "provenance": [],
      "include_colab_link": true
    },
    "kernelspec": {
      "display_name": "Python 3",
      "language": "python",
      "name": "python3"
    },
    "language_info": {
      "codemirror_mode": {
        "name": "ipython",
        "version": 3
      },
      "file_extension": ".py",
      "mimetype": "text/x-python",
      "name": "python",
      "nbconvert_exporter": "python",
      "pygments_lexer": "ipython3",
      "version": "3.8.8"
    }
  },
  "nbformat": 4,
  "nbformat_minor": 0
}