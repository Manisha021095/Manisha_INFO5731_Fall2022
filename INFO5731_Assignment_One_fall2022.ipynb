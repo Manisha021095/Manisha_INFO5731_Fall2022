{
  "cells": [
    {
      "cell_type": "markdown",
      "metadata": {
        "id": "view-in-github",
        "colab_type": "text"
      },
      "source": [
        "<a href=\"https://colab.research.google.com/github/Manisha021095/Manisha_INFO5731_Fall2022/blob/main/INFO5731_Assignment_One_fall2022.ipynb\" target=\"_parent\"><img src=\"https://colab.research.google.com/assets/colab-badge.svg\" alt=\"Open In Colab\"/></a>"
      ]
    },
    {
      "cell_type": "markdown",
      "metadata": {
        "id": "Ryk8D1Q4Wsrp"
      },
      "source": [
        "# **INFO5731 Assignment One**"
      ]
    },
    {
      "cell_type": "markdown",
      "metadata": {
        "id": "90_NR8c5XGWc"
      },
      "source": [
        "# Question 1\n",
        "\n",
        "(20 points). Write a Python program to generate 12 random numbers between 1 and 100. Sort the list of numbers in ascending order and print it out. Sort the list of numbers in descending order and print it out. Calculate the average for the group and print it out."
      ]
    },
    {
      "cell_type": "code",
      "execution_count": null,
      "metadata": {
        "id": "5QX6bJjGWXY9",
        "outputId": "28de1e54-57b2-418c-9c4f-a4d605b50c25"
      },
      "outputs": [
        {
          "name": "stdout",
          "output_type": "stream",
          "text": [
            "[10, 57, 87, 8, 4, 68, 79, 44, 33, 27, 34, 82]\n"
          ]
        }
      ],
      "source": [
        "# Your code here\n",
        "\n",
        "import random\n",
        "#Generate 12 random numbers between 1 and 100\n",
        "randomlist = random.sample(range(1, 100), 12)\n",
        "print(randomlist)"
      ]
    },
    {
      "cell_type": "code",
      "execution_count": null,
      "metadata": {
        "id": "e99BokPj0Umc",
        "outputId": "8cc34247-6362-4d76-8e02-78552741e3ff"
      },
      "outputs": [
        {
          "data": {
            "text/plain": [
              "[4, 8, 10, 27, 33, 34, 44, 57, 68, 79, 82, 87]"
            ]
          },
          "execution_count": 2,
          "metadata": {},
          "output_type": "execute_result"
        }
      ],
      "source": [
        "# sorting list in ascending order\n",
        "\n",
        "randomlist.sort()\n",
        "randomlist"
      ]
    },
    {
      "cell_type": "code",
      "execution_count": null,
      "metadata": {
        "id": "wEqYwu7P0Umd",
        "outputId": "fcccfe7c-741d-4124-8f43-107093a0a357"
      },
      "outputs": [
        {
          "data": {
            "text/plain": [
              "[87, 82, 79, 68, 57, 44, 34, 33, 27, 10, 8, 4]"
            ]
          },
          "execution_count": 3,
          "metadata": {},
          "output_type": "execute_result"
        }
      ],
      "source": [
        "# sorting list in descending order\n",
        "\n",
        "randomlist.sort(reverse=True)\n",
        "randomlist"
      ]
    },
    {
      "cell_type": "code",
      "execution_count": null,
      "metadata": {
        "id": "qkpIeb3B0Umd",
        "outputId": "41a72d1f-99cd-4cc9-b26a-cfd851fdcbba"
      },
      "outputs": [
        {
          "name": "stdout",
          "output_type": "stream",
          "text": [
            "The average of List is  44.42\n"
          ]
        }
      ],
      "source": [
        "# Calculating average for list\n",
        "\n",
        "from numpy import mean\n",
        "avg = mean(randomlist)\n",
        "print(\"The average of List is \", round(avg, 2))"
      ]
    },
    {
      "cell_type": "markdown",
      "metadata": {
        "id": "1F_PZdH9Sh49"
      },
      "source": [
        "# Question 2\n",
        "(25 points). Write a program that will do the following string formatting tasks:\n",
        "\n",
        "(1) Ask the user to enter two sentences.\n",
        "\n",
        "(2) Make each sentence into a list. Each element in the list should correspond to a word in the sentence. For example, if the sentence is \"Alas! Am I alive? This is my first python program\", the program should print out ['Alas, '!', 'Am', 'I', 'alive, '?', 'This', 'is', 'my', 'first', 'python', 'program'].\n",
        "\n",
        "(3) Compare the two sentences. Print out a list of words that occur in both sentences.\n",
        "\n",
        "(4) Remove any punctuation from the sentence and print it back out. It should remove at least the following characters, but it can remove more: period(“.”), comma (“,”), semicolon (“;”), and colon (“:”)\n",
        "\n",
        "(5) Count the number of vowels in the sentences. Print out each vowel and the number of times it appears in the sentences, such as: a:2, e:1, i:0, etc"
      ]
    },
    {
      "cell_type": "code",
      "execution_count": null,
      "metadata": {
        "id": "Y0oOSlsOS0cq",
        "outputId": "30b43e48-b30d-461e-b8db-c29e2f1d0a8a"
      },
      "outputs": [
        {
          "name": "stdout",
          "output_type": "stream",
          "text": [
            "Enter sentence 1: \"My name is Manisha Adulla, enrolled in Data Science program.\"\n",
            "1.  \"My name is Manisha Adulla, enrolled in Data Science program.\"\n",
            "Enter sentence 2: \"I have enrolled in INFO 5731, for Fall 2022.\"\n",
            "2.  \"I have enrolled in INFO 5731, for Fall 2022.\"\n"
          ]
        }
      ],
      "source": [
        "# Your code here\n",
        "\n",
        "# (1) Ask the user to enter two sentences.\n",
        "\n",
        "sentence_1 = input(\"Enter sentence 1: \")\n",
        "print(\"1. \", sentence_1)\n",
        "sentence_2 = input(\"Enter sentence 2: \")\n",
        "print(\"2. \", sentence_2)"
      ]
    },
    {
      "cell_type": "code",
      "execution_count": null,
      "metadata": {
        "id": "IStzScte0Ume",
        "outputId": "aae9ecf5-f2fe-4dd3-922f-c4a02a9f181a"
      },
      "outputs": [
        {
          "name": "stdout",
          "output_type": "stream",
          "text": [
            "['\"My', 'name', 'is', 'Manisha', 'Adulla,', 'enrolled', 'in', 'Data', 'Science', 'program.\"']\n",
            "['\"I', 'have', 'enrolled', 'in', 'INFO', '5731,', 'for', 'Fall', '2022.\"']\n"
          ]
        }
      ],
      "source": [
        "# (2) Make each sentence into a list. Each element in the list should correspond to a word in the sentence.\n",
        "\n",
        "print( sentence_1.split())\n",
        "print( sentence_2.split())"
      ]
    },
    {
      "cell_type": "code",
      "execution_count": null,
      "metadata": {
        "id": "7grDaicl0Ume",
        "outputId": "5bd2e4ba-d84c-4b01-a144-b352e63eba60"
      },
      "outputs": [
        {
          "name": "stdout",
          "output_type": "stream",
          "text": [
            "['enrolled', 'in']\n"
          ]
        }
      ],
      "source": [
        "# (3) Compare the two sentences. Print out a list of words that occur in both sentences.\n",
        "\n",
        "class Solution:\n",
        "    def solve(self, s0, s1):\n",
        "        s0List = s0.split(\" \")\n",
        "        s1List = s1.split(\" \")\n",
        "        return list(set(s0List)&set(s1List))\n",
        "ob = Solution()\n",
        "print(ob.solve(sentence_1,sentence_2))"
      ]
    },
    {
      "cell_type": "code",
      "execution_count": null,
      "metadata": {
        "id": "OxrB-YWT0Umf",
        "outputId": "aa3cb2f6-75a2-4e51-da9e-43d473c910cf"
      },
      "outputs": [
        {
          "name": "stdout",
          "output_type": "stream",
          "text": [
            "The string after punctuation filter : My name is Manisha Adulla enrolled in Data Science program\n",
            "The string after punctuation filter : I have enrolled in INFO 5731 for Fall 2022\n"
          ]
        }
      ],
      "source": [
        "# (4) Remove any punctuation from the sentence and print it back out.\n",
        "\n",
        "import re\n",
        " \n",
        "# Removing punctuations in string\n",
        "# Using regex\n",
        "remove_punct_1 = re.sub(r'[^\\w\\s]', '', sentence_1)\n",
        "remove_punct_2 = re.sub(r'[^\\w\\s]', '', sentence_2) \n",
        "# printing result\n",
        "print(\"The string after punctuation filter : \" + remove_punct_1)\n",
        "print(\"The string after punctuation filter : \" + remove_punct_2)"
      ]
    },
    {
      "cell_type": "code",
      "execution_count": null,
      "metadata": {
        "id": "TnPwWAyN0Umf",
        "outputId": "d2e8913b-f27f-4368-ff1f-9db1d75319ce"
      },
      "outputs": [
        {
          "name": "stdout",
          "output_type": "stream",
          "text": [
            "20\n",
            "['a', 'e', 'i', 'a', 'i', 'a', 'A', 'u', 'a', 'e', 'o', 'e', 'i', 'a', 'a', 'i', 'e', 'e', 'o', 'a']\n",
            "11\n",
            "['I', 'a', 'e', 'e', 'o', 'e', 'i', 'I', 'O', 'o', 'a']\n"
          ]
        }
      ],
      "source": [
        "# (5) Count the number of vowels in the sentences.\n",
        "\n",
        "def Check_Vow(sentence_1,sentence_2 ,vowels):\n",
        "    vowel_sentence_1 = [each for each in sentence_1 if each in vowels]\n",
        "    print(len(vowel_sentence_1))\n",
        "    print(vowel_sentence_1)\n",
        "    vowel_sentence_2 = [each for each in sentence_2 if each in vowels]\n",
        "    print(len(vowel_sentence_2))\n",
        "    print(vowel_sentence_2) \n",
        "# Driver Code\n",
        "\n",
        "vowels = \"AaEeIiOoUu\"\n",
        "Check_Vow(sentence_1,sentence_2, vowels);"
      ]
    },
    {
      "cell_type": "code",
      "execution_count": null,
      "metadata": {
        "id": "VsKWHdSn0Umf",
        "outputId": "12c399bf-cbc8-40db-830a-9e64ef78d15a"
      },
      "outputs": [
        {
          "name": "stdout",
          "output_type": "stream",
          "text": [
            "{'A': 1, 'a': 7, 'E': 0, 'e': 5, 'I': 0, 'i': 4, 'O': 0, 'o': 2, 'U': 0, 'u': 1}\n"
          ]
        }
      ],
      "source": [
        "# (5) Print out each vowel and the number of times it appears in the sentences, such as: a:2, e:1, i:0, etc\n",
        "\n",
        "# sentence 1:\n",
        "\n",
        "def Check_Vow(sentence_1, vowels):\n",
        "     \n",
        "    \n",
        "     \n",
        "    # Forms a dictionary with key as a vowel\n",
        "    # and the value as 0\n",
        "    count1 = {}.fromkeys(vowels, 0)\n",
        "     \n",
        "    # To count the vowels\n",
        "    for char in sentence_1:\n",
        "        if char in count1:\n",
        "            count1[char] += 1  \n",
        "    return count1\n",
        "     \n",
        "# Driver Code\n",
        "vowels = 'AaEeIiOoUu'\n",
        "print (Check_Vow(sentence_1, vowels))"
      ]
    },
    {
      "cell_type": "code",
      "execution_count": null,
      "metadata": {
        "id": "gyB4QiF60Umg",
        "outputId": "f9203c6e-a9b5-45fc-bfe3-984c1cf684a4"
      },
      "outputs": [
        {
          "name": "stdout",
          "output_type": "stream",
          "text": [
            "{'A': 0, 'a': 2, 'E': 0, 'e': 3, 'I': 2, 'i': 1, 'O': 1, 'o': 2, 'U': 0, 'u': 0}\n"
          ]
        }
      ],
      "source": [
        "# sentence 2:\n",
        "\n",
        "def Check_Vow(sentence_2, vowels):\n",
        "     \n",
        "    \n",
        "     \n",
        "    # Forms a dictionary with key as a vowel\n",
        "    # and the value as 0\n",
        "    count2 = {}.fromkeys(vowels, 0)\n",
        "     \n",
        "    # To count the vowels\n",
        "    for char in sentence_2:\n",
        "        if char in count2:\n",
        "            count2[char] += 1  \n",
        "    return count2\n",
        "     \n",
        "# Driver Code\n",
        "vowels = 'AaEeIiOoUu'\n",
        "print (Check_Vow(sentence_2, vowels))"
      ]
    },
    {
      "cell_type": "markdown",
      "metadata": {
        "id": "CmFoI4jDS9nx"
      },
      "source": [
        "# Question 3 \n",
        "\n",
        "(15 points). The formula that describes the volume V of a sphere with radius r is the following:\n",
        "\n",
        "$ V=\\frac{4}{3}\\ast\\ \\pi\\ast\\ r^3 $\n",
        "\n",
        "Write a program to calculate the value of V when r is in the range of 1–10. Output the result in the following format:\n",
        "\n",
        "\tr\tV\n",
        "\t1\t…\n",
        "\t2\t…\n",
        "\t3\t…\n"
      ]
    },
    {
      "cell_type": "code",
      "execution_count": null,
      "metadata": {
        "id": "pEyqeioAT95b",
        "outputId": "e304fed4-2d1b-4e3f-aba9-355e93b8bafc"
      },
      "outputs": [
        {
          "name": "stdout",
          "output_type": "stream",
          "text": [
            "r     V\n",
            "1     4.19\n",
            "2     33.49\n",
            "3     113.04\n",
            "4     267.95\n",
            "5     523.33\n",
            "6     904.32\n",
            "7     1436.03\n",
            "8     2143.57\n",
            "9     3052.08\n",
            "10     4186.67\n"
          ]
        }
      ],
      "source": [
        "# Your code here\n",
        "import math\n",
        "print(\"r\",\"   \",\"V\")\n",
        "for r in range(1,11):\n",
        "    V=round(4/3*(3.14)*pow(r,3),2)\n",
        "    print(r,\"   \", V)"
      ]
    },
    {
      "cell_type": "markdown",
      "metadata": {
        "id": "z3tBE7E-Xn5X"
      },
      "source": [
        "# Question 4\n",
        "\n",
        "(40 points). In the field of Data Science, data is often formatted as a comma-delimited (CSV) file, where each line in a file corresponds to a field's value. Refer to Chapter 9 (p. 106) for more information on comma-delimited files. To answer this question, you will need to download the file [Assignment1_denton_housing.csv](https://raw.githubusercontent.com/unt-iialab/info5731-spring2022/main/assignments/Assignment1_denton_housing.csv) included with this assignment. The file [Assignment1_denton_housing.csv](https://raw.githubusercontent.com/unt-iialab/info5731-spring2022/main/assignments/Assignment1_denton_housing.csv) contains statistics about housing in the city of Denton from 2008 to 2014. Write a program to implement the following questions.\n",
        "\n",
        "(1) (10 pts) Calculate the difference in the number of Occupied Housing Units from year to year and print it. The difference must be calculated for the consecutive years such as 2008-2009, 2009-2010 etc. Finally, print the values in the ascending order.\n",
        "\n",
        "(2) (10 pts) For all the years, calculate the percentage of housing units which are vacant an occupied. Print the results in the following format:\n",
        "\n",
        "Year Vacant Housing Units Occupied Housing Units\n",
        "\n",
        "    2008  30%   70%                          \n",
        "\t2009 ----- -----\n",
        "\t2010 ----- -----\n",
        "    2011 ----- -----\n",
        "\t2012 ----- -----\n",
        "    2013 ----- -----\n",
        "\t2014 ----- -----\n",
        "  \n",
        "  \n",
        "\n",
        "(3) (10 pts) Calculate and print the valued and years in which the highest number of housing units were vacant and occupied. Print the results in the following format:  \n",
        "\n",
        "                              Year\tValue\n",
        "\tVacant Housing Units\t  -----   -----\n",
        "\tOccupied Housing Units\t-----   -----\n",
        "\n",
        "(4) (10 pts) Calculate the harmonic mean of the total housing units and print it out. You can find the information about harmonic mean here: https://ncalculators.com/statistics/harmonic-mean-calculator.htm"
      ]
    },
    {
      "cell_type": "code",
      "execution_count": null,
      "metadata": {
        "id": "lqGYuHBhcsRH",
        "outputId": "ddd8a579-36dc-4946-85d6-a92f69627189"
      },
      "outputs": [
        {
          "data": {
            "text/html": [
              "<div>\n",
              "<style scoped>\n",
              "    .dataframe tbody tr th:only-of-type {\n",
              "        vertical-align: middle;\n",
              "    }\n",
              "\n",
              "    .dataframe tbody tr th {\n",
              "        vertical-align: top;\n",
              "    }\n",
              "\n",
              "    .dataframe thead th {\n",
              "        text-align: right;\n",
              "    }\n",
              "</style>\n",
              "<table border=\"1\" class=\"dataframe\">\n",
              "  <thead>\n",
              "    <tr style=\"text-align: right;\">\n",
              "      <th></th>\n",
              "      <th>year</th>\n",
              "      <th>title_field</th>\n",
              "      <th>value</th>\n",
              "    </tr>\n",
              "  </thead>\n",
              "  <tbody>\n",
              "    <tr>\n",
              "      <th>0</th>\n",
              "      <td>2014</td>\n",
              "      <td>Total Housing Units</td>\n",
              "      <td>49109</td>\n",
              "    </tr>\n",
              "    <tr>\n",
              "      <th>1</th>\n",
              "      <td>2014</td>\n",
              "      <td>Vacant Housing Units</td>\n",
              "      <td>2814</td>\n",
              "    </tr>\n",
              "    <tr>\n",
              "      <th>2</th>\n",
              "      <td>2014</td>\n",
              "      <td>Occupied Housing Units</td>\n",
              "      <td>46295</td>\n",
              "    </tr>\n",
              "    <tr>\n",
              "      <th>3</th>\n",
              "      <td>2013</td>\n",
              "      <td>Total Housing Units</td>\n",
              "      <td>47888</td>\n",
              "    </tr>\n",
              "    <tr>\n",
              "      <th>4</th>\n",
              "      <td>2013</td>\n",
              "      <td>Vacant Housing Units</td>\n",
              "      <td>4215</td>\n",
              "    </tr>\n",
              "  </tbody>\n",
              "</table>\n",
              "</div>"
            ],
            "text/plain": [
              "   year             title_field  value\n",
              "0  2014     Total Housing Units  49109\n",
              "1  2014    Vacant Housing Units   2814\n",
              "2  2014  Occupied Housing Units  46295\n",
              "3  2013     Total Housing Units  47888\n",
              "4  2013    Vacant Housing Units   4215"
            ]
          },
          "execution_count": 13,
          "metadata": {},
          "output_type": "execute_result"
        }
      ],
      "source": [
        "# Your code here\n",
        "\n",
        "import pandas as pd\n",
        "\n",
        "# Reading file into dataframe \n",
        "\n",
        "df = pd.read_csv(\"Assignment1_denton_housing.csv\")\n",
        "df.head()"
      ]
    },
    {
      "cell_type": "code",
      "execution_count": null,
      "metadata": {
        "id": "FjiXTvSW0Umh"
      },
      "outputs": [],
      "source": [
        "df2 = df.loc[df['title_field']=='Occupied Housing Units']"
      ]
    },
    {
      "cell_type": "code",
      "execution_count": null,
      "metadata": {
        "id": "zkf-vV5D0Umh",
        "outputId": "7b524cbf-efdc-4caf-8443-47c106732b4f"
      },
      "outputs": [
        {
          "data": {
            "text/html": [
              "<div>\n",
              "<style scoped>\n",
              "    .dataframe tbody tr th:only-of-type {\n",
              "        vertical-align: middle;\n",
              "    }\n",
              "\n",
              "    .dataframe tbody tr th {\n",
              "        vertical-align: top;\n",
              "    }\n",
              "\n",
              "    .dataframe thead th {\n",
              "        text-align: right;\n",
              "    }\n",
              "</style>\n",
              "<table border=\"1\" class=\"dataframe\">\n",
              "  <thead>\n",
              "    <tr style=\"text-align: right;\">\n",
              "      <th></th>\n",
              "      <th>year</th>\n",
              "      <th>title_field</th>\n",
              "      <th>value</th>\n",
              "    </tr>\n",
              "  </thead>\n",
              "  <tbody>\n",
              "    <tr>\n",
              "      <th>20</th>\n",
              "      <td>2008</td>\n",
              "      <td>Occupied Housing Units</td>\n",
              "      <td>36711</td>\n",
              "    </tr>\n",
              "    <tr>\n",
              "      <th>17</th>\n",
              "      <td>2009</td>\n",
              "      <td>Occupied Housing Units</td>\n",
              "      <td>35916</td>\n",
              "    </tr>\n",
              "    <tr>\n",
              "      <th>14</th>\n",
              "      <td>2010</td>\n",
              "      <td>Occupied Housing Units</td>\n",
              "      <td>41007</td>\n",
              "    </tr>\n",
              "    <tr>\n",
              "      <th>11</th>\n",
              "      <td>2011</td>\n",
              "      <td>Occupied Housing Units</td>\n",
              "      <td>40704</td>\n",
              "    </tr>\n",
              "    <tr>\n",
              "      <th>8</th>\n",
              "      <td>2012</td>\n",
              "      <td>Occupied Housing Units</td>\n",
              "      <td>42108</td>\n",
              "    </tr>\n",
              "    <tr>\n",
              "      <th>5</th>\n",
              "      <td>2013</td>\n",
              "      <td>Occupied Housing Units</td>\n",
              "      <td>43673</td>\n",
              "    </tr>\n",
              "    <tr>\n",
              "      <th>2</th>\n",
              "      <td>2014</td>\n",
              "      <td>Occupied Housing Units</td>\n",
              "      <td>46295</td>\n",
              "    </tr>\n",
              "  </tbody>\n",
              "</table>\n",
              "</div>"
            ],
            "text/plain": [
              "    year             title_field  value\n",
              "20  2008  Occupied Housing Units  36711\n",
              "17  2009  Occupied Housing Units  35916\n",
              "14  2010  Occupied Housing Units  41007\n",
              "11  2011  Occupied Housing Units  40704\n",
              "8   2012  Occupied Housing Units  42108\n",
              "5   2013  Occupied Housing Units  43673\n",
              "2   2014  Occupied Housing Units  46295"
            ]
          },
          "execution_count": 15,
          "metadata": {},
          "output_type": "execute_result"
        }
      ],
      "source": [
        "df2 = df2.sort_values('year')\n",
        "df2"
      ]
    },
    {
      "cell_type": "code",
      "execution_count": null,
      "metadata": {
        "id": "aAoAWmwJ0Umi"
      },
      "outputs": [],
      "source": [
        "# 1) Calculate the difference in the number of Occupied Housing Units from year to year and print it.\n",
        "\n",
        "df2['value_diff'] = df2['value'].diff(-1)"
      ]
    },
    {
      "cell_type": "code",
      "execution_count": null,
      "metadata": {
        "id": "Hhyt_-Lc0Umi",
        "outputId": "0eeffb0d-4edf-4b90-eab2-f4f37ac2ed50"
      },
      "outputs": [
        {
          "data": {
            "text/html": [
              "<div>\n",
              "<style scoped>\n",
              "    .dataframe tbody tr th:only-of-type {\n",
              "        vertical-align: middle;\n",
              "    }\n",
              "\n",
              "    .dataframe tbody tr th {\n",
              "        vertical-align: top;\n",
              "    }\n",
              "\n",
              "    .dataframe thead th {\n",
              "        text-align: right;\n",
              "    }\n",
              "</style>\n",
              "<table border=\"1\" class=\"dataframe\">\n",
              "  <thead>\n",
              "    <tr style=\"text-align: right;\">\n",
              "      <th></th>\n",
              "      <th>year</th>\n",
              "      <th>title_field</th>\n",
              "      <th>value</th>\n",
              "      <th>value_diff</th>\n",
              "    </tr>\n",
              "  </thead>\n",
              "  <tbody>\n",
              "    <tr>\n",
              "      <th>20</th>\n",
              "      <td>2008</td>\n",
              "      <td>Occupied Housing Units</td>\n",
              "      <td>36711</td>\n",
              "      <td>795.0</td>\n",
              "    </tr>\n",
              "    <tr>\n",
              "      <th>17</th>\n",
              "      <td>2009</td>\n",
              "      <td>Occupied Housing Units</td>\n",
              "      <td>35916</td>\n",
              "      <td>-5091.0</td>\n",
              "    </tr>\n",
              "    <tr>\n",
              "      <th>14</th>\n",
              "      <td>2010</td>\n",
              "      <td>Occupied Housing Units</td>\n",
              "      <td>41007</td>\n",
              "      <td>303.0</td>\n",
              "    </tr>\n",
              "    <tr>\n",
              "      <th>11</th>\n",
              "      <td>2011</td>\n",
              "      <td>Occupied Housing Units</td>\n",
              "      <td>40704</td>\n",
              "      <td>-1404.0</td>\n",
              "    </tr>\n",
              "    <tr>\n",
              "      <th>8</th>\n",
              "      <td>2012</td>\n",
              "      <td>Occupied Housing Units</td>\n",
              "      <td>42108</td>\n",
              "      <td>-1565.0</td>\n",
              "    </tr>\n",
              "    <tr>\n",
              "      <th>5</th>\n",
              "      <td>2013</td>\n",
              "      <td>Occupied Housing Units</td>\n",
              "      <td>43673</td>\n",
              "      <td>-2622.0</td>\n",
              "    </tr>\n",
              "    <tr>\n",
              "      <th>2</th>\n",
              "      <td>2014</td>\n",
              "      <td>Occupied Housing Units</td>\n",
              "      <td>46295</td>\n",
              "      <td>NaN</td>\n",
              "    </tr>\n",
              "  </tbody>\n",
              "</table>\n",
              "</div>"
            ],
            "text/plain": [
              "    year             title_field  value  value_diff\n",
              "20  2008  Occupied Housing Units  36711       795.0\n",
              "17  2009  Occupied Housing Units  35916     -5091.0\n",
              "14  2010  Occupied Housing Units  41007       303.0\n",
              "11  2011  Occupied Housing Units  40704     -1404.0\n",
              "8   2012  Occupied Housing Units  42108     -1565.0\n",
              "5   2013  Occupied Housing Units  43673     -2622.0\n",
              "2   2014  Occupied Housing Units  46295         NaN"
            ]
          },
          "execution_count": 17,
          "metadata": {},
          "output_type": "execute_result"
        }
      ],
      "source": [
        "df2"
      ]
    },
    {
      "cell_type": "code",
      "execution_count": null,
      "metadata": {
        "id": "1CiUWYmW0Umi",
        "outputId": "745f8426-14c7-4f11-80c1-32dbd7d77bfb"
      },
      "outputs": [
        {
          "name": "stdout",
          "output_type": "stream",
          "text": [
            "2008 89.12% 10.88% \n",
            "2009 90.93% 9.07% \n",
            "2010 91.86% 8.14% \n",
            "2011 90.62% 9.38% \n",
            "2012 93.32% 6.68% \n",
            "2013 91.20% 8.80% \n",
            "2014 94.27% 5.73% \n"
          ]
        }
      ],
      "source": [
        "# 2) For all the years, calculate the percentage of housing units which are vacant an occupied.\n",
        "\n",
        "OCCUPIED = 'Occupied Housing Units'\n",
        "VACANT = 'Vacant Housing Units'\n",
        "vac_occupied = df[(df['title_field'] == OCCUPIED) | (df['title_field'] == VACANT)]\n",
        "years = vac_occupied['year'].unique()\n",
        "years.sort()\n",
        "\n",
        "for year in years:\n",
        "    occupied_count = df[(df['title_field'] == OCCUPIED) & (df['year'] == year)]['value'].iloc[0]\n",
        "    vacant_count = df[(df['title_field'] == VACANT) & (df['year'] == year)]['value'].iloc[0]\n",
        "    total = occupied_count + vacant_count\n",
        "    occupied_percentage = (occupied_count / total) * 100\n",
        "    vacant_percentage = (vacant_count / total) * 100\n",
        "    print('{} {:.2f}% {:.2f}% '.format(year, occupied_percentage, vacant_percentage))"
      ]
    },
    {
      "cell_type": "code",
      "execution_count": null,
      "metadata": {
        "id": "ixlbItpo0Umj",
        "outputId": "819c0994-1ded-4c79-dff3-e00be20bb4af"
      },
      "outputs": [
        {
          "data": {
            "text/html": [
              "<div>\n",
              "<style scoped>\n",
              "    .dataframe tbody tr th:only-of-type {\n",
              "        vertical-align: middle;\n",
              "    }\n",
              "\n",
              "    .dataframe tbody tr th {\n",
              "        vertical-align: top;\n",
              "    }\n",
              "\n",
              "    .dataframe thead th {\n",
              "        text-align: right;\n",
              "    }\n",
              "</style>\n",
              "<table border=\"1\" class=\"dataframe\">\n",
              "  <thead>\n",
              "    <tr style=\"text-align: right;\">\n",
              "      <th></th>\n",
              "      <th>year</th>\n",
              "      <th>value</th>\n",
              "    </tr>\n",
              "    <tr>\n",
              "      <th>title_field</th>\n",
              "      <th></th>\n",
              "      <th></th>\n",
              "    </tr>\n",
              "  </thead>\n",
              "  <tbody>\n",
              "    <tr>\n",
              "      <th>Occupied Housing Units</th>\n",
              "      <td>2014</td>\n",
              "      <td>46295</td>\n",
              "    </tr>\n",
              "    <tr>\n",
              "      <th>Vacant Housing Units</th>\n",
              "      <td>2008</td>\n",
              "      <td>4483</td>\n",
              "    </tr>\n",
              "  </tbody>\n",
              "</table>\n",
              "</div>"
            ],
            "text/plain": [
              "                        year  value\n",
              "title_field                        \n",
              "Occupied Housing Units  2014  46295\n",
              "Vacant Housing Units    2008   4483"
            ]
          },
          "execution_count": 19,
          "metadata": {},
          "output_type": "execute_result"
        }
      ],
      "source": [
        "# 3) Calculate and print the valued and years in which the highest number of housing units were vacant and occupied.\n",
        "\n",
        "vac_occupied = df[(df['title_field'] == OCCUPIED) | (df['title_field'] == VACANT)]\n",
        "grouped = vac_occupied.groupby(['title_field', 'year']).max().reset_index().sort_values(by=['title_field','value'], ascending=False)\n",
        "res = grouped.groupby(['title_field']).first()\n",
        "res"
      ]
    },
    {
      "cell_type": "code",
      "execution_count": null,
      "metadata": {
        "id": "I27rKQB00Umj",
        "outputId": "a8c8a903-4c44-4f06-c15d-168e2a50e0d1"
      },
      "outputs": [
        {
          "name": "stdout",
          "output_type": "stream",
          "text": [
            "[49109 47888 45121 44917 44642 39499 41194]\n",
            "Harmonic mean:  343763.0\n"
          ]
        }
      ],
      "source": [
        "# (4) Calculate the harmonic mean of the total housing units and print it out.\n",
        "\n",
        "total_housing_units = df[df['title_field'] == 'Total Housing Units']\n",
        "numbers = total_housing_units['value'].values\n",
        "\n",
        "def harmonicMean(numbers):\n",
        "    n = len(numbers)\n",
        "    denominator = 0\n",
        "    for num in numbers:\n",
        "        denominator += (1 / num)\n",
        "        return n / denominator\n",
        "\n",
        "print(numbers)\n",
        "print(\"Harmonic mean: \", harmonicMean(numbers))"
      ]
    },
    {
      "cell_type": "code",
      "execution_count": null,
      "metadata": {
        "id": "-NYLwW5D0Umj"
      },
      "outputs": [],
      "source": []
    }
  ],
  "metadata": {
    "colab": {
      "collapsed_sections": [],
      "provenance": [],
      "include_colab_link": true
    },
    "kernelspec": {
      "display_name": "Python 3",
      "language": "python",
      "name": "python3"
    },
    "language_info": {
      "codemirror_mode": {
        "name": "ipython",
        "version": 3
      },
      "file_extension": ".py",
      "mimetype": "text/x-python",
      "name": "python",
      "nbconvert_exporter": "python",
      "pygments_lexer": "ipython3",
      "version": "3.8.8"
    }
  },
  "nbformat": 4,
  "nbformat_minor": 0
}